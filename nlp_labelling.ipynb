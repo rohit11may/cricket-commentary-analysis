{
 "cells": [
  {
   "cell_type": "code",
   "execution_count": 9,
   "metadata": {
    "jupyter": {
     "source_hidden": true
    }
   },
   "outputs": [],
   "source": [
    "def plotHist(data, bins=[], x_labels=True):\n",
    "    data_hist = np.random.randn(82)\n",
    "    fig, ax = plt.subplots(figsize=(24,5))\n",
    "    if bins: \n",
    "        counts, bins, patches = ax.hist(data, bins=bins, facecolor='yellow', edgecolor='gray')\n",
    "    else:\n",
    "        counts, bins, patches = ax.hist(data, facecolor='yellow', edgecolor='gray')\n",
    "\n",
    "    # Set the ticks to be at the edges of the bins.\n",
    "    if x_labels:\n",
    "        ax.set_xticks(bins)\n",
    "        # Set the xaxis's tick labels to be formatted with 1 decimal place...\n",
    "        ax.xaxis.set_major_formatter(FormatStrFormatter('%0.05f'))\n",
    "\n",
    "    # Change the colors of bars at the edges...\n",
    "    twentyfifth, seventyfifth = np.percentile(data_hist, [25, 75])\n",
    "    for patch, rightside, leftside in zip(patches, bins[1:], bins[:-1]):\n",
    "        if rightside < twentyfifth:\n",
    "            patch.set_facecolor('green')\n",
    "        elif leftside > seventyfifth:\n",
    "            patch.set_facecolor('red')\n",
    "\n",
    "    # Label the raw counts and the percentages below the x-axis...\n",
    "    if x_labels:\n",
    "        bin_centers = 0.5 * np.diff(bins) + bins[:-1]\n",
    "        for count, x in zip(counts, bin_centers):\n",
    "            # Label the raw counts\n",
    "            ax.annotate(str(count), xy=(x, 0), xycoords=('data', 'axes fraction'),\n",
    "                xytext=(0, -18), textcoords='offset points', va='top', ha='center')\n",
    "\n",
    "            # Label the percentages\n",
    "            percent = '%0.0f%%' % (100 * float(count) / counts.sum())\n",
    "            ax.annotate(percent, xy=(x, 0), xycoords=('data', 'axes fraction'),\n",
    "                xytext=(0, -32), textcoords='offset points', va='top', ha='center')\n",
    "\n",
    "\n",
    "    # Give ourselves some more room at the bottom of the plot\n",
    "    plt.subplots_adjust(bottom=0.1)\n",
    "    plt.show()"
   ]
  },
  {
   "cell_type": "code",
   "execution_count": 538,
   "metadata": {},
   "outputs": [],
   "source": [
    "import matplotlib.pyplot as plt\n",
    "from matplotlib.ticker import FormatStrFormatter\n",
    "\n",
    "import pickle\n",
    "import json\n",
    "import string\n",
    "import re\n",
    "from collections import defaultdict\n",
    "\n",
    "from random import randint, shuffle\n",
    "from tqdm import tqdm\n",
    "\n",
    "import numpy as np\n",
    "import nltk\n",
    "import pandas as pd\n",
    "from nltk import ngrams\n",
    "\n",
    "from sklearn.feature_extraction.text import CountVectorizer\n",
    "from sklearn.model_selection import train_test_split\n",
    "from sklearn.preprocessing import LabelEncoder\n",
    "from sklearn.metrics import confusion_matrix\n",
    "\n",
    "from keras.preprocessing.text import text_to_word_sequence\n",
    "from keras.preprocessing import sequence\n",
    "from keras.models import Sequential\n",
    "from keras.layers import Dense\n",
    "from keras.layers import LSTM\n",
    "from keras.layers.embeddings import Embedding\n",
    "\n",
    "seed = 7\n",
    "np.random.seed(seed)\n",
    "pd.set_option('max_colwidth', -1)"
   ]
  },
  {
   "cell_type": "code",
   "execution_count": 259,
   "metadata": {},
   "outputs": [],
   "source": [
    "def load_data(filename):\n",
    "    with open(f\"{filename}.json\", \"rb\") as f:\n",
    "        data = json.load(f)\n",
    "    print(\"Loaded data!\")\n",
    "    return data\n",
    "        \n",
    "def save_data(data, filename):\n",
    "    with open(f\"{filename}.pkl\", \"wb\") as f:\n",
    "        pickle.dump(data, f)\n",
    "        \n",
    "def export_to_json(data):\n",
    "    with open('matches.json', 'w') as json_file:\n",
    "        json.dump(data, json_file)\n",
    "    \n",
    "i1b = lambda m : m['commentary']['innings1']['balls']\n",
    "i2b = lambda m : m['commentary']['innings2']['balls']\n",
    "i1o = lambda m : m['commentary']['innings1']['over_summaries']\n",
    "i2o = lambda m : m['commentary']['innings2']['over_summaries']"
   ]
  },
  {
   "cell_type": "code",
   "execution_count": 6,
   "metadata": {},
   "outputs": [
    {
     "name": "stdout",
     "output_type": "stream",
     "text": [
      "Loaded data!\n",
      "Loaded data!\n"
     ]
    }
   ],
   "source": [
    "data, players = load_data(\"matches_Dale Steyn2611\"), load_data(\"player_table\")"
   ]
  },
  {
   "cell_type": "code",
   "execution_count": 12,
   "metadata": {},
   "outputs": [],
   "source": [
    "lines, lengths = [], []\n",
    "for i, m in data.items():\n",
    "    for ball in i1b(m):\n",
    "        if ball['pitch']:\n",
    "            lengths.append(ball['pitch']['length'])\n",
    "            lines.append(ball['pitch']['line'])\n",
    "    for ball in i2b(m):\n",
    "        if ball['pitch']:\n",
    "            lengths.append(ball['pitch']['length'])\n",
    "            lines.append(ball['pitch']['line'])"
   ]
  },
  {
   "cell_type": "code",
   "execution_count": 17,
   "metadata": {
    "collapsed": true,
    "jupyter": {
     "outputs_hidden": true
    }
   },
   "outputs": [
    {
     "data": {
      "image/png": "[encoded data removed]",
      "text/plain": [
       "<Figure size 1728x360 with 1 Axes>"
      ]
     },
     "metadata": {
      "needs_background": "light"
     },
     "output_type": "display_data"
    },
    {
     "data": {
      "image/png": "[encoded data removed]",
      "text/plain": [
       "<Figure size 1728x360 with 1 Axes>"
      ]
     },
     "metadata": {
      "needs_background": "light"
     },
     "output_type": "display_data"
    }
   ],
   "source": [
    "plotHist(lengths)\n",
    "plotHist(lines)"
   ]
  },
  {
   "cell_type": "code",
   "execution_count": 398,
   "metadata": {},
   "outputs": [],
   "source": [
    "all_names = set()\n",
    "ambigNames = set(['short', 'ball', 'head', 'little', 'chase', 'cutting', 'cross'])\n",
    "for profile in players.values():\n",
    "    name = profile['known_as'].split(' ')\n",
    "    ambig = any(n.lower() in ambigNames for n in name)\n",
    "    if not ambig:\n",
    "        all_names.update(name)\n",
    "        all_names.update([n.lower() for n in name])"
   ]
  },
  {
   "cell_type": "code",
   "execution_count": 468,
   "metadata": {},
   "outputs": [],
   "source": [
    "rows = []\n",
    "bowlerPattern = \"(?P<bowler>[\\w \\-'?]+) to (?P<batsman>[\\w \\-']+),(?P<text_outcome>[^,]*),(?P<desc>.*)$\"\n",
    "def getRow(b):\n",
    "    row = dict()\n",
    "    match = re.match(bowlerPattern, b['desc'])\n",
    "    row['desc'] = match.group('desc')\n",
    "    row['outcome'] = b['outcome']\n",
    "    row['hand'] = players[b['batsman_id']]['batting_hand'] if b['batsman_id'] else \"\"\n",
    "    row['line'] = b['pitch']['line']\n",
    "    row['length'] = b['pitch']['length']\n",
    "    return row\n",
    "\n",
    "rows = []\n",
    "for i, m in data.items():\n",
    "    rows += [getRow(b) for b in i1b(m) if b['pitch']]\n",
    "    rows += [getRow(b) for b in i2b(m) if b['pitch']]\n",
    "            \n",
    "df = pd.DataFrame(rows)\n",
    "le = LabelEncoder()\n",
    "df[['hand', 'outcome']] = df[['hand', 'outcome']].apply(le.fit_transform)"
   ]
  },
  {
   "cell_type": "code",
   "execution_count": 369,
   "metadata": {},
   "outputs": [
    {
     "data": {
      "text/html": [
       "<div>\n",
       "<style scoped>\n",
       "    .dataframe tbody tr th:only-of-type {\n",
       "        vertical-align: middle;\n",
       "    }\n",
       "\n",
       "    .dataframe tbody tr th {\n",
       "        vertical-align: top;\n",
       "    }\n",
       "\n",
       "    .dataframe thead th {\n",
       "        text-align: right;\n",
       "    }\n",
       "</style>\n",
       "<table border=\"1\" class=\"dataframe\">\n",
       "  <thead>\n",
       "    <tr style=\"text-align: right;\">\n",
       "      <th></th>\n",
       "      <th>frequency</th>\n",
       "    </tr>\n",
       "  </thead>\n",
       "  <tbody>\n",
       "    <tr>\n",
       "      <th>back of length</th>\n",
       "      <td>171</td>\n",
       "    </tr>\n",
       "    <tr>\n",
       "      <th>the leg side</th>\n",
       "      <td>138</td>\n",
       "    </tr>\n",
       "    <tr>\n",
       "      <th>short of length</th>\n",
       "      <td>133</td>\n",
       "    </tr>\n",
       "    <tr>\n",
       "      <th>to third man</th>\n",
       "      <td>108</td>\n",
       "    </tr>\n",
       "    <tr>\n",
       "      <th>length outside off</th>\n",
       "      <td>107</td>\n",
       "    </tr>\n",
       "    <tr>\n",
       "      <th>outside off stump</th>\n",
       "      <td>102</td>\n",
       "    </tr>\n",
       "    <tr>\n",
       "      <th>on off stump</th>\n",
       "      <td>98</td>\n",
       "    </tr>\n",
       "    <tr>\n",
       "      <th>the off side</th>\n",
       "      <td>88</td>\n",
       "    </tr>\n",
       "    <tr>\n",
       "      <th>the back foot</th>\n",
       "      <td>88</td>\n",
       "    </tr>\n",
       "    <tr>\n",
       "      <th>outside off and</th>\n",
       "      <td>85</td>\n",
       "    </tr>\n",
       "  </tbody>\n",
       "</table>\n",
       "</div>"
      ],
      "text/plain": [
       "                    frequency\n",
       "back of length      171      \n",
       "the leg side        138      \n",
       "short of length     133      \n",
       "to third man        108      \n",
       "length outside off  107      \n",
       "outside off stump   102      \n",
       "on off stump        98       \n",
       "the off side        88       \n",
       "the back foot       88       \n",
       "outside off and     85       "
      ]
     },
     "execution_count": 369,
     "metadata": {},
     "output_type": "execute_result"
    }
   ],
   "source": [
    "word_vectorizer = CountVectorizer(ngram_range=(3,7), analyzer='word')\n",
    "sparse_matrix = word_vectorizer.fit_transform(df['desc'])\n",
    "frequencies = sum(sparse_matrix).toarray()[0]\n",
    "col = pd.DataFrame(frequencies, index=word_vectorizer.get_feature_names(), columns=['frequency'])\n",
    "col.sort_values('frequency', ascending=False).head(10)"
   ]
  },
  {
   "cell_type": "code",
   "execution_count": 469,
   "metadata": {},
   "outputs": [
    {
     "data": {
      "text/plain": [
       "<matplotlib.axes._subplots.AxesSubplot at 0x1481fd630>"
      ]
     },
     "execution_count": 469,
     "metadata": {},
     "output_type": "execute_result"
    },
    {
     "data": {
      "image/png": "[encoded data removed]",
      "text/plain": [
       "<Figure size 432x288 with 1 Axes>"
      ]
     },
     "metadata": {
      "needs_background": "light"
     },
     "output_type": "display_data"
    }
   ],
   "source": [
    "# tokenize the document\n",
    "descs = df['desc'].apply(text_to_word_sequence)\n",
    "lens = descs.apply(len)\n",
    "lens.hist(bins=[x for x in range(200)])"
   ]
  },
  {
   "cell_type": "code",
   "execution_count": 471,
   "metadata": {},
   "outputs": [],
   "source": [
    "def deleteLowCount(t, threshold=10):\n",
    "    lcw = [w for w,c in t.word_counts.items() \n",
    "           if c < threshold \n",
    "           or w in all_names \n",
    "           or any(i.isdigit() for i in w)\n",
    "          ]\n",
    "    print(f\"{len(lcw)} low counted, {len(t.word_counts) - len(lcw)} left\")\n",
    "    for w in lcw:\n",
    "        del t.word_index[w]\n",
    "        del t.word_docs[w]\n",
    "        del t.word_counts[w]\n",
    "    return t"
   ]
  },
  {
   "cell_type": "code",
   "execution_count": 472,
   "metadata": {},
   "outputs": [
    {
     "name": "stdout",
     "output_type": "stream",
     "text": [
      "4855 low counted, 650 left\n"
     ]
    }
   ],
   "source": [
    "from keras.preprocessing.text import Tokenizer\n",
    "t = Tokenizer()\n",
    "t.fit_on_texts(descs)\n",
    "t = deleteLowCount(t, 10)\n",
    "rT = dict(map(reversed, t.word_index.items()))\n",
    "df['sequence'] = t.texts_to_sequences(descs)"
   ]
  },
  {
   "cell_type": "code",
   "execution_count": 473,
   "metadata": {},
   "outputs": [
    {
     "data": {
      "text/html": [
       "<div>\n",
       "<style scoped>\n",
       "    .dataframe tbody tr th:only-of-type {\n",
       "        vertical-align: middle;\n",
       "    }\n",
       "\n",
       "    .dataframe tbody tr th {\n",
       "        vertical-align: top;\n",
       "    }\n",
       "\n",
       "    .dataframe thead th {\n",
       "        text-align: right;\n",
       "    }\n",
       "</style>\n",
       "<table border=\"1\" class=\"dataframe\">\n",
       "  <thead>\n",
       "    <tr style=\"text-align: right;\">\n",
       "      <th></th>\n",
       "      <th>desc</th>\n",
       "      <th>hand</th>\n",
       "      <th>length</th>\n",
       "      <th>line</th>\n",
       "      <th>outcome</th>\n",
       "      <th>sequence</th>\n",
       "    </tr>\n",
       "  </thead>\n",
       "  <tbody>\n",
       "    <tr>\n",
       "      <th>0</th>\n",
       "      <td>Steyn to Jaques, full and on the legs, swinging in, Jaques lets it go past, no runs, fielded by Boucher</td>\n",
       "      <td>1</td>\n",
       "      <td>2</td>\n",
       "      <td>2</td>\n",
       "      <td>0</td>\n",
       "      <td>[3, 26, 2, 6, 1, 663, 292, 9, 279, 8, 109, 91, 70, 79, 253, 55]</td>\n",
       "    </tr>\n",
       "    <tr>\n",
       "      <th>1</th>\n",
       "      <td>Steyn to Jaques, good length but down leg, Jaques drives, no runs, fielded by Botha</td>\n",
       "      <td>1</td>\n",
       "      <td>3</td>\n",
       "      <td>3</td>\n",
       "      <td>0</td>\n",
       "      <td>[3, 31, 10, 16, 32, 18, 110, 70, 79, 253, 55]</td>\n",
       "    </tr>\n",
       "    <tr>\n",
       "      <th>2</th>\n",
       "      <td>Steyn to Jaques, short of a length outside the off stump, Jaques plays no shot, no runs, fielded by Boucher</td>\n",
       "      <td>1</td>\n",
       "      <td>4</td>\n",
       "      <td>1</td>\n",
       "      <td>0</td>\n",
       "      <td>[3, 22, 7, 4, 10, 11, 1, 5, 23, 166, 70, 98, 70, 79, 253, 55]</td>\n",
       "    </tr>\n",
       "    <tr>\n",
       "      <th>3</th>\n",
       "      <td>(no ball) Steyn to Jaques, good length delivery just outside the off stump, Jaques lets it go past, no runs, fielded by Boucher</td>\n",
       "      <td>1</td>\n",
       "      <td>3</td>\n",
       "      <td>1</td>\n",
       "      <td>4</td>\n",
       "      <td>[70, 12, 3, 31, 10, 53, 45, 11, 1, 5, 23, 279, 8, 109, 91, 70, 79, 253, 55]</td>\n",
       "    </tr>\n",
       "    <tr>\n",
       "      <th>4</th>\n",
       "      <td>Steyn to Jaques, fuller length outside the off stump , Jaques drives in air over cover fielder, 4 runs</td>\n",
       "      <td>1</td>\n",
       "      <td>2</td>\n",
       "      <td>1</td>\n",
       "      <td>12</td>\n",
       "      <td>[3, 104, 10, 11, 1, 5, 23, 110, 9, 221, 44, 36, 175, 79]</td>\n",
       "    </tr>\n",
       "  </tbody>\n",
       "</table>\n",
       "</div>"
      ],
      "text/plain": [
       "                                                                                                                               desc  \\\n",
       "0   Steyn to Jaques, full and on the legs, swinging in, Jaques lets it go past, no runs, fielded by Boucher                           \n",
       "1   Steyn to Jaques, good length but down leg, Jaques drives, no runs, fielded by Botha                                               \n",
       "2   Steyn to Jaques, short of a length outside the off stump, Jaques plays no shot, no runs, fielded by Boucher                       \n",
       "3   (no ball) Steyn to Jaques, good length delivery just outside the off stump, Jaques lets it go past, no runs, fielded by Boucher   \n",
       "4   Steyn to Jaques, fuller length outside the off stump , Jaques drives in air over cover fielder, 4 runs                            \n",
       "\n",
       "   hand  length  line  outcome  \\\n",
       "0  1     2       2     0         \n",
       "1  1     3       3     0         \n",
       "2  1     4       1     0         \n",
       "3  1     3       1     4         \n",
       "4  1     2       1     12        \n",
       "\n",
       "                                                                      sequence  \n",
       "0  [3, 26, 2, 6, 1, 663, 292, 9, 279, 8, 109, 91, 70, 79, 253, 55]              \n",
       "1  [3, 31, 10, 16, 32, 18, 110, 70, 79, 253, 55]                                \n",
       "2  [3, 22, 7, 4, 10, 11, 1, 5, 23, 166, 70, 98, 70, 79, 253, 55]                \n",
       "3  [70, 12, 3, 31, 10, 53, 45, 11, 1, 5, 23, 279, 8, 109, 91, 70, 79, 253, 55]  \n",
       "4  [3, 104, 10, 11, 1, 5, 23, 110, 9, 221, 44, 36, 175, 79]                     "
      ]
     },
     "execution_count": 473,
     "metadata": {},
     "output_type": "execute_result"
    }
   ],
   "source": [
    "df.head()"
   ]
  },
  {
   "cell_type": "code",
   "execution_count": 457,
   "metadata": {},
   "outputs": [
    {
     "name": "stdout",
     "output_type": "stream",
     "text": [
      "40  - 95.14%\n",
      "39  - 94.83%\n",
      "38  - 94.60%\n",
      "37  - 93.95%\n",
      "36  - 93.64%\n",
      "35  - 92.95%\n",
      "34  - 92.26%\n",
      "33  - 91.65%\n",
      "32  - 91.04%\n",
      "31  - 90.12%\n",
      "30  - 88.93%\n",
      "29  - 87.74%\n",
      "28  - 86.37%\n",
      "27  - 84.80%\n",
      "26  - 82.96%\n",
      "25  - 81.23%\n",
      "24  - 78.78%\n",
      "23  - 76.98%\n",
      "22  - 74.49%\n",
      "21  - 72.16%\n"
     ]
    }
   ],
   "source": [
    "count = defaultdict(int)\n",
    "threshold = 100\n",
    "for x in df['sequence']:\n",
    "    for i in range(len(x), threshold+1):\n",
    "        count[i] += 1\n",
    "        \n",
    "total = len(df['sequence'])\n",
    "for num, c in sorted(list(count.items()), key=lambda x:x[1], reverse=True)[60:80]:\n",
    "    print(f\"{num:<3} - {(c*100/total):>3.2f}%\")"
   ]
  },
  {
   "cell_type": "code",
   "execution_count": 451,
   "metadata": {
    "jupyter": {
     "source_hidden": true
    }
   },
   "outputs": [],
   "source": [
    "moreThanThreshSeq = []\n",
    "moreThanThreshActual = []\n",
    "for i, l in enumerate(df['sequence']):\n",
    "    if len(l) > 45:\n",
    "        moreThanThreshSeq.append(df['sequence'][i])\n",
    "        moreThanThreshActual.append(df['desc'][i])"
   ]
  },
  {
   "cell_type": "code",
   "execution_count": 474,
   "metadata": {},
   "outputs": [
    {
     "data": {
      "text/plain": [
       "Index(['desc', 'hand', 'length', 'line', 'outcome', 'sequence'], dtype='object')"
      ]
     },
     "execution_count": 474,
     "metadata": {},
     "output_type": "execute_result"
    }
   ],
   "source": [
    "df.columns"
   ]
  },
  {
   "cell_type": "code",
   "execution_count": 593,
   "metadata": {},
   "outputs": [],
   "source": [
    "X_cols = ['sequence', 'outcome']\n",
    "y_cols = ['line']\n",
    "train, test = train_test_split(df[X_cols + y_cols], test_size=0.3, random_state=seed)\n",
    "X_train, y_train = train[X_cols], train[y_cols]\n",
    "X_test, y_test = test[X_cols], test[y_cols]"
   ]
  },
  {
   "cell_type": "code",
   "execution_count": 594,
   "metadata": {},
   "outputs": [],
   "source": [
    "max_comm_length = 15\n",
    "X_train = sequence.pad_sequences(X_train['sequence'], maxlen=max_comm_length, truncating='post')\n",
    "X_test = sequence.pad_sequences(X_test['sequence'], maxlen=max_comm_length, truncating='post')"
   ]
  },
  {
   "cell_type": "code",
   "execution_count": 595,
   "metadata": {},
   "outputs": [
    {
     "name": "stdout",
     "output_type": "stream",
     "text": [
      "Model: \"sequential_24\"\n",
      "_________________________________________________________________\n",
      "Layer (type)                 Output Shape              Param #   \n",
      "=================================================================\n",
      "embedding_23 (Embedding)     (None, 15, 20)            100000    \n",
      "_________________________________________________________________\n",
      "lstm_23 (LSTM)               (None, 100)               48400     \n",
      "_________________________________________________________________\n",
      "dense_23 (Dense)             (None, 5)                 505       \n",
      "=================================================================\n",
      "Total params: 148,905\n",
      "Trainable params: 148,905\n",
      "Non-trainable params: 0\n",
      "_________________________________________________________________\n",
      "None\n",
      "Train on 1827 samples, validate on 784 samples\n",
      "Epoch 1/10\n",
      "1827/1827 [==============================] - 3s 2ms/step - loss: 1.0323 - accuracy: 0.5156 - val_loss: 0.9191 - val_accuracy: 0.5293\n",
      "Epoch 2/10\n",
      "1827/1827 [==============================] - 2s 1ms/step - loss: 0.6947 - accuracy: 0.7110 - val_loss: 0.6653 - val_accuracy: 0.7474\n",
      "Epoch 3/10\n",
      "1827/1827 [==============================] - 2s 1ms/step - loss: 0.5193 - accuracy: 0.8101 - val_loss: 0.6488 - val_accuracy: 0.7793\n",
      "Epoch 4/10\n",
      "1827/1827 [==============================] - 2s 1ms/step - loss: 0.4166 - accuracy: 0.8533 - val_loss: 0.6377 - val_accuracy: 0.7883\n",
      "Epoch 5/10\n",
      "1827/1827 [==============================] - 2s 1ms/step - loss: 0.3759 - accuracy: 0.8725 - val_loss: 0.6780 - val_accuracy: 0.7653\n",
      "Epoch 6/10\n",
      "1827/1827 [==============================] - 2s 1ms/step - loss: 0.3360 - accuracy: 0.8796 - val_loss: 0.7478 - val_accuracy: 0.7793\n",
      "Epoch 7/10\n",
      "1827/1827 [==============================] - 2s 1ms/step - loss: 0.3013 - accuracy: 0.9037 - val_loss: 0.7021 - val_accuracy: 0.7870\n",
      "Epoch 8/10\n",
      "1827/1827 [==============================] - 2s 1ms/step - loss: 0.2754 - accuracy: 0.9135 - val_loss: 0.7942 - val_accuracy: 0.7819\n",
      "Epoch 9/10\n",
      "1827/1827 [==============================] - 2s 1ms/step - loss: 0.2824 - accuracy: 0.9091 - val_loss: 0.8093 - val_accuracy: 0.7844\n",
      "Epoch 10/10\n",
      "1827/1827 [==============================] - 2s 1ms/step - loss: 0.2475 - accuracy: 0.9190 - val_loss: 0.9560 - val_accuracy: 0.7666\n"
     ]
    },
    {
     "data": {
      "text/plain": [
       "<keras.callbacks.callbacks.History at 0x1a6557630>"
      ]
     },
     "execution_count": 595,
     "metadata": {},
     "output_type": "execute_result"
    }
   ],
   "source": [
    "# create the model\n",
    "embedding_vector_length = 20\n",
    "model = Sequential()\n",
    "model.add(Embedding(top_words, embedding_vector_length, input_length=max_comm_length))\n",
    "model.add(LSTM(100))\n",
    "model.add(Dense(5, activation='softmax'))\n",
    "model.compile(loss='sparse_categorical_crossentropy', optimizer='adam', metrics=['accuracy'])\n",
    "print(model.summary())\n",
    "model.fit(X_train, y_train, validation_data=(X_test, y_test), epochs=10, batch_size=8)"
   ]
  },
  {
   "cell_type": "code",
   "execution_count": 596,
   "metadata": {},
   "outputs": [
    {
     "name": "stdout",
     "output_type": "stream",
     "text": [
      "Accuracy: 76.66%\n"
     ]
    }
   ],
   "source": [
    "scores = model.evaluate(X_test, y_test, verbose=0)\n",
    "print(\"Accuracy: %.2f%%\" % (scores[1]*100))"
   ]
  },
  {
   "cell_type": "code",
   "execution_count": 598,
   "metadata": {},
   "outputs": [
    {
     "data": {
      "text/html": [
       "<div>\n",
       "<style scoped>\n",
       "    .dataframe tbody tr th:only-of-type {\n",
       "        vertical-align: middle;\n",
       "    }\n",
       "\n",
       "    .dataframe tbody tr th {\n",
       "        vertical-align: top;\n",
       "    }\n",
       "\n",
       "    .dataframe thead th {\n",
       "        text-align: right;\n",
       "    }\n",
       "</style>\n",
       "<table border=\"1\" class=\"dataframe\">\n",
       "  <thead>\n",
       "    <tr style=\"text-align: right;\">\n",
       "      <th></th>\n",
       "      <th>0</th>\n",
       "      <th>1</th>\n",
       "      <th>2</th>\n",
       "      <th>3</th>\n",
       "      <th>4</th>\n",
       "    </tr>\n",
       "  </thead>\n",
       "  <tbody>\n",
       "    <tr>\n",
       "      <th>0</th>\n",
       "      <td>41</td>\n",
       "      <td>11</td>\n",
       "      <td>4</td>\n",
       "      <td>0</td>\n",
       "      <td>0</td>\n",
       "    </tr>\n",
       "    <tr>\n",
       "      <th>1</th>\n",
       "      <td>8</td>\n",
       "      <td>202</td>\n",
       "      <td>91</td>\n",
       "      <td>1</td>\n",
       "      <td>0</td>\n",
       "    </tr>\n",
       "    <tr>\n",
       "      <th>2</th>\n",
       "      <td>1</td>\n",
       "      <td>34</td>\n",
       "      <td>348</td>\n",
       "      <td>4</td>\n",
       "      <td>0</td>\n",
       "    </tr>\n",
       "    <tr>\n",
       "      <th>3</th>\n",
       "      <td>1</td>\n",
       "      <td>4</td>\n",
       "      <td>20</td>\n",
       "      <td>10</td>\n",
       "      <td>0</td>\n",
       "    </tr>\n",
       "    <tr>\n",
       "      <th>4</th>\n",
       "      <td>2</td>\n",
       "      <td>0</td>\n",
       "      <td>1</td>\n",
       "      <td>1</td>\n",
       "      <td>0</td>\n",
       "    </tr>\n",
       "  </tbody>\n",
       "</table>\n",
       "</div>"
      ],
      "text/plain": [
       "    0    1    2   3  4\n",
       "0  41  11   4    0   0\n",
       "1  8   202  91   1   0\n",
       "2  1   34   348  4   0\n",
       "3  1   4    20   10  0\n",
       "4  2   0    1    1   0"
      ]
     },
     "execution_count": 598,
     "metadata": {},
     "output_type": "execute_result"
    }
   ],
   "source": [
    "y_pred = model.predict(X_test)\n",
    "labels = [0, 1, 2, 3, 4]\n",
    "matrix = confusion_matrix(y_test.values, y_pred.argmax(axis=1), labels=labels)\n",
    "pd.DataFrame(matrix, index=labels, columns=labels)"
   ]
  },
  {
   "cell_type": "code",
   "execution_count": null,
   "metadata": {},
   "outputs": [],
   "source": []
  }
 ],
 "metadata": {
  "kernelspec": {
   "display_name": "Python 3",
   "language": "python",
   "name": "python3"
  },
  "language_info": {
   "codemirror_mode": {
    "name": "ipython",
    "version": 3
   },
   "file_extension": ".py",
   "mimetype": "text/x-python",
   "name": "python",
   "nbconvert_exporter": "python",
   "pygments_lexer": "ipython3",
   "version": "3.7.0"
  }
 },
 "nbformat": 4,
 "nbformat_minor": 4
}
