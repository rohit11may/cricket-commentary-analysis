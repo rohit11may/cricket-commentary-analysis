{
 "cells": [
  {
   "cell_type": "code",
   "execution_count": 9,
   "metadata": {
    "jupyter": {
     "source_hidden": true
    }
   },
   "outputs": [],
   "source": [
    "def plotHist(data, bins=[], x_labels=True):\n",
    "    data_hist = np.random.randn(82)\n",
    "    fig, ax = plt.subplots(figsize=(24,5))\n",
    "    if bins: \n",
    "        counts, bins, patches = ax.hist(data, bins=bins, facecolor='yellow', edgecolor='gray')\n",
    "    else:\n",
    "        counts, bins, patches = ax.hist(data, facecolor='yellow', edgecolor='gray')\n",
    "\n",
    "    # Set the ticks to be at the edges of the bins.\n",
    "    if x_labels:\n",
    "        ax.set_xticks(bins)\n",
    "        # Set the xaxis's tick labels to be formatted with 1 decimal place...\n",
    "        ax.xaxis.set_major_formatter(FormatStrFormatter('%0.05f'))\n",
    "\n",
    "    # Change the colors of bars at the edges...\n",
    "    twentyfifth, seventyfifth = np.percentile(data_hist, [25, 75])\n",
    "    for patch, rightside, leftside in zip(patches, bins[1:], bins[:-1]):\n",
    "        if rightside < twentyfifth:\n",
    "            patch.set_facecolor('green')\n",
    "        elif leftside > seventyfifth:\n",
    "            patch.set_facecolor('red')\n",
    "\n",
    "    # Label the raw counts and the percentages below the x-axis...\n",
    "    if x_labels:\n",
    "        bin_centers = 0.5 * np.diff(bins) + bins[:-1]\n",
    "        for count, x in zip(counts, bin_centers):\n",
    "            # Label the raw counts\n",
    "            ax.annotate(str(count), xy=(x, 0), xycoords=('data', 'axes fraction'),\n",
    "                xytext=(0, -18), textcoords='offset points', va='top', ha='center')\n",
    "\n",
    "            # Label the percentages\n",
    "            percent = '%0.0f%%' % (100 * float(count) / counts.sum())\n",
    "            ax.annotate(percent, xy=(x, 0), xycoords=('data', 'axes fraction'),\n",
    "                xytext=(0, -32), textcoords='offset points', va='top', ha='center')\n",
    "\n",
    "\n",
    "    # Give ourselves some more room at the bottom of the plot\n",
    "    plt.subplots_adjust(bottom=0.1)\n",
    "    plt.show()"
   ]
  },
  {
   "cell_type": "code",
   "execution_count": 6,
   "metadata": {},
   "outputs": [],
   "source": [
    "import matplotlib.pyplot as plt\n",
    "from matplotlib.ticker import FormatStrFormatter\n",
    "\n",
    "import pickle\n",
    "import json\n",
    "import string\n",
    "import re\n",
    "from collections import defaultdict\n",
    "\n",
    "from random import randint, shuffle\n",
    "from tqdm import tqdm\n",
    "\n",
    "import numpy as np\n",
    "import nltk\n",
    "import pandas as pd\n",
    "from nltk import ngrams\n",
    "\n",
    "from sklearn.feature_extraction.text import CountVectorizer\n",
    "from sklearn.model_selection import train_test_split, StratifiedKFold\n",
    "from sklearn.preprocessing import LabelEncoder\n",
    "from sklearn.utils import class_weig\n",
    "from sklearn.metrics import confusion_matrix\n",
    "\n",
    "from keras.preprocessing.text import text_to_word_sequence\n",
    "from keras.preprocessing import sequence\n",
    "from keras.models import Sequential\n",
    "from keras.layers import Dense\n",
    "from keras.layers import LSTM\n",
    "from keras.layers.embeddings import Embedding\n",
    "from keras.callbacks import EarlyStopping, ModelCheckpoint\n",
    "\n",
    "seed = 7\n",
    "np.random.seed(seed)\n",
    "pd.set_option('max_colwidth', -1)"
   ]
  },
  {
   "cell_type": "code",
   "execution_count": 2,
   "metadata": {},
   "outputs": [],
   "source": [
    "def load_data(filename):\n",
    "    with open(f\"{filename}.json\", \"rb\") as f:\n",
    "        data = json.load(f)\n",
    "    print(\"Loaded data!\")\n",
    "    return data\n",
    "        \n",
    "def save_data(data, filename):\n",
    "    with open(f\"{filename}.pkl\", \"wb\") as f:\n",
    "        pickle.dump(data, f)\n",
    "        \n",
    "def export_to_json(data):\n",
    "    with open('matches.json', 'w') as json_file:\n",
    "        json.dump(data, json_file)\n",
    "    \n",
    "i1b = lambda m : m['commentary']['innings1']['balls']\n",
    "i2b = lambda m : m['commentary']['innings2']['balls']\n",
    "i1o = lambda m : m['commentary']['innings1']['over_summaries']\n",
    "i2o = lambda m : m['commentary']['innings2']['over_summaries']"
   ]
  },
  {
   "cell_type": "code",
   "execution_count": 3,
   "metadata": {},
   "outputs": [
    {
     "name": "stdout",
     "output_type": "stream",
     "text": [
      "Loaded data!\n",
      "Loaded data!\n"
     ]
    }
   ],
   "source": [
    "data, players = load_data(\"matches_Dale Steyn2611\"), load_data(\"player_table\")"
   ]
  },
  {
   "cell_type": "code",
   "execution_count": 12,
   "metadata": {},
   "outputs": [],
   "source": [
    "lines, lengths = [], []\n",
    "for i, m in data.items():\n",
    "    for ball in i1b(m):\n",
    "        if ball['pitch']:\n",
    "            lengths.append(ball['pitch']['length'])\n",
    "            lines.append(ball['pitch']['line'])\n",
    "    for ball in i2b(m):\n",
    "        if ball['pitch']:\n",
    "            lengths.append(ball['pitch']['length'])\n",
    "            lines.append(ball['pitch']['line'])"
   ]
  },
  {
   "cell_type": "code",
   "execution_count": 17,
   "metadata": {
    "collapsed": true,
    "jupyter": {
     "outputs_hidden": true
    }
   },
   "outputs": [
    {
     "data": {
      "image/png": "[encoded data removed]",
      "text/plain": [
       "<Figure size 1728x360 with 1 Axes>"
      ]
     },
     "metadata": {
      "needs_background": "light"
     },
     "output_type": "display_data"
    },
    {
     "data": {
      "image/png": "[encoded data removed]",
      "text/plain": [
       "<Figure size 1728x360 with 1 Axes>"
      ]
     },
     "metadata": {
      "needs_background": "light"
     },
     "output_type": "display_data"
    }
   ],
   "source": [
    "plotHist(lengths)\n",
    "plotHist(lines)"
   ]
  },
  {
   "cell_type": "code",
   "execution_count": 4,
   "metadata": {},
   "outputs": [],
   "source": [
    "all_names = set()\n",
    "ambigNames = set(['short', 'ball', 'head', 'little', 'chase', 'cutting', 'cross'])\n",
    "for profile in players.values():\n",
    "    name = profile['known_as'].split(' ')\n",
    "    ambig = any(n.lower() in ambigNames for n in name)\n",
    "    if not ambig:\n",
    "        all_names.update(name)\n",
    "        all_names.update([n.lower() for n in name])"
   ]
  },
  {
   "cell_type": "code",
   "execution_count": 9,
   "metadata": {},
   "outputs": [],
   "source": [
    "rows = []\n",
    "bowlerPattern = \"(?P<bowler>[\\w \\-'?]+) to (?P<batsman>[\\w \\-']+),(?P<text_outcome>[^,]*),(?P<desc>.*)$\"\n",
    "def getRow(b):\n",
    "    row = dict()\n",
    "    match = re.match(bowlerPattern, b['desc'])\n",
    "    row['desc_'] = match.group('desc')\n",
    "    row['outcome_'] = b['outcome']\n",
    "    row['hand_'] = players[b['batsman_id']]['batting_hand'] if b['batsman_id'] else \"\"\n",
    "    row['line_'] = b['pitch']['line']\n",
    "    row['length_'] = b['pitch']['length']\n",
    "    return row\n",
    "\n",
    "rows = []\n",
    "for i, m in data.items():\n",
    "    rows += [getRow(b) for b in i1b(m) if b['pitch']]\n",
    "    rows += [getRow(b) for b in i2b(m) if b['pitch']]\n",
    "            \n",
    "df = pd.DataFrame(rows)\n",
    "le = LabelEncoder()\n",
    "df[['hand_', 'outcome_']] = df[['hand_', 'outcome_']].apply(le.fit_transform)\n",
    "save_data(df, \"dale_df\")"
   ]
  },
  {
   "cell_type": "code",
   "execution_count": 369,
   "metadata": {},
   "outputs": [
    {
     "data": {
      "text/html": [
       "<div>\n",
       "<style scoped>\n",
       "    .dataframe tbody tr th:only-of-type {\n",
       "        vertical-align: middle;\n",
       "    }\n",
       "\n",
       "    .dataframe tbody tr th {\n",
       "        vertical-align: top;\n",
       "    }\n",
       "\n",
       "    .dataframe thead th {\n",
       "        text-align: right;\n",
       "    }\n",
       "</style>\n",
       "<table border=\"1\" class=\"dataframe\">\n",
       "  <thead>\n",
       "    <tr style=\"text-align: right;\">\n",
       "      <th></th>\n",
       "      <th>frequency</th>\n",
       "    </tr>\n",
       "  </thead>\n",
       "  <tbody>\n",
       "    <tr>\n",
       "      <th>back of length</th>\n",
       "      <td>171</td>\n",
       "    </tr>\n",
       "    <tr>\n",
       "      <th>the leg side</th>\n",
       "      <td>138</td>\n",
       "    </tr>\n",
       "    <tr>\n",
       "      <th>short of length</th>\n",
       "      <td>133</td>\n",
       "    </tr>\n",
       "    <tr>\n",
       "      <th>to third man</th>\n",
       "      <td>108</td>\n",
       "    </tr>\n",
       "    <tr>\n",
       "      <th>length outside off</th>\n",
       "      <td>107</td>\n",
       "    </tr>\n",
       "    <tr>\n",
       "      <th>outside off stump</th>\n",
       "      <td>102</td>\n",
       "    </tr>\n",
       "    <tr>\n",
       "      <th>on off stump</th>\n",
       "      <td>98</td>\n",
       "    </tr>\n",
       "    <tr>\n",
       "      <th>the off side</th>\n",
       "      <td>88</td>\n",
       "    </tr>\n",
       "    <tr>\n",
       "      <th>the back foot</th>\n",
       "      <td>88</td>\n",
       "    </tr>\n",
       "    <tr>\n",
       "      <th>outside off and</th>\n",
       "      <td>85</td>\n",
       "    </tr>\n",
       "  </tbody>\n",
       "</table>\n",
       "</div>"
      ],
      "text/plain": [
       "                    frequency\n",
       "back of length      171      \n",
       "the leg side        138      \n",
       "short of length     133      \n",
       "to third man        108      \n",
       "length outside off  107      \n",
       "outside off stump   102      \n",
       "on off stump        98       \n",
       "the off side        88       \n",
       "the back foot       88       \n",
       "outside off and     85       "
      ]
     },
     "execution_count": 369,
     "metadata": {},
     "output_type": "execute_result"
    }
   ],
   "source": [
    "word_vectorizer = CountVectorizer(ngram_range=(3,7), analyzer='word')\n",
    "sparse_matrix = word_vectorizer.fit_transform(df['desc'])\n",
    "frequencies = sum(sparse_matrix).toarray()[0]\n",
    "col = pd.DataFrame(frequencies, index=word_vectorizer.get_feature_names(), columns=['frequency'])\n",
    "col.sort_values('frequency', ascending=False).head(10)"
   ]
  },
  {
   "cell_type": "code",
   "execution_count": 730,
   "metadata": {},
   "outputs": [
    {
     "data": {
      "text/plain": [
       "<matplotlib.axes._subplots.AxesSubplot at 0x1c428d4e0>"
      ]
     },
     "execution_count": 730,
     "metadata": {},
     "output_type": "execute_result"
    },
    {
     "data": {
      "image/png": "[encoded data removed]",
      "text/plain": [
       "<Figure size 432x288 with 1 Axes>"
      ]
     },
     "metadata": {
      "needs_background": "light"
     },
     "output_type": "display_data"
    }
   ],
   "source": [
    "# tokenize the document\n",
    "descs = df['desc'].apply(text_to_word_sequence)\n",
    "lens = descs.apply(len)\n",
    "lens.hist(bins=[x for x in range(200)])"
   ]
  },
  {
   "cell_type": "code",
   "execution_count": 731,
   "metadata": {},
   "outputs": [],
   "source": [
    "def deleteLowCount(t, threshold=10):\n",
    "    lcw = [w for w,c in t.word_counts.items() \n",
    "           if c < threshold \n",
    "           or w in all_names \n",
    "           or any(i.isdigit() for i in w)\n",
    "          ]\n",
    "    print(f\"{len(lcw)} low counted, {len(t.word_counts) - len(lcw)} left\")\n",
    "    for w in lcw:\n",
    "        del t.word_index[w]\n",
    "        del t.word_docs[w]\n",
    "        del t.word_counts[w]\n",
    "    return t"
   ]
  },
  {
   "cell_type": "code",
   "execution_count": 863,
   "metadata": {},
   "outputs": [
    {
     "name": "stdout",
     "output_type": "stream",
     "text": [
      "4439 low counted, 1066 left\n"
     ]
    }
   ],
   "source": [
    "from keras.preprocessing.text import Tokenizer\n",
    "t = Tokenizer()\n",
    "t.fit_on_texts(descs)\n",
    "t = deleteLowCount(t, 5)\n",
    "rT = dict(map(reversed, t.word_index.items()))\n",
    "df['sequence'] = t.texts_to_sequences(descs)\n",
    "\n",
    "filtered = df['sequence'].apply(lambda x: [rT[num] for num in x])\n",
    "t = Tokenizer()\n",
    "t.fit_on_texts(filtered)\n",
    "df['sequence'] = t.texts_to_sequences(filtered)\n",
    "rT = dict(map(reversed, t.word_index.items()))\n",
    "numDistinctWords = len(t.word_index) + 1"
   ]
  },
  {
   "cell_type": "code",
   "execution_count": 864,
   "metadata": {},
   "outputs": [
    {
     "data": {
      "text/html": [
       "<div>\n",
       "<style scoped>\n",
       "    .dataframe tbody tr th:only-of-type {\n",
       "        vertical-align: middle;\n",
       "    }\n",
       "\n",
       "    .dataframe tbody tr th {\n",
       "        vertical-align: top;\n",
       "    }\n",
       "\n",
       "    .dataframe thead th {\n",
       "        text-align: right;\n",
       "    }\n",
       "</style>\n",
       "<table border=\"1\" class=\"dataframe\">\n",
       "  <thead>\n",
       "    <tr style=\"text-align: right;\">\n",
       "      <th></th>\n",
       "      <th>desc</th>\n",
       "      <th>hand</th>\n",
       "      <th>length</th>\n",
       "      <th>line</th>\n",
       "      <th>outcome</th>\n",
       "      <th>sequence</th>\n",
       "    </tr>\n",
       "  </thead>\n",
       "  <tbody>\n",
       "    <tr>\n",
       "      <th>0</th>\n",
       "      <td>Steyn to Jaques, full and on the legs, swinging in, Jaques lets it go past, no runs, fielded by Boucher</td>\n",
       "      <td>1</td>\n",
       "      <td>2</td>\n",
       "      <td>2</td>\n",
       "      <td>0</td>\n",
       "      <td>[3, 25, 2, 6, 1, 574, 268, 9, 257, 8, 107, 90, 69, 78, 233, 54]</td>\n",
       "    </tr>\n",
       "    <tr>\n",
       "      <th>1</th>\n",
       "      <td>Steyn to Jaques, good length but down leg, Jaques drives, no runs, fielded by Botha</td>\n",
       "      <td>1</td>\n",
       "      <td>3</td>\n",
       "      <td>3</td>\n",
       "      <td>0</td>\n",
       "      <td>[3, 30, 10, 16, 31, 18, 108, 69, 78, 233, 54]</td>\n",
       "    </tr>\n",
       "    <tr>\n",
       "      <th>2</th>\n",
       "      <td>Steyn to Jaques, short of a length outside the off stump, Jaques plays no shot, no runs, fielded by Boucher</td>\n",
       "      <td>1</td>\n",
       "      <td>4</td>\n",
       "      <td>1</td>\n",
       "      <td>0</td>\n",
       "      <td>[3, 21, 7, 4, 10, 11, 1, 5, 22, 160, 69, 97, 69, 78, 233, 54]</td>\n",
       "    </tr>\n",
       "    <tr>\n",
       "      <th>3</th>\n",
       "      <td>(no ball) Steyn to Jaques, good length delivery just outside the off stump, Jaques lets it go past, no runs, fielded by Boucher</td>\n",
       "      <td>1</td>\n",
       "      <td>3</td>\n",
       "      <td>1</td>\n",
       "      <td>4</td>\n",
       "      <td>[69, 12, 3, 30, 10, 52, 44, 11, 1, 5, 22, 257, 8, 107, 90, 69, 78, 233, 54]</td>\n",
       "    </tr>\n",
       "    <tr>\n",
       "      <th>4</th>\n",
       "      <td>Steyn to Jaques, fuller length outside the off stump , Jaques drives in air over cover fielder, 4 runs</td>\n",
       "      <td>1</td>\n",
       "      <td>2</td>\n",
       "      <td>1</td>\n",
       "      <td>12</td>\n",
       "      <td>[3, 103, 10, 11, 1, 5, 22, 108, 9, 208, 43, 35, 168, 78]</td>\n",
       "    </tr>\n",
       "  </tbody>\n",
       "</table>\n",
       "</div>"
      ],
      "text/plain": [
       "                                                                                                                               desc  \\\n",
       "0   Steyn to Jaques, full and on the legs, swinging in, Jaques lets it go past, no runs, fielded by Boucher                           \n",
       "1   Steyn to Jaques, good length but down leg, Jaques drives, no runs, fielded by Botha                                               \n",
       "2   Steyn to Jaques, short of a length outside the off stump, Jaques plays no shot, no runs, fielded by Boucher                       \n",
       "3   (no ball) Steyn to Jaques, good length delivery just outside the off stump, Jaques lets it go past, no runs, fielded by Boucher   \n",
       "4   Steyn to Jaques, fuller length outside the off stump , Jaques drives in air over cover fielder, 4 runs                            \n",
       "\n",
       "   hand  length  line  outcome  \\\n",
       "0  1     2       2     0         \n",
       "1  1     3       3     0         \n",
       "2  1     4       1     0         \n",
       "3  1     3       1     4         \n",
       "4  1     2       1     12        \n",
       "\n",
       "                                                                      sequence  \n",
       "0  [3, 25, 2, 6, 1, 574, 268, 9, 257, 8, 107, 90, 69, 78, 233, 54]              \n",
       "1  [3, 30, 10, 16, 31, 18, 108, 69, 78, 233, 54]                                \n",
       "2  [3, 21, 7, 4, 10, 11, 1, 5, 22, 160, 69, 97, 69, 78, 233, 54]                \n",
       "3  [69, 12, 3, 30, 10, 52, 44, 11, 1, 5, 22, 257, 8, 107, 90, 69, 78, 233, 54]  \n",
       "4  [3, 103, 10, 11, 1, 5, 22, 108, 9, 208, 43, 35, 168, 78]                     "
      ]
     },
     "execution_count": 864,
     "metadata": {},
     "output_type": "execute_result"
    }
   ],
   "source": [
    "df.head()"
   ]
  },
  {
   "cell_type": "code",
   "execution_count": 865,
   "metadata": {},
   "outputs": [
    {
     "name": "stdout",
     "output_type": "stream",
     "text": [
      "40  - 94.41%\n",
      "39  - 94.14%\n",
      "38  - 93.53%\n",
      "37  - 93.18%\n",
      "36  - 92.34%\n",
      "35  - 91.77%\n",
      "34  - 91.08%\n",
      "33  - 90.35%\n",
      "32  - 89.58%\n",
      "31  - 88.20%\n",
      "30  - 87.05%\n",
      "29  - 85.75%\n",
      "28  - 84.57%\n",
      "27  - 83.07%\n",
      "26  - 81.39%\n",
      "25  - 79.32%\n",
      "24  - 77.44%\n",
      "23  - 74.76%\n",
      "22  - 72.27%\n",
      "21  - 69.74%\n"
     ]
    }
   ],
   "source": [
    "count = defaultdict(int)\n",
    "threshold = 100\n",
    "for x in df['sequence']:\n",
    "    for i in range(len(x), threshold+1):\n",
    "        count[i] += 1\n",
    "        \n",
    "total = len(df['sequence'])\n",
    "for num, c in sorted(list(count.items()), key=lambda x:x[1], reverse=True)[60:80]:\n",
    "    print(f\"{num:<3} - {(c*100/total):>3.2f}%\")"
   ]
  },
  {
   "cell_type": "code",
   "execution_count": 866,
   "metadata": {},
   "outputs": [
    {
     "data": {
      "text/plain": [
       "Index(['desc', 'hand', 'length', 'line', 'outcome', 'sequence'], dtype='object')"
      ]
     },
     "execution_count": 866,
     "metadata": {},
     "output_type": "execute_result"
    }
   ],
   "source": [
    "df.columns"
   ]
  },
  {
   "cell_type": "markdown",
   "metadata": {},
   "source": [
    "# Model training"
   ]
  },
  {
   "cell_type": "code",
   "execution_count": 890,
   "metadata": {},
   "outputs": [],
   "source": [
    "def getModel(evl=15, cells=15):\n",
    "    model = Sequential()\n",
    "    model.add(Embedding(numDistinctWords, evl, input_length=max_comm_length))\n",
    "    model.add(LSTM(cells, dropout=0.2))\n",
    "    model.add(Dense(6, activation='softmax'))\n",
    "    model.compile(loss='sparse_categorical_crossentropy', optimizer='adam', metrics=['accuracy'])\n",
    "    return model\n",
    "\n",
    "def train_and_evaluate(model, X_train, X_test, y_train, y_test, epochs, batch_size, evl, cells):\n",
    "    class_weights = class_weight.compute_class_weight('balanced', np.unique(y_train), np.ravel(y_train))\n",
    "    class_weights = dict(enumerate(class_weights))\n",
    "    callbacks = [EarlyStopping(monitor='val_loss', patience=3),\n",
    "                 ModelCheckpoint('models/length_model.h5', save_best_only=True, \n",
    "                                 save_weights_only=False)]\n",
    "    model.fit(X_train, y_train, validation_data=(X_test, y_test), \n",
    "              callbacks=callbacks, epochs=epochs, batch_size=batch_size)\n",
    "    return model.evaluate(X_test, y_test, verbose=0)"
   ]
  },
  {
   "cell_type": "code",
   "execution_count": 891,
   "metadata": {},
   "outputs": [],
   "source": [
    "X_cols = ['sequence', 'outcome']\n",
    "y_cols = ['length']\n",
    "n_folds = 5\n",
    "\n",
    "X, X_test, y, y_test = train_test_split(df[X_cols], df[y_cols], stratify = df[y_cols], test_size=0.15, random_state=seed)\n",
    "skf = StratifiedKFold(n_splits=5, shuffle=True, random_state=seed)\n",
    "\n",
    "max_comm_length = 25\n",
    "X_seq = sequence.pad_sequences(X['sequence'], maxlen=max_comm_length, truncating='post', padding='post')\n",
    "X_test_seq = sequence.pad_sequences(X_test['sequence'], maxlen=max_comm_length, truncating='post', padding='post')\n",
    "\n",
    "X = np.append(X_seq, X['outcome'].values.reshape(-1,1), axis=1)\n",
    "X_test = np.append(X_test, X_test['outcome'].values.reshape(-1,1), axis=1)\n",
    "\n",
    "y = y.values"
   ]
  },
  {
   "cell_type": "code",
   "execution_count": 892,
   "metadata": {},
   "outputs": [
    {
     "name": "stdout",
     "output_type": "stream",
     "text": [
      "Running fold 1 / 5\n",
      "Train on 1774 samples, validate on 445 samples\n",
      "Epoch 1/12\n",
      "1774/1774 [==============================] - 6s 4ms/step - loss: 1.4797 - accuracy: 0.4245 - val_loss: 1.2063 - val_accuracy: 0.5573\n",
      "Epoch 2/12\n",
      "1774/1774 [==============================] - 3s 2ms/step - loss: 1.0794 - accuracy: 0.5998 - val_loss: 1.0102 - val_accuracy: 0.6135\n",
      "Epoch 3/12\n",
      "1774/1774 [==============================] - 3s 2ms/step - loss: 0.8705 - accuracy: 0.6776 - val_loss: 0.9045 - val_accuracy: 0.6809\n",
      "Epoch 4/12\n",
      "1774/1774 [==============================] - 3s 2ms/step - loss: 0.7562 - accuracy: 0.7159 - val_loss: 0.8276 - val_accuracy: 0.7011\n",
      "Epoch 5/12\n",
      "1774/1774 [==============================] - 3s 2ms/step - loss: 0.6464 - accuracy: 0.7554 - val_loss: 0.8106 - val_accuracy: 0.6989\n",
      "Epoch 6/12\n",
      "1774/1774 [==============================] - 3s 2ms/step - loss: 0.5528 - accuracy: 0.8050 - val_loss: 0.8151 - val_accuracy: 0.7258\n",
      "Epoch 7/12\n",
      "1774/1774 [==============================] - 3s 2ms/step - loss: 0.4808 - accuracy: 0.8377 - val_loss: 0.8679 - val_accuracy: 0.7213\n",
      "Epoch 8/12\n",
      "1774/1774 [==============================] - 3s 2ms/step - loss: 0.4362 - accuracy: 0.8596 - val_loss: 0.7940 - val_accuracy: 0.7371\n",
      "Epoch 9/12\n",
      "1774/1774 [==============================] - 4s 2ms/step - loss: 0.3812 - accuracy: 0.8771 - val_loss: 0.9677 - val_accuracy: 0.7101\n",
      "Epoch 10/12\n",
      "1774/1774 [==============================] - 3s 2ms/step - loss: 0.3737 - accuracy: 0.8760 - val_loss: 0.8929 - val_accuracy: 0.7303\n",
      "Epoch 11/12\n",
      "1774/1774 [==============================] - 3s 2ms/step - loss: 0.3520 - accuracy: 0.8850 - val_loss: 0.8722 - val_accuracy: 0.7618\n",
      "Running fold 2 / 5\n",
      "Train on 1774 samples, validate on 445 samples\n",
      "Epoch 1/12\n",
      "1774/1774 [==============================] - 6s 4ms/step - loss: 1.4792 - accuracy: 0.3782 - val_loss: 1.3941 - val_accuracy: 0.4112\n",
      "Epoch 2/12\n",
      "1774/1774 [==============================] - 6s 3ms/step - loss: 1.3301 - accuracy: 0.4233 - val_loss: 1.1871 - val_accuracy: 0.4831\n",
      "Epoch 3/12\n",
      "1774/1774 [==============================] - 5s 3ms/step - loss: 1.0636 - accuracy: 0.5496 - val_loss: 1.0340 - val_accuracy: 0.5483\n",
      "Epoch 4/12\n",
      "1774/1774 [==============================] - 5s 3ms/step - loss: 0.9604 - accuracy: 0.5665 - val_loss: 1.0271 - val_accuracy: 0.5416\n",
      "Epoch 5/12\n",
      "1774/1774 [==============================] - 4s 3ms/step - loss: 0.8752 - accuracy: 0.6037 - val_loss: 0.9585 - val_accuracy: 0.6022\n",
      "Epoch 6/12\n",
      "1774/1774 [==============================] - 5s 3ms/step - loss: 0.7980 - accuracy: 0.6697 - val_loss: 0.9128 - val_accuracy: 0.6067\n",
      "Epoch 7/12\n",
      "1774/1774 [==============================] - 8s 4ms/step - loss: 0.7258 - accuracy: 0.7007 - val_loss: 0.9243 - val_accuracy: 0.6270\n",
      "Epoch 8/12\n",
      "1774/1774 [==============================] - 4s 2ms/step - loss: 0.6608 - accuracy: 0.7441 - val_loss: 0.9424 - val_accuracy: 0.6360\n",
      "Epoch 9/12\n",
      "1774/1774 [==============================] - 3s 2ms/step - loss: 0.6361 - accuracy: 0.7542 - val_loss: 0.9484 - val_accuracy: 0.6472\n",
      "Running fold 3 / 5\n",
      "Train on 1774 samples, validate on 445 samples\n",
      "Epoch 1/12\n",
      "1774/1774 [==============================] - 7s 4ms/step - loss: 1.4785 - accuracy: 0.3901 - val_loss: 1.3215 - val_accuracy: 0.4135\n",
      "Epoch 2/12\n",
      "1774/1774 [==============================] - 3s 2ms/step - loss: 1.1494 - accuracy: 0.5338 - val_loss: 1.0389 - val_accuracy: 0.5933\n",
      "Epoch 3/12\n",
      "1774/1774 [==============================] - 3s 2ms/step - loss: 0.9401 - accuracy: 0.6212 - val_loss: 0.9241 - val_accuracy: 0.6225\n",
      "Epoch 4/12\n",
      "1774/1774 [==============================] - 4s 2ms/step - loss: 0.8224 - accuracy: 0.6770 - val_loss: 0.9133 - val_accuracy: 0.6517\n",
      "Epoch 5/12\n",
      "1774/1774 [==============================] - 4s 2ms/step - loss: 0.7568 - accuracy: 0.7108 - val_loss: 0.9466 - val_accuracy: 0.6404\n",
      "Epoch 6/12\n",
      "1774/1774 [==============================] - 3s 2ms/step - loss: 0.6983 - accuracy: 0.7339 - val_loss: 0.9315 - val_accuracy: 0.6427\n",
      "Epoch 7/12\n",
      "1774/1774 [==============================] - 3s 2ms/step - loss: 0.6542 - accuracy: 0.7525 - val_loss: 0.9515 - val_accuracy: 0.6539\n",
      "Running fold 4 / 5\n",
      "Train on 1775 samples, validate on 444 samples\n",
      "Epoch 1/12\n",
      "1775/1775 [==============================] - 9s 5ms/step - loss: 1.4658 - accuracy: 0.4090 - val_loss: 1.3134 - val_accuracy: 0.4617\n",
      "Epoch 2/12\n",
      "1775/1775 [==============================] - 5s 3ms/step - loss: 1.1437 - accuracy: 0.5290 - val_loss: 1.0704 - val_accuracy: 0.5788\n",
      "Epoch 3/12\n",
      "1775/1775 [==============================] - 4s 2ms/step - loss: 0.9710 - accuracy: 0.6141 - val_loss: 0.9496 - val_accuracy: 0.6284\n",
      "Epoch 4/12\n",
      "1775/1775 [==============================] - 4s 2ms/step - loss: 0.8280 - accuracy: 0.6839 - val_loss: 0.9205 - val_accuracy: 0.6261\n",
      "Epoch 5/12\n",
      "1775/1775 [==============================] - 3s 2ms/step - loss: 0.7309 - accuracy: 0.7301 - val_loss: 0.9428 - val_accuracy: 0.6126\n",
      "Epoch 6/12\n",
      "1775/1775 [==============================] - 3s 2ms/step - loss: 0.6834 - accuracy: 0.7487 - val_loss: 0.9185 - val_accuracy: 0.6396\n",
      "Epoch 7/12\n",
      "1775/1775 [==============================] - 3s 2ms/step - loss: 0.6332 - accuracy: 0.7685 - val_loss: 0.9185 - val_accuracy: 0.6554\n",
      "Epoch 8/12\n",
      "1775/1775 [==============================] - 3s 2ms/step - loss: 0.5980 - accuracy: 0.7854 - val_loss: 1.0466 - val_accuracy: 0.6036\n",
      "Epoch 9/12\n",
      "1775/1775 [==============================] - 4s 2ms/step - loss: 0.5832 - accuracy: 0.7848 - val_loss: 0.9523 - val_accuracy: 0.6419\n",
      "Running fold 5 / 5\n",
      "Train on 1779 samples, validate on 440 samples\n",
      "Epoch 1/12\n",
      "1779/1779 [==============================] - 8s 5ms/step - loss: 1.4877 - accuracy: 0.4087 - val_loss: 1.3670 - val_accuracy: 0.4159\n",
      "Epoch 2/12\n",
      "1779/1779 [==============================] - 3s 2ms/step - loss: 1.2600 - accuracy: 0.4604 - val_loss: 1.0960 - val_accuracy: 0.5250\n",
      "Epoch 3/12\n",
      "1779/1779 [==============================] - 3s 2ms/step - loss: 0.9921 - accuracy: 0.6183 - val_loss: 0.9073 - val_accuracy: 0.6500\n",
      "Epoch 4/12\n",
      "1779/1779 [==============================] - 3s 2ms/step - loss: 0.8321 - accuracy: 0.6835 - val_loss: 0.8717 - val_accuracy: 0.6659\n",
      "Epoch 5/12\n",
      "1779/1779 [==============================] - 4s 2ms/step - loss: 0.7605 - accuracy: 0.7229 - val_loss: 0.8859 - val_accuracy: 0.6614\n",
      "Epoch 6/12\n",
      "1779/1779 [==============================] - 4s 2ms/step - loss: 0.6871 - accuracy: 0.7482 - val_loss: 0.8554 - val_accuracy: 0.6682\n",
      "Epoch 7/12\n",
      "1779/1779 [==============================] - 3s 2ms/step - loss: 0.6030 - accuracy: 0.7853 - val_loss: 0.7702 - val_accuracy: 0.7568\n",
      "Epoch 8/12\n",
      "1779/1779 [==============================] - 4s 2ms/step - loss: 0.5335 - accuracy: 0.8364 - val_loss: 0.7470 - val_accuracy: 0.7500\n",
      "Epoch 9/12\n",
      "1779/1779 [==============================] - 3s 2ms/step - loss: 0.4738 - accuracy: 0.8567 - val_loss: 0.8123 - val_accuracy: 0.7409\n",
      "Epoch 10/12\n",
      "1779/1779 [==============================] - 4s 2ms/step - loss: 0.4471 - accuracy: 0.8567 - val_loss: 0.7490 - val_accuracy: 0.7591\n",
      "Epoch 11/12\n",
      "1779/1779 [==============================] - 3s 2ms/step - loss: 0.4236 - accuracy: 0.8702 - val_loss: 0.7562 - val_accuracy: 0.7750\n"
     ]
    }
   ],
   "source": [
    "scores = []\n",
    "epochs = 12\n",
    "batch_size = 1\n",
    "evl = 13\n",
    "cells = 15\n",
    "for i, (train_fold, test_fold) in enumerate(skf.split(X,y)):\n",
    "    print(f\"Running fold {i+1} / {n_folds}\")\n",
    "    model = getModel()\n",
    "    train_x, test_x = X[train_fold], X[test_fold]\n",
    "    train_y, test_y = y[train_fold], y[test_fold]\n",
    "    s = train_and_evaluate(model, train_x, test_x, train_y, test_y, epochs, batch_size, evl, cells)\n",
    "    scores.append(s)"
   ]
  },
  {
   "cell_type": "code",
   "execution_count": 893,
   "metadata": {},
   "outputs": [
    {
     "name": "stdout",
     "output_type": "stream",
     "text": [
      "accuracy: 0.6959626317024231\n"
     ]
    }
   ],
   "source": [
    "print(f\"accuracy: {np.array([i[1] for i in scores]).mean()}\")"
   ]
  },
  {
   "cell_type": "code",
   "execution_count": 896,
   "metadata": {},
   "outputs": [
    {
     "name": "stdout",
     "output_type": "stream",
     "text": [
      "Epoch 1/12\n",
      "2219/2219 [==============================] - 9s 4ms/step - loss: 1.4345 - accuracy: 0.4142\n",
      "Epoch 2/12\n",
      "2219/2219 [==============================] - 4s 2ms/step - loss: 1.0272 - accuracy: 0.6066\n",
      "Epoch 3/12\n",
      "2219/2219 [==============================] - 4s 2ms/step - loss: 0.8016 - accuracy: 0.7021\n",
      "Epoch 4/12\n",
      "2219/2219 [==============================] - 4s 2ms/step - loss: 0.7275 - accuracy: 0.7341\n",
      "Epoch 5/12\n",
      "2219/2219 [==============================] - 4s 2ms/step - loss: 0.6559 - accuracy: 0.7526\n",
      "Epoch 6/12\n",
      "2219/2219 [==============================] - 5s 2ms/step - loss: 0.6043 - accuracy: 0.7742\n",
      "Epoch 7/12\n",
      "2219/2219 [==============================] - 5s 2ms/step - loss: 0.5508 - accuracy: 0.7995\n",
      "Epoch 8/12\n",
      "2219/2219 [==============================] - 4s 2ms/step - loss: 0.4660 - accuracy: 0.8522\n",
      "Epoch 9/12\n",
      "2219/2219 [==============================] - 4s 2ms/step - loss: 0.4402 - accuracy: 0.8644\n",
      "Epoch 10/12\n",
      "2219/2219 [==============================] - 5s 2ms/step - loss: 0.4379 - accuracy: 0.8589: 0s - los\n",
      "Epoch 11/12\n",
      "2219/2219 [==============================] - 4s 2ms/step - loss: 0.3932 - accuracy: 0.8734\n",
      "Epoch 12/12\n",
      "2219/2219 [==============================] - 6s 3ms/step - loss: 0.3681 - accuracy: 0.8765\n"
     ]
    },
    {
     "ename": "ValueError",
     "evalue": "Error when checking input: expected embedding_87_input to have shape (26,) but got array with shape (3,)",
     "output_type": "error",
     "traceback": [
      "\u001b[0;31m---------------------------------------------------------------------------\u001b[0m",
      "\u001b[0;31mValueError\u001b[0m                                Traceback (most recent call last)",
      "\u001b[0;32m<ipython-input-896-6056b3354d45>\u001b[0m in \u001b[0;36m<module>\u001b[0;34m\u001b[0m\n\u001b[1;32m      1\u001b[0m \u001b[0mmodel\u001b[0m \u001b[0;34m=\u001b[0m \u001b[0mgetModel\u001b[0m\u001b[0;34m(\u001b[0m\u001b[0;34m)\u001b[0m\u001b[0;34m\u001b[0m\u001b[0m\n\u001b[1;32m      2\u001b[0m \u001b[0mmodel\u001b[0m\u001b[0;34m.\u001b[0m\u001b[0mfit\u001b[0m\u001b[0;34m(\u001b[0m\u001b[0mX\u001b[0m\u001b[0;34m,\u001b[0m \u001b[0my\u001b[0m\u001b[0;34m,\u001b[0m \u001b[0mepochs\u001b[0m\u001b[0;34m=\u001b[0m\u001b[0mepochs\u001b[0m\u001b[0;34m,\u001b[0m \u001b[0mbatch_size\u001b[0m\u001b[0;34m=\u001b[0m\u001b[0mbatch_size\u001b[0m\u001b[0;34m)\u001b[0m\u001b[0;34m\u001b[0m\u001b[0m\n\u001b[0;32m----> 3\u001b[0;31m \u001b[0mscores\u001b[0m \u001b[0;34m=\u001b[0m \u001b[0mmodel\u001b[0m\u001b[0;34m.\u001b[0m\u001b[0mevaluate\u001b[0m\u001b[0;34m(\u001b[0m\u001b[0mX_test\u001b[0m\u001b[0;34m,\u001b[0m \u001b[0my_test\u001b[0m\u001b[0;34m,\u001b[0m \u001b[0mverbose\u001b[0m\u001b[0;34m=\u001b[0m\u001b[0;36m0\u001b[0m\u001b[0;34m)\u001b[0m\u001b[0;34m\u001b[0m\u001b[0m\n\u001b[0m\u001b[1;32m      4\u001b[0m \u001b[0mprint\u001b[0m\u001b[0;34m(\u001b[0m\u001b[0;34m\"Accuracy: %.2f%%\"\u001b[0m \u001b[0;34m%\u001b[0m \u001b[0;34m(\u001b[0m\u001b[0mscores\u001b[0m\u001b[0;34m[\u001b[0m\u001b[0;36m1\u001b[0m\u001b[0;34m]\u001b[0m\u001b[0;34m*\u001b[0m\u001b[0;36m100\u001b[0m\u001b[0;34m)\u001b[0m\u001b[0;34m)\u001b[0m\u001b[0;34m\u001b[0m\u001b[0m\n",
      "\u001b[0;32m/usr/local/lib/python3.7/site-packages/keras/engine/training.py\u001b[0m in \u001b[0;36mevaluate\u001b[0;34m(self, x, y, batch_size, verbose, sample_weight, steps, callbacks, max_queue_size, workers, use_multiprocessing)\u001b[0m\n\u001b[1;32m   1347\u001b[0m             \u001b[0mx\u001b[0m\u001b[0;34m,\u001b[0m \u001b[0my\u001b[0m\u001b[0;34m,\u001b[0m\u001b[0;34m\u001b[0m\u001b[0m\n\u001b[1;32m   1348\u001b[0m             \u001b[0msample_weight\u001b[0m\u001b[0;34m=\u001b[0m\u001b[0msample_weight\u001b[0m\u001b[0;34m,\u001b[0m\u001b[0;34m\u001b[0m\u001b[0m\n\u001b[0;32m-> 1349\u001b[0;31m             batch_size=batch_size)\n\u001b[0m\u001b[1;32m   1350\u001b[0m         \u001b[0;31m# Prepare inputs, delegate logic to `test_loop`.\u001b[0m\u001b[0;34m\u001b[0m\u001b[0;34m\u001b[0m\u001b[0m\n\u001b[1;32m   1351\u001b[0m         \u001b[0;32mif\u001b[0m \u001b[0mself\u001b[0m\u001b[0;34m.\u001b[0m\u001b[0m_uses_dynamic_learning_phase\u001b[0m\u001b[0;34m(\u001b[0m\u001b[0;34m)\u001b[0m\u001b[0;34m:\u001b[0m\u001b[0;34m\u001b[0m\u001b[0m\n",
      "\u001b[0;32m/usr/local/lib/python3.7/site-packages/keras/engine/training.py\u001b[0m in \u001b[0;36m_standardize_user_data\u001b[0;34m(self, x, y, sample_weight, class_weight, check_array_lengths, batch_size)\u001b[0m\n\u001b[1;32m    577\u001b[0m             \u001b[0mfeed_input_shapes\u001b[0m\u001b[0;34m,\u001b[0m\u001b[0;34m\u001b[0m\u001b[0m\n\u001b[1;32m    578\u001b[0m             \u001b[0mcheck_batch_axis\u001b[0m\u001b[0;34m=\u001b[0m\u001b[0;32mFalse\u001b[0m\u001b[0;34m,\u001b[0m  \u001b[0;31m# Don't enforce the batch size.\u001b[0m\u001b[0;34m\u001b[0m\u001b[0m\n\u001b[0;32m--> 579\u001b[0;31m             exception_prefix='input')\n\u001b[0m\u001b[1;32m    580\u001b[0m \u001b[0;34m\u001b[0m\u001b[0m\n\u001b[1;32m    581\u001b[0m         \u001b[0;32mif\u001b[0m \u001b[0my\u001b[0m \u001b[0;32mis\u001b[0m \u001b[0;32mnot\u001b[0m \u001b[0;32mNone\u001b[0m\u001b[0;34m:\u001b[0m\u001b[0;34m\u001b[0m\u001b[0m\n",
      "\u001b[0;32m/usr/local/lib/python3.7/site-packages/keras/engine/training_utils.py\u001b[0m in \u001b[0;36mstandardize_input_data\u001b[0;34m(data, names, shapes, check_batch_axis, exception_prefix)\u001b[0m\n\u001b[1;32m    143\u001b[0m                             \u001b[0;34m': expected '\u001b[0m \u001b[0;34m+\u001b[0m \u001b[0mnames\u001b[0m\u001b[0;34m[\u001b[0m\u001b[0mi\u001b[0m\u001b[0;34m]\u001b[0m \u001b[0;34m+\u001b[0m \u001b[0;34m' to have shape '\u001b[0m \u001b[0;34m+\u001b[0m\u001b[0;34m\u001b[0m\u001b[0m\n\u001b[1;32m    144\u001b[0m                             \u001b[0mstr\u001b[0m\u001b[0;34m(\u001b[0m\u001b[0mshape\u001b[0m\u001b[0;34m)\u001b[0m \u001b[0;34m+\u001b[0m \u001b[0;34m' but got array with shape '\u001b[0m \u001b[0;34m+\u001b[0m\u001b[0;34m\u001b[0m\u001b[0m\n\u001b[0;32m--> 145\u001b[0;31m                             str(data_shape))\n\u001b[0m\u001b[1;32m    146\u001b[0m     \u001b[0;32mreturn\u001b[0m \u001b[0mdata\u001b[0m\u001b[0;34m\u001b[0m\u001b[0m\n\u001b[1;32m    147\u001b[0m \u001b[0;34m\u001b[0m\u001b[0m\n",
      "\u001b[0;31mValueError\u001b[0m: Error when checking input: expected embedding_87_input to have shape (26,) but got array with shape (3,)"
     ]
    }
   ],
   "source": [
    "model = getModel()\n",
    "model.fit(X, y, epochs=epochs, batch_size=batch_size)\n",
    "scores = model.evaluate(X_test, y_test, verbose=0)\n",
    "print(\"Accuracy: %.2f%%\" % (scores[1]*100))"
   ]
  },
  {
   "cell_type": "code",
   "execution_count": null,
   "metadata": {},
   "outputs": [],
   "source": [
    "y_pred = model.predict(X_test)\n",
    "labels = np.unique(y_train)\n",
    "matrix = confusion_matrix(y_test.values, y_pred.argmax(axis=1), labels=labels)\n",
    "scores = model.evaluate(X_test, y_test, verbose=0)\n",
    "print(\"Accuracy: %.2f%%\" % (scores[1]*100))\n",
    "pd.DataFrame(matrix, index=labels, columns=labels)"
   ]
  },
  {
   "cell_type": "code",
   "execution_count": null,
   "metadata": {},
   "outputs": [],
   "source": [
    "np.set_printoptions(suppress=True, precision=3)\n",
    "lengths = {\n",
    "    0: 'full toss',\n",
    "    1: 'yorker',\n",
    "    2: 'full',\n",
    "    3: 'good length',\n",
    "    4: 'back of a length',\n",
    "    5: 'short'\n",
    "}\n",
    "y_proba = model.predict_proba(X_test)\n",
    "y_max = y_pred.argmax(axis=1)\n",
    "for i, probs in enumerate(y_proba):\n",
    "        \n",
    "    predictedMax = lengths[y_max[i]]\n",
    "    actualMax = lengths[y_test.values[i][0]]\n",
    "    commentary = printSequence(X_test[i])\n",
    "    if max(probs) < 0.5:\n",
    "        print(f\"{predictedMax:<20} {actualMax:<20} - {commentary}\")"
   ]
  },
  {
   "cell_type": "code",
   "execution_count": 849,
   "metadata": {},
   "outputs": [],
   "source": [
    "#20 min doc, 8 bs, 10 epoch, 10 vec length, 15 max_comms\n",
    "def printSequence(seq):\n",
    "    return \" \".join([rT[num] for num in seq if num in rT])\n",
    "    \n",
    "def testPhrase(phrase):\n",
    "    splitup = text_to_word_sequence(phrase)\n",
    "    arr = t.texts_to_sequences([splitup])\n",
    "    seq = sequence.pad_sequences(arr, maxlen=max_comm_length, truncating='post', padding='post')\n",
    "    model.predict(seq).argmax(axis=1)"
   ]
  },
  {
   "cell_type": "code",
   "execution_count": null,
   "metadata": {},
   "outputs": [],
   "source": []
  }
 ],
 "metadata": {
  "kernelspec": {
   "display_name": "Python 3",
   "language": "python",
   "name": "python3"
  },
  "language_info": {
   "codemirror_mode": {
    "name": "ipython",
    "version": 3
   },
   "file_extension": ".py",
   "mimetype": "text/x-python",
   "name": "python",
   "nbconvert_exporter": "python",
   "pygments_lexer": "ipython3",
   "version": "3.7.0"
  }
 },
 "nbformat": 4,
 "nbformat_minor": 4
}
