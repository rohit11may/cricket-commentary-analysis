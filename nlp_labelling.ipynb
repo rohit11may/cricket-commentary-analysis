{
 "cells": [
  {
   "cell_type": "code",
   "execution_count": 9,
   "metadata": {
    "jupyter": {
     "source_hidden": true
    }
   },
   "outputs": [],
   "source": [
    "def plotHist(data, bins=[], x_labels=True):\n",
    "    data_hist = np.random.randn(82)\n",
    "    fig, ax = plt.subplots(figsize=(24,5))\n",
    "    if bins: \n",
    "        counts, bins, patches = ax.hist(data, bins=bins, facecolor='yellow', edgecolor='gray')\n",
    "    else:\n",
    "        counts, bins, patches = ax.hist(data, facecolor='yellow', edgecolor='gray')\n",
    "\n",
    "    # Set the ticks to be at the edges of the bins.\n",
    "    if x_labels:\n",
    "        ax.set_xticks(bins)\n",
    "        # Set the xaxis's tick labels to be formatted with 1 decimal place...\n",
    "        ax.xaxis.set_major_formatter(FormatStrFormatter('%0.05f'))\n",
    "\n",
    "    # Change the colors of bars at the edges...\n",
    "    twentyfifth, seventyfifth = np.percentile(data_hist, [25, 75])\n",
    "    for patch, rightside, leftside in zip(patches, bins[1:], bins[:-1]):\n",
    "        if rightside < twentyfifth:\n",
    "            patch.set_facecolor('green')\n",
    "        elif leftside > seventyfifth:\n",
    "            patch.set_facecolor('red')\n",
    "\n",
    "    # Label the raw counts and the percentages below the x-axis...\n",
    "    if x_labels:\n",
    "        bin_centers = 0.5 * np.diff(bins) + bins[:-1]\n",
    "        for count, x in zip(counts, bin_centers):\n",
    "            # Label the raw counts\n",
    "            ax.annotate(str(count), xy=(x, 0), xycoords=('data', 'axes fraction'),\n",
    "                xytext=(0, -18), textcoords='offset points', va='top', ha='center')\n",
    "\n",
    "            # Label the percentages\n",
    "            percent = '%0.0f%%' % (100 * float(count) / counts.sum())\n",
    "            ax.annotate(percent, xy=(x, 0), xycoords=('data', 'axes fraction'),\n",
    "                xytext=(0, -32), textcoords='offset points', va='top', ha='center')\n",
    "\n",
    "\n",
    "    # Give ourselves some more room at the bottom of the plot\n",
    "    plt.subplots_adjust(bottom=0.1)\n",
    "    plt.show()"
   ]
  },
  {
   "cell_type": "code",
   "execution_count": 7,
   "metadata": {},
   "outputs": [
    {
     "name": "stderr",
     "output_type": "stream",
     "text": [
      "Using TensorFlow backend.\n"
     ]
    }
   ],
   "source": [
    "import matplotlib.pyplot as plt\n",
    "from matplotlib.ticker import FormatStrFormatter\n",
    "\n",
    "import pickle\n",
    "import json\n",
    "import string\n",
    "import re\n",
    "from collections import defaultdict\n",
    "\n",
    "from random import randint, shuffle\n",
    "from tqdm import tqdm\n",
    "\n",
    "import numpy as np\n",
    "import nltk\n",
    "import pandas as pd\n",
    "from nltk import ngrams\n",
    "\n",
    "from sklearn.feature_extraction.text import CountVectorizer\n",
    "from sklearn.model_selection import train_test_split, StratifiedKFold\n",
    "from sklearn.preprocessing import LabelEncoder\n",
    "from sklearn.utils import class_weight\n",
    "from sklearn.metrics import confusion_matrix\n",
    "\n",
    "from keras.preprocessing.text import text_to_word_sequence\n",
    "from keras.preprocessing import sequence\n",
    "from keras.models import Sequential\n",
    "from keras.layers import Dense\n",
    "from keras.layers import LSTM\n",
    "from keras.layers.embeddings import Embedding\n",
    "from keras.callbacks import EarlyStopping, ModelCheckpoint\n",
    "\n",
    "seed = 7\n",
    "np.random.seed(seed)\n",
    "pd.set_option('max_colwidth', -1)"
   ]
  },
  {
   "cell_type": "code",
   "execution_count": 8,
   "metadata": {},
   "outputs": [],
   "source": [
    "def load_data(filename):\n",
    "    with open(f\"{filename}.json\", \"rb\") as f:\n",
    "        data = json.load(f)\n",
    "    print(\"Loaded data!\")\n",
    "    return data\n",
    "        \n",
    "def save_data(data, filename):\n",
    "    with open(f\"{filename}.pkl\", \"wb\") as f:\n",
    "        pickle.dump(data, f)\n",
    "        \n",
    "def export_to_json(data):\n",
    "    with open('matches.json', 'w') as json_file:\n",
    "        json.dump(data, json_file)\n",
    "    \n",
    "i1b = lambda m : m['commentary']['innings1']['balls']\n",
    "i2b = lambda m : m['commentary']['innings2']['balls']\n",
    "i1o = lambda m : m['commentary']['innings1']['over_summaries']\n",
    "i2o = lambda m : m['commentary']['innings2']['over_summaries']"
   ]
  },
  {
   "cell_type": "code",
   "execution_count": 9,
   "metadata": {},
   "outputs": [
    {
     "name": "stdout",
     "output_type": "stream",
     "text": [
      "Loaded data!\n",
      "Loaded data!\n"
     ]
    }
   ],
   "source": [
    "data, players = load_data(\"matches_Dale Steyn2611\"), load_data(\"player_table\")"
   ]
  },
  {
   "cell_type": "code",
   "execution_count": 10,
   "metadata": {},
   "outputs": [],
   "source": [
    "lines, lengths = [], []\n",
    "for i, m in data.items():\n",
    "    for ball in i1b(m):\n",
    "        if ball['pitch']:\n",
    "            lengths.append(ball['pitch']['length'])\n",
    "            lines.append(ball['pitch']['line'])\n",
    "    for ball in i2b(m):\n",
    "        if ball['pitch']:\n",
    "            lengths.append(ball['pitch']['length'])\n",
    "            lines.append(ball['pitch']['line'])"
   ]
  },
  {
   "cell_type": "code",
   "execution_count": 17,
   "metadata": {
    "collapsed": true,
    "jupyter": {
     "outputs_hidden": true
    }
   },
   "outputs": [
    {
     "data": {
      "image/png": "[encoded data removed]",
      "text/plain": [
       "<Figure size 1728x360 with 1 Axes>"
      ]
     },
     "metadata": {
      "needs_background": "light"
     },
     "output_type": "display_data"
    },
    {
     "data": {
      "image/png": "[encoded data removed]",
      "text/plain": [
       "<Figure size 1728x360 with 1 Axes>"
      ]
     },
     "metadata": {
      "needs_background": "light"
     },
     "output_type": "display_data"
    }
   ],
   "source": [
    "plotHist(lengths)\n",
    "plotHist(lines)"
   ]
  },
  {
   "cell_type": "code",
   "execution_count": 21,
   "metadata": {},
   "outputs": [],
   "source": [
    "all_names = set()\n",
    "ambigNames = set(['short', 'ball', 'head', 'little', 'chase', 'cutting', 'cross'])\n",
    "for profile in players.values():\n",
    "    name = profile['known_as'].split(' ')\n",
    "    ambig = any(n.lower() in ambigNames for n in name)\n",
    "    if not ambig:\n",
    "        all_names.update(name)\n",
    "        all_names.update([n.lower() for n in name])"
   ]
  },
  {
   "cell_type": "code",
   "execution_count": 22,
   "metadata": {},
   "outputs": [],
   "source": [
    "rows = []\n",
    "bowlerPattern = \"(?P<bowler>[\\w \\-'?]+) to (?P<batsman>[\\w \\-']+),(?P<text_outcome>[^,]*),(?P<desc>.*)$\"\n",
    "def getRow(b):\n",
    "    row = dict()\n",
    "    match = re.match(bowlerPattern, b['desc'])\n",
    "    row['desc_'] = match.group('desc')\n",
    "    row['outcome_'] = b['outcome']\n",
    "    row['hand_'] = players[b['batsman_id']]['batting_hand'] if b['batsman_id'] else \"\"\n",
    "    row['line_'] = b['pitch']['line']\n",
    "    row['length_'] = b['pitch']['length']\n",
    "    return row\n",
    "\n",
    "rows = []\n",
    "for i, m in data.items():\n",
    "    rows += [getRow(b) for b in i1b(m) if b['pitch']]\n",
    "    rows += [getRow(b) for b in i2b(m) if b['pitch']]\n",
    "            \n",
    "df = pd.DataFrame(rows)\n",
    "le = LabelEncoder()\n",
    "df[['hand_', 'outcome_']] = df[['hand_', 'outcome_']].apply(le.fit_transform)\n",
    "save_data(df, \"dale_df\")"
   ]
  },
  {
   "cell_type": "code",
   "execution_count": 23,
   "metadata": {},
   "outputs": [
    {
     "data": {
      "text/html": [
       "<div>\n",
       "<style scoped>\n",
       "    .dataframe tbody tr th:only-of-type {\n",
       "        vertical-align: middle;\n",
       "    }\n",
       "\n",
       "    .dataframe tbody tr th {\n",
       "        vertical-align: top;\n",
       "    }\n",
       "\n",
       "    .dataframe thead th {\n",
       "        text-align: right;\n",
       "    }\n",
       "</style>\n",
       "<table border=\"1\" class=\"dataframe\">\n",
       "  <thead>\n",
       "    <tr style=\"text-align: right;\">\n",
       "      <th></th>\n",
       "      <th>frequency</th>\n",
       "    </tr>\n",
       "  </thead>\n",
       "  <tbody>\n",
       "    <tr>\n",
       "      <th>back of length</th>\n",
       "      <td>171</td>\n",
       "    </tr>\n",
       "    <tr>\n",
       "      <th>the leg side</th>\n",
       "      <td>138</td>\n",
       "    </tr>\n",
       "    <tr>\n",
       "      <th>short of length</th>\n",
       "      <td>133</td>\n",
       "    </tr>\n",
       "    <tr>\n",
       "      <th>to third man</th>\n",
       "      <td>108</td>\n",
       "    </tr>\n",
       "    <tr>\n",
       "      <th>length outside off</th>\n",
       "      <td>107</td>\n",
       "    </tr>\n",
       "    <tr>\n",
       "      <th>outside off stump</th>\n",
       "      <td>102</td>\n",
       "    </tr>\n",
       "    <tr>\n",
       "      <th>on off stump</th>\n",
       "      <td>98</td>\n",
       "    </tr>\n",
       "    <tr>\n",
       "      <th>the off side</th>\n",
       "      <td>88</td>\n",
       "    </tr>\n",
       "    <tr>\n",
       "      <th>the back foot</th>\n",
       "      <td>88</td>\n",
       "    </tr>\n",
       "    <tr>\n",
       "      <th>outside off and</th>\n",
       "      <td>85</td>\n",
       "    </tr>\n",
       "  </tbody>\n",
       "</table>\n",
       "</div>"
      ],
      "text/plain": [
       "                    frequency\n",
       "back of length      171      \n",
       "the leg side        138      \n",
       "short of length     133      \n",
       "to third man        108      \n",
       "length outside off  107      \n",
       "outside off stump   102      \n",
       "on off stump        98       \n",
       "the off side        88       \n",
       "the back foot       88       \n",
       "outside off and     85       "
      ]
     },
     "execution_count": 23,
     "metadata": {},
     "output_type": "execute_result"
    }
   ],
   "source": [
    "word_vectorizer = CountVectorizer(ngram_range=(3,7), analyzer='word')\n",
    "sparse_matrix = word_vectorizer.fit_transform(df['desc_'])\n",
    "frequencies = sum(sparse_matrix).toarray()[0]\n",
    "col = pd.DataFrame(frequencies, index=word_vectorizer.get_feature_names(), columns=['frequency'])\n",
    "col.sort_values('frequency', ascending=False).head(10)"
   ]
  },
  {
   "cell_type": "code",
   "execution_count": 24,
   "metadata": {},
   "outputs": [
    {
     "data": {
      "text/plain": [
       "<matplotlib.axes._subplots.AxesSubplot at 0x132c04320>"
      ]
     },
     "execution_count": 24,
     "metadata": {},
     "output_type": "execute_result"
    },
    {
     "data": {
      "image/png": "[encoded data removed]",
      "text/plain": [
       "<Figure size 432x288 with 1 Axes>"
      ]
     },
     "metadata": {
      "needs_background": "light"
     },
     "output_type": "display_data"
    }
   ],
   "source": [
    "# tokenize the document\n",
    "df['tokens'] = df['desc_'].apply(text_to_word_sequence)\n",
    "lens = df['tokens'].apply(len)\n",
    "lens.hist(bins=[x for x in range(200)])"
   ]
  },
  {
   "cell_type": "code",
   "execution_count": 25,
   "metadata": {},
   "outputs": [],
   "source": [
    "from nltk.corpus import stopwords as st\n",
    "exceptions = ['a', 'off', 'against', 'between', 'into', 'through', 'above', 'below', 'up', 'down', 'out', 'in', 'over', 'further', 'of', 'on']\n",
    "stopwords = set(st.words('english'))\n",
    "for w in exceptions:\n",
    "    stopwords.remove(w) "
   ]
  },
  {
   "cell_type": "code",
   "execution_count": 26,
   "metadata": {},
   "outputs": [],
   "source": [
    "#Remove Stopwords\n",
    "df['tokens_sw'] = df['tokens'].apply(lambda d: [w for w in d if w not in stopwords])"
   ]
  },
  {
   "cell_type": "code",
   "execution_count": 27,
   "metadata": {},
   "outputs": [],
   "source": [
    "def deleteLowCount(t, threshold=10):\n",
    "    lcw = [w for w,c in t.word_counts.items() \n",
    "           if c < threshold \n",
    "           or w in all_names \n",
    "           or any(i.isdigit() for i in w)\n",
    "          ]\n",
    "    print(f\"{len(lcw)} low counted, {len(t.word_counts) - len(lcw)} left\")\n",
    "    for w in lcw:\n",
    "        del t.word_index[w]\n",
    "        del t.word_docs[w]\n",
    "        del t.word_counts[w]\n",
    "    return t"
   ]
  },
  {
   "cell_type": "code",
   "execution_count": 28,
   "metadata": {},
   "outputs": [],
   "source": [
    "w_tokenizer = nltk.tokenize.WhitespaceTokenizer()\n",
    "lemmatizer = nltk.stem.WordNetLemmatizer()\n",
    "\n",
    "def lemmatize_text(text):\n",
    "    lemmas = []\n",
    "    for w, tag in nltk.pos_tag(text):\n",
    "        wntag = tag[0].lower()\n",
    "        wntag = wntag if wntag in ['a', 'r', 'n', 'v'] else None\n",
    "        lemmas.append(lemmatizer.lemmatize(w, wntag) if wntag else w)\n",
    "    return lemmas\n",
    "\n",
    "df['lemmatized'] = df['tokens_sw'].apply(lemmatize_text)"
   ]
  },
  {
   "cell_type": "code",
   "execution_count": 30,
   "metadata": {},
   "outputs": [
    {
     "name": "stdout",
     "output_type": "stream",
     "text": [
      "3706 low counted, 829 left\n"
     ]
    }
   ],
   "source": [
    "from keras.preprocessing.text import Tokenizer\n",
    "t = Tokenizer()\n",
    "t.fit_on_texts(df['lemmatized'])\n",
    "t = deleteLowCount(t, 5)\n",
    "rT = dict(map(reversed, t.word_index.items()))\n",
    "df['sequence'] = t.texts_to_sequences(df['lemmatized'])\n",
    "\n",
    "filtered = df['sequence'].apply(lambda x: [rT[num] for num in x])\n",
    "t = Tokenizer()\n",
    "t.fit_on_texts(filtered)\n",
    "df['sequence'] = t.texts_to_sequences(filtered)\n",
    "rT = dict(map(reversed, t.word_index.items()))\n",
    "numDistinctWords = len(t.word_index) + 1"
   ]
  },
  {
   "cell_type": "code",
   "execution_count": 31,
   "metadata": {},
   "outputs": [
    {
     "data": {
      "text/html": [
       "<div>\n",
       "<style scoped>\n",
       "    .dataframe tbody tr th:only-of-type {\n",
       "        vertical-align: middle;\n",
       "    }\n",
       "\n",
       "    .dataframe tbody tr th {\n",
       "        vertical-align: top;\n",
       "    }\n",
       "\n",
       "    .dataframe thead th {\n",
       "        text-align: right;\n",
       "    }\n",
       "</style>\n",
       "<table border=\"1\" class=\"dataframe\">\n",
       "  <thead>\n",
       "    <tr style=\"text-align: right;\">\n",
       "      <th></th>\n",
       "      <th>desc_</th>\n",
       "      <th>hand_</th>\n",
       "      <th>length_</th>\n",
       "      <th>line_</th>\n",
       "      <th>outcome_</th>\n",
       "      <th>tokens</th>\n",
       "      <th>tokens_sw</th>\n",
       "      <th>lemmatized</th>\n",
       "      <th>sequence</th>\n",
       "    </tr>\n",
       "  </thead>\n",
       "  <tbody>\n",
       "    <tr>\n",
       "      <th>0</th>\n",
       "      <td>Steyn to Jaques, full and on the legs, swinging in, Jaques lets it go past, no runs, fielded by Boucher</td>\n",
       "      <td>1</td>\n",
       "      <td>2</td>\n",
       "      <td>2</td>\n",
       "      <td>0</td>\n",
       "      <td>[steyn, to, jaques, full, and, on, the, legs, swinging, in, jaques, lets, it, go, past, no, runs, fielded, by, boucher]</td>\n",
       "      <td>[steyn, jaques, full, on, legs, swinging, in, jaques, lets, go, past, runs, fielded, boucher]</td>\n",
       "      <td>[steyn, jaques, full, on, leg, swing, in, jaques, let, go, past, run, field, boucher]</td>\n",
       "      <td>[15, 3, 10, 56, 5, 125, 21, 69, 30, 90]</td>\n",
       "    </tr>\n",
       "    <tr>\n",
       "      <th>1</th>\n",
       "      <td>Steyn to Jaques, good length but down leg, Jaques drives, no runs, fielded by Botha</td>\n",
       "      <td>1</td>\n",
       "      <td>3</td>\n",
       "      <td>3</td>\n",
       "      <td>0</td>\n",
       "      <td>[steyn, to, jaques, good, length, but, down, leg, jaques, drives, no, runs, fielded, by, botha]</td>\n",
       "      <td>[steyn, jaques, good, length, down, leg, jaques, drives, runs, fielded, botha]</td>\n",
       "      <td>[steyn, jaques, good, length, down, leg, jaques, drive, run, field, botha]</td>\n",
       "      <td>[17, 6, 18, 10, 24, 30, 90]</td>\n",
       "    </tr>\n",
       "    <tr>\n",
       "      <th>2</th>\n",
       "      <td>Steyn to Jaques, short of a length outside the off stump, Jaques plays no shot, no runs, fielded by Boucher</td>\n",
       "      <td>1</td>\n",
       "      <td>4</td>\n",
       "      <td>1</td>\n",
       "      <td>0</td>\n",
       "      <td>[steyn, to, jaques, short, of, a, length, outside, the, off, stump, jaques, plays, no, shot, no, runs, fielded, by, boucher]</td>\n",
       "      <td>[steyn, jaques, short, of, a, length, outside, off, stump, jaques, plays, shot, runs, fielded, boucher]</td>\n",
       "      <td>[steyn, jaques, short, of, a, length, outside, off, stump, jaques, play, shoot, run, field, boucher]</td>\n",
       "      <td>[13, 4, 1, 6, 8, 2, 11, 41, 432, 30, 90]</td>\n",
       "    </tr>\n",
       "    <tr>\n",
       "      <th>3</th>\n",
       "      <td>(no ball) Steyn to Jaques, good length delivery just outside the off stump, Jaques lets it go past, no runs, fielded by Boucher</td>\n",
       "      <td>1</td>\n",
       "      <td>3</td>\n",
       "      <td>1</td>\n",
       "      <td>4</td>\n",
       "      <td>[no, ball, steyn, to, jaques, good, length, delivery, just, outside, the, off, stump, jaques, lets, it, go, past, no, runs, fielded, by, boucher]</td>\n",
       "      <td>[ball, steyn, jaques, good, length, delivery, outside, off, stump, jaques, lets, go, past, runs, fielded, boucher]</td>\n",
       "      <td>[ball, steyn, jaques, good, length, delivery, outside, off, stump, jaques, let, go, past, run, field, boucher]</td>\n",
       "      <td>[7, 17, 6, 37, 8, 2, 11, 125, 21, 69, 30, 90]</td>\n",
       "    </tr>\n",
       "    <tr>\n",
       "      <th>4</th>\n",
       "      <td>Steyn to Jaques, fuller length outside the off stump , Jaques drives in air over cover fielder, 4 runs</td>\n",
       "      <td>1</td>\n",
       "      <td>2</td>\n",
       "      <td>1</td>\n",
       "      <td>12</td>\n",
       "      <td>[steyn, to, jaques, fuller, length, outside, the, off, stump, jaques, drives, in, air, over, cover, fielder, 4, runs]</td>\n",
       "      <td>[steyn, jaques, fuller, length, outside, off, stump, jaques, drives, in, air, over, cover, fielder, 4, runs]</td>\n",
       "      <td>[steyn, jaques, fuller, length, outside, off, stump, jaques, drive, in, air, over, cover, fielder, 4, run]</td>\n",
       "      <td>[81, 6, 8, 2, 11, 24, 5, 166, 23, 16, 106, 30]</td>\n",
       "    </tr>\n",
       "  </tbody>\n",
       "</table>\n",
       "</div>"
      ],
      "text/plain": [
       "                                                                                                                              desc_  \\\n",
       "0   Steyn to Jaques, full and on the legs, swinging in, Jaques lets it go past, no runs, fielded by Boucher                           \n",
       "1   Steyn to Jaques, good length but down leg, Jaques drives, no runs, fielded by Botha                                               \n",
       "2   Steyn to Jaques, short of a length outside the off stump, Jaques plays no shot, no runs, fielded by Boucher                       \n",
       "3   (no ball) Steyn to Jaques, good length delivery just outside the off stump, Jaques lets it go past, no runs, fielded by Boucher   \n",
       "4   Steyn to Jaques, fuller length outside the off stump , Jaques drives in air over cover fielder, 4 runs                            \n",
       "\n",
       "   hand_  length_  line_  outcome_  \\\n",
       "0  1      2        2      0          \n",
       "1  1      3        3      0          \n",
       "2  1      4        1      0          \n",
       "3  1      3        1      4          \n",
       "4  1      2        1      12         \n",
       "\n",
       "                                                                                                                                              tokens  \\\n",
       "0  [steyn, to, jaques, full, and, on, the, legs, swinging, in, jaques, lets, it, go, past, no, runs, fielded, by, boucher]                             \n",
       "1  [steyn, to, jaques, good, length, but, down, leg, jaques, drives, no, runs, fielded, by, botha]                                                     \n",
       "2  [steyn, to, jaques, short, of, a, length, outside, the, off, stump, jaques, plays, no, shot, no, runs, fielded, by, boucher]                        \n",
       "3  [no, ball, steyn, to, jaques, good, length, delivery, just, outside, the, off, stump, jaques, lets, it, go, past, no, runs, fielded, by, boucher]   \n",
       "4  [steyn, to, jaques, fuller, length, outside, the, off, stump, jaques, drives, in, air, over, cover, fielder, 4, runs]                               \n",
       "\n",
       "                                                                                                            tokens_sw  \\\n",
       "0  [steyn, jaques, full, on, legs, swinging, in, jaques, lets, go, past, runs, fielded, boucher]                        \n",
       "1  [steyn, jaques, good, length, down, leg, jaques, drives, runs, fielded, botha]                                       \n",
       "2  [steyn, jaques, short, of, a, length, outside, off, stump, jaques, plays, shot, runs, fielded, boucher]              \n",
       "3  [ball, steyn, jaques, good, length, delivery, outside, off, stump, jaques, lets, go, past, runs, fielded, boucher]   \n",
       "4  [steyn, jaques, fuller, length, outside, off, stump, jaques, drives, in, air, over, cover, fielder, 4, runs]         \n",
       "\n",
       "                                                                                                       lemmatized  \\\n",
       "0  [steyn, jaques, full, on, leg, swing, in, jaques, let, go, past, run, field, boucher]                            \n",
       "1  [steyn, jaques, good, length, down, leg, jaques, drive, run, field, botha]                                       \n",
       "2  [steyn, jaques, short, of, a, length, outside, off, stump, jaques, play, shoot, run, field, boucher]             \n",
       "3  [ball, steyn, jaques, good, length, delivery, outside, off, stump, jaques, let, go, past, run, field, boucher]   \n",
       "4  [steyn, jaques, fuller, length, outside, off, stump, jaques, drive, in, air, over, cover, fielder, 4, run]       \n",
       "\n",
       "                                         sequence  \n",
       "0  [15, 3, 10, 56, 5, 125, 21, 69, 30, 90]         \n",
       "1  [17, 6, 18, 10, 24, 30, 90]                     \n",
       "2  [13, 4, 1, 6, 8, 2, 11, 41, 432, 30, 90]        \n",
       "3  [7, 17, 6, 37, 8, 2, 11, 125, 21, 69, 30, 90]   \n",
       "4  [81, 6, 8, 2, 11, 24, 5, 166, 23, 16, 106, 30]  "
      ]
     },
     "execution_count": 31,
     "metadata": {},
     "output_type": "execute_result"
    }
   ],
   "source": [
    "df.head()"
   ]
  },
  {
   "cell_type": "code",
   "execution_count": 32,
   "metadata": {},
   "outputs": [
    {
     "name": "stdout",
     "output_type": "stream",
     "text": [
      "40  - 98.39%\n",
      "39  - 98.28%\n",
      "38  - 98.09%\n",
      "37  - 97.97%\n",
      "36  - 97.86%\n",
      "35  - 97.63%\n",
      "34  - 97.47%\n",
      "33  - 97.24%\n",
      "32  - 96.82%\n",
      "31  - 96.55%\n",
      "30  - 96.36%\n",
      "29  - 95.98%\n",
      "28  - 95.44%\n",
      "27  - 94.94%\n",
      "26  - 94.64%\n",
      "25  - 93.76%\n",
      "24  - 93.30%\n",
      "23  - 92.49%\n",
      "22  - 91.27%\n",
      "21  - 89.74%\n"
     ]
    }
   ],
   "source": [
    "count = defaultdict(int)\n",
    "threshold = 100\n",
    "for x in df['sequence']:\n",
    "    for i in range(len(x), threshold+1):\n",
    "        count[i] += 1\n",
    "        \n",
    "total = len(df['sequence'])\n",
    "for num, c in sorted(list(count.items()), key=lambda x:x[1], reverse=True)[60:80]:\n",
    "    print(f\"{num:<3} - {(c*100/total):>3.2f}%\")"
   ]
  },
  {
   "cell_type": "code",
   "execution_count": 33,
   "metadata": {},
   "outputs": [
    {
     "data": {
      "text/plain": [
       "Index(['desc_', 'hand_', 'length_', 'line_', 'outcome_', 'tokens', 'tokens_sw',\n",
       "       'lemmatized', 'sequence'],\n",
       "      dtype='object')"
      ]
     },
     "execution_count": 33,
     "metadata": {},
     "output_type": "execute_result"
    }
   ],
   "source": [
    "df.columns"
   ]
  },
  {
   "cell_type": "markdown",
   "metadata": {},
   "source": [
    "# Model training"
   ]
  },
  {
   "cell_type": "code",
   "execution_count": 51,
   "metadata": {},
   "outputs": [],
   "source": [
    "def getModel(evl=15, cells=15):\n",
    "    model = Sequential()\n",
    "    model.add(Embedding(numDistinctWords, evl, input_length=max_comm_length))\n",
    "    model.add(LSTM(cells, dropout=0.1))\n",
    "    model.add(Dense(6, activation='softmax'))\n",
    "    model.compile(loss='sparse_categorical_crossentropy', optimizer='adam', metrics=['accuracy'])\n",
    "    return model\n",
    "\n",
    "def train_and_evaluate(model, X_train, X_test, y_train, y_test, epochs, batch_size, evl, cells):\n",
    "    class_weights = class_weight.compute_class_weight('balanced', np.unique(y_train), np.ravel(y_train))\n",
    "    class_weights = dict(enumerate(class_weights))\n",
    "    callbacks = [EarlyStopping(monitor='val_loss', patience=5),\n",
    "                 ModelCheckpoint('models/length_model.h5', save_best_only=True, \n",
    "                                 save_weights_only=False)]\n",
    "    model.fit(X_train, y_train, validation_data=(X_test, y_test), \n",
    "              callbacks=callbacks, epochs=epochs, batch_size=batch_size)\n",
    "    return model.evaluate(X_test, y_test, verbose=0)"
   ]
  },
  {
   "cell_type": "code",
   "execution_count": 52,
   "metadata": {},
   "outputs": [],
   "source": [
    "X_cols = ['sequence']\n",
    "y_cols = ['length_']\n",
    "n_folds = 5\n",
    "\n",
    "X, X_test, y, y_test = train_test_split(df[X_cols], df[y_cols], stratify = df[y_cols], test_size=0.1, random_state=seed)\n",
    "skf = StratifiedKFold(n_splits=5, shuffle=True, random_state=seed)\n",
    "\n",
    "max_comm_length = 25\n",
    "X = sequence.pad_sequences(X['sequence'], maxlen=max_comm_length, truncating='post', padding='post')\n",
    "X_test = sequence.pad_sequences(X_test['sequence'], maxlen=max_comm_length, truncating='post', padding='post')\n",
    "# X = np.append(X_seq, X['outcome'].values.reshape(-1,1), axis=1)\n",
    "# X_test = np.append(X_test, X_test['outcome'].values.reshape(-1,1), axis=1)\n",
    "\n",
    "y = y.values"
   ]
  },
  {
   "cell_type": "code",
   "execution_count": 53,
   "metadata": {},
   "outputs": [
    {
     "name": "stdout",
     "output_type": "stream",
     "text": [
      "Running fold 1 / 5\n",
      "Train on 1878 samples, validate on 471 samples\n",
      "Epoch 1/12\n",
      "1878/1878 [==============================] - 6s 3ms/step - loss: 1.3166 - accuracy: 0.4702 - val_loss: 1.0413 - val_accuracy: 0.6200\n",
      "Epoch 2/12\n",
      "1878/1878 [==============================] - 5s 3ms/step - loss: 0.9644 - accuracy: 0.6379 - val_loss: 0.8662 - val_accuracy: 0.6539\n",
      "Epoch 3/12\n",
      "1878/1878 [==============================] - 5s 3ms/step - loss: 0.8083 - accuracy: 0.6917 - val_loss: 0.8234 - val_accuracy: 0.6879\n",
      "Epoch 4/12\n",
      "1878/1878 [==============================] - 5s 3ms/step - loss: 0.7252 - accuracy: 0.7252 - val_loss: 0.8038 - val_accuracy: 0.6900\n",
      "Epoch 5/12\n",
      "1878/1878 [==============================] - 5s 3ms/step - loss: 0.6778 - accuracy: 0.7417 - val_loss: 0.7973 - val_accuracy: 0.6879\n",
      "Epoch 6/12\n",
      "1878/1878 [==============================] - 5s 3ms/step - loss: 0.6169 - accuracy: 0.7657 - val_loss: 0.7377 - val_accuracy: 0.7431\n",
      "Epoch 7/12\n",
      "1878/1878 [==============================] - 5s 3ms/step - loss: 0.5320 - accuracy: 0.8227 - val_loss: 0.6889 - val_accuracy: 0.7834\n",
      "Epoch 8/12\n",
      "1878/1878 [==============================] - 5s 3ms/step - loss: 0.4895 - accuracy: 0.8445 - val_loss: 0.6906 - val_accuracy: 0.7601\n",
      "Epoch 9/12\n",
      "1878/1878 [==============================] - 5s 3ms/step - loss: 0.4540 - accuracy: 0.8562 - val_loss: 0.7176 - val_accuracy: 0.7495\n",
      "Epoch 10/12\n",
      "1878/1878 [==============================] - 5s 3ms/step - loss: 0.4449 - accuracy: 0.8578 - val_loss: 0.6678 - val_accuracy: 0.7792\n",
      "Epoch 11/12\n",
      "1878/1878 [==============================] - 5s 3ms/step - loss: 0.4071 - accuracy: 0.8722 - val_loss: 0.8103 - val_accuracy: 0.7346\n",
      "Epoch 12/12\n",
      "1878/1878 [==============================] - 5s 3ms/step - loss: 0.3899 - accuracy: 0.8775 - val_loss: 0.7182 - val_accuracy: 0.7537\n",
      "Running fold 2 / 5\n",
      "Train on 1878 samples, validate on 471 samples\n",
      "Epoch 1/12\n",
      "1878/1878 [==============================] - 6s 3ms/step - loss: 1.3805 - accuracy: 0.3956 - val_loss: 1.1597 - val_accuracy: 0.4607\n",
      "Epoch 2/12\n",
      "1878/1878 [==============================] - 6s 3ms/step - loss: 1.0475 - accuracy: 0.5437 - val_loss: 0.9980 - val_accuracy: 0.5563\n",
      "Epoch 3/12\n",
      "1878/1878 [==============================] - 6s 3ms/step - loss: 0.9791 - accuracy: 0.5511 - val_loss: 0.9569 - val_accuracy: 0.5478\n",
      "Epoch 4/12\n",
      "1878/1878 [==============================] - 5s 3ms/step - loss: 0.9172 - accuracy: 0.5756 - val_loss: 0.9829 - val_accuracy: 0.5499\n",
      "Epoch 5/12\n",
      "1878/1878 [==============================] - 5s 3ms/step - loss: 0.8635 - accuracy: 0.6155 - val_loss: 0.9745 - val_accuracy: 0.5605\n",
      "Epoch 6/12\n",
      "1878/1878 [==============================] - 6s 3ms/step - loss: 0.8064 - accuracy: 0.6550 - val_loss: 0.9561 - val_accuracy: 0.5839\n",
      "Epoch 7/12\n",
      "1878/1878 [==============================] - 5s 3ms/step - loss: 0.7448 - accuracy: 0.7002 - val_loss: 0.9908 - val_accuracy: 0.5987\n",
      "Epoch 8/12\n",
      "1878/1878 [==============================] - 5s 3ms/step - loss: 0.6745 - accuracy: 0.7439 - val_loss: 0.9618 - val_accuracy: 0.5987\n",
      "Epoch 9/12\n",
      "1878/1878 [==============================] - 5s 3ms/step - loss: 0.6277 - accuracy: 0.7673 - val_loss: 0.9562 - val_accuracy: 0.6433\n",
      "Epoch 10/12\n",
      "1878/1878 [==============================] - 5s 3ms/step - loss: 0.5822 - accuracy: 0.7796 - val_loss: 0.9906 - val_accuracy: 0.6327\n",
      "Epoch 11/12\n",
      "1878/1878 [==============================] - 6s 3ms/step - loss: 0.5696 - accuracy: 0.7865 - val_loss: 0.9739 - val_accuracy: 0.6348\n",
      "Running fold 3 / 5\n",
      "Train on 1879 samples, validate on 470 samples\n",
      "Epoch 1/12\n",
      "1879/1879 [==============================] - 7s 4ms/step - loss: 1.3930 - accuracy: 0.4215 - val_loss: 1.1583 - val_accuracy: 0.5383\n",
      "Epoch 2/12\n",
      "1879/1879 [==============================] - 5s 3ms/step - loss: 1.0107 - accuracy: 0.5652 - val_loss: 0.9777 - val_accuracy: 0.5979\n",
      "Epoch 3/12\n",
      "1879/1879 [==============================] - 5s 3ms/step - loss: 0.8343 - accuracy: 0.6738 - val_loss: 0.8978 - val_accuracy: 0.6574\n",
      "Epoch 4/12\n",
      "1879/1879 [==============================] - 5s 3ms/step - loss: 0.7487 - accuracy: 0.7110 - val_loss: 0.8630 - val_accuracy: 0.6851\n",
      "Epoch 5/12\n",
      "1879/1879 [==============================] - 5s 3ms/step - loss: 0.6879 - accuracy: 0.7424 - val_loss: 0.8749 - val_accuracy: 0.6681\n",
      "Epoch 6/12\n",
      "1879/1879 [==============================] - 7s 4ms/step - loss: 0.6116 - accuracy: 0.7855 - val_loss: 0.9938 - val_accuracy: 0.6553\n",
      "Epoch 7/12\n",
      "1879/1879 [==============================] - 8s 4ms/step - loss: 0.5549 - accuracy: 0.8308 - val_loss: 0.8613 - val_accuracy: 0.7213\n",
      "Epoch 8/12\n",
      "1879/1879 [==============================] - 7s 4ms/step - loss: 0.5181 - accuracy: 0.8473 - val_loss: 0.8743 - val_accuracy: 0.7128\n",
      "Epoch 9/12\n",
      "1879/1879 [==============================] - 7s 3ms/step - loss: 0.4791 - accuracy: 0.8600 - val_loss: 0.8582 - val_accuracy: 0.7298\n",
      "Epoch 10/12\n",
      "1879/1879 [==============================] - 7s 3ms/step - loss: 0.4489 - accuracy: 0.8654 - val_loss: 0.8309 - val_accuracy: 0.7383\n",
      "Epoch 11/12\n",
      "1879/1879 [==============================] - 8s 4ms/step - loss: 0.4140 - accuracy: 0.8760 - val_loss: 0.8919 - val_accuracy: 0.7298\n",
      "Epoch 12/12\n",
      "1879/1879 [==============================] - 7s 4ms/step - loss: 0.4013 - accuracy: 0.8776 - val_loss: 0.9229 - val_accuracy: 0.7234\n",
      "Running fold 4 / 5\n",
      "Train on 1880 samples, validate on 469 samples\n",
      "Epoch 1/12\n",
      "1880/1880 [==============================] - 7s 4ms/step - loss: 1.4199 - accuracy: 0.4176 - val_loss: 1.2007 - val_accuracy: 0.5288\n",
      "Epoch 2/12\n",
      "1880/1880 [==============================] - 6s 3ms/step - loss: 0.9575 - accuracy: 0.6282 - val_loss: 0.9470 - val_accuracy: 0.6205\n",
      "Epoch 3/12\n",
      "1880/1880 [==============================] - 6s 3ms/step - loss: 0.7977 - accuracy: 0.6989 - val_loss: 0.8634 - val_accuracy: 0.6844\n",
      "Epoch 4/12\n",
      "1880/1880 [==============================] - 8s 4ms/step - loss: 0.7175 - accuracy: 0.7346 - val_loss: 0.8448 - val_accuracy: 0.6972\n",
      "Epoch 5/12\n",
      "1880/1880 [==============================] - 6s 3ms/step - loss: 0.6583 - accuracy: 0.7617 - val_loss: 0.8607 - val_accuracy: 0.6887\n",
      "Epoch 6/12\n",
      "1880/1880 [==============================] - 6s 3ms/step - loss: 0.6223 - accuracy: 0.7681 - val_loss: 0.9392 - val_accuracy: 0.6567\n",
      "Epoch 7/12\n",
      "1880/1880 [==============================] - 6s 3ms/step - loss: 0.5747 - accuracy: 0.7883 - val_loss: 0.8136 - val_accuracy: 0.6994\n",
      "Epoch 8/12\n",
      "1880/1880 [==============================] - 5s 3ms/step - loss: 0.5115 - accuracy: 0.8324 - val_loss: 0.8684 - val_accuracy: 0.7441\n",
      "Epoch 9/12\n",
      "1880/1880 [==============================] - 5s 3ms/step - loss: 0.4710 - accuracy: 0.8537 - val_loss: 0.8432 - val_accuracy: 0.7441\n",
      "Epoch 10/12\n",
      "1880/1880 [==============================] - 6s 3ms/step - loss: 0.4452 - accuracy: 0.8596 - val_loss: 0.8339 - val_accuracy: 0.7463\n",
      "Epoch 11/12\n",
      "1880/1880 [==============================] - 7s 3ms/step - loss: 0.4186 - accuracy: 0.8691 - val_loss: 0.9147 - val_accuracy: 0.7356\n",
      "Epoch 12/12\n",
      "1880/1880 [==============================] - 6s 3ms/step - loss: 0.4169 - accuracy: 0.8718 - val_loss: 0.8676 - val_accuracy: 0.7228\n",
      "Running fold 5 / 5\n",
      "Train on 1881 samples, validate on 468 samples\n",
      "Epoch 1/12\n",
      "1881/1881 [==============================] - 6s 3ms/step - loss: 1.3583 - accuracy: 0.4530 - val_loss: 1.0760 - val_accuracy: 0.5897\n",
      "Epoch 2/12\n",
      "1881/1881 [==============================] - 5s 3ms/step - loss: 0.9601 - accuracy: 0.6209 - val_loss: 0.8884 - val_accuracy: 0.6581\n",
      "Epoch 3/12\n",
      "1881/1881 [==============================] - 5s 3ms/step - loss: 0.7888 - accuracy: 0.6858 - val_loss: 0.8357 - val_accuracy: 0.6688\n",
      "Epoch 4/12\n",
      "1881/1881 [==============================] - 7s 3ms/step - loss: 0.6913 - accuracy: 0.7294 - val_loss: 0.7959 - val_accuracy: 0.6944\n",
      "Epoch 5/12\n",
      "1881/1881 [==============================] - 10s 5ms/step - loss: 0.5957 - accuracy: 0.8097 - val_loss: 0.7776 - val_accuracy: 0.7585\n",
      "Epoch 6/12\n",
      "1881/1881 [==============================] - 8s 4ms/step - loss: 0.5252 - accuracy: 0.8357 - val_loss: 0.7303 - val_accuracy: 0.7756\n",
      "Epoch 7/12\n",
      "1881/1881 [==============================] - 7s 4ms/step - loss: 0.4844 - accuracy: 0.8389 - val_loss: 0.7828 - val_accuracy: 0.7650\n",
      "Epoch 8/12\n",
      "1881/1881 [==============================] - 6s 3ms/step - loss: 0.4472 - accuracy: 0.8586 - val_loss: 0.7760 - val_accuracy: 0.7564\n",
      "Epoch 9/12\n",
      "1881/1881 [==============================] - 5s 3ms/step - loss: 0.4255 - accuracy: 0.8682 - val_loss: 0.7807 - val_accuracy: 0.7479\n",
      "Epoch 10/12\n",
      "1881/1881 [==============================] - 5s 2ms/step - loss: 0.3851 - accuracy: 0.8799 - val_loss: 0.8355 - val_accuracy: 0.7308\n",
      "Epoch 11/12\n",
      "1881/1881 [==============================] - 6s 3ms/step - loss: 0.3568 - accuracy: 0.8910 - val_loss: 0.9145 - val_accuracy: 0.7436\n"
     ]
    }
   ],
   "source": [
    "scores = []\n",
    "epochs = 12\n",
    "batch_size = 4\n",
    "evl = 12\n",
    "cells = 10\n",
    "for i, (train_fold, test_fold) in enumerate(skf.split(X,y)):\n",
    "    print(f\"Running fold {i+1} / {n_folds}\")\n",
    "    model = getModel()\n",
    "    train_x, test_x = X[train_fold], X[test_fold]\n",
    "    train_y, test_y = y[train_fold], y[test_fold]\n",
    "    s = train_and_evaluate(model, train_x, test_x, train_y, test_y, epochs, batch_size, evl, cells)\n",
    "    scores.append(s)"
   ]
  },
  {
   "cell_type": "code",
   "execution_count": 54,
   "metadata": {},
   "outputs": [
    {
     "name": "stdout",
     "output_type": "stream",
     "text": [
      "accuracy: 0.7156687021255493\n"
     ]
    }
   ],
   "source": [
    "print(f\"accuracy: {np.array([i[1] for i in scores]).mean()}\")"
   ]
  },
  {
   "cell_type": "code",
   "execution_count": 50,
   "metadata": {},
   "outputs": [
    {
     "name": "stdout",
     "output_type": "stream",
     "text": [
      "Epoch 1/12\n",
      " 344/2349 [===>..........................] - ETA: 8s - loss: 1.6448 - accuracy: 0.3953"
     ]
    },
    {
     "ename": "KeyboardInterrupt",
     "evalue": "",
     "output_type": "error",
     "traceback": [
      "\u001b[0;31m---------------------------------------------------------------------------\u001b[0m",
      "\u001b[0;31mKeyboardInterrupt\u001b[0m                         Traceback (most recent call last)",
      "\u001b[0;32m<ipython-input-50-6056b3354d45>\u001b[0m in \u001b[0;36m<module>\u001b[0;34m\u001b[0m\n\u001b[1;32m      1\u001b[0m \u001b[0mmodel\u001b[0m \u001b[0;34m=\u001b[0m \u001b[0mgetModel\u001b[0m\u001b[0;34m(\u001b[0m\u001b[0;34m)\u001b[0m\u001b[0;34m\u001b[0m\u001b[0m\n\u001b[0;32m----> 2\u001b[0;31m \u001b[0mmodel\u001b[0m\u001b[0;34m.\u001b[0m\u001b[0mfit\u001b[0m\u001b[0;34m(\u001b[0m\u001b[0mX\u001b[0m\u001b[0;34m,\u001b[0m \u001b[0my\u001b[0m\u001b[0;34m,\u001b[0m \u001b[0mepochs\u001b[0m\u001b[0;34m=\u001b[0m\u001b[0mepochs\u001b[0m\u001b[0;34m,\u001b[0m \u001b[0mbatch_size\u001b[0m\u001b[0;34m=\u001b[0m\u001b[0mbatch_size\u001b[0m\u001b[0;34m)\u001b[0m\u001b[0;34m\u001b[0m\u001b[0m\n\u001b[0m\u001b[1;32m      3\u001b[0m \u001b[0mscores\u001b[0m \u001b[0;34m=\u001b[0m \u001b[0mmodel\u001b[0m\u001b[0;34m.\u001b[0m\u001b[0mevaluate\u001b[0m\u001b[0;34m(\u001b[0m\u001b[0mX_test\u001b[0m\u001b[0;34m,\u001b[0m \u001b[0my_test\u001b[0m\u001b[0;34m,\u001b[0m \u001b[0mverbose\u001b[0m\u001b[0;34m=\u001b[0m\u001b[0;36m0\u001b[0m\u001b[0;34m)\u001b[0m\u001b[0;34m\u001b[0m\u001b[0m\n\u001b[1;32m      4\u001b[0m \u001b[0mprint\u001b[0m\u001b[0;34m(\u001b[0m\u001b[0;34m\"Accuracy: %.2f%%\"\u001b[0m \u001b[0;34m%\u001b[0m \u001b[0;34m(\u001b[0m\u001b[0mscores\u001b[0m\u001b[0;34m[\u001b[0m\u001b[0;36m1\u001b[0m\u001b[0;34m]\u001b[0m\u001b[0;34m*\u001b[0m\u001b[0;36m100\u001b[0m\u001b[0;34m)\u001b[0m\u001b[0;34m)\u001b[0m\u001b[0;34m\u001b[0m\u001b[0m\n",
      "\u001b[0;32m/usr/local/lib/python3.7/site-packages/keras/engine/training.py\u001b[0m in \u001b[0;36mfit\u001b[0;34m(self, x, y, batch_size, epochs, verbose, callbacks, validation_split, validation_data, shuffle, class_weight, sample_weight, initial_epoch, steps_per_epoch, validation_steps, validation_freq, max_queue_size, workers, use_multiprocessing, **kwargs)\u001b[0m\n\u001b[1;32m   1237\u001b[0m                                         \u001b[0msteps_per_epoch\u001b[0m\u001b[0;34m=\u001b[0m\u001b[0msteps_per_epoch\u001b[0m\u001b[0;34m,\u001b[0m\u001b[0;34m\u001b[0m\u001b[0m\n\u001b[1;32m   1238\u001b[0m                                         \u001b[0mvalidation_steps\u001b[0m\u001b[0;34m=\u001b[0m\u001b[0mvalidation_steps\u001b[0m\u001b[0;34m,\u001b[0m\u001b[0;34m\u001b[0m\u001b[0m\n\u001b[0;32m-> 1239\u001b[0;31m                                         validation_freq=validation_freq)\n\u001b[0m\u001b[1;32m   1240\u001b[0m \u001b[0;34m\u001b[0m\u001b[0m\n\u001b[1;32m   1241\u001b[0m     def evaluate(self,\n",
      "\u001b[0;32m/usr/local/lib/python3.7/site-packages/keras/engine/training_arrays.py\u001b[0m in \u001b[0;36mfit_loop\u001b[0;34m(model, fit_function, fit_inputs, out_labels, batch_size, epochs, verbose, callbacks, val_function, val_inputs, shuffle, initial_epoch, steps_per_epoch, validation_steps, validation_freq)\u001b[0m\n\u001b[1;32m    194\u001b[0m                     \u001b[0mins_batch\u001b[0m\u001b[0;34m[\u001b[0m\u001b[0mi\u001b[0m\u001b[0;34m]\u001b[0m \u001b[0;34m=\u001b[0m \u001b[0mins_batch\u001b[0m\u001b[0;34m[\u001b[0m\u001b[0mi\u001b[0m\u001b[0;34m]\u001b[0m\u001b[0;34m.\u001b[0m\u001b[0mtoarray\u001b[0m\u001b[0;34m(\u001b[0m\u001b[0;34m)\u001b[0m\u001b[0;34m\u001b[0m\u001b[0m\n\u001b[1;32m    195\u001b[0m \u001b[0;34m\u001b[0m\u001b[0m\n\u001b[0;32m--> 196\u001b[0;31m                 \u001b[0mouts\u001b[0m \u001b[0;34m=\u001b[0m \u001b[0mfit_function\u001b[0m\u001b[0;34m(\u001b[0m\u001b[0mins_batch\u001b[0m\u001b[0;34m)\u001b[0m\u001b[0;34m\u001b[0m\u001b[0m\n\u001b[0m\u001b[1;32m    197\u001b[0m                 \u001b[0mouts\u001b[0m \u001b[0;34m=\u001b[0m \u001b[0mto_list\u001b[0m\u001b[0;34m(\u001b[0m\u001b[0mouts\u001b[0m\u001b[0;34m)\u001b[0m\u001b[0;34m\u001b[0m\u001b[0m\n\u001b[1;32m    198\u001b[0m                 \u001b[0;32mfor\u001b[0m \u001b[0ml\u001b[0m\u001b[0;34m,\u001b[0m \u001b[0mo\u001b[0m \u001b[0;32min\u001b[0m \u001b[0mzip\u001b[0m\u001b[0;34m(\u001b[0m\u001b[0mout_labels\u001b[0m\u001b[0;34m,\u001b[0m \u001b[0mouts\u001b[0m\u001b[0;34m)\u001b[0m\u001b[0;34m:\u001b[0m\u001b[0;34m\u001b[0m\u001b[0m\n",
      "\u001b[0;32m/usr/local/lib/python3.7/site-packages/tensorflow/python/keras/backend.py\u001b[0m in \u001b[0;36m__call__\u001b[0;34m(self, inputs)\u001b[0m\n\u001b[1;32m   3290\u001b[0m \u001b[0;34m\u001b[0m\u001b[0m\n\u001b[1;32m   3291\u001b[0m     fetched = self._callable_fn(*array_vals,\n\u001b[0;32m-> 3292\u001b[0;31m                                 run_metadata=self.run_metadata)\n\u001b[0m\u001b[1;32m   3293\u001b[0m     \u001b[0mself\u001b[0m\u001b[0;34m.\u001b[0m\u001b[0m_call_fetch_callbacks\u001b[0m\u001b[0;34m(\u001b[0m\u001b[0mfetched\u001b[0m\u001b[0;34m[\u001b[0m\u001b[0;34m-\u001b[0m\u001b[0mlen\u001b[0m\u001b[0;34m(\u001b[0m\u001b[0mself\u001b[0m\u001b[0;34m.\u001b[0m\u001b[0m_fetches\u001b[0m\u001b[0;34m)\u001b[0m\u001b[0;34m:\u001b[0m\u001b[0;34m]\u001b[0m\u001b[0;34m)\u001b[0m\u001b[0;34m\u001b[0m\u001b[0m\n\u001b[1;32m   3294\u001b[0m     output_structure = nest.pack_sequence_as(\n",
      "\u001b[0;32m/usr/local/lib/python3.7/site-packages/tensorflow/python/client/session.py\u001b[0m in \u001b[0;36m__call__\u001b[0;34m(self, *args, **kwargs)\u001b[0m\n\u001b[1;32m   1456\u001b[0m         ret = tf_session.TF_SessionRunCallable(self._session._session,\n\u001b[1;32m   1457\u001b[0m                                                \u001b[0mself\u001b[0m\u001b[0;34m.\u001b[0m\u001b[0m_handle\u001b[0m\u001b[0;34m,\u001b[0m \u001b[0margs\u001b[0m\u001b[0;34m,\u001b[0m\u001b[0;34m\u001b[0m\u001b[0m\n\u001b[0;32m-> 1458\u001b[0;31m                                                run_metadata_ptr)\n\u001b[0m\u001b[1;32m   1459\u001b[0m         \u001b[0;32mif\u001b[0m \u001b[0mrun_metadata\u001b[0m\u001b[0;34m:\u001b[0m\u001b[0;34m\u001b[0m\u001b[0m\n\u001b[1;32m   1460\u001b[0m           \u001b[0mproto_data\u001b[0m \u001b[0;34m=\u001b[0m \u001b[0mtf_session\u001b[0m\u001b[0;34m.\u001b[0m\u001b[0mTF_GetBuffer\u001b[0m\u001b[0;34m(\u001b[0m\u001b[0mrun_metadata_ptr\u001b[0m\u001b[0;34m)\u001b[0m\u001b[0;34m\u001b[0m\u001b[0m\n",
      "\u001b[0;31mKeyboardInterrupt\u001b[0m: "
     ]
    }
   ],
   "source": [
    "model = getModel()\n",
    "model.fit(X, y, epochs=epochs, batch_size=batch_size)\n",
    "scores = model.evaluate(X_test, y_test, verbose=0)\n",
    "print(\"Accuracy: %.2f%%\" % (scores[1]*100))"
   ]
  },
  {
   "cell_type": "code",
   "execution_count": null,
   "metadata": {},
   "outputs": [],
   "source": [
    "y_pred = model.predict(X_test)\n",
    "labels = np.unique(y_train)\n",
    "matrix = confusion_matrix(y_test.values, y_pred.argmax(axis=1), labels=labels)\n",
    "scores = model.evaluate(X_test, y_test, verbose=0)\n",
    "print(\"Accuracy: %.2f%%\" % (scores[1]*100))\n",
    "pd.DataFrame(matrix, index=labels, columns=labels)"
   ]
  },
  {
   "cell_type": "code",
   "execution_count": null,
   "metadata": {},
   "outputs": [],
   "source": [
    "np.set_printoptions(suppress=True, precision=3)\n",
    "lengths = {\n",
    "    0: 'full toss',\n",
    "    1: 'yorker',\n",
    "    2: 'full',\n",
    "    3: 'good length',\n",
    "    4: 'back of a length',\n",
    "    5: 'short'\n",
    "}\n",
    "y_proba = model.predict_proba(X_test)\n",
    "y_max = y_pred.argmax(axis=1)\n",
    "for i, probs in enumerate(y_proba):\n",
    "        \n",
    "    predictedMax = lengths[y_max[i]]\n",
    "    actualMax = lengths[y_test.values[i][0]]\n",
    "    commentary = printSequence(X_test[i])\n",
    "    if max(probs) < 0.5:\n",
    "        print(f\"{predictedMax:<20} {actualMax:<20} - {commentary}\")"
   ]
  },
  {
   "cell_type": "code",
   "execution_count": 849,
   "metadata": {},
   "outputs": [],
   "source": [
    "#20 min doc, 8 bs, 10 epoch, 10 vec length, 15 max_comms\n",
    "def printSequence(seq):\n",
    "    return \" \".join([rT[num] for num in seq if num in rT])\n",
    "    \n",
    "def testPhrase(phrase):\n",
    "    splitup = text_to_word_sequence(phrase)\n",
    "    arr = t.texts_to_sequences([splitup])\n",
    "    seq = sequence.pad_sequences(arr, maxlen=max_comm_length, truncating='post', padding='post')\n",
    "    model.predict(seq).argmax(axis=1)"
   ]
  },
  {
   "cell_type": "code",
   "execution_count": null,
   "metadata": {},
   "outputs": [],
   "source": []
  }
 ],
 "metadata": {
  "kernelspec": {
   "display_name": "Python 3",
   "language": "python",
   "name": "python3"
  },
  "language_info": {
   "codemirror_mode": {
    "name": "ipython",
    "version": 3
   },
   "file_extension": ".py",
   "mimetype": "text/x-python",
   "name": "python",
   "nbconvert_exporter": "python",
   "pygments_lexer": "ipython3",
   "version": "3.7.0"
  }
 },
 "nbformat": 4,
 "nbformat_minor": 4
}
