{
 "cells": [
  {
   "cell_type": "code",
   "execution_count": 162,
   "metadata": {},
   "outputs": [],
   "source": [
    "import matplotlib.pyplot as plt\n",
    "from matplotlib.ticker import FormatStrFormatter\n",
    "\n",
    "import pickle\n",
    "import json\n",
    "import string\n",
    "import re\n",
    "from collections import defaultdict\n",
    "\n",
    "from random import randint, shuffle\n",
    "from tqdm import tqdm\n",
    "\n",
    "import numpy as np\n",
    "import nltk\n",
    "import pandas as pd\n",
    "from nltk import ngrams\n",
    "\n",
    "from sklearn.feature_extraction.text import CountVectorizer, TfidfVectorizer\n",
    "from sklearn.model_selection import train_test_split, StratifiedKFold, GridSearchCV, RandomizedSearchCV\n",
    "from sklearn.preprocessing import LabelEncoder, StandardScaler\n",
    "from sklearn.utils import class_weight\n",
    "from sklearn.metrics import confusion_matrix, classification_report\n",
    "from sklearn.linear_model import LogisticRegression\n",
    "from sklearn.neural_network import MLPClassifier\n",
    "from sklearn.neighbors import KNeighborsClassifier\n",
    "from sklearn.svm import SVC\n",
    "from sklearn.gaussian_process import GaussianProcessClassifier\n",
    "from sklearn.gaussian_process.kernels import RBF\n",
    "from sklearn.tree import DecisionTreeClassifier\n",
    "from sklearn.ensemble import RandomForestClassifier, AdaBoostClassifier, VotingClassifier\n",
    "from sklearn.naive_bayes import GaussianNB\n",
    "from sklearn.discriminant_analysis import QuadraticDiscriminantAnalysis\n",
    "from sklearn.decomposition import PCA\n",
    "\n",
    "from keras.preprocessing.text import text_to_word_sequence, Tokenizer\n",
    "from keras.preprocessing import sequence\n",
    "from keras.models import Sequential, load_model, Model\n",
    "from keras.layers import Dense, LSTM, Dropout, Lambda\n",
    "from keras.layers.embeddings import Embedding\n",
    "from keras.callbacks import EarlyStopping, ModelCheckpoint\n",
    "from keras.wrappers.scikit_learn import KerasClassifier\n",
    "\n",
    "seed = 7\n",
    "np.random.seed(seed)\n",
    "pd.set_option('max_colwidth', -1)\n",
    "np.set_printoptions(suppress=True)"
   ]
  },
  {
   "cell_type": "code",
   "execution_count": 2,
   "metadata": {},
   "outputs": [],
   "source": [
    "length_class_to_label = {\n",
    "    0: 'full toss',\n",
    "    1: 'yorker',\n",
    "    2: 'full',\n",
    "    3: 'good length',\n",
    "    4: 'back of a length',\n",
    "    5: 'short',\n",
    "}\n",
    "\n",
    "line_class_to_label = {\n",
    "    0: 'wide outside off',\n",
    "    1: 'outside off',\n",
    "    2: 'straight',\n",
    "    3: 'down leg',\n",
    "    4: 'wide down leg',\n",
    "}"
   ]
  },
  {
   "cell_type": "code",
   "execution_count": 3,
   "metadata": {},
   "outputs": [
    {
     "name": "stdout",
     "output_type": "stream",
     "text": [
      "Loaded data!\n"
     ]
    }
   ],
   "source": [
    "def load_data(filename):\n",
    "    with open(f\"{filename}.json\", \"rb\") as f:\n",
    "        data = json.load(f)\n",
    "    print(\"Loaded data!\")\n",
    "    return data\n",
    "        \n",
    "def load_df(filename):\n",
    "    with open(f\"{filename}.pkl\", \"rb\") as f:\n",
    "        d = pickle.load(f)\n",
    "    return d\n",
    "        \n",
    "def save_data(data, filename):\n",
    "    with open(f\"{filename}.pkl\", \"wb\") as f:\n",
    "        pickle.dump(data, f)\n",
    "        \n",
    "def export_to_json(data):\n",
    "    with open('matches.json', 'w') as json_file:\n",
    "        json.dump(data, json_file)\n",
    "    \n",
    "i1b = lambda m : m['commentary']['innings1']['balls']\n",
    "i2b = lambda m : m['commentary']['innings2']['balls']\n",
    "i1o = lambda m : m['commentary']['innings1']['over_summaries']\n",
    "i2o = lambda m : m['commentary']['innings2']['over_summaries']\n",
    "df, players = load_df(\"dale_df\"), load_data('player_table')\n",
    "\n",
    "all_names = set()\n",
    "ambigNames = set(['short', 'ball', 'head', 'little', 'chase', 'cutting', 'cross'])\n",
    "for profile in players.values():\n",
    "    name = profile['known_as'].split(' ')\n",
    "    ambig = any(n.lower() in ambigNames for n in name)\n",
    "    if not ambig:\n",
    "        all_names.update(name)\n",
    "        all_names.update([n.lower() for n in name])"
   ]
  },
  {
   "cell_type": "markdown",
   "metadata": {},
   "source": [
    "## Feature Engineering"
   ]
  },
  {
   "cell_type": "code",
   "execution_count": 3,
   "metadata": {},
   "outputs": [
    {
     "data": {
      "text/html": [
       "<div>\n",
       "<style scoped>\n",
       "    .dataframe tbody tr th:only-of-type {\n",
       "        vertical-align: middle;\n",
       "    }\n",
       "\n",
       "    .dataframe tbody tr th {\n",
       "        vertical-align: top;\n",
       "    }\n",
       "\n",
       "    .dataframe thead th {\n",
       "        text-align: right;\n",
       "    }\n",
       "</style>\n",
       "<table border=\"1\" class=\"dataframe\">\n",
       "  <thead>\n",
       "    <tr style=\"text-align: right;\">\n",
       "      <th></th>\n",
       "      <th>desc_</th>\n",
       "      <th>hand_</th>\n",
       "      <th>length_</th>\n",
       "      <th>line_</th>\n",
       "      <th>outcome_</th>\n",
       "    </tr>\n",
       "  </thead>\n",
       "  <tbody>\n",
       "    <tr>\n",
       "      <th>0</th>\n",
       "      <td>Steyn to Jaques, full and on the legs, swinging in, Jaques lets it go past, no runs, fielded by Boucher</td>\n",
       "      <td>1</td>\n",
       "      <td>2</td>\n",
       "      <td>2</td>\n",
       "      <td>0</td>\n",
       "    </tr>\n",
       "    <tr>\n",
       "      <th>1</th>\n",
       "      <td>Steyn to Jaques, good length but down leg, Jaques drives, no runs, fielded by Botha</td>\n",
       "      <td>1</td>\n",
       "      <td>3</td>\n",
       "      <td>3</td>\n",
       "      <td>0</td>\n",
       "    </tr>\n",
       "    <tr>\n",
       "      <th>2</th>\n",
       "      <td>Steyn to Jaques, short of a length outside the off stump, Jaques plays no shot, no runs, fielded by Boucher</td>\n",
       "      <td>1</td>\n",
       "      <td>4</td>\n",
       "      <td>1</td>\n",
       "      <td>0</td>\n",
       "    </tr>\n",
       "    <tr>\n",
       "      <th>3</th>\n",
       "      <td>(no ball) Steyn to Jaques, good length delivery just outside the off stump, Jaques lets it go past, no runs, fielded by Boucher</td>\n",
       "      <td>1</td>\n",
       "      <td>3</td>\n",
       "      <td>1</td>\n",
       "      <td>4</td>\n",
       "    </tr>\n",
       "    <tr>\n",
       "      <th>4</th>\n",
       "      <td>Steyn to Jaques, fuller length outside the off stump , Jaques drives in air over cover fielder, 4 runs</td>\n",
       "      <td>1</td>\n",
       "      <td>2</td>\n",
       "      <td>1</td>\n",
       "      <td>12</td>\n",
       "    </tr>\n",
       "  </tbody>\n",
       "</table>\n",
       "</div>"
      ],
      "text/plain": [
       "                                                                                                                              desc_  \\\n",
       "0   Steyn to Jaques, full and on the legs, swinging in, Jaques lets it go past, no runs, fielded by Boucher                           \n",
       "1   Steyn to Jaques, good length but down leg, Jaques drives, no runs, fielded by Botha                                               \n",
       "2   Steyn to Jaques, short of a length outside the off stump, Jaques plays no shot, no runs, fielded by Boucher                       \n",
       "3   (no ball) Steyn to Jaques, good length delivery just outside the off stump, Jaques lets it go past, no runs, fielded by Boucher   \n",
       "4   Steyn to Jaques, fuller length outside the off stump , Jaques drives in air over cover fielder, 4 runs                            \n",
       "\n",
       "   hand_  length_  line_  outcome_  \n",
       "0  1      2        2      0         \n",
       "1  1      3        3      0         \n",
       "2  1      4        1      0         \n",
       "3  1      3        1      4         \n",
       "4  1      2        1      12        "
      ]
     },
     "execution_count": 3,
     "metadata": {},
     "output_type": "execute_result"
    }
   ],
   "source": [
    "df.head()"
   ]
  },
  {
   "cell_type": "code",
   "execution_count": 4,
   "metadata": {},
   "outputs": [],
   "source": [
    "from nltk.corpus import stopwords as st\n",
    "exceptions = ['a', 'off', 'against', 'between', 'into', 'through', 'above', 'below', 'up', 'down', 'out', 'in', 'over', 'further', 'on', 'of']\n",
    "stopwords = set(st.words('english'))\n",
    "for w in exceptions:\n",
    "    stopwords.remove(w) "
   ]
  },
  {
   "cell_type": "code",
   "execution_count": 5,
   "metadata": {},
   "outputs": [
    {
     "data": {
      "text/plain": [
       "<matplotlib.axes._subplots.AxesSubplot at 0x126940550>"
      ]
     },
     "execution_count": 5,
     "metadata": {},
     "output_type": "execute_result"
    },
    {
     "data": {
      "image/png": "[encoded data removed]",
      "text/plain": [
       "<Figure size 432x288 with 1 Axes>"
      ]
     },
     "metadata": {
      "needs_background": "light"
     },
     "output_type": "display_data"
    }
   ],
   "source": [
    "df['tokens'] = df['desc_'].apply(text_to_word_sequence)\n",
    "lens = df['tokens'].apply(len)\n",
    "lens.hist(bins=[x for x in range(125)])"
   ]
  },
  {
   "cell_type": "code",
   "execution_count": 6,
   "metadata": {},
   "outputs": [
    {
     "data": {
      "text/html": [
       "<div>\n",
       "<style scoped>\n",
       "    .dataframe tbody tr th:only-of-type {\n",
       "        vertical-align: middle;\n",
       "    }\n",
       "\n",
       "    .dataframe tbody tr th {\n",
       "        vertical-align: top;\n",
       "    }\n",
       "\n",
       "    .dataframe thead th {\n",
       "        text-align: right;\n",
       "    }\n",
       "</style>\n",
       "<table border=\"1\" class=\"dataframe\">\n",
       "  <thead>\n",
       "    <tr style=\"text-align: right;\">\n",
       "      <th></th>\n",
       "      <th>desc_</th>\n",
       "      <th>hand_</th>\n",
       "      <th>length_</th>\n",
       "      <th>line_</th>\n",
       "      <th>outcome_</th>\n",
       "      <th>tokens</th>\n",
       "    </tr>\n",
       "  </thead>\n",
       "  <tbody>\n",
       "    <tr>\n",
       "      <th>0</th>\n",
       "      <td>Steyn to Jaques, full and on the legs, swinging in, Jaques lets it go past, no runs, fielded by Boucher</td>\n",
       "      <td>1</td>\n",
       "      <td>2</td>\n",
       "      <td>2</td>\n",
       "      <td>0</td>\n",
       "      <td>[steyn, to, jaques, full, and, on, the, legs, swinging, in, jaques, lets, it, go, past, no, runs, fielded, by, boucher]</td>\n",
       "    </tr>\n",
       "    <tr>\n",
       "      <th>1</th>\n",
       "      <td>Steyn to Jaques, good length but down leg, Jaques drives, no runs, fielded by Botha</td>\n",
       "      <td>1</td>\n",
       "      <td>3</td>\n",
       "      <td>3</td>\n",
       "      <td>0</td>\n",
       "      <td>[steyn, to, jaques, good, length, but, down, leg, jaques, drives, no, runs, fielded, by, botha]</td>\n",
       "    </tr>\n",
       "    <tr>\n",
       "      <th>2</th>\n",
       "      <td>Steyn to Jaques, short of a length outside the off stump, Jaques plays no shot, no runs, fielded by Boucher</td>\n",
       "      <td>1</td>\n",
       "      <td>4</td>\n",
       "      <td>1</td>\n",
       "      <td>0</td>\n",
       "      <td>[steyn, to, jaques, short, of, a, length, outside, the, off, stump, jaques, plays, no, shot, no, runs, fielded, by, boucher]</td>\n",
       "    </tr>\n",
       "    <tr>\n",
       "      <th>3</th>\n",
       "      <td>(no ball) Steyn to Jaques, good length delivery just outside the off stump, Jaques lets it go past, no runs, fielded by Boucher</td>\n",
       "      <td>1</td>\n",
       "      <td>3</td>\n",
       "      <td>1</td>\n",
       "      <td>4</td>\n",
       "      <td>[no, ball, steyn, to, jaques, good, length, delivery, just, outside, the, off, stump, jaques, lets, it, go, past, no, runs, fielded, by, boucher]</td>\n",
       "    </tr>\n",
       "    <tr>\n",
       "      <th>4</th>\n",
       "      <td>Steyn to Jaques, fuller length outside the off stump , Jaques drives in air over cover fielder, 4 runs</td>\n",
       "      <td>1</td>\n",
       "      <td>2</td>\n",
       "      <td>1</td>\n",
       "      <td>12</td>\n",
       "      <td>[steyn, to, jaques, fuller, length, outside, the, off, stump, jaques, drives, in, air, over, cover, fielder, 4, runs]</td>\n",
       "    </tr>\n",
       "  </tbody>\n",
       "</table>\n",
       "</div>"
      ],
      "text/plain": [
       "                                                                                                                              desc_  \\\n",
       "0   Steyn to Jaques, full and on the legs, swinging in, Jaques lets it go past, no runs, fielded by Boucher                           \n",
       "1   Steyn to Jaques, good length but down leg, Jaques drives, no runs, fielded by Botha                                               \n",
       "2   Steyn to Jaques, short of a length outside the off stump, Jaques plays no shot, no runs, fielded by Boucher                       \n",
       "3   (no ball) Steyn to Jaques, good length delivery just outside the off stump, Jaques lets it go past, no runs, fielded by Boucher   \n",
       "4   Steyn to Jaques, fuller length outside the off stump , Jaques drives in air over cover fielder, 4 runs                            \n",
       "\n",
       "   hand_  length_  line_  outcome_  \\\n",
       "0  1      2        2      0          \n",
       "1  1      3        3      0          \n",
       "2  1      4        1      0          \n",
       "3  1      3        1      4          \n",
       "4  1      2        1      12         \n",
       "\n",
       "                                                                                                                                              tokens  \n",
       "0  [steyn, to, jaques, full, and, on, the, legs, swinging, in, jaques, lets, it, go, past, no, runs, fielded, by, boucher]                            \n",
       "1  [steyn, to, jaques, good, length, but, down, leg, jaques, drives, no, runs, fielded, by, botha]                                                    \n",
       "2  [steyn, to, jaques, short, of, a, length, outside, the, off, stump, jaques, plays, no, shot, no, runs, fielded, by, boucher]                       \n",
       "3  [no, ball, steyn, to, jaques, good, length, delivery, just, outside, the, off, stump, jaques, lets, it, go, past, no, runs, fielded, by, boucher]  \n",
       "4  [steyn, to, jaques, fuller, length, outside, the, off, stump, jaques, drives, in, air, over, cover, fielder, 4, runs]                              "
      ]
     },
     "execution_count": 6,
     "metadata": {},
     "output_type": "execute_result"
    }
   ],
   "source": [
    "df.head()"
   ]
  },
  {
   "cell_type": "code",
   "execution_count": 7,
   "metadata": {},
   "outputs": [],
   "source": [
    "#Remove Stopwords\n",
    "df['tokens_sw'] = df['tokens'].apply(lambda d: [w for w in d if w not in stopwords])"
   ]
  },
  {
   "cell_type": "code",
   "execution_count": 8,
   "metadata": {},
   "outputs": [],
   "source": [
    "w_tokenizer = nltk.tokenize.WhitespaceTokenizer()\n",
    "lemmatizer = nltk.stem.WordNetLemmatizer()\n",
    "\n",
    "def lemmatize_text(text):\n",
    "    lemmas = []\n",
    "    for w, tag in nltk.pos_tag(text):\n",
    "        wntag = tag[0].lower()\n",
    "        wntag = wntag if wntag in ['a', 'r', 'n', 'v'] else None\n",
    "        lemmas.append(lemmatizer.lemmatize(w, wntag) if wntag else w)\n",
    "    return lemmas\n",
    "\n",
    "df['lemmatized'] = df['tokens_sw'].apply(lemmatize_text)"
   ]
  },
  {
   "cell_type": "code",
   "execution_count": 9,
   "metadata": {},
   "outputs": [],
   "source": [
    "sno = nltk.stem.PorterStemmer()\n",
    "df['stemmed'] = df['lemmatized'].apply(lambda text: [sno.stem(w) for w in text])"
   ]
  },
  {
   "cell_type": "code",
   "execution_count": 10,
   "metadata": {},
   "outputs": [],
   "source": [
    "vocab_exceptions = {'abd', \"australia\", \"aussie\", \"australia's\", \"australian\", \"africa\", 'african',\n",
    "                    \"africa's\", 'au', 'b', 'bhuvi', 'c','cricinfo', \"d'arcy\", \"dhoni's\", \"england\",\n",
    "                    \"espncricinfo's\", \"firdose\", \"gould\", \"h\", \"imam\", \"imam's\", \"india\", \"indian\",\n",
    "                    \"indie\", \"k\", \"lanka\", \"misbah\",\"mm\", \"nz\", \"pakistan\", \"pakistan's\", \"pm\", \"qdk\", \n",
    "                    \"r\", \"sa\", \"sa's\", \"samuel\", \"sanga\", \"sarfraz\", \"sl\", \"sr\", \"sri\", \"steyn's\",\n",
    "                    \"sujesh\", \"ul\", \"uae\", \"v\", \"wc\", \"wi\", \"wk\", \"xi\", \"zimbabwe\", \"zealand\", \"†de\", \n",
    "                    \"international\", \"kw\", \"kmh\", \"kph\", \"mr\", \"odi\", \"odis\"}\n",
    "\n",
    "def deleteLowCount(t, threshold):\n",
    "    lcw = [w for w,c in t.word_counts.items() \n",
    "           if c < threshold  or w in all_names  \n",
    "           or any(i.isdigit() for i in w) or w in vocab_exceptions]\n",
    "    print(f\"{len(lcw)} low counted, {len(t.word_counts) - len(lcw)} left\")\n",
    "    for w in lcw:\n",
    "        del t.word_index[w]\n",
    "        del t.word_docs[w]\n",
    "        del t.word_counts[w]\n",
    "    return t"
   ]
  },
  {
   "cell_type": "code",
   "execution_count": 11,
   "metadata": {},
   "outputs": [
    {
     "name": "stdout",
     "output_type": "stream",
     "text": [
      "3768 low counted, 767 left\n"
     ]
    }
   ],
   "source": [
    "col_to_tokenize = 'lemmatized'\n",
    "t = Tokenizer()\n",
    "t.fit_on_texts(df[col_to_tokenize])\n",
    "t = deleteLowCount(t, 5)\n",
    "rT = dict(map(reversed, t.word_index.items()))\n",
    "df['sequence'] = t.texts_to_sequences(df[col_to_tokenize])\n",
    "filtered = df['sequence'].apply(lambda x: [rT[num] for num in x])\n",
    "\n",
    "\n",
    "t = Tokenizer()\n",
    "t.fit_on_texts(filtered)\n",
    "df['sequence'] = t.texts_to_sequences(filtered)\n",
    "rT = dict(map(reversed, t.word_index.items()))\n",
    "numDistinctWords = len(t.word_index) + 1\n",
    "\n",
    "df[f'{col_to_tokenize}_common'] = df['sequence'].apply(lambda x: ' '.join([rT[num] for num in x]))"
   ]
  },
  {
   "cell_type": "code",
   "execution_count": 12,
   "metadata": {},
   "outputs": [],
   "source": [
    "word_vectorizer = CountVectorizer(ngram_range=(1,6), analyzer='word')\n",
    "sparse_matrix = word_vectorizer.fit_transform(df[f'{col_to_tokenize}_common'])\n",
    "frequencies = sum(sparse_matrix).toarray()[0]\n",
    "freq = pd.DataFrame(frequencies, index=word_vectorizer.get_feature_names(), columns=['frequency'])"
   ]
  },
  {
   "cell_type": "code",
   "execution_count": 13,
   "metadata": {},
   "outputs": [
    {
     "name": "stderr",
     "output_type": "stream",
     "text": [
      "/usr/local/lib/python3.7/site-packages/sklearn/linear_model/logistic.py:433: FutureWarning: Default solver will be changed to 'lbfgs' in 0.22. Specify a solver to silence this warning.\n",
      "  FutureWarning)\n"
     ]
    }
   ],
   "source": [
    "def get_feature_importances(model, analyzer, ngram_range=(1,2), lowercase=True, min_df=10, max_df=1000, sampsize=2419, category='length_'):\n",
    "    tfv = TfidfVectorizer(min_df=min_df,\n",
    "                          max_df=max_df,\n",
    "                          strip_accents='unicode',\n",
    "                          analyzer=analyzer,\n",
    "                          ngram_range=ngram_range,\n",
    "                          lowercase=lowercase\n",
    "                         )\n",
    "    df_sample = df.sample(sampsize, random_state=seed)\n",
    "    X = tfv.fit_transform(df_sample[f'{col_to_tokenize}_common'])\n",
    "    scaler = StandardScaler(with_mean=False)\n",
    "    scaler.fit(X)\n",
    "    terms = tfv.get_feature_names()\n",
    "    var_imp = pd.DataFrame(index=terms)\n",
    "    #multiclassif\n",
    "    for cat in range(0,max(df_sample[category])+1):\n",
    "        y = df_sample[category].apply(lambda x: 1 if x == cat else 0).values\n",
    "        model.fit(X, y)\n",
    "        var_imp[cat] =  np.sqrt(scaler.var_) * model.coef_[0]\n",
    "        \n",
    "    var_imp['freq'] = pd.Series(var_imp.index.map(lambda x: freq.loc[x]['frequency']), index=var_imp.index) #Attach frequency of ngram to importance\n",
    "    return var_imp\n",
    "\n",
    "model = LogisticRegression()\n",
    "cat = 'length_'\n",
    "var_imp16 = get_feature_importances(model, analyzer='word', ngram_range=(1,6), lowercase=True, min_df=5, category=cat)\n",
    "var_imp26 = get_feature_importances(model, analyzer='word', ngram_range=(2,6), lowercase=True, min_df=5, category=cat)\n",
    "# var_imp36 = get_feature_importances(model, analyzer='word', ngram_range=(3,6), lowercase=True, min_df=5, category=cat)"
   ]
  },
  {
   "cell_type": "code",
   "execution_count": 20,
   "metadata": {},
   "outputs": [
    {
     "data": {
      "text/html": [
       "<div>\n",
       "<style scoped>\n",
       "    .dataframe tbody tr th:only-of-type {\n",
       "        vertical-align: middle;\n",
       "    }\n",
       "\n",
       "    .dataframe tbody tr th {\n",
       "        vertical-align: top;\n",
       "    }\n",
       "\n",
       "    .dataframe thead th {\n",
       "        text-align: right;\n",
       "    }\n",
       "</style>\n",
       "<table border=\"1\" class=\"dataframe\">\n",
       "  <thead>\n",
       "    <tr style=\"text-align: right;\">\n",
       "      <th></th>\n",
       "      <th>0</th>\n",
       "      <th>1</th>\n",
       "      <th>2</th>\n",
       "      <th>3</th>\n",
       "      <th>4</th>\n",
       "      <th>5</th>\n",
       "      <th>freq</th>\n",
       "    </tr>\n",
       "  </thead>\n",
       "  <tbody>\n",
       "    <tr>\n",
       "      <th>of length</th>\n",
       "      <td>-0.015637</td>\n",
       "      <td>-0.024866</td>\n",
       "      <td>-0.124036</td>\n",
       "      <td>-0.194984</td>\n",
       "      <td>0.310590</td>\n",
       "      <td>-0.069628</td>\n",
       "      <td>310</td>\n",
       "    </tr>\n",
       "    <tr>\n",
       "      <th>of</th>\n",
       "      <td>-0.017621</td>\n",
       "      <td>-0.024773</td>\n",
       "      <td>-0.072747</td>\n",
       "      <td>-0.082822</td>\n",
       "      <td>0.205181</td>\n",
       "      <td>-0.043937</td>\n",
       "      <td>1061</td>\n",
       "    </tr>\n",
       "    <tr>\n",
       "      <th>back of length</th>\n",
       "      <td>-0.008837</td>\n",
       "      <td>-0.014605</td>\n",
       "      <td>-0.082173</td>\n",
       "      <td>-0.124887</td>\n",
       "      <td>0.192527</td>\n",
       "      <td>-0.035482</td>\n",
       "      <td>171</td>\n",
       "    </tr>\n",
       "    <tr>\n",
       "      <th>back of</th>\n",
       "      <td>-0.008902</td>\n",
       "      <td>-0.014724</td>\n",
       "      <td>-0.084469</td>\n",
       "      <td>-0.125571</td>\n",
       "      <td>0.190833</td>\n",
       "      <td>-0.029514</td>\n",
       "      <td>172</td>\n",
       "    </tr>\n",
       "    <tr>\n",
       "      <th>short</th>\n",
       "      <td>-0.014522</td>\n",
       "      <td>-0.028005</td>\n",
       "      <td>-0.283943</td>\n",
       "      <td>-0.207733</td>\n",
       "      <td>0.180778</td>\n",
       "      <td>0.380656</td>\n",
       "      <td>456</td>\n",
       "    </tr>\n",
       "    <tr>\n",
       "      <th>back</th>\n",
       "      <td>-0.021613</td>\n",
       "      <td>-0.011830</td>\n",
       "      <td>-0.090714</td>\n",
       "      <td>-0.006962</td>\n",
       "      <td>0.159840</td>\n",
       "      <td>-0.060859</td>\n",
       "      <td>630</td>\n",
       "    </tr>\n",
       "    <tr>\n",
       "      <th>short of length</th>\n",
       "      <td>-0.007887</td>\n",
       "      <td>-0.012002</td>\n",
       "      <td>-0.054507</td>\n",
       "      <td>-0.092165</td>\n",
       "      <td>0.148637</td>\n",
       "      <td>-0.039261</td>\n",
       "      <td>133</td>\n",
       "    </tr>\n",
       "    <tr>\n",
       "      <th>short of</th>\n",
       "      <td>-0.004547</td>\n",
       "      <td>-0.013497</td>\n",
       "      <td>-0.039010</td>\n",
       "      <td>-0.083198</td>\n",
       "      <td>0.136374</td>\n",
       "      <td>-0.051248</td>\n",
       "      <td>151</td>\n",
       "    </tr>\n",
       "    <tr>\n",
       "      <th>length</th>\n",
       "      <td>-0.030619</td>\n",
       "      <td>-0.039471</td>\n",
       "      <td>-0.321495</td>\n",
       "      <td>0.258525</td>\n",
       "      <td>0.117049</td>\n",
       "      <td>-0.121062</td>\n",
       "      <td>823</td>\n",
       "    </tr>\n",
       "    <tr>\n",
       "      <th>shorter</th>\n",
       "      <td>-0.003128</td>\n",
       "      <td>-0.005454</td>\n",
       "      <td>-0.070322</td>\n",
       "      <td>-0.018564</td>\n",
       "      <td>0.097805</td>\n",
       "      <td>0.025943</td>\n",
       "      <td>39</td>\n",
       "    </tr>\n",
       "    <tr>\n",
       "      <th>cut</th>\n",
       "      <td>-0.007682</td>\n",
       "      <td>-0.012910</td>\n",
       "      <td>-0.080224</td>\n",
       "      <td>0.012846</td>\n",
       "      <td>0.093747</td>\n",
       "      <td>0.014213</td>\n",
       "      <td>92</td>\n",
       "    </tr>\n",
       "    <tr>\n",
       "      <th>pull</th>\n",
       "      <td>0.002173</td>\n",
       "      <td>-0.017359</td>\n",
       "      <td>-0.139876</td>\n",
       "      <td>-0.059236</td>\n",
       "      <td>0.063535</td>\n",
       "      <td>0.154811</td>\n",
       "      <td>145</td>\n",
       "    </tr>\n",
       "    <tr>\n",
       "      <th>of length outside</th>\n",
       "      <td>-0.003174</td>\n",
       "      <td>-0.004579</td>\n",
       "      <td>-0.018988</td>\n",
       "      <td>-0.033926</td>\n",
       "      <td>0.051358</td>\n",
       "      <td>-0.015265</td>\n",
       "      <td>75</td>\n",
       "    </tr>\n",
       "    <tr>\n",
       "      <th>of length outside off</th>\n",
       "      <td>-0.003136</td>\n",
       "      <td>-0.004516</td>\n",
       "      <td>-0.018619</td>\n",
       "      <td>-0.033643</td>\n",
       "      <td>0.050582</td>\n",
       "      <td>-0.014913</td>\n",
       "      <td>74</td>\n",
       "    </tr>\n",
       "    <tr>\n",
       "      <th>short straight</th>\n",
       "      <td>0.003358</td>\n",
       "      <td>-0.001530</td>\n",
       "      <td>-0.007136</td>\n",
       "      <td>-0.010808</td>\n",
       "      <td>0.041435</td>\n",
       "      <td>-0.016095</td>\n",
       "      <td>9</td>\n",
       "    </tr>\n",
       "    <tr>\n",
       "      <th>bounce</th>\n",
       "      <td>-0.005038</td>\n",
       "      <td>-0.008114</td>\n",
       "      <td>-0.043895</td>\n",
       "      <td>-0.009734</td>\n",
       "      <td>0.039188</td>\n",
       "      <td>0.037659</td>\n",
       "      <td>78</td>\n",
       "    </tr>\n",
       "    <tr>\n",
       "      <th>of length on</th>\n",
       "      <td>-0.001842</td>\n",
       "      <td>-0.003312</td>\n",
       "      <td>-0.014234</td>\n",
       "      <td>-0.023110</td>\n",
       "      <td>0.038521</td>\n",
       "      <td>-0.009459</td>\n",
       "      <td>44</td>\n",
       "    </tr>\n",
       "    <tr>\n",
       "      <th>shot</th>\n",
       "      <td>-0.007094</td>\n",
       "      <td>-0.011743</td>\n",
       "      <td>-0.014435</td>\n",
       "      <td>0.009853</td>\n",
       "      <td>0.036936</td>\n",
       "      <td>-0.006329</td>\n",
       "      <td>102</td>\n",
       "    </tr>\n",
       "    <tr>\n",
       "      <th>tuck</th>\n",
       "      <td>-0.003737</td>\n",
       "      <td>0.000774</td>\n",
       "      <td>-0.010378</td>\n",
       "      <td>-0.012603</td>\n",
       "      <td>0.034653</td>\n",
       "      <td>-0.005557</td>\n",
       "      <td>37</td>\n",
       "    </tr>\n",
       "    <tr>\n",
       "      <th>punch</th>\n",
       "      <td>0.000380</td>\n",
       "      <td>-0.006649</td>\n",
       "      <td>-0.015193</td>\n",
       "      <td>0.002987</td>\n",
       "      <td>0.033894</td>\n",
       "      <td>-0.021208</td>\n",
       "      <td>57</td>\n",
       "    </tr>\n",
       "  </tbody>\n",
       "</table>\n",
       "</div>"
      ],
      "text/plain": [
       "                              0         1         2         3         4  \\\n",
       "of length             -0.015637 -0.024866 -0.124036 -0.194984  0.310590   \n",
       "of                    -0.017621 -0.024773 -0.072747 -0.082822  0.205181   \n",
       "back of length        -0.008837 -0.014605 -0.082173 -0.124887  0.192527   \n",
       "back of               -0.008902 -0.014724 -0.084469 -0.125571  0.190833   \n",
       "short                 -0.014522 -0.028005 -0.283943 -0.207733  0.180778   \n",
       "back                  -0.021613 -0.011830 -0.090714 -0.006962  0.159840   \n",
       "short of length       -0.007887 -0.012002 -0.054507 -0.092165  0.148637   \n",
       "short of              -0.004547 -0.013497 -0.039010 -0.083198  0.136374   \n",
       "length                -0.030619 -0.039471 -0.321495  0.258525  0.117049   \n",
       "shorter               -0.003128 -0.005454 -0.070322 -0.018564  0.097805   \n",
       "cut                   -0.007682 -0.012910 -0.080224  0.012846  0.093747   \n",
       "pull                   0.002173 -0.017359 -0.139876 -0.059236  0.063535   \n",
       "of length outside     -0.003174 -0.004579 -0.018988 -0.033926  0.051358   \n",
       "of length outside off -0.003136 -0.004516 -0.018619 -0.033643  0.050582   \n",
       "short straight         0.003358 -0.001530 -0.007136 -0.010808  0.041435   \n",
       "bounce                -0.005038 -0.008114 -0.043895 -0.009734  0.039188   \n",
       "of length on          -0.001842 -0.003312 -0.014234 -0.023110  0.038521   \n",
       "shot                  -0.007094 -0.011743 -0.014435  0.009853  0.036936   \n",
       "tuck                  -0.003737  0.000774 -0.010378 -0.012603  0.034653   \n",
       "punch                  0.000380 -0.006649 -0.015193  0.002987  0.033894   \n",
       "\n",
       "                              5  freq  \n",
       "of length             -0.069628  310   \n",
       "of                    -0.043937  1061  \n",
       "back of length        -0.035482  171   \n",
       "back of               -0.029514  172   \n",
       "short                  0.380656  456   \n",
       "back                  -0.060859  630   \n",
       "short of length       -0.039261  133   \n",
       "short of              -0.051248  151   \n",
       "length                -0.121062  823   \n",
       "shorter                0.025943  39    \n",
       "cut                    0.014213  92    \n",
       "pull                   0.154811  145   \n",
       "of length outside     -0.015265  75    \n",
       "of length outside off -0.014913  74    \n",
       "short straight        -0.016095  9     \n",
       "bounce                 0.037659  78    \n",
       "of length on          -0.009459  44    \n",
       "shot                  -0.006329  102   \n",
       "tuck                  -0.005557  37    \n",
       "punch                 -0.021208  57    "
      ]
     },
     "execution_count": 20,
     "metadata": {},
     "output_type": "execute_result"
    }
   ],
   "source": [
    "var_imp16.sort_values(4, ascending=False).head(20)"
   ]
  },
  {
   "cell_type": "code",
   "execution_count": 15,
   "metadata": {},
   "outputs": [
    {
     "name": "stdout",
     "output_type": "stream",
     "text": [
      "207 important ngrams!\n"
     ]
    }
   ],
   "source": [
    "ngramsImportant = set()\n",
    "numTop16 = 12\n",
    "numTop26 = 30\n",
    "for l in range(0, len(var_imp16.columns)-1):\n",
    "    sortedByL16 = var_imp16.sort_values(l, ascending=False)\n",
    "    sortedByL26 = var_imp26.sort_values(l, ascending=False)\n",
    "    ngramsImportant.update(list(sortedByL16.iloc[:numTop16].index))\n",
    "    ngramsImportant.update(list(sortedByL26.iloc[:numTop26].index))\n",
    "print(f\"{len(ngramsImportant)} important ngrams!\")\n",
    "ngramsImportant = list(ngramsImportant)"
   ]
  },
  {
   "cell_type": "code",
   "execution_count": 16,
   "metadata": {},
   "outputs": [],
   "source": [
    "def ngramsInText(text):\n",
    "    ngramPresence = dict()\n",
    "    for ngram in ngramsImportant:\n",
    "        ngramSplit = ngram.split(' ')\n",
    "        ngramPresence[ngram] = int(tuple(ngramSplit) in set(nltk.ngrams(text.split(' '), len(ngramSplit))))\n",
    "    return pd.Series(ngramPresence)\n",
    "\n",
    "ngramPresenceDf = df[f'{col_to_tokenize}_common'].apply(lambda text: ngramsInText(text))"
   ]
  },
  {
   "cell_type": "code",
   "execution_count": 17,
   "metadata": {},
   "outputs": [
    {
     "data": {
      "text/html": [
       "<div>\n",
       "<style scoped>\n",
       "    .dataframe tbody tr th:only-of-type {\n",
       "        vertical-align: middle;\n",
       "    }\n",
       "\n",
       "    .dataframe tbody tr th {\n",
       "        vertical-align: top;\n",
       "    }\n",
       "\n",
       "    .dataframe thead th {\n",
       "        text-align: right;\n",
       "    }\n",
       "</style>\n",
       "<table border=\"1\" class=\"dataframe\">\n",
       "  <thead>\n",
       "    <tr style=\"text-align: right;\">\n",
       "      <th></th>\n",
       "      <th>desc_</th>\n",
       "      <th>hand_</th>\n",
       "      <th>length_</th>\n",
       "      <th>line_</th>\n",
       "      <th>outcome_</th>\n",
       "      <th>tokens</th>\n",
       "      <th>tokens_sw</th>\n",
       "      <th>lemmatized</th>\n",
       "      <th>stemmed</th>\n",
       "      <th>sequence</th>\n",
       "      <th>...</th>\n",
       "      <th>pad</th>\n",
       "      <th>push cover</th>\n",
       "      <th>mid off</th>\n",
       "      <th>towards cover</th>\n",
       "      <th>angle across</th>\n",
       "      <th>in length</th>\n",
       "      <th>across</th>\n",
       "      <th>another short</th>\n",
       "      <th>in batsman</th>\n",
       "      <th>clip away</th>\n",
       "    </tr>\n",
       "  </thead>\n",
       "  <tbody>\n",
       "    <tr>\n",
       "      <th>0</th>\n",
       "      <td>Steyn to Jaques, full and on the legs, swinging in, Jaques lets it go past, no runs, fielded by Boucher</td>\n",
       "      <td>1</td>\n",
       "      <td>2</td>\n",
       "      <td>2</td>\n",
       "      <td>0</td>\n",
       "      <td>[steyn, to, jaques, full, and, on, the, legs, swinging, in, jaques, lets, it, go, past, no, runs, fielded, by, boucher]</td>\n",
       "      <td>[steyn, jaques, full, on, legs, swinging, in, jaques, lets, go, past, runs, fielded, boucher]</td>\n",
       "      <td>[steyn, jaques, full, on, leg, swing, in, jaques, let, go, past, run, field, boucher]</td>\n",
       "      <td>[steyn, jaqu, full, on, leg, swing, in, jaqu, let, go, past, run, field, boucher]</td>\n",
       "      <td>[15, 3, 10, 56, 5, 123, 21, 69, 30, 89]</td>\n",
       "      <td>...</td>\n",
       "      <td>0</td>\n",
       "      <td>0</td>\n",
       "      <td>0</td>\n",
       "      <td>0</td>\n",
       "      <td>0</td>\n",
       "      <td>0</td>\n",
       "      <td>0</td>\n",
       "      <td>0</td>\n",
       "      <td>0</td>\n",
       "      <td>0</td>\n",
       "    </tr>\n",
       "    <tr>\n",
       "      <th>1</th>\n",
       "      <td>Steyn to Jaques, good length but down leg, Jaques drives, no runs, fielded by Botha</td>\n",
       "      <td>1</td>\n",
       "      <td>3</td>\n",
       "      <td>3</td>\n",
       "      <td>0</td>\n",
       "      <td>[steyn, to, jaques, good, length, but, down, leg, jaques, drives, no, runs, fielded, by, botha]</td>\n",
       "      <td>[steyn, jaques, good, length, down, leg, jaques, drives, runs, fielded, botha]</td>\n",
       "      <td>[steyn, jaques, good, length, down, leg, jaques, drive, run, field, botha]</td>\n",
       "      <td>[steyn, jaqu, good, length, down, leg, jaqu, drive, run, field, botha]</td>\n",
       "      <td>[17, 6, 18, 10, 24, 30, 89]</td>\n",
       "      <td>...</td>\n",
       "      <td>0</td>\n",
       "      <td>0</td>\n",
       "      <td>0</td>\n",
       "      <td>0</td>\n",
       "      <td>0</td>\n",
       "      <td>0</td>\n",
       "      <td>0</td>\n",
       "      <td>0</td>\n",
       "      <td>0</td>\n",
       "      <td>0</td>\n",
       "    </tr>\n",
       "    <tr>\n",
       "      <th>2</th>\n",
       "      <td>Steyn to Jaques, short of a length outside the off stump, Jaques plays no shot, no runs, fielded by Boucher</td>\n",
       "      <td>1</td>\n",
       "      <td>4</td>\n",
       "      <td>1</td>\n",
       "      <td>0</td>\n",
       "      <td>[steyn, to, jaques, short, of, a, length, outside, the, off, stump, jaques, plays, no, shot, no, runs, fielded, by, boucher]</td>\n",
       "      <td>[steyn, jaques, short, of, a, length, outside, off, stump, jaques, plays, shot, runs, fielded, boucher]</td>\n",
       "      <td>[steyn, jaques, short, of, a, length, outside, off, stump, jaques, play, shoot, run, field, boucher]</td>\n",
       "      <td>[steyn, jaqu, short, of, a, length, outsid, off, stump, jaqu, play, shoot, run, field, boucher]</td>\n",
       "      <td>[13, 4, 1, 6, 8, 2, 11, 41, 406, 30, 89]</td>\n",
       "      <td>...</td>\n",
       "      <td>0</td>\n",
       "      <td>0</td>\n",
       "      <td>0</td>\n",
       "      <td>0</td>\n",
       "      <td>0</td>\n",
       "      <td>0</td>\n",
       "      <td>0</td>\n",
       "      <td>0</td>\n",
       "      <td>0</td>\n",
       "      <td>0</td>\n",
       "    </tr>\n",
       "    <tr>\n",
       "      <th>3</th>\n",
       "      <td>(no ball) Steyn to Jaques, good length delivery just outside the off stump, Jaques lets it go past, no runs, fielded by Boucher</td>\n",
       "      <td>1</td>\n",
       "      <td>3</td>\n",
       "      <td>1</td>\n",
       "      <td>4</td>\n",
       "      <td>[no, ball, steyn, to, jaques, good, length, delivery, just, outside, the, off, stump, jaques, lets, it, go, past, no, runs, fielded, by, boucher]</td>\n",
       "      <td>[ball, steyn, jaques, good, length, delivery, outside, off, stump, jaques, lets, go, past, runs, fielded, boucher]</td>\n",
       "      <td>[ball, steyn, jaques, good, length, delivery, outside, off, stump, jaques, let, go, past, run, field, boucher]</td>\n",
       "      <td>[ball, steyn, jaqu, good, length, deliveri, outsid, off, stump, jaqu, let, go, past, run, field, boucher]</td>\n",
       "      <td>[7, 17, 6, 37, 8, 2, 11, 123, 21, 69, 30, 89]</td>\n",
       "      <td>...</td>\n",
       "      <td>0</td>\n",
       "      <td>0</td>\n",
       "      <td>0</td>\n",
       "      <td>0</td>\n",
       "      <td>0</td>\n",
       "      <td>0</td>\n",
       "      <td>0</td>\n",
       "      <td>0</td>\n",
       "      <td>0</td>\n",
       "      <td>0</td>\n",
       "    </tr>\n",
       "    <tr>\n",
       "      <th>4</th>\n",
       "      <td>Steyn to Jaques, fuller length outside the off stump , Jaques drives in air over cover fielder, 4 runs</td>\n",
       "      <td>1</td>\n",
       "      <td>2</td>\n",
       "      <td>1</td>\n",
       "      <td>12</td>\n",
       "      <td>[steyn, to, jaques, fuller, length, outside, the, off, stump, jaques, drives, in, air, over, cover, fielder, 4, runs]</td>\n",
       "      <td>[steyn, jaques, fuller, length, outside, off, stump, jaques, drives, in, air, over, cover, fielder, 4, runs]</td>\n",
       "      <td>[steyn, jaques, fuller, length, outside, off, stump, jaques, drive, in, air, over, cover, fielder, 4, run]</td>\n",
       "      <td>[steyn, jaqu, fuller, length, outsid, off, stump, jaqu, drive, in, air, over, cover, fielder, 4, run]</td>\n",
       "      <td>[80, 6, 8, 2, 11, 24, 5, 160, 23, 16, 105, 30]</td>\n",
       "      <td>...</td>\n",
       "      <td>0</td>\n",
       "      <td>0</td>\n",
       "      <td>0</td>\n",
       "      <td>0</td>\n",
       "      <td>0</td>\n",
       "      <td>0</td>\n",
       "      <td>0</td>\n",
       "      <td>0</td>\n",
       "      <td>0</td>\n",
       "      <td>0</td>\n",
       "    </tr>\n",
       "  </tbody>\n",
       "</table>\n",
       "<p>5 rows × 218 columns</p>\n",
       "</div>"
      ],
      "text/plain": [
       "                                                                                                                              desc_  \\\n",
       "0   Steyn to Jaques, full and on the legs, swinging in, Jaques lets it go past, no runs, fielded by Boucher                           \n",
       "1   Steyn to Jaques, good length but down leg, Jaques drives, no runs, fielded by Botha                                               \n",
       "2   Steyn to Jaques, short of a length outside the off stump, Jaques plays no shot, no runs, fielded by Boucher                       \n",
       "3   (no ball) Steyn to Jaques, good length delivery just outside the off stump, Jaques lets it go past, no runs, fielded by Boucher   \n",
       "4   Steyn to Jaques, fuller length outside the off stump , Jaques drives in air over cover fielder, 4 runs                            \n",
       "\n",
       "   hand_  length_  line_  outcome_  \\\n",
       "0  1      2        2      0          \n",
       "1  1      3        3      0          \n",
       "2  1      4        1      0          \n",
       "3  1      3        1      4          \n",
       "4  1      2        1      12         \n",
       "\n",
       "                                                                                                                                              tokens  \\\n",
       "0  [steyn, to, jaques, full, and, on, the, legs, swinging, in, jaques, lets, it, go, past, no, runs, fielded, by, boucher]                             \n",
       "1  [steyn, to, jaques, good, length, but, down, leg, jaques, drives, no, runs, fielded, by, botha]                                                     \n",
       "2  [steyn, to, jaques, short, of, a, length, outside, the, off, stump, jaques, plays, no, shot, no, runs, fielded, by, boucher]                        \n",
       "3  [no, ball, steyn, to, jaques, good, length, delivery, just, outside, the, off, stump, jaques, lets, it, go, past, no, runs, fielded, by, boucher]   \n",
       "4  [steyn, to, jaques, fuller, length, outside, the, off, stump, jaques, drives, in, air, over, cover, fielder, 4, runs]                               \n",
       "\n",
       "                                                                                                            tokens_sw  \\\n",
       "0  [steyn, jaques, full, on, legs, swinging, in, jaques, lets, go, past, runs, fielded, boucher]                        \n",
       "1  [steyn, jaques, good, length, down, leg, jaques, drives, runs, fielded, botha]                                       \n",
       "2  [steyn, jaques, short, of, a, length, outside, off, stump, jaques, plays, shot, runs, fielded, boucher]              \n",
       "3  [ball, steyn, jaques, good, length, delivery, outside, off, stump, jaques, lets, go, past, runs, fielded, boucher]   \n",
       "4  [steyn, jaques, fuller, length, outside, off, stump, jaques, drives, in, air, over, cover, fielder, 4, runs]         \n",
       "\n",
       "                                                                                                       lemmatized  \\\n",
       "0  [steyn, jaques, full, on, leg, swing, in, jaques, let, go, past, run, field, boucher]                            \n",
       "1  [steyn, jaques, good, length, down, leg, jaques, drive, run, field, botha]                                       \n",
       "2  [steyn, jaques, short, of, a, length, outside, off, stump, jaques, play, shoot, run, field, boucher]             \n",
       "3  [ball, steyn, jaques, good, length, delivery, outside, off, stump, jaques, let, go, past, run, field, boucher]   \n",
       "4  [steyn, jaques, fuller, length, outside, off, stump, jaques, drive, in, air, over, cover, fielder, 4, run]       \n",
       "\n",
       "                                                                                                     stemmed  \\\n",
       "0  [steyn, jaqu, full, on, leg, swing, in, jaqu, let, go, past, run, field, boucher]                           \n",
       "1  [steyn, jaqu, good, length, down, leg, jaqu, drive, run, field, botha]                                      \n",
       "2  [steyn, jaqu, short, of, a, length, outsid, off, stump, jaqu, play, shoot, run, field, boucher]             \n",
       "3  [ball, steyn, jaqu, good, length, deliveri, outsid, off, stump, jaqu, let, go, past, run, field, boucher]   \n",
       "4  [steyn, jaqu, fuller, length, outsid, off, stump, jaqu, drive, in, air, over, cover, fielder, 4, run]       \n",
       "\n",
       "                                         sequence    ...     pad  push cover  \\\n",
       "0  [15, 3, 10, 56, 5, 123, 21, 69, 30, 89]           ...      0   0            \n",
       "1  [17, 6, 18, 10, 24, 30, 89]                       ...      0   0            \n",
       "2  [13, 4, 1, 6, 8, 2, 11, 41, 406, 30, 89]          ...      0   0            \n",
       "3  [7, 17, 6, 37, 8, 2, 11, 123, 21, 69, 30, 89]     ...      0   0            \n",
       "4  [80, 6, 8, 2, 11, 24, 5, 160, 23, 16, 105, 30]    ...      0   0            \n",
       "\n",
       "   mid off  towards cover  angle across  in length  across  another short  \\\n",
       "0  0        0              0             0          0       0               \n",
       "1  0        0              0             0          0       0               \n",
       "2  0        0              0             0          0       0               \n",
       "3  0        0              0             0          0       0               \n",
       "4  0        0              0             0          0       0               \n",
       "\n",
       "   in batsman  clip away  \n",
       "0  0           0          \n",
       "1  0           0          \n",
       "2  0           0          \n",
       "3  0           0          \n",
       "4  0           0          \n",
       "\n",
       "[5 rows x 218 columns]"
      ]
     },
     "execution_count": 17,
     "metadata": {},
     "output_type": "execute_result"
    }
   ],
   "source": [
    "# df.reset_index(drop=True, inplace=True)\n",
    "# ngramPresenceDf.reset_index(drop=True, inplace=True)\n",
    "df_train = pd.concat([df, ngramPresenceDf], axis=1)\n",
    "# ngfeatures = list(ngramsImportant.keys())\n",
    "# df_train[ngfeatures] = df_train[ngfeatures].div(df_train[ngfeatures].sum(axis=1), axis=0).fillna(0)\n",
    "df_train.head()"
   ]
  },
  {
   "cell_type": "markdown",
   "metadata": {},
   "source": [
    "## Model"
   ]
  },
  {
   "cell_type": "code",
   "execution_count": 18,
   "metadata": {},
   "outputs": [],
   "source": [
    "X_features = list(ngramsImportant)\n",
    "y_features = cat"
   ]
  },
  {
   "cell_type": "code",
   "execution_count": 19,
   "metadata": {},
   "outputs": [
    {
     "name": "stdout",
     "output_type": "stream",
     "text": [
      "(2349, 207)\n",
      "(2349,)\n"
     ]
    }
   ],
   "source": [
    "n_folds = 10\n",
    "skf = StratifiedKFold(n_splits=n_folds, shuffle=True, random_state=seed)\n",
    "X, X_test, y, y_test = train_test_split(df_train[X_features].values, df_train[y_features].values, stratify = df_train[y_features].values, test_size=0.1, random_state=seed)\n",
    "# X, y = df_train[X_features].values, df_train[y_features].values\n",
    "# pca = PCA(n_components=50)\n",
    "# X = pca.fit_transform(X)\n",
    "# print(np.cumsum(pca.explained_variance_ratio_))\n",
    "print(X.shape)\n",
    "print(y.shape)\n",
    "# print(f\"X shape: {X.shape}, X_test shape: {X_test.shape}\\ny shape: {y.shape}, y_test.shape: {y_test.shape}\")"
   ]
  },
  {
   "cell_type": "markdown",
   "metadata": {},
   "source": [
    "# Deep Learning"
   ]
  },
  {
   "cell_type": "code",
   "execution_count": 21,
   "metadata": {},
   "outputs": [],
   "source": [
    "def gsearch():\n",
    "    # Definying grid parameters\n",
    "    activation = ['relu']\n",
    "    neurons = [25,30,15,20] #25, 35, 50, 100, 200]\n",
    "    optimizer = ['SGD']\n",
    "    param_grid = dict(activation = activation, neurons = neurons, optimizer = optimizer, class_weight=['balanced',class_weights])\n",
    "\n",
    "    clf = KerasClassifier(build_fn= DL_Model, epochs=200, batch_size=20, verbose= 5)\n",
    "    es = EarlyStopping(monitor='val_loss', mode='min', verbose=1, patience=100)\n",
    "\n",
    "    model = GridSearchCV(estimator= clf, param_grid=param_grid, n_jobs=-1, cv=4, verbose=10)\n",
    "    model.fit(X,y, callbacks=[es])\n",
    "\n",
    "    print(\"Max Accuracy Registred: {} using {}\".format(round(model.best_score_,3), \n",
    "                                                       model.best_params_))\n",
    "    save_data(model, \"gridresults\")"
   ]
  },
  {
   "cell_type": "code",
   "execution_count": 157,
   "metadata": {},
   "outputs": [],
   "source": [
    "def DL_Model(activation= 'linear', neurons= 5, optimizer='Adam'):\n",
    "    model = Sequential()\n",
    "    model.add(Dense(neurons, input_dim=X.shape[1], activation= activation))\n",
    "#     model.add(Dense(neurons, activation= activation))\n",
    "#     model.add(Dropout(0.1))\n",
    "\n",
    "    model.add(Dense(6 if cat=='length_' else 5, activation='softmax'))\n",
    "    model.compile(loss='sparse_categorical_crossentropy', optimizer= optimizer, metrics=['accuracy'])\n",
    "    return model"
   ]
  },
  {
   "cell_type": "code",
   "execution_count": 24,
   "metadata": {},
   "outputs": [
    {
     "data": {
      "application/vnd.jupyter.widget-view+json": {
       "model_id": "2a50538c2a034bcf991c6397858c0c35",
       "version_major": 2,
       "version_minor": 0
      },
      "text/plain": [
       "HBox(children=(FloatProgress(value=1.0, bar_style='info', max=1.0), HTML(value='')))"
      ]
     },
     "metadata": {},
     "output_type": "display_data"
    },
    {
     "data": {
      "application/vnd.jupyter.widget-view+json": {
       "model_id": "",
       "version_major": 2,
       "version_minor": 0
      },
      "text/plain": [
       "HBox(children=(FloatProgress(value=1.0, bar_style='info', max=1.0), HTML(value='')))"
      ]
     },
     "metadata": {},
     "output_type": "display_data"
    },
    {
     "name": "stdout",
     "output_type": "stream",
     "text": [
      "\n",
      "Fold 1 = 0.836!\n"
     ]
    },
    {
     "data": {
      "application/vnd.jupyter.widget-view+json": {
       "model_id": "8a9c91d81a1f4084ba80887fac80c530",
       "version_major": 2,
       "version_minor": 0
      },
      "text/plain": [
       "HBox(children=(FloatProgress(value=1.0, bar_style='info', max=1.0), HTML(value='')))"
      ]
     },
     "metadata": {},
     "output_type": "display_data"
    },
    {
     "data": {
      "application/vnd.jupyter.widget-view+json": {
       "model_id": "",
       "version_major": 2,
       "version_minor": 0
      },
      "text/plain": [
       "HBox(children=(FloatProgress(value=1.0, bar_style='info', max=1.0), HTML(value='')))"
      ]
     },
     "metadata": {},
     "output_type": "display_data"
    },
    {
     "name": "stdout",
     "output_type": "stream",
     "text": [
      "\n",
      "Fold 2 = 0.857!\n"
     ]
    },
    {
     "data": {
      "application/vnd.jupyter.widget-view+json": {
       "model_id": "2b381562c03d4f16b3cc8313f011fe1d",
       "version_major": 2,
       "version_minor": 0
      },
      "text/plain": [
       "HBox(children=(FloatProgress(value=1.0, bar_style='info', max=1.0), HTML(value='')))"
      ]
     },
     "metadata": {},
     "output_type": "display_data"
    },
    {
     "data": {
      "application/vnd.jupyter.widget-view+json": {
       "model_id": "",
       "version_major": 2,
       "version_minor": 0
      },
      "text/plain": [
       "HBox(children=(FloatProgress(value=1.0, bar_style='info', max=1.0), HTML(value='')))"
      ]
     },
     "metadata": {},
     "output_type": "display_data"
    },
    {
     "name": "stdout",
     "output_type": "stream",
     "text": [
      "\n",
      "Fold 3 = 0.810!\n"
     ]
    },
    {
     "data": {
      "application/vnd.jupyter.widget-view+json": {
       "model_id": "2e3bf91bf4b3413da0c32089eddbaa68",
       "version_major": 2,
       "version_minor": 0
      },
      "text/plain": [
       "HBox(children=(FloatProgress(value=1.0, bar_style='info', max=1.0), HTML(value='')))"
      ]
     },
     "metadata": {},
     "output_type": "display_data"
    },
    {
     "data": {
      "application/vnd.jupyter.widget-view+json": {
       "model_id": "",
       "version_major": 2,
       "version_minor": 0
      },
      "text/plain": [
       "HBox(children=(FloatProgress(value=1.0, bar_style='info', max=1.0), HTML(value='')))"
      ]
     },
     "metadata": {},
     "output_type": "display_data"
    },
    {
     "name": "stdout",
     "output_type": "stream",
     "text": [
      "\n",
      "Fold 4 = 0.822!\n"
     ]
    },
    {
     "data": {
      "application/vnd.jupyter.widget-view+json": {
       "model_id": "ab64895ce15b46b29073e1bd4046b013",
       "version_major": 2,
       "version_minor": 0
      },
      "text/plain": [
       "HBox(children=(FloatProgress(value=1.0, bar_style='info', max=1.0), HTML(value='')))"
      ]
     },
     "metadata": {},
     "output_type": "display_data"
    },
    {
     "data": {
      "application/vnd.jupyter.widget-view+json": {
       "model_id": "",
       "version_major": 2,
       "version_minor": 0
      },
      "text/plain": [
       "HBox(children=(FloatProgress(value=1.0, bar_style='info', max=1.0), HTML(value='')))"
      ]
     },
     "metadata": {},
     "output_type": "display_data"
    },
    {
     "name": "stdout",
     "output_type": "stream",
     "text": [
      "\n",
      "Fold 5 = 0.831!\n"
     ]
    },
    {
     "data": {
      "application/vnd.jupyter.widget-view+json": {
       "model_id": "c25abb4dc3804732b2f7f7a4c850bf50",
       "version_major": 2,
       "version_minor": 0
      },
      "text/plain": [
       "HBox(children=(FloatProgress(value=1.0, bar_style='info', max=1.0), HTML(value='')))"
      ]
     },
     "metadata": {},
     "output_type": "display_data"
    },
    {
     "data": {
      "application/vnd.jupyter.widget-view+json": {
       "model_id": "",
       "version_major": 2,
       "version_minor": 0
      },
      "text/plain": [
       "HBox(children=(FloatProgress(value=1.0, bar_style='info', max=1.0), HTML(value='')))"
      ]
     },
     "metadata": {},
     "output_type": "display_data"
    },
    {
     "name": "stdout",
     "output_type": "stream",
     "text": [
      "\n",
      "Fold 6 = 0.790!\n"
     ]
    },
    {
     "data": {
      "application/vnd.jupyter.widget-view+json": {
       "model_id": "d22f2b8b5206443e844780c593041662",
       "version_major": 2,
       "version_minor": 0
      },
      "text/plain": [
       "HBox(children=(FloatProgress(value=1.0, bar_style='info', max=1.0), HTML(value='')))"
      ]
     },
     "metadata": {},
     "output_type": "display_data"
    },
    {
     "data": {
      "application/vnd.jupyter.widget-view+json": {
       "model_id": "",
       "version_major": 2,
       "version_minor": 0
      },
      "text/plain": [
       "HBox(children=(FloatProgress(value=1.0, bar_style='info', max=1.0), HTML(value='')))"
      ]
     },
     "metadata": {},
     "output_type": "display_data"
    },
    {
     "name": "stdout",
     "output_type": "stream",
     "text": [
      "\n",
      "Fold 7 = 0.828!\n"
     ]
    },
    {
     "data": {
      "application/vnd.jupyter.widget-view+json": {
       "model_id": "bba8cdf3af3e44f6bc2973d51ea9e665",
       "version_major": 2,
       "version_minor": 0
      },
      "text/plain": [
       "HBox(children=(FloatProgress(value=1.0, bar_style='info', max=1.0), HTML(value='')))"
      ]
     },
     "metadata": {},
     "output_type": "display_data"
    },
    {
     "data": {
      "application/vnd.jupyter.widget-view+json": {
       "model_id": "",
       "version_major": 2,
       "version_minor": 0
      },
      "text/plain": [
       "HBox(children=(FloatProgress(value=1.0, bar_style='info', max=1.0), HTML(value='')))"
      ]
     },
     "metadata": {},
     "output_type": "display_data"
    },
    {
     "name": "stdout",
     "output_type": "stream",
     "text": [
      "\n",
      "Fold 8 = 0.815!\n"
     ]
    },
    {
     "data": {
      "application/vnd.jupyter.widget-view+json": {
       "model_id": "2a64039b20864d749940985a00974d26",
       "version_major": 2,
       "version_minor": 0
      },
      "text/plain": [
       "HBox(children=(FloatProgress(value=1.0, bar_style='info', max=1.0), HTML(value='')))"
      ]
     },
     "metadata": {},
     "output_type": "display_data"
    },
    {
     "data": {
      "application/vnd.jupyter.widget-view+json": {
       "model_id": "",
       "version_major": 2,
       "version_minor": 0
      },
      "text/plain": [
       "HBox(children=(FloatProgress(value=1.0, bar_style='info', max=1.0), HTML(value='')))"
      ]
     },
     "metadata": {},
     "output_type": "display_data"
    },
    {
     "name": "stdout",
     "output_type": "stream",
     "text": [
      "\n",
      "Fold 9 = 0.863!\n"
     ]
    },
    {
     "data": {
      "application/vnd.jupyter.widget-view+json": {
       "model_id": "db08fcdac89b4be395d51a3c7aeb1e74",
       "version_major": 2,
       "version_minor": 0
      },
      "text/plain": [
       "HBox(children=(FloatProgress(value=1.0, bar_style='info', max=1.0), HTML(value='')))"
      ]
     },
     "metadata": {},
     "output_type": "display_data"
    },
    {
     "data": {
      "application/vnd.jupyter.widget-view+json": {
       "model_id": "",
       "version_major": 2,
       "version_minor": 0
      },
      "text/plain": [
       "HBox(children=(FloatProgress(value=1.0, bar_style='info', max=1.0), HTML(value='')))"
      ]
     },
     "metadata": {},
     "output_type": "display_data"
    },
    {
     "name": "stdout",
     "output_type": "stream",
     "text": [
      "\n",
      "Fold 10 = 0.832!\n"
     ]
    }
   ],
   "source": [
    "from tqdm.keras import TqdmCallback\n",
    "\n",
    "neurons = 100\n",
    "batch_size = 5\n",
    "scores_ensemble = []\n",
    "for i, (train_fold, test_fold) in enumerate(skf.split(X,y)):\n",
    "    train_x, test_x = X[train_fold], X[test_fold]\n",
    "    train_y, test_y = y[train_fold], y[test_fold]\n",
    "    \n",
    "    es = EarlyStopping(monitor='val_accuracy', mode='max', verbose=0, patience=8)\n",
    "    mc = ModelCheckpoint('best_model.h5', monitor='val_accuracy', mode='max', verbose=0, save_best_only=True)\n",
    "    \n",
    "    class_weights = class_weight.compute_class_weight('balanced', np.unique(train_y), np.ravel(train_y))\n",
    "    class_weights = dict(enumerate(class_weights))\n",
    "    clf = KerasClassifier(build_fn = DL_Model, \n",
    "                          neurons = neurons, \n",
    "                          activation='relu', \n",
    "                          class_weight=['balanced', class_weights], \n",
    "                          optimizer='Adam', epochs=20, batch_size=batch_size, verbose=1)\n",
    "    \n",
    "    clf.fit(train_x, train_y, validation_data=(test_x, test_y), callbacks=[es, mc, TqdmCallback(verbose=1)], verbose=0)\n",
    "    best_model = load_model('best_model.h5')\n",
    "    clf_preds = best_model.predict_proba(test_x)\n",
    "    clf_class_preds = clf_preds.argmax(axis=1)\n",
    "    report = classification_report(test_y, clf_class_preds, output_dict=True)\n",
    "    conf_mat = confusion_matrix(clf_class_preds, test_y)\n",
    "    acc = np.sum(conf_mat.diagonal()) / np.sum(conf_mat)\n",
    "    scores_ensemble.append([report, acc])\n",
    "    print(f\"Fold {i+1} = {acc:.3f}!\")"
   ]
  },
  {
   "cell_type": "code",
   "execution_count": 25,
   "metadata": {},
   "outputs": [
    {
     "name": "stdout",
     "output_type": "stream",
     "text": [
      "Avg acc: 0.828\n"
     ]
    }
   ],
   "source": [
    "print(f'Avg acc: {np.array([x[1] for x in scores_ensemble]).mean():>.3f}')"
   ]
  },
  {
   "cell_type": "code",
   "execution_count": 26,
   "metadata": {},
   "outputs": [],
   "source": [
    "def getClassPrecisions(scores):\n",
    "    classReport = {}\n",
    "    for lth in range(0, len(np.unique(train_y))):\n",
    "        classReport[lth] = {}\n",
    "        classReport[lth]['precision'] = 0\n",
    "        classReport[lth]['recall'] = 0\n",
    "        for report, acc in scores:\n",
    "            classReport[lth]['precision'] += report[str(lth)]['precision']\n",
    "            classReport[lth]['recall'] += report[str(lth)]['recall']\n",
    "        classReport[lth]['precision'] /= 10\n",
    "        classReport[lth]['recall'] /= 10\n",
    "    return classReport"
   ]
  },
  {
   "cell_type": "code",
   "execution_count": 27,
   "metadata": {},
   "outputs": [
    {
     "name": "stdout",
     "output_type": "stream",
     "text": [
      "full toss         | 100% right, found  97% of the ones available\n",
      "full              |  82% right, found  91% of the ones available\n",
      "short             |  85% right, found  88% of the ones available\n",
      "yorker            |  96% right, found  78% of the ones available\n",
      "back of a length  |  89% right, found  76% of the ones available\n",
      "good length       |  80% right, found  73% of the ones available\n"
     ]
    }
   ],
   "source": [
    "for cl, report in sorted(getClassPrecisions(scores_ensemble).items(), key=lambda x:x[1]['recall'], reverse=True):\n",
    "    print(f\"{length_class_to_label[int(cl)]:<17} | {report['precision']*100:>3.0f}% right, found {report['recall']*100:>3.0f}% of the ones available\")"
   ]
  },
  {
   "cell_type": "code",
   "execution_count": 184,
   "metadata": {},
   "outputs": [],
   "source": [
    "def getECE(preds, y_test, plot=True, numBins=10):\n",
    "    bins = [{'acc': 0, 'conf': []} for i in range(numBins)]\n",
    "    for i, p in enumerate(preds):\n",
    "        idx = int(max(p) * numBins)\n",
    "        idx = numBins-1 if idx == numBins else idx\n",
    "        if y_test[i] == p.argmax(axis=0):\n",
    "            bins[idx]['acc'] += 1\n",
    "\n",
    "        bins[idx]['conf'].append(max(p))\n",
    "\n",
    "    for b in bins:\n",
    "        if len(b['conf']):\n",
    "            b['acc'] /= len(b['conf'])\n",
    "            b['size'] = len(b['conf'])\n",
    "            b['conf'] = np.mean(b['conf'])\n",
    "\n",
    "    # for i, b in enumerate(bins):\n",
    "    #     print(f\"{i/numBins:.2f} | acc: {b['acc']:.2f} | {b['conf']:.2f}\")\n",
    "\n",
    "    x_plot, accs = [i/numBins for i in range(numBins)], [b['acc'] for b in bins]\n",
    "    confs = [(b['conf'], b['size']) if b['conf'] else (0,0) for b in bins]\n",
    "    ece = 0\n",
    "    for acc, (conf, size) in zip(accs, confs):\n",
    "        ece += (size/len(y_test)) * abs(acc - conf)\n",
    "\n",
    "    if plot:\n",
    "        plt.plot([x[0] for x in confs], accs)\n",
    "        plt.plot(x_plot, x_plot)\n",
    "        plt.xlabel(\"Predicted\")\n",
    "        plt.ylabel(\"Proportion correct\")\n",
    "        plt.show()\n",
    "    return ece"
   ]
  },
  {
   "cell_type": "code",
   "execution_count": 197,
   "metadata": {
    "collapsed": true,
    "jupyter": {
     "outputs_hidden": true
    }
   },
   "outputs": [
    {
     "data": {
      "application/vnd.jupyter.widget-view+json": {
       "model_id": "3ec8025d90b64fea8e0c657f2d4ab465",
       "version_major": 2,
       "version_minor": 0
      },
      "text/plain": [
       "HBox(children=(FloatProgress(value=1.0, bar_style='info', max=1.0), HTML(value='')))"
      ]
     },
     "metadata": {},
     "output_type": "display_data"
    },
    {
     "name": "stdout",
     "output_type": "stream",
     "text": [
      "\n"
     ]
    },
    {
     "name": "stderr",
     "output_type": "stream",
     "text": [
      "/Users/rohit/Library/Python/3.7/lib/python/site-packages/ipykernel_launcher.py:18: UserWarning: Update your `Model` call to the Keras 2 API: `Model(inputs=Tensor(\"de..., outputs=Tensor(\"de...)`\n"
     ]
    },
    {
     "name": "stdout",
     "output_type": "stream",
     "text": [
      "0.7\n"
     ]
    },
    {
     "data": {
      "image/png": "[encoded data removed]",
      "text/plain": [
       "<Figure size 432x288 with 1 Axes>"
      ]
     },
     "metadata": {
      "needs_background": "light"
     },
     "output_type": "display_data"
    },
    {
     "name": "stdout",
     "output_type": "stream",
     "text": [
      "0.7126315789473684\n"
     ]
    },
    {
     "data": {
      "image/png": "[encoded data removed]",
      "text/plain": [
       "<Figure size 432x288 with 1 Axes>"
      ]
     },
     "metadata": {
      "needs_background": "light"
     },
     "output_type": "display_data"
    },
    {
     "name": "stdout",
     "output_type": "stream",
     "text": [
      "0.7252631578947368\n"
     ]
    },
    {
     "data": {
      "image/png": "[encoded data removed]",
      "text/plain": [
       "<Figure size 432x288 with 1 Axes>"
      ]
     },
     "metadata": {
      "needs_background": "light"
     },
     "output_type": "display_data"
    },
    {
     "name": "stdout",
     "output_type": "stream",
     "text": [
      "0.7378947368421052\n"
     ]
    },
    {
     "data": {
      "image/png": "[encoded data removed]",
      "text/plain": [
       "<Figure size 432x288 with 1 Axes>"
      ]
     },
     "metadata": {
      "needs_background": "light"
     },
     "output_type": "display_data"
    },
    {
     "name": "stdout",
     "output_type": "stream",
     "text": [
      "0.7505263157894736\n"
     ]
    },
    {
     "data": {
      "image/png": "[encoded data removed]",
      "text/plain": [
       "<Figure size 432x288 with 1 Axes>"
      ]
     },
     "metadata": {
      "needs_background": "light"
     },
     "output_type": "display_data"
    },
    {
     "name": "stdout",
     "output_type": "stream",
     "text": [
      "0.763157894736842\n"
     ]
    },
    {
     "data": {
      "image/png": "[encoded data removed]",
      "text/plain": [
       "<Figure size 432x288 with 1 Axes>"
      ]
     },
     "metadata": {
      "needs_background": "light"
     },
     "output_type": "display_data"
    },
    {
     "name": "stdout",
     "output_type": "stream",
     "text": [
      "0.7757894736842105\n"
     ]
    },
    {
     "data": {
      "image/png": "[encoded data removed]",
      "text/plain": [
       "<Figure size 432x288 with 1 Axes>"
      ]
     },
     "metadata": {
      "needs_background": "light"
     },
     "output_type": "display_data"
    },
    {
     "name": "stdout",
     "output_type": "stream",
     "text": [
      "0.7884210526315789\n"
     ]
    },
    {
     "data": {
      "image/png": "[encoded data removed]",
      "text/plain": [
       "<Figure size 432x288 with 1 Axes>"
      ]
     },
     "metadata": {
      "needs_background": "light"
     },
     "output_type": "display_data"
    },
    {
     "name": "stdout",
     "output_type": "stream",
     "text": [
      "0.8010526315789473\n"
     ]
    },
    {
     "data": {
      "image/png": "[encoded data removed]",
      "text/plain": [
       "<Figure size 432x288 with 1 Axes>"
      ]
     },
     "metadata": {
      "needs_background": "light"
     },
     "output_type": "display_data"
    },
    {
     "name": "stdout",
     "output_type": "stream",
     "text": [
      "0.8136842105263158\n"
     ]
    },
    {
     "data": {
      "image/png": "[encoded data removed]",
      "text/plain": [
       "<Figure size 432x288 with 1 Axes>"
      ]
     },
     "metadata": {
      "needs_background": "light"
     },
     "output_type": "display_data"
    },
    {
     "name": "stdout",
     "output_type": "stream",
     "text": [
      "0.8263157894736841\n"
     ]
    },
    {
     "data": {
      "image/png": "[encoded data removed]",
      "text/plain": [
       "<Figure size 432x288 with 1 Axes>"
      ]
     },
     "metadata": {
      "needs_background": "light"
     },
     "output_type": "display_data"
    },
    {
     "name": "stdout",
     "output_type": "stream",
     "text": [
      "0.8389473684210526\n"
     ]
    },
    {
     "data": {
      "image/png": "[encoded data removed]",
      "text/plain": [
       "<Figure size 432x288 with 1 Axes>"
      ]
     },
     "metadata": {
      "needs_background": "light"
     },
     "output_type": "display_data"
    },
    {
     "name": "stdout",
     "output_type": "stream",
     "text": [
      "0.851578947368421\n"
     ]
    },
    {
     "data": {
      "image/png": "[encoded data removed]",
      "text/plain": [
       "<Figure size 432x288 with 1 Axes>"
      ]
     },
     "metadata": {
      "needs_background": "light"
     },
     "output_type": "display_data"
    },
    {
     "name": "stdout",
     "output_type": "stream",
     "text": [
      "0.8642105263157894\n"
     ]
    },
    {
     "data": {
      "image/png": "[encoded data removed]",
      "text/plain": [
       "<Figure size 432x288 with 1 Axes>"
      ]
     },
     "metadata": {
      "needs_background": "light"
     },
     "output_type": "display_data"
    },
    {
     "name": "stdout",
     "output_type": "stream",
     "text": [
      "0.8768421052631579\n"
     ]
    },
    {
     "data": {
      "image/png": "[encoded data removed]",
      "text/plain": [
       "<Figure size 432x288 with 1 Axes>"
      ]
     },
     "metadata": {
      "needs_background": "light"
     },
     "output_type": "display_data"
    },
    {
     "name": "stdout",
     "output_type": "stream",
     "text": [
      "0.8894736842105263\n"
     ]
    },
    {
     "data": {
      "image/png": "[encoded data removed]",
      "text/plain": [
       "<Figure size 432x288 with 1 Axes>"
      ]
     },
     "metadata": {
      "needs_background": "light"
     },
     "output_type": "display_data"
    },
    {
     "name": "stdout",
     "output_type": "stream",
     "text": [
      "0.9021052631578947\n"
     ]
    },
    {
     "data": {
      "image/png": "[encoded data removed]",
      "text/plain": [
       "<Figure size 432x288 with 1 Axes>"
      ]
     },
     "metadata": {
      "needs_background": "light"
     },
     "output_type": "display_data"
    },
    {
     "name": "stdout",
     "output_type": "stream",
     "text": [
      "0.9147368421052631\n"
     ]
    },
    {
     "data": {
      "image/png": "[encoded data removed]",
      "text/plain": [
       "<Figure size 432x288 with 1 Axes>"
      ]
     },
     "metadata": {
      "needs_background": "light"
     },
     "output_type": "display_data"
    },
    {
     "name": "stdout",
     "output_type": "stream",
     "text": [
      "0.9273684210526315\n"
     ]
    },
    {
     "data": {
      "image/png": "[encoded data removed]",
      "text/plain": [
       "<Figure size 432x288 with 1 Axes>"
      ]
     },
     "metadata": {
      "needs_background": "light"
     },
     "output_type": "display_data"
    },
    {
     "name": "stdout",
     "output_type": "stream",
     "text": [
      "0.94\n"
     ]
    },
    {
     "data": {
      "image/png": "[encoded data removed]",
      "text/plain": [
       "<Figure size 432x288 with 1 Axes>"
      ]
     },
     "metadata": {
      "needs_background": "light"
     },
     "output_type": "display_data"
    },
    {
     "data": {
      "image/png": "[encoded data removed]",
      "text/plain": [
       "<Figure size 432x288 with 1 Axes>"
      ]
     },
     "metadata": {
      "needs_background": "light"
     },
     "output_type": "display_data"
    },
    {
     "name": "stdout",
     "output_type": "stream",
     "text": [
      "Overall accuracy: 0.855\n",
      "full toss         | 100% right, found 100% of the ones available\n",
      "yorker            |  50% right, found  60% of the ones available\n",
      "full              |  88% right, found  89% of the ones available\n",
      "good length       |  86% right, found  82% of the ones available\n",
      "back of a length  |  88% right, found  81% of the ones available\n",
      "short             |  78% right, found  93% of the ones available\n"
     ]
    }
   ],
   "source": [
    "def evaluate(neurons, epochs, batch_size, temps=[1], verbose=0, ece=False):\n",
    "    class_weights = class_weight.compute_class_weight('balanced', np.unique(y), np.ravel(y))\n",
    "    class_weights = dict(enumerate(class_weights))\n",
    "    \n",
    "    clf = DL_Model(neurons=neurons, activation='relu', optimizer='Adam')\n",
    "    clf.fit(X, y, epochs=epochs, batch_size=batch_size, \n",
    "            class_weight = class_weights, \n",
    "            callbacks=[TqdmCallback(verbose=verbose)], verbose=0)\n",
    "\n",
    "    eces = []\n",
    "    for temp in temps:\n",
    "        fc=clf.layers[0]\n",
    "        out=clf.layers[1]\n",
    "        tempLayer = Lambda(lambda x: x / temp)\n",
    "        predictors = tempLayer(fc.output)\n",
    "        predictors = out(predictors)\n",
    "    \n",
    "        newClf = Model(input=clf.input, output=predictors)\n",
    "        clf_preds = newClf.predict(X_test)\n",
    "        clf_class_preds = clf_preds.argmax(axis=1)\n",
    "        if ece:\n",
    "            print(temp)\n",
    "            eces.append(getECE(plot=True, preds = clf_preds, y_test=y_test, numBins=8))\n",
    "        report = classification_report(y_test, clf_class_preds, output_dict=True)\n",
    "        conf_mat = confusion_matrix(clf_class_preds, y_test)\n",
    "        if verbose:\n",
    "            print(conf_mat)\n",
    "            \n",
    "        acc = np.sum(conf_mat.diagonal()) / np.sum(conf_mat)\n",
    "        \n",
    "    if ece:\n",
    "        plt.plot(temps, eces)\n",
    "        plt.show()\n",
    "    \n",
    "    return report, acc, clf_class_preds, clf_preds\n",
    "\n",
    "temps = np.linspace(0.7,0.94,20)\n",
    "report, acc, class_preds, preds = evaluate(neurons=neurons, epochs=4, batch_size=batch_size, temps=temps, ece=True)\n",
    "print(f\"Overall accuracy: {acc:>.3f}\")\n",
    "\n",
    "for lth in range(len(np.unique(y))):\n",
    "    print(f\"{length_class_to_label[int(lth)]:<17} | {report[str(lth)]['precision']*100:>3.0f}% right, found {report[str(lth)]['recall']*100:>3.0f}% of the ones available\")"
   ]
  },
  {
   "cell_type": "code",
   "execution_count": 296,
   "metadata": {},
   "outputs": [
    {
     "name": "stdout",
     "output_type": "stream",
     "text": [
      "0.8 is where difference is maximum!\n"
     ]
    },
    {
     "data": {
      "image/png": "[encoded data removed]",
      "text/plain": [
       "<Figure size 432x288 with 1 Axes>"
      ]
     },
     "metadata": {
      "needs_background": "light"
     },
     "output_type": "display_data"
    }
   ],
   "source": [
    "def getProbabiltiyUncertain(nBins=25):\n",
    "    xPlot = np.linspace(0,1-1/(nBins),nBins)\n",
    "    wrongBins = np.array([0 for x in range(nBins)])\n",
    "    rightBins = np.array([0 for x in range(nBins)])\n",
    "    wrong = 0\n",
    "    right = 0\n",
    "    for cl, p, t in zip(class_preds, preds, y_test):\n",
    "        indices = p.argsort()[::-1][:1]\n",
    "        idx = int(np.mean(p[indices], axis=0) * nBins)\n",
    "\n",
    "    #     idx = int(max(p) * nBins)\n",
    "        idx = nBins-1 if idx == nBins else idx\n",
    "        if t != cl:\n",
    "            wrong += 1\n",
    "    #         wrongBins[idx] += 1\n",
    "            for i in range(idx, nBins):\n",
    "                wrongBins[i] += 1\n",
    "        else:\n",
    "            right += 1\n",
    "    #         rightBins[idx] += 1\n",
    "            for i in range(idx, nBins):\n",
    "                rightBins[i] += 1\n",
    "\n",
    "\n",
    "\n",
    "    wrongBins = wrongBins / wrong\n",
    "    rightBins = rightBins / right\n",
    "\n",
    "    maxDiff = 0\n",
    "    probability = -1\n",
    "    for i, (w, r) in enumerate(zip(wrongBins, rightBins)):\n",
    "        if w - r > maxDiff:\n",
    "            maxDiff = w - r\n",
    "            probability = i / nBins\n",
    "\n",
    "    print(f\"{probability} is where difference is maximum!\")\n",
    "    plt.plot(xPlot, wrongBins, label='wrong')\n",
    "    plt.plot(xPlot, rightBins, label='right')\n",
    "    plt.plot(xPlot, wrongBins-rightBins, label='difference')\n",
    "    plt.legend()\n",
    "getProbabiltiyUncertain(25)"
   ]
  },
  {
   "cell_type": "code",
   "execution_count": 298,
   "metadata": {},
   "outputs": [
    {
     "data": {
      "text/plain": [
       "(0.2767857142857143, 0.6842105263157895)"
      ]
     },
     "execution_count": 298,
     "metadata": {},
     "output_type": "execute_result"
    }
   ],
   "source": [
    "probability = 0.75\n",
    "rightBins[int(nBins * probability)], wrongBins[int(nBins * probability)]\n",
    "# 19 / numBins"
   ]
  },
  {
   "cell_type": "code",
   "execution_count": 195,
   "metadata": {},
   "outputs": [
    {
     "data": {
      "application/vnd.jupyter.widget-view+json": {
       "model_id": "2997ad69ca1843c4bc65d30987093f44",
       "version_major": 2,
       "version_minor": 0
      },
      "text/plain": [
       "HBox(children=(FloatProgress(value=1.0, bar_style='info', max=1.0), HTML(value='')))"
      ]
     },
     "metadata": {},
     "output_type": "display_data"
    },
    {
     "data": {
      "application/vnd.jupyter.widget-view+json": {
       "model_id": "",
       "version_major": 2,
       "version_minor": 0
      },
      "text/plain": [
       "HBox(children=(FloatProgress(value=1.0, bar_style='info', max=1.0), HTML(value='')))"
      ]
     },
     "metadata": {},
     "output_type": "display_data"
    },
    {
     "name": "stdout",
     "output_type": "stream",
     "text": [
      "\n"
     ]
    },
    {
     "name": "stderr",
     "output_type": "stream",
     "text": [
      "/Users/rohit/Library/Python/3.7/lib/python/site-packages/ipykernel_launcher.py:15: UserWarning: Update your `Model` call to the Keras 2 API: `Model(inputs=Tensor(\"de..., outputs=Tensor(\"de...)`\n",
      "  from ipykernel import kernelapp as app\n"
     ]
    }
   ],
   "source": [
    "def compileFinalModel(epochs, temperature):\n",
    "    class_weights = class_weight.compute_class_weight('balanced', np.unique(y), np.ravel(y))\n",
    "    class_weights = dict(enumerate(class_weights))\n",
    "    clf = DL_Model(neurons=neurons, activation='relu', optimizer='Adam')\n",
    "    clf.fit(df_train[X_features].values, df_train[y_features].values, \n",
    "            epochs=epochs, batch_size=batch_size, \n",
    "            class_weight = class_weights, \n",
    "            callbacks=[TqdmCallback(verbose=1)], verbose=0)\n",
    "    \n",
    "    fc=clf.layers[0]\n",
    "    out=clf.layers[1]\n",
    "    tempLayer = Lambda(lambda x: x / temperature)\n",
    "    predictors = tempLayer(fc.output)\n",
    "    predictors = out(predictors)\n",
    "    newClf = Model(input=clf.input, output=predictors)\n",
    "    newClf.save(f'{cat}_final_{neurons}N_{batch_size}B_{epochs}.h5')\n",
    "\n",
    "compileFinalModel(4, temperature=0.8)"
   ]
  },
  {
   "cell_type": "code",
   "execution_count": 30,
   "metadata": {},
   "outputs": [],
   "source": [
    "save_data(ngramsImportant, \"length_ngrams\")"
   ]
  },
  {
   "cell_type": "code",
   "execution_count": null,
   "metadata": {},
   "outputs": [],
   "source": []
  }
 ],
 "metadata": {
  "kernelspec": {
   "display_name": "Python 3",
   "language": "python",
   "name": "python3"
  },
  "language_info": {
   "codemirror_mode": {
    "name": "ipython",
    "version": 3
   },
   "file_extension": ".py",
   "mimetype": "text/x-python",
   "name": "python",
   "nbconvert_exporter": "python",
   "pygments_lexer": "ipython3",
   "version": "3.7.0"
  }
 },
 "nbformat": 4,
 "nbformat_minor": 4
}
