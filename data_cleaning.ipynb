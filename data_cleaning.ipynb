{
 "cells": [
  {
   "cell_type": "code",
   "execution_count": 396,
   "metadata": {},
   "outputs": [],
   "source": [
    "import pickle\n",
    "import json\n",
    "from random import randint\n",
    "from tqdm import tqdm"
   ]
  },
  {
   "cell_type": "code",
   "execution_count": 394,
   "metadata": {},
   "outputs": [],
   "source": [
    "def load_data(filename):\n",
    "    with open(f\"{filename}.pkl\", \"rb\") as f:\n",
    "        data = pickle.load(f)\n",
    "    print(\"Loaded data!\")\n",
    "    return data\n",
    "        \n",
    "def save_data(data, filename):\n",
    "    with open(f\"{filename}.pkl\", \"wb\") as f:\n",
    "        pickle.dump(data, f)\n",
    "        \n",
    "def export_to_json(data):\n",
    "    with open('matches.json', 'w') as json_file:\n",
    "        json.dump(data, json_file)\n",
    "    \n",
    "def getRandomMatch(data):\n",
    "    return data[match_ids[randint(0, 1919)]]\n",
    "\n",
    "def printInnings(data, matchId, inningsNum, summaries=False):\n",
    "    if summaries:\n",
    "        for over in data[matchId]['commentary'][f'innings{inningsNum}']['over_summaries']:\n",
    "            print(over)\n",
    "    else:\n",
    "        for ball in data[matchId]['commentary'][f'innings{inningsNum}']['balls']:\n",
    "            print(ball)"
   ]
  },
  {
   "cell_type": "code",
   "execution_count": 470,
   "metadata": {},
   "outputs": [
    {
     "name": "stdout",
     "output_type": "stream",
     "text": [
      "Loaded data!\n",
      "Loaded data!\n"
     ]
    }
   ],
   "source": [
    "data, players = load_data(\"clean_matches\"), load_data(\"player_table\")\n",
    "match_ids = list(data.keys())"
   ]
  },
  {
   "cell_type": "code",
   "execution_count": 469,
   "metadata": {},
   "outputs": [],
   "source": [
    "def remove_rogue_matches():\n",
    "    rogue_m = []\n",
    "    from IPython.display import clear_output\n",
    "    for i, m in data.items():\n",
    "        if not (m['commentary']['innings1'] and m['commentary']['innings2']):\n",
    "            if m['result'] != \"No result\":\n",
    "                rogue_m.append(i)\n",
    "\n",
    "    for i in rogue_m:\n",
    "        del data[i]\n",
    "\n",
    "remove_rogue_matches()"
   ]
  },
  {
   "cell_type": "code",
   "execution_count": 154,
   "metadata": {
    "collapsed": true,
    "jupyter": {
     "outputs_hidden": true
    }
   },
   "outputs": [
    {
     "name": "stdout",
     "output_type": "stream",
     "text": [
      "['4176', '2119', '2230', '8876', '6256', '4382', '12049', '7445', '6973', '10130', '2101']\n",
      "ALPHA_NAME          : GILCHRIST,AC\n",
      "BATTING_HAND        : left-hand batsman\n",
      "BATTING_STYLE       : lhb       \n",
      "BATTING_STYLE_LONG  : left-hand bat\n",
      "BOWLING_HAND        : right-arm bowler\n",
      "BOWLING_PACESPIN    : spin bowler\n",
      "BOWLING_STYLE       : ob        \n",
      "BOWLING_STYLE_LONG  : right-arm offbreak \n",
      "CARD_LONG           : AC Gilchrist\n",
      "CARD_QUALIFIER      :           \n",
      "CARD_SHORT          : Gilchrist \n",
      "DOB                 : 1971-11-14\n",
      "KNOWN_AS            : Adam Gilchrist\n",
      "MOBILE_NAME         : Gilchrist \n",
      "PLAYER_ID           : 4176      \n",
      "PLAYER_PRIMARY_ROLE : wicketkeeper batsman\n",
      "PLAYER_STYLE_ID     : 7         \n",
      "PLAYER_TYPE         : 1         \n",
      "PLAYER_TYPE_NAME    : player    \n"
     ]
    }
   ],
   "source": [
    "# for m_id, details in data.items():\n",
    "from espncricinfo.match import Match\n",
    "m = getRandomMatch()\n",
    "for k, v in players[m['team_1_players'][0]].items():\n",
    "    if v is None: v = \"\"\n",
    "    print(f\"{k.upper():<20}: {v:<10}\")"
   ]
  },
  {
   "cell_type": "code",
   "execution_count": 155,
   "metadata": {
    "collapsed": true,
    "jupyter": {
     "outputs_hidden": true,
     "source_hidden": true
    }
   },
   "outputs": [
    {
     "name": "stdout",
     "output_type": "stream",
     "text": [
      "1  - India           :   397\n",
      "2  - Sri Lanka       :   379\n",
      "3  - Australia       :   359\n",
      "4  - England         :   334\n",
      "5  - Pakistan        :   317\n",
      "6  - West Indies     :   303\n",
      "7  - South Africa    :   296\n",
      "8  - New Zealand     :   294\n",
      "9  - Bangladesh      :   261\n",
      "10 - Zimbabwe        :   241\n",
      "11 - Ireland         :   143\n",
      "12 - Afghanistan     :   122\n",
      "13 - Scotland        :    94\n",
      "14 - Kenya           :    65\n",
      "15 - Netherlands     :    52\n",
      "16 - Canada          :    51\n",
      "17 - U.A.E.          :    41\n",
      "18 - Hong Kong       :    22\n",
      "19 - P.N.G.          :    22\n",
      "20 - Bermuda         :    17\n",
      "21 - Asia XI         :     7\n",
      "22 - Africa XI       :     6\n",
      "23 - Nepal           :     6\n",
      "24 - Oman            :     5\n",
      "25 - ICC World XI    :     4\n",
      "26 - Namibia         :     1\n",
      "27 - U.S.A.          :     1\n"
     ]
    }
   ],
   "source": [
    "from collections import defaultdict\n",
    "teams = defaultdict(int)\n",
    "for i, match in data.items():\n",
    "    teams[match['team1']] += 1\n",
    "    teams[match['team2']] += 1\n",
    "counts = sorted(list(teams.items()), key=lambda x:-x[1])\n",
    "for i, (k, v) in enumerate(counts):\n",
    "    print(f'{i+1:<2} - {k:<15} : {v:>5}')"
   ]
  },
  {
   "cell_type": "code",
   "execution_count": 471,
   "metadata": {},
   "outputs": [],
   "source": [
    "import re\n",
    "overPattern = \"^\\d+\\.\\d+$\"\n",
    "def extract_over_details(innings):\n",
    "    summaries = [ball for ball in innings if 'END OF' in ball[0]]\n",
    "    balls = [ball for ball in innings if 'END OF' not in ball[0]]\n",
    "    return summaries, balls\n",
    "\n",
    "def findActualBall(ball):\n",
    "    for i, item in enumerate(ball):\n",
    "        if bool(re.search(pattern, item)):\n",
    "            return ball[i:i+3]\n",
    "    return ball\n",
    "\n",
    "def getNumRogueBalls(innings):\n",
    "    num = 0\n",
    "    for ball in innings:\n",
    "        if not bool(re.search(overPattern, ball[0])):\n",
    "            num += 1\n",
    "    return num\n",
    "\n",
    "def cleanInnings(innings):\n",
    "    newInnings = {}\n",
    "    newInnings['over_summaries'], balls = extract_over_details(innings)\n",
    "    newBalls = []\n",
    "    for ball in balls:\n",
    "        if not re.search(overPattern, ball[0]):\n",
    "            newBalls.append(findActualBall(ball))\n",
    "            \n",
    "    newInnings['balls'] = newBalls\n",
    "    return newInnings"
   ]
  },
  {
   "cell_type": "code",
   "execution_count": 131,
   "metadata": {},
   "outputs": [],
   "source": [
    "from IPython.display import clear_output\n",
    "overPattern = \"^\\d+\\.\\d+$\"\n",
    "for m_id, m in data.items():\n",
    "    balls = []\n",
    "    for i, ball in enumerate(m['commentary']['innings1']['balls']):\n",
    "        if not re.search(overPattern, ball[0]):\n",
    "            print(m_id, m['team1'], m['team2'], 1, i)\n",
    "            print(ball)\n",
    "            \n",
    "    for i, ball in enumerate(m['commentary']['innings2']['balls']):\n",
    "        if not re.search(overPattern, ball[0]):\n",
    "            print(m_id, m['team1'], m['team2'], 2, i)\n",
    "            print(ball)"
   ]
  },
  {
   "cell_type": "code",
   "execution_count": 373,
   "metadata": {},
   "outputs": [],
   "source": [
    "def getHistogramData(data):\n",
    "    numBallsRogue = defaultdict(int)\n",
    "    for i, m in data.items():\n",
    "        comms1 = m['commentary']['innings1']\n",
    "        comms2 = m['commentary']['innings2']\n",
    "\n",
    "        summaries1, balls1 = extract_over_details(comms1)\n",
    "        summaries2, balls2 = extract_over_details(comms2)\n",
    "\n",
    "        numBallsRogue[i] += getNumRogueBalls(balls1) + getNumRogueBalls(balls2)\n",
    "    return numBallsRogue\n",
    "\n",
    "numBallsRogue = getHistogramData(data)"
   ]
  },
  {
   "cell_type": "code",
   "execution_count": 442,
   "metadata": {
    "jupyter": {
     "source_hidden": true
    }
   },
   "outputs": [],
   "source": [
    "import numpy as np\n",
    "from matplotlib.ticker import FormatStrFormatter\n",
    "\n",
    "def plotHist(numBallsRogue):\n",
    "    data_hist = np.random.randn(82)\n",
    "    fig, ax = plt.subplots(figsize=(24,5))\n",
    "    counts, bins, patches = ax.hist(numBallsRogue, facecolor='yellow', edgecolor='gray')\n",
    "\n",
    "    # Set the ticks to be at the edges of the bins.\n",
    "    ax.set_xticks(bins)\n",
    "    # Set the xaxis's tick labels to be formatted with 1 decimal place...\n",
    "    ax.xaxis.set_major_formatter(FormatStrFormatter('%0.1f'))\n",
    "\n",
    "    # Change the colors of bars at the edges...\n",
    "    twentyfifth, seventyfifth = np.percentile(data_hist, [25, 75])\n",
    "    for patch, rightside, leftside in zip(patches, bins[1:], bins[:-1]):\n",
    "        if rightside < twentyfifth:\n",
    "            patch.set_facecolor('green')\n",
    "        elif leftside > seventyfifth:\n",
    "            patch.set_facecolor('red')\n",
    "\n",
    "    # Label the raw counts and the percentages below the x-axis...\n",
    "    bin_centers = 0.5 * np.diff(bins) + bins[:-1]\n",
    "    for count, x in zip(counts, bin_centers):\n",
    "        # Label the raw counts\n",
    "        ax.annotate(str(count), xy=(x, 0), xycoords=('data', 'axes fraction'),\n",
    "            xytext=(0, -18), textcoords='offset points', va='top', ha='center')\n",
    "\n",
    "        # Label the percentages\n",
    "        percent = '%0.0f%%' % (100 * float(count) / counts.sum())\n",
    "        ax.annotate(percent, xy=(x, 0), xycoords=('data', 'axes fraction'),\n",
    "            xytext=(0, -32), textcoords='offset points', va='top', ha='center')\n",
    "\n",
    "\n",
    "    # Give ourselves some more room at the bottom of the plot\n",
    "    plt.subplots_adjust(bottom=0.1)\n",
    "    plt.show()"
   ]
  },
  {
   "cell_type": "code",
   "execution_count": 472,
   "metadata": {},
   "outputs": [],
   "source": [
    "newData = data.copy()\n",
    "for i, m in newData.items():\n",
    "    i1 = m['commentary']['innings1']\n",
    "    i2 = m['commentary']['innings2']\n",
    "    \n",
    "    newData[i]['commentary']['innings1'] = cleanInnings(i1)\n",
    "    newData[i]['commentary']['innings2'] = cleanInnings(i2)"
   ]
  },
  {
   "cell_type": "code",
   "execution_count": 375,
   "metadata": {},
   "outputs": [
    {
     "data": {
      "image/png": "[encoded data removed]",
      "text/plain": [
       "<Figure size 1728x360 with 1 Axes>"
      ]
     },
     "metadata": {
      "needs_background": "light"
     },
     "output_type": "display_data"
    }
   ],
   "source": [
    "plotHist(list(numBallsRogue.values()))"
   ]
  },
  {
   "cell_type": "code",
   "execution_count": 444,
   "metadata": {},
   "outputs": [
    {
     "name": "stdout",
     "output_type": "stream",
     "text": [
      "over_summaries\n",
      "balls\n"
     ]
    }
   ],
   "source": [
    "m_ids = list(newNumBallsRogue.keys())\n",
    "printInnings(newData, m_ids[800], 2, summaries=False)"
   ]
  },
  {
   "cell_type": "code",
   "execution_count": 445,
   "metadata": {
    "collapsed": true,
    "jupyter": {
     "outputs_hidden": true
    }
   },
   "outputs": [
    {
     "name": "stdout",
     "output_type": "stream",
     "text": [
      "over_summaries\n",
      "over_summaries\n"
     ]
    },
    {
     "name": "stdin",
     "output_type": "stream",
     "text": [
      "Keep? \n"
     ]
    },
    {
     "name": "stdout",
     "output_type": "stream",
     "text": [
      "balls\n",
      "balls\n"
     ]
    },
    {
     "name": "stdin",
     "output_type": "stream",
     "text": [
      "Keep? wdas\n"
     ]
    },
    {
     "name": "stdout",
     "output_type": "stream",
     "text": [
      "over_summaries\n",
      "over_summaries\n"
     ]
    },
    {
     "ename": "KeyboardInterrupt",
     "evalue": "",
     "output_type": "error",
     "traceback": [
      "\u001b[0;31m-------------------------------------------------\u001b[0m",
      "\u001b[0;31mKeyboardInterrupt\u001b[0mTraceback (most recent call last)",
      "\u001b[0;32m~/Library/Python/3.7/lib/python/site-packages/ipykernel/kernelbase.py\u001b[0m in \u001b[0;36m_input_request\u001b[0;34m(self, prompt, ident, parent, password)\u001b[0m\n\u001b[1;32m    877\u001b[0m             \u001b[0;32mtry\u001b[0m\u001b[0;34m:\u001b[0m\u001b[0;34m\u001b[0m\u001b[0m\n\u001b[0;32m--> 878\u001b[0;31m                 \u001b[0mident\u001b[0m\u001b[0;34m,\u001b[0m \u001b[0mreply\u001b[0m \u001b[0;34m=\u001b[0m \u001b[0mself\u001b[0m\u001b[0;34m.\u001b[0m\u001b[0msession\u001b[0m\u001b[0;34m.\u001b[0m\u001b[0mrecv\u001b[0m\u001b[0;34m(\u001b[0m\u001b[0mself\u001b[0m\u001b[0;34m.\u001b[0m\u001b[0mstdin_socket\u001b[0m\u001b[0;34m,\u001b[0m \u001b[0;36m0\u001b[0m\u001b[0;34m)\u001b[0m\u001b[0;34m\u001b[0m\u001b[0m\n\u001b[0m\u001b[1;32m    879\u001b[0m             \u001b[0;32mexcept\u001b[0m \u001b[0mException\u001b[0m\u001b[0;34m:\u001b[0m\u001b[0;34m\u001b[0m\u001b[0m\n",
      "\u001b[0;32m~/Library/Python/3.7/lib/python/site-packages/jupyter_client/session.py\u001b[0m in \u001b[0;36mrecv\u001b[0;34m(self, socket, mode, content, copy)\u001b[0m\n\u001b[1;32m    802\u001b[0m         \u001b[0;32mtry\u001b[0m\u001b[0;34m:\u001b[0m\u001b[0;34m\u001b[0m\u001b[0m\n\u001b[0;32m--> 803\u001b[0;31m             \u001b[0mmsg_list\u001b[0m \u001b[0;34m=\u001b[0m \u001b[0msocket\u001b[0m\u001b[0;34m.\u001b[0m\u001b[0mrecv_multipart\u001b[0m\u001b[0;34m(\u001b[0m\u001b[0mmode\u001b[0m\u001b[0;34m,\u001b[0m \u001b[0mcopy\u001b[0m\u001b[0;34m=\u001b[0m\u001b[0mcopy\u001b[0m\u001b[0;34m)\u001b[0m\u001b[0;34m\u001b[0m\u001b[0m\n\u001b[0m\u001b[1;32m    804\u001b[0m         \u001b[0;32mexcept\u001b[0m \u001b[0mzmq\u001b[0m\u001b[0;34m.\u001b[0m\u001b[0mZMQError\u001b[0m \u001b[0;32mas\u001b[0m \u001b[0me\u001b[0m\u001b[0;34m:\u001b[0m\u001b[0;34m\u001b[0m\u001b[0m\n",
      "\u001b[0;32m~/Library/Python/3.7/lib/python/site-packages/zmq/sugar/socket.py\u001b[0m in \u001b[0;36mrecv_multipart\u001b[0;34m(self, flags, copy, track)\u001b[0m\n\u001b[1;32m    466\u001b[0m         \"\"\"\n\u001b[0;32m--> 467\u001b[0;31m         \u001b[0mparts\u001b[0m \u001b[0;34m=\u001b[0m \u001b[0;34m[\u001b[0m\u001b[0mself\u001b[0m\u001b[0;34m.\u001b[0m\u001b[0mrecv\u001b[0m\u001b[0;34m(\u001b[0m\u001b[0mflags\u001b[0m\u001b[0;34m,\u001b[0m \u001b[0mcopy\u001b[0m\u001b[0;34m=\u001b[0m\u001b[0mcopy\u001b[0m\u001b[0;34m,\u001b[0m \u001b[0mtrack\u001b[0m\u001b[0;34m=\u001b[0m\u001b[0mtrack\u001b[0m\u001b[0;34m)\u001b[0m\u001b[0;34m]\u001b[0m\u001b[0;34m\u001b[0m\u001b[0m\n\u001b[0m\u001b[1;32m    468\u001b[0m         \u001b[0;31m# have first part already, only loop while more to receive\u001b[0m\u001b[0;34m\u001b[0m\u001b[0;34m\u001b[0m\u001b[0m\n",
      "\u001b[0;32mzmq/backend/cython/socket.pyx\u001b[0m in \u001b[0;36mzmq.backend.cython.socket.Socket.recv\u001b[0;34m()\u001b[0m\n",
      "\u001b[0;32mzmq/backend/cython/socket.pyx\u001b[0m in \u001b[0;36mzmq.backend.cython.socket.Socket.recv\u001b[0;34m()\u001b[0m\n",
      "\u001b[0;32mzmq/backend/cython/socket.pyx\u001b[0m in \u001b[0;36mzmq.backend.cython.socket._recv_copy\u001b[0;34m()\u001b[0m\n",
      "\u001b[0;32m~/Library/Python/3.7/lib/python/site-packages/zmq/backend/cython/checkrc.pxd\u001b[0m in \u001b[0;36mzmq.backend.cython.checkrc._check_rc\u001b[0;34m()\u001b[0m\n",
      "\u001b[0;31mKeyboardInterrupt\u001b[0m: ",
      "\nDuring handling of the above exception, another exception occurred:\n",
      "\u001b[0;31mKeyboardInterrupt\u001b[0mTraceback (most recent call last)",
      "\u001b[0;32m<ipython-input-445-8379481cbe88>\u001b[0m in \u001b[0;36m<module>\u001b[0;34m\u001b[0m\n\u001b[1;32m     10\u001b[0m                 \u001b[0mprint\u001b[0m\u001b[0;34m(\u001b[0m\u001b[0mball\u001b[0m\u001b[0;34m)\u001b[0m\u001b[0;34m\u001b[0m\u001b[0m\n\u001b[1;32m     11\u001b[0m                 \u001b[0mprint\u001b[0m\u001b[0;34m(\u001b[0m\u001b[0mnewBall\u001b[0m\u001b[0;34m)\u001b[0m\u001b[0;34m\u001b[0m\u001b[0m\n\u001b[0;32m---> 12\u001b[0;31m                 \u001b[0mx\u001b[0m \u001b[0;34m=\u001b[0m \u001b[0minput\u001b[0m\u001b[0;34m(\u001b[0m\u001b[0;34m\"Keep?\"\u001b[0m\u001b[0;34m)\u001b[0m\u001b[0;34m\u001b[0m\u001b[0m\n\u001b[0m\u001b[1;32m     13\u001b[0m                 \u001b[0;32mif\u001b[0m \u001b[0mx\u001b[0m \u001b[0;34m==\u001b[0m \u001b[0;34m\"y\"\u001b[0m\u001b[0;34m:\u001b[0m\u001b[0;34m\u001b[0m\u001b[0m\n\u001b[1;32m     14\u001b[0m                     \u001b[0mc\u001b[0m\u001b[0;34m[\u001b[0m\u001b[0midx\u001b[0m\u001b[0;34m]\u001b[0m \u001b[0;34m=\u001b[0m \u001b[0mnewBall\u001b[0m\u001b[0;34m\u001b[0m\u001b[0m\n",
      "\u001b[0;32m~/Library/Python/3.7/lib/python/site-packages/ipykernel/kernelbase.py\u001b[0m in \u001b[0;36mraw_input\u001b[0;34m(self, prompt)\u001b[0m\n\u001b[1;32m    851\u001b[0m             \u001b[0mself\u001b[0m\u001b[0;34m.\u001b[0m\u001b[0m_parent_ident\u001b[0m\u001b[0;34m,\u001b[0m\u001b[0;34m\u001b[0m\u001b[0m\n\u001b[1;32m    852\u001b[0m             \u001b[0mself\u001b[0m\u001b[0;34m.\u001b[0m\u001b[0m_parent_header\u001b[0m\u001b[0;34m,\u001b[0m\u001b[0;34m\u001b[0m\u001b[0m\n\u001b[0;32m--> 853\u001b[0;31m             \u001b[0mpassword\u001b[0m\u001b[0;34m=\u001b[0m\u001b[0;32mFalse\u001b[0m\u001b[0;34m,\u001b[0m\u001b[0;34m\u001b[0m\u001b[0m\n\u001b[0m\u001b[1;32m    854\u001b[0m         )\n\u001b[1;32m    855\u001b[0m \u001b[0;34m\u001b[0m\u001b[0m\n",
      "\u001b[0;32m~/Library/Python/3.7/lib/python/site-packages/ipykernel/kernelbase.py\u001b[0m in \u001b[0;36m_input_request\u001b[0;34m(self, prompt, ident, parent, password)\u001b[0m\n\u001b[1;32m    881\u001b[0m             \u001b[0;32mexcept\u001b[0m \u001b[0mKeyboardInterrupt\u001b[0m\u001b[0;34m:\u001b[0m\u001b[0;34m\u001b[0m\u001b[0m\n\u001b[1;32m    882\u001b[0m                 \u001b[0;31m# re-raise KeyboardInterrupt, to truncate traceback\u001b[0m\u001b[0;34m\u001b[0m\u001b[0;34m\u001b[0m\u001b[0m\n\u001b[0;32m--> 883\u001b[0;31m                 \u001b[0;32mraise\u001b[0m \u001b[0mKeyboardInterrupt\u001b[0m\u001b[0;34m\u001b[0m\u001b[0m\n\u001b[0m\u001b[1;32m    884\u001b[0m             \u001b[0;32melse\u001b[0m\u001b[0;34m:\u001b[0m\u001b[0;34m\u001b[0m\u001b[0m\n\u001b[1;32m    885\u001b[0m                 \u001b[0;32mbreak\u001b[0m\u001b[0;34m\u001b[0m\u001b[0m\n",
      "\u001b[0;31mKeyboardInterrupt\u001b[0m: "
     ]
    }
   ],
   "source": [
    "more_rogues = []\n",
    "for i, m in newData.items():\n",
    "    clear_output()\n",
    "    comms1 = m['commentary']['innings1']['balls']\n",
    "    comms2 = m['commentary']['innings2']['balls']\n",
    "    for inn,c in enumerate([comms1, comms2]):\n",
    "        for idx, ball in enumerate(c):\n",
    "            if not bool(re.search(pattern, ball[0])):\n",
    "                newBall = findActualBall(ball)\n",
    "                print(ball)\n",
    "                print(newBall)\n",
    "                x = input(\"Keep?\")\n",
    "                if x == \"y\":\n",
    "                    c[idx] = newBall\n",
    "                elif x == \"d\":\n",
    "                    del c[idx]\n",
    "                elif bool(re.search(pattern, x)):\n",
    "                    c[idx][0] = x\n",
    "                else:\n",
    "                    more_rogues.append((x, i))"
   ]
  },
  {
   "cell_type": "code",
   "execution_count": 473,
   "metadata": {},
   "outputs": [
    {
     "data": {
      "image/png": "[encoded data removed]",
      "text/plain": [
       "<Figure size 1728x360 with 1 Axes>"
      ]
     },
     "metadata": {
      "needs_background": "light"
     },
     "output_type": "display_data"
    }
   ],
   "source": [
    "def plotRogues(d):\n",
    "    newNumBallsRogue = defaultdict(int)\n",
    "    for i, m in d.items():\n",
    "        comms1 = m['commentary']['innings1']['balls']\n",
    "        comms2 = m['commentary']['innings2']['balls']\n",
    "        newNumBallsRogue[i] += getNumRogueBalls(comms1) + getNumRogueBalls(comms1)\n",
    "    plotHist(list(newNumBallsRogue.values()))\n",
    "    \n",
    "plotRogues(newData)"
   ]
  },
  {
   "cell_type": "code",
   "execution_count": 438,
   "metadata": {},
   "outputs": [],
   "source": [
    "save_data(newData, \"clean_matches\")"
   ]
  },
  {
   "cell_type": "code",
   "execution_count": 439,
   "metadata": {},
   "outputs": [],
   "source": [
    "export_to_json(\"clean_matches\")"
   ]
  }
 ],
 "metadata": {
  "kernelspec": {
   "display_name": "Python 3",
   "language": "python",
   "name": "python3"
  },
  "language_info": {
   "codemirror_mode": {
    "name": "ipython",
    "version": 3
   },
   "file_extension": ".py",
   "mimetype": "text/x-python",
   "name": "python",
   "nbconvert_exporter": "python",
   "pygments_lexer": "ipython3",
   "version": "3.7.0"
  }
 },
 "nbformat": 4,
 "nbformat_minor": 4
}
