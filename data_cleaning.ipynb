{
 "cells": [
  {
   "cell_type": "code",
   "execution_count": 152,
   "metadata": {},
   "outputs": [],
   "source": [
    "import pickle\n",
    "import json\n",
    "from random import randint\n",
    "from tqdm import tqdm"
   ]
  },
  {
   "cell_type": "code",
   "execution_count": 97,
   "metadata": {},
   "outputs": [],
   "source": [
    "def load_data(filename):\n",
    "    with open(f\"{filename}.pkl\", \"rb\") as f:\n",
    "        data = pickle.load(f)\n",
    "    print(\"Loaded data!\")\n",
    "    return data\n",
    "        \n",
    "def save_data(data, filename):\n",
    "    with open(f\"{filename}.pkl\", \"wb\") as f:\n",
    "        pickle.dump(data, f)\n",
    "        \n",
    "def export_to_json(data):\n",
    "    with open('matches.json', 'w') as json_file:\n",
    "      json.dump(data, json_file)"
   ]
  },
  {
   "cell_type": "code",
   "execution_count": 370,
   "metadata": {},
   "outputs": [
    {
     "name": "stdout",
     "output_type": "stream",
     "text": [
      "Loaded data!\n",
      "Loaded data!\n"
     ]
    }
   ],
   "source": [
    "data, players = load_data(\"matches\"), load_data(\"player_table\")\n",
    "match_ids = list(data.keys())"
   ]
  },
  {
   "cell_type": "code",
   "execution_count": 371,
   "metadata": {},
   "outputs": [
    {
     "name": "stdout",
     "output_type": "stream",
     "text": [
      "['249234', '267386', '275754', '275755', '275756', '247461', '282688', '297797', '296687', '298796', '300426', '300427', '296908', '325568', '325554', '361044', '538070', '520600', '587475', '565813', '593984', '647259', '684679', '727939', '810831', '656423', '817209', '1007651', '1027315', '1031425', '1022357', '1022359', '1089781', '1130739', '1142924', '1142586', '1153251', '1140380', '1158068', '1179273', '1168509']\n"
     ]
    }
   ],
   "source": [
    "rogue_m = []\n",
    "from IPython.display import clear_output\n",
    "for i, m in data.items():\n",
    "    if not (m['commentary']['innings1'] and m['commentary']['innings2']):\n",
    "        if m['result'] != \"No result\":\n",
    "            rogue_m.append(i)\n",
    "            \n",
    "for i in rogue_m:\n",
    "    del data[i]\n",
    "\n",
    "print(rogue_m)"
   ]
  },
  {
   "cell_type": "code",
   "execution_count": 381,
   "metadata": {},
   "outputs": [],
   "source": [
    "def getRandomMatch():\n",
    "    return data[match_ids[randint(0, 1919)]]\n",
    "\n",
    "def printInnings(data, matchId, inningsNum, summaries=False):\n",
    "    if summaries:\n",
    "        for over in data[matchId]['commentary'][f'innings{inningsNum}']['over_summaries']:\n",
    "            print(over)\n",
    "    else:\n",
    "        for ball in data[matchId]['commentary'][f'innings{inningsNum}']['balls']:\n",
    "            print(ball)"
   ]
  },
  {
   "cell_type": "code",
   "execution_count": 154,
   "metadata": {
    "collapsed": true,
    "jupyter": {
     "outputs_hidden": true
    }
   },
   "outputs": [
    {
     "name": "stdout",
     "output_type": "stream",
     "text": [
      "['4176', '2119', '2230', '8876', '6256', '4382', '12049', '7445', '6973', '10130', '2101']\n",
      "ALPHA_NAME          : GILCHRIST,AC\n",
      "BATTING_HAND        : left-hand batsman\n",
      "BATTING_STYLE       : lhb       \n",
      "BATTING_STYLE_LONG  : left-hand bat\n",
      "BOWLING_HAND        : right-arm bowler\n",
      "BOWLING_PACESPIN    : spin bowler\n",
      "BOWLING_STYLE       : ob        \n",
      "BOWLING_STYLE_LONG  : right-arm offbreak \n",
      "CARD_LONG           : AC Gilchrist\n",
      "CARD_QUALIFIER      :           \n",
      "CARD_SHORT          : Gilchrist \n",
      "DOB                 : 1971-11-14\n",
      "KNOWN_AS            : Adam Gilchrist\n",
      "MOBILE_NAME         : Gilchrist \n",
      "PLAYER_ID           : 4176      \n",
      "PLAYER_PRIMARY_ROLE : wicketkeeper batsman\n",
      "PLAYER_STYLE_ID     : 7         \n",
      "PLAYER_TYPE         : 1         \n",
      "PLAYER_TYPE_NAME    : player    \n"
     ]
    }
   ],
   "source": [
    "# for m_id, details in data.items():\n",
    "from espncricinfo.match import Match\n",
    "m = getRandomMatch()\n",
    "for k, v in players[m['team_1_players'][0]].items():\n",
    "    if v is None: v = \"\"\n",
    "    print(f\"{k.upper():<20}: {v:<10}\")"
   ]
  },
  {
   "cell_type": "code",
   "execution_count": 155,
   "metadata": {
    "collapsed": true,
    "jupyter": {
     "outputs_hidden": true,
     "source_hidden": true
    }
   },
   "outputs": [
    {
     "name": "stdout",
     "output_type": "stream",
     "text": [
      "1  - India           :   397\n",
      "2  - Sri Lanka       :   379\n",
      "3  - Australia       :   359\n",
      "4  - England         :   334\n",
      "5  - Pakistan        :   317\n",
      "6  - West Indies     :   303\n",
      "7  - South Africa    :   296\n",
      "8  - New Zealand     :   294\n",
      "9  - Bangladesh      :   261\n",
      "10 - Zimbabwe        :   241\n",
      "11 - Ireland         :   143\n",
      "12 - Afghanistan     :   122\n",
      "13 - Scotland        :    94\n",
      "14 - Kenya           :    65\n",
      "15 - Netherlands     :    52\n",
      "16 - Canada          :    51\n",
      "17 - U.A.E.          :    41\n",
      "18 - Hong Kong       :    22\n",
      "19 - P.N.G.          :    22\n",
      "20 - Bermuda         :    17\n",
      "21 - Asia XI         :     7\n",
      "22 - Africa XI       :     6\n",
      "23 - Nepal           :     6\n",
      "24 - Oman            :     5\n",
      "25 - ICC World XI    :     4\n",
      "26 - Namibia         :     1\n",
      "27 - U.S.A.          :     1\n"
     ]
    }
   ],
   "source": [
    "from collections import defaultdict\n",
    "teams = defaultdict(int)\n",
    "for i, match in data.items():\n",
    "    teams[match['team1']] += 1\n",
    "    teams[match['team2']] += 1\n",
    "counts = sorted(list(teams.items()), key=lambda x:-x[1])\n",
    "for i, (k, v) in enumerate(counts):\n",
    "    print(f'{i+1:<2} - {k:<15} : {v:>5}')"
   ]
  },
  {
   "cell_type": "code",
   "execution_count": 372,
   "metadata": {},
   "outputs": [],
   "source": [
    "import re\n",
    "pattern = '[1-4]?[0-9]\\.[1-7]'\n",
    "def extract_over_details(innings):\n",
    "    summaries = [ball for ball in innings if 'END OF' in ball[0]]\n",
    "    balls = [ball for ball in innings if 'END OF' not in ball[0]]\n",
    "    return summaries, balls\n",
    "\n",
    "def findActualBall(ball):\n",
    "    for i, item in enumerate(ball):\n",
    "        if bool(re.search(pattern, item)):\n",
    "            return ball[i:i+3]\n",
    "    return ball\n",
    "\n",
    "def getNumRogueBalls(innings):\n",
    "    num = 0\n",
    "    for ball in innings:\n",
    "        if not bool(re.search(pattern, ball[0])):\n",
    "            num += 1\n",
    "    return num\n",
    "\n",
    "def cleanInnings(innings):\n",
    "    newInnings = {}\n",
    "    newInnings['over_summaries'], balls = extract_over_details(innings)\n",
    "    newBalls = []\n",
    "    for ball in balls:\n",
    "        if not bool(re.search(pattern, ball[0])):\n",
    "            newBalls.append(findActualBall(ball))\n",
    "        else:\n",
    "            newBalls.append(ball)\n",
    "            \n",
    "    newInnings['balls'] = newBalls\n",
    "    return newInnings"
   ]
  },
  {
   "cell_type": "code",
   "execution_count": 373,
   "metadata": {},
   "outputs": [],
   "source": [
    "def getHistogramData(data):\n",
    "    numBallsRogue = defaultdict(int)\n",
    "    for i, m in data.items():\n",
    "        comms1 = m['commentary']['innings1']\n",
    "        comms2 = m['commentary']['innings2']\n",
    "\n",
    "        summaries1, balls1 = extract_over_details(comms1)\n",
    "        summaries2, balls2 = extract_over_details(comms2)\n",
    "\n",
    "        numBallsRogue[i] += getNumRogueBalls(balls1) + getNumRogueBalls(balls2)\n",
    "    return numBallsRogue\n",
    "\n",
    "numBallsRogue = getHistogramData(data)"
   ]
  },
  {
   "cell_type": "code",
   "execution_count": 374,
   "metadata": {},
   "outputs": [],
   "source": [
    "import numpy as np\n",
    "from matplotlib.ticker import FormatStrFormatter\n",
    "\n",
    "def plotHist(numBallsRogue):\n",
    "    data_hist = np.random.randn(82)\n",
    "    fig, ax = plt.subplots(figsize=(24,5))\n",
    "    counts, bins, patches = ax.hist(numBallsRogue, facecolor='yellow', edgecolor='gray')\n",
    "\n",
    "    # Set the ticks to be at the edges of the bins.\n",
    "    ax.set_xticks(bins)\n",
    "    # Set the xaxis's tick labels to be formatted with 1 decimal place...\n",
    "    ax.xaxis.set_major_formatter(FormatStrFormatter('%0.1f'))\n",
    "\n",
    "    # Change the colors of bars at the edges...\n",
    "    twentyfifth, seventyfifth = np.percentile(data_hist, [25, 75])\n",
    "    for patch, rightside, leftside in zip(patches, bins[1:], bins[:-1]):\n",
    "        if rightside < twentyfifth:\n",
    "            patch.set_facecolor('green')\n",
    "        elif leftside > seventyfifth:\n",
    "            patch.set_facecolor('red')\n",
    "\n",
    "    # Label the raw counts and the percentages below the x-axis...\n",
    "    bin_centers = 0.5 * np.diff(bins) + bins[:-1]\n",
    "    for count, x in zip(counts, bin_centers):\n",
    "        # Label the raw counts\n",
    "        ax.annotate(str(count), xy=(x, 0), xycoords=('data', 'axes fraction'),\n",
    "            xytext=(0, -18), textcoords='offset points', va='top', ha='center')\n",
    "\n",
    "        # Label the percentages\n",
    "        percent = '%0.0f%%' % (100 * float(count) / counts.sum())\n",
    "        ax.annotate(percent, xy=(x, 0), xycoords=('data', 'axes fraction'),\n",
    "            xytext=(0, -32), textcoords='offset points', va='top', ha='center')\n",
    "\n",
    "\n",
    "    # Give ourselves some more room at the bottom of the plot\n",
    "    plt.subplots_adjust(bottom=0.1)\n",
    "    plt.show()"
   ]
  },
  {
   "cell_type": "code",
   "execution_count": 364,
   "metadata": {},
   "outputs": [],
   "source": [
    "newData = data.copy()\n",
    "for i, m in newData.items():\n",
    "    i1 = m['commentary']['innings1']\n",
    "    i2 = m['commentary']['innings2']\n",
    "    \n",
    "    newData[i]['commentary']['innings1'] = cleanInnings(i1)\n",
    "    newData[i]['commentary']['innings2'] = cleanInnings(i2)"
   ]
  },
  {
   "cell_type": "code",
   "execution_count": 375,
   "metadata": {},
   "outputs": [
    {
     "data": {
      "image/png": "[encoded data removed]",
      "text/plain": [
       "<Figure size 1728x360 with 1 Axes>"
      ]
     },
     "metadata": {
      "needs_background": "light"
     },
     "output_type": "display_data"
    }
   ],
   "source": [
    "plotHist(list(numBallsRogue.values()))"
   ]
  },
  {
   "cell_type": "code",
   "execution_count": 368,
   "metadata": {},
   "outputs": [
    {
     "data": {
      "image/png": "[encoded data removed]",
      "text/plain": [
       "<Figure size 1728x360 with 1 Axes>"
      ]
     },
     "metadata": {
      "needs_background": "light"
     },
     "output_type": "display_data"
    }
   ],
   "source": [
    "newNumBallsRogue = defaultdict(int)\n",
    "for i, m in newData.items():\n",
    "    comms1 = m['commentary']['innings1']['balls']\n",
    "    comms2 = m['commentary']['innings2']['balls']\n",
    "    newNumBallsRogue[i] += getNumRogueBalls(comms1) + getNumRogueBalls(comms1)\n",
    "\n",
    "plotHist(list(newNumBallsRogue.values()))"
   ]
  },
  {
   "cell_type": "code",
   "execution_count": 382,
   "metadata": {},
   "outputs": [
    {
     "name": "stdout",
     "output_type": "stream",
     "text": [
      "291359\n",
      "['END OF OVER:45 | 5 Runs 3 Wkts | INDIA: 194/10 | RR: 4.31', 'Ishant Sharma', '1 (1b)', 'Brett Lee', '9-2-27-5', 'Nathan Bracken', '9-0-55-1']\n",
      "['END OF OVER:44 | 15 Runs | INDIA: 189/7 | RR: 4.29', 'Harbhajan Singh', '27 (18b)', 'MS Dhoni', '37 (60b)', 'Nathan Bracken', '9-0-55-1', 'Mitchell Johnson', '9-2-33-1']\n",
      "['END OF OVER:43 | 7 Runs | INDIA: 174/7 | RR: 4.04', 'Harbhajan Singh', '15 (14b)', 'MS Dhoni', '34 (58b)', 'Mitchell Johnson', '9-2-33-1', 'Nathan Bracken', '8-0-40-1']\n",
      "['END OF OVER:42 | 9 Runs | INDIA: 167/7 | RR: 3.97', 'MS Dhoni', '31 (55b)', 'Harbhajan Singh', '11 (11b)', 'Nathan Bracken', '8-0-40-1', 'James Hopes', '6-0-17-0']\n",
      "['END OF OVER:41 | 6 Runs | INDIA: 158/7 | RR: 3.85', 'Harbhajan Singh', '5 (7b)', 'MS Dhoni', '29 (53b)', 'James Hopes', '6-0-17-0', 'Nathan Bracken', '7-0-31-1']\n",
      "['END OF OVER:40 | 5 Runs | INDIA: 152/7 | RR: 3.80', 'MS Dhoni', '25 (50b)', 'Harbhajan Singh', '3 (4b)', 'Nathan Bracken', '7-0-31-1', 'Ashley Noffke', '9-0-46-1']\n",
      "['END OF OVER:39 | 9 Runs 1 Wkt | INDIA: 147/7 | RR: 3.76', 'MS Dhoni', '23 (48b)', 'Ashley Noffke', '9-0-46-1', 'Nathan Bracken', '6-0-26-1']\n",
      "['END OF OVER:38 | 6 Runs | INDIA: 138/6 | RR: 3.63', 'MS Dhoni', '21 (46b)', 'Irfan Pathan', '14 (36b)', 'Nathan Bracken', '6-0-26-1', 'Andrew Symonds', '1-0-4-0']\n",
      "['END OF OVER:37 | 4 Runs | INDIA: 132/6 | RR: 3.56', 'Irfan Pathan', '13 (32b)', 'MS Dhoni', '16 (44b)', 'Andrew Symonds', '1-0-4-0', 'James Hopes', '5-0-11-0']\n",
      "['END OF OVER:36 | 6 Runs | INDIA: 128/6 | RR: 3.55', 'MS Dhoni', '14 (40b)', 'Irfan Pathan', '11 (30b)', 'James Hopes', '5-0-11-0', 'Michael Clarke', '2-0-5-0']\n",
      "['END OF OVER:35 | 2 Runs | INDIA: 122/6 | RR: 3.48', 'MS Dhoni', '12 (37b)', 'Irfan Pathan', '8 (27b)', 'Michael Clarke', '2-0-5-0', 'James Hopes', '4-0-6-0']\n",
      "['END OF OVER:34 | 2 Runs | INDIA: 120/6 | RR: 3.52', 'MS Dhoni', '12 (33b)', 'Irfan Pathan', '8 (25b)', 'James Hopes', '4-0-6-0', 'Michael Clarke', '1-0-4-0']\n",
      "['END OF OVER:33 | 5 Runs | INDIA: 118/6 | RR: 3.57', 'MS Dhoni', '11 (31b)', 'Irfan Pathan', '7 (21b)', 'Michael Clarke', '1-0-4-0', 'James Hopes', '3-0-4-0']\n",
      "['END OF OVER:32 | 1 Run | INDIA: 113/6 | RR: 3.53', 'Irfan Pathan', '5 (19b)', 'MS Dhoni', '9 (27b)', 'James Hopes', '3-0-4-0', 'Ashley Noffke', '8-0-37-1']\n",
      "['END OF OVER:31 | 1 Run | INDIA: 112/6 | RR: 3.61', 'Irfan Pathan', '5 (16b)', 'MS Dhoni', '8 (24b)', 'Ashley Noffke', '8-0-37-1', 'James Hopes', '2-0-3-0']\n",
      "['END OF OVER:30 | 2 Runs | INDIA: 111/6 | RR: 3.70', 'Irfan Pathan', '5 (13b)', 'MS Dhoni', '7 (21b)', 'James Hopes', '2-0-3-0', 'Ashley Noffke', '7-0-36-1']\n",
      "['END OF OVER:29 | 3 Runs | INDIA: 109/6 | RR: 3.75', 'Irfan Pathan', '4 (8b)', 'MS Dhoni', '6 (20b)', 'Ashley Noffke', '7-0-36-1', 'James Hopes', '1-0-1-0']\n",
      "['END OF OVER:28 | 1 Run | INDIA: 106/6 | RR: 3.78', 'MS Dhoni', '5 (16b)', 'Irfan Pathan', '2 (6b)', 'James Hopes', '1-0-1-0', 'Ashley Noffke', '6-0-33-1']\n",
      "['END OF OVER:27 | 3 Runs 1 Wkt | INDIA: 105/6 | RR: 3.88', 'MS Dhoni', '5 (15b)', 'Irfan Pathan', '1 (1b)', 'Ashley Noffke', '6-0-33-1', 'Mitchell Johnson', '8-2-26-1']\n",
      "['END OF OVER:26 | 1 Run | INDIA: 102/5 | RR: 3.92', 'MS Dhoni', '3 (11b)', 'Robin Uthappa', '5 (12b)', 'Mitchell Johnson', '8-2-26-1', 'Ashley Noffke', '5-0-30-0']\n",
      "['END OF OVER:25 | 3 Runs | INDIA: 101/5 | RR: 4.04', 'MS Dhoni', '3 (10b)', 'Robin Uthappa', '4 (7b)', 'Ashley Noffke', '5-0-30-0', 'Mitchell Johnson', '7-2-25-1']\n",
      "['END OF OVER:24 | (maiden) | INDIA: 98/5 | RR: 4.08', 'MS Dhoni', '3 (9b)', 'Robin Uthappa', '1 (2b)', 'Mitchell Johnson', '7-2-25-1', 'Brett Lee', '8-2-22-3']\n",
      "['END OF OVER:23 | 4 Runs 1 Wkt | INDIA: 98/5 | RR: 4.26', 'Robin Uthappa', '1 (2b)', 'MS Dhoni', '3 (3b)', 'Brett Lee', '8-2-22-3', 'Mitchell Johnson', '6-1-25-1']\n",
      "['END OF OVER:22 | 1 Run | INDIA: 94/4 | RR: 4.27', 'MS Dhoni', '0 (1b)', 'Manoj Tiwary', '2 (14b)', 'Mitchell Johnson', '6-1-25-1', 'Brett Lee', '7-2-18-2']\n",
      "['END OF OVER:21 | 1 Run 1 Wkt | INDIA: 93/4 | RR: 4.42', 'Manoj Tiwary', '2 (9b)', 'Brett Lee', '7-2-18-2', 'Mitchell Johnson', '5-0-25-1']\n",
      "['END OF OVER:20 | 5 Runs 1 Wkt | INDIA: 92/3 | RR: 4.60', 'Manoj Tiwary', '1 (4b)', 'Rohit Sharma', '29 (42b)', 'Mitchell Johnson', '5-0-25-1', 'Brett Lee', '6-2-17-1']\n",
      "['END OF OVER:19 | 3 Runs | INDIA: 87/2 | RR: 4.57', 'Rohit Sharma', '29 (42b)', 'Gautam Gambhir', '35 (49b)', 'Brett Lee', '6-2-17-1', 'Mitchell Johnson', '4-0-20-0']\n",
      "['END OF OVER:18 | 8 Runs | INDIA: 84/2 | RR: 4.66', 'Gautam Gambhir', '34 (45b)', 'Rohit Sharma', '28 (39b)', 'Mitchell Johnson', '4-0-20-0', 'Brett Lee', '5-2-14-1']\n",
      "['END OF OVER:17 | 3 Runs | INDIA: 76/2 | RR: 4.47', 'Rohit Sharma', '23 (37b)', 'Gautam Gambhir', '31 (41b)', 'Brett Lee', '5-2-14-1', 'Mitchell Johnson', '3-0-12-0']\n",
      "['END OF OVER:16 | 6 Runs | INDIA: 73/2 | RR: 4.56', 'Rohit Sharma', '22 (33b)', 'Gautam Gambhir', '29 (39b)', 'Mitchell Johnson', '3-0-12-0', 'Ashley Noffke', '4-0-27-0']\n",
      "['END OF OVER:15 | 5 Runs | INDIA: 67/2 | RR: 4.46', 'Rohit Sharma', '17 (30b)', 'Gautam Gambhir', '28 (36b)', 'Ashley Noffke', '4-0-27-0', 'Mitchell Johnson', '2-0-6-0']\n",
      "['END OF OVER:14 | 3 Runs | INDIA: 62/2 | RR: 4.42', 'Rohit Sharma', '15 (27b)', 'Gautam Gambhir', '25 (33b)', 'Mitchell Johnson', '2-0-6-0', 'Ashley Noffke', '3-0-22-0']\n",
      "['END OF OVER:13 | 4 Runs | INDIA: 59/2 | RR: 4.53', 'Rohit Sharma', '14 (24b)', 'Gautam Gambhir', '24 (30b)', 'Ashley Noffke', '3-0-22-0', 'Mitchell Johnson', '1-0-3-0']\n",
      "['END OF OVER:12 | 3 Runs | INDIA: 55/2 | RR: 4.58', 'Gautam Gambhir', '21 (29b)', 'Rohit Sharma', '14 (19b)', 'Mitchell Johnson', '1-0-3-0', 'Ashley Noffke', '2-0-19-0']\n",
      "['END OF OVER:11 | 8 Runs | INDIA: 52/2 | RR: 4.72', 'Rohit Sharma', '13 (17b)', 'Gautam Gambhir', '20 (25b)', 'Ashley Noffke', '2-0-19-0', 'Nathan Bracken', '5-0-20-1']\n",
      "['END OF OVER:10 | 6 Runs | INDIA: 44/2 | RR: 4.40', 'Gautam Gambhir', '20 (25b)', 'Rohit Sharma', '5 (11b)', 'Nathan Bracken', '5-0-20-1', 'Ashley Noffke', '1-0-11-0']\n",
      "['END OF OVER:9 | 11 Runs | INDIA: 38/2 | RR: 4.22', 'Rohit Sharma', '0 (7b)', 'Gautam Gambhir', '19 (23b)', 'Ashley Noffke', '1-0-11-0', 'Nathan Bracken', '4-0-14-1']\n",
      "['END OF OVER:8 | 1 Run | INDIA: 27/2 | RR: 3.37', 'Rohit Sharma', '0 (6b)', 'Gautam Gambhir', '8 (18b)', 'Nathan Bracken', '4-0-14-1', 'Brett Lee', '4-2-11-1']\n",
      "['END OF OVER:7 | 5 Runs 1 Wkt | INDIA: 26/2 | RR: 3.71', 'Rohit Sharma', '0 (3b)', 'Gautam Gambhir', '7 (15b)', 'Brett Lee', '4-2-11-1', 'Nathan Bracken', '3-0-13-1']\n",
      "['END OF OVER:6 | 4 Runs | INDIA: 21/1 | RR: 3.50', 'Gautam Gambhir', '2 (13b)', 'Sachin Tendulkar', '10 (16b)', 'Nathan Bracken', '3-0-13-1', 'Brett Lee', '3-2-6-0']\n",
      "['END OF OVER:5 | (maiden) | INDIA: 17/1 | RR: 3.40', 'Gautam Gambhir', '1 (9b)', 'Sachin Tendulkar', '7 (14b)', 'Brett Lee', '3-2-6-0', 'Nathan Bracken', '2-0-9-1']\n",
      "['END OF OVER:4 | 6 Runs 1 Wkt | INDIA: 17/1 | RR: 4.25', 'Sachin Tendulkar', '7 (14b)', 'Gautam Gambhir', '1 (3b)', 'Nathan Bracken', '2-0-9-1', 'Brett Lee', '2-1-6-0']\n",
      "['END OF OVER:3 | 6 Runs | INDIA: 11/0 | RR: 3.66', 'Virender Sehwag', '6 (7b)', 'Sachin Tendulkar', '2 (12b)', 'Brett Lee', '2-1-6-0', 'Nathan Bracken', '1-0-3-0']\n",
      "['END OF OVER:2 | 4 Runs | INDIA: 5/0 | RR: 2.50', 'Sachin Tendulkar', '1 (9b)', 'Virender Sehwag', '2 (3b)', 'Nathan Bracken', '1-0-3-0', 'Brett Lee', '1-1-0-0']\n",
      "['END OF OVER:1 | 1 Run | INDIA: 1/0 | RR: 1.00', 'Sachin Tendulkar', '0 (5b)', 'Virender Sehwag', '0 (1b)', 'Brett Lee', '1-1-0-0']\n"
     ]
    }
   ],
   "source": [
    "m_ids = list(newNumBallsRogue.keys())\n",
    "print(m_ids[399])\n",
    "\n",
    "printInnings(newData, m_ids[399], 1, summaries=True)"
   ]
  },
  {
   "cell_type": "code",
   "execution_count": null,
   "metadata": {},
   "outputs": [],
   "source": []
  }
 ],
 "metadata": {
  "kernelspec": {
   "display_name": "Python 3",
   "language": "python",
   "name": "python3"
  },
  "language_info": {
   "codemirror_mode": {
    "name": "ipython",
    "version": 3
   },
   "file_extension": ".py",
   "mimetype": "text/x-python",
   "name": "python",
   "nbconvert_exporter": "python",
   "pygments_lexer": "ipython3",
   "version": "3.7.0"
  }
 },
 "nbformat": 4,
 "nbformat_minor": 4
}
