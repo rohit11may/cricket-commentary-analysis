{
 "cells": [
  {
   "cell_type": "code",
   "execution_count": 38,
   "metadata": {},
   "outputs": [],
   "source": [
    "import pickle\n",
    "import json\n",
    "from random import randint, shuffle\n",
    "from tqdm import tqdm\n",
    "import numpy as np\n",
    "import string\n",
    "import re\n",
    "import matplotlib.pyplot as plt\n",
    "from matplotlib.ticker import FormatStrFormatter\n",
    "from collections import defaultdict\n",
    "from espncricinfo.match import Match"
   ]
  },
  {
   "cell_type": "code",
   "execution_count": 5,
   "metadata": {},
   "outputs": [],
   "source": [
    "def plotHist(data, bins=[], x_labels=True):\n",
    "    data_hist = np.random.randn(82)\n",
    "    fig, ax = plt.subplots(figsize=(24,5))\n",
    "    if bins: \n",
    "        counts, bins, patches = ax.hist(data, bins=bins, facecolor='yellow', edgecolor='gray')\n",
    "    else:\n",
    "        counts, bins, patches = ax.hist(data, facecolor='yellow', edgecolor='gray')\n",
    "\n",
    "    # Set the ticks to be at the edges of the bins.\n",
    "    if x_labels:\n",
    "        ax.set_xticks(bins)\n",
    "        # Set the xaxis's tick labels to be formatted with 1 decimal place...\n",
    "        ax.xaxis.set_major_formatter(FormatStrFormatter('%0.05f'))\n",
    "\n",
    "    # Change the colors of bars at the edges...\n",
    "    twentyfifth, seventyfifth = np.percentile(data_hist, [25, 75])\n",
    "    for patch, rightside, leftside in zip(patches, bins[1:], bins[:-1]):\n",
    "        if rightside < twentyfifth:\n",
    "            patch.set_facecolor('green')\n",
    "        elif leftside > seventyfifth:\n",
    "            patch.set_facecolor('red')\n",
    "\n",
    "    # Label the raw counts and the percentages below the x-axis...\n",
    "    if x_labels:\n",
    "        bin_centers = 0.5 * np.diff(bins) + bins[:-1]\n",
    "        for count, x in zip(counts, bin_centers):\n",
    "            # Label the raw counts\n",
    "            ax.annotate(str(count), xy=(x, 0), xycoords=('data', 'axes fraction'),\n",
    "                xytext=(0, -18), textcoords='offset points', va='top', ha='center')\n",
    "\n",
    "            # Label the percentages\n",
    "            percent = '%0.0f%%' % (100 * float(count) / counts.sum())\n",
    "            ax.annotate(percent, xy=(x, 0), xycoords=('data', 'axes fraction'),\n",
    "                xytext=(0, -32), textcoords='offset points', va='top', ha='center')\n",
    "\n",
    "\n",
    "    # Give ourselves some more room at the bottom of the plot\n",
    "    plt.subplots_adjust(bottom=0.1)\n",
    "    plt.show()"
   ]
  },
  {
   "cell_type": "code",
   "execution_count": 6,
   "metadata": {},
   "outputs": [],
   "source": [
    "def load_data(filename):\n",
    "    with open(f\"{filename}.pkl\", \"rb\") as f:\n",
    "        data = pickle.load(f)\n",
    "    print(\"Loaded data!\")\n",
    "    return data\n",
    "        \n",
    "def save_data(data, filename):\n",
    "    with open(f\"{filename}.pkl\", \"wb\") as f:\n",
    "        pickle.dump(data, f)\n",
    "        \n",
    "def export_to_json(data):\n",
    "    with open('matches.json', 'w') as json_file:\n",
    "        json.dump(data, json_file)\n",
    "    \n",
    "def getRandomMatch(data):\n",
    "    return data[match_ids[randint(0, 1919)]]\n",
    "\n",
    "def printInnings(data, matchId, inningsNum, summaries=False, highlightOnly=False):\n",
    "    if summaries:\n",
    "        for over in data[matchId]['commentary'][f'innings{inningsNum}']['over_summaries']:\n",
    "            if highlightOnly:\n",
    "                print(over[0])\n",
    "            else:\n",
    "                print(over)\n",
    "    else:\n",
    "        for ball in data[matchId]['commentary'][f'innings{inningsNum}']['balls']:\n",
    "            print(ball)\n",
    "            \n",
    "i1 = lambda m : m['commentary']['innings1']\n",
    "i2 = lambda m : m['commentary']['innings2']"
   ]
  },
  {
   "cell_type": "code",
   "execution_count": 17,
   "metadata": {},
   "outputs": [
    {
     "name": "stdout",
     "output_type": "stream",
     "text": [
      "Loaded data!\n",
      "Loaded data!\n"
     ]
    }
   ],
   "source": [
    "data, players = load_data(\"matches_with_details\"), load_data(\"player_table\")"
   ]
  },
  {
   "cell_type": "code",
   "execution_count": 18,
   "metadata": {},
   "outputs": [
    {
     "data": {
      "image/png": "[encoded data removed]",
      "text/plain": [
       "<Figure size 1728x360 with 1 Axes>"
      ]
     },
     "metadata": {
      "needs_background": "light"
     },
     "output_type": "display_data"
    }
   ],
   "source": [
    "lengths = []\n",
    "count = 0\n",
    "over_summary = set()\n",
    "ball_samples = defaultdict(list)\n",
    "for i, m in data.items():\n",
    "    for b in i1(m)['balls']:\n",
    "        over_summary.add(b['number'])\n",
    "        comms = b['desc']\n",
    "        lengths.append(len(comms))\n",
    "        ball_samples[len(comms)].append(comms)\n",
    "        \n",
    "    for b in i2(m)['balls']:\n",
    "        over_summary.add(b['number'])\n",
    "        lengths.append(len(b['desc']))\n",
    "\n",
    "plotHist(lengths, bins=list(range(17,600, 2)), x_labels=False)"
   ]
  },
  {
   "cell_type": "code",
   "execution_count": 19,
   "metadata": {},
   "outputs": [
    {
     "data": {
      "image/png": "[encoded data removed]",
      "text/plain": [
       "<Figure size 1728x360 with 1 Axes>"
      ]
     },
     "metadata": {
      "needs_background": "light"
     },
     "output_type": "display_data"
    }
   ],
   "source": [
    "lengths = []\n",
    "ball_samples = defaultdict(list)\n",
    "for i, m in data.items():\n",
    "    match_lengths = []\n",
    "    for b in i1(m)['balls']:\n",
    "        comms = b['desc']\n",
    "        match_lengths.append(len(comms))\n",
    "        \n",
    "    for b in i2(m)['balls']:\n",
    "        comms = b['desc']\n",
    "        match_lengths.append(len(comms))\n",
    "        \n",
    "    avg_length = (sum(match_lengths)/len(match_lengths))\n",
    "    ball_samples[avg_length // 5].append(i)\n",
    "    lengths.append(avg_length)\n",
    "\n",
    "plotHist(lengths, bins=list(range(0,300, 5)), x_labels=False)"
   ]
  },
  {
   "cell_type": "code",
   "execution_count": 20,
   "metadata": {},
   "outputs": [
    {
     "name": "stdout",
     "output_type": "stream",
     "text": [
      "1608\n"
     ]
    }
   ],
   "source": [
    "total_with_commentary = 0\n",
    "for k in sorted(ball_samples.keys()):\n",
    "    if k >= 15:\n",
    "        total_with_commentary += len(ball_samples[k])\n",
    "print(total_with_commentary)\n",
    "    "
   ]
  },
  {
   "cell_type": "code",
   "execution_count": 21,
   "metadata": {},
   "outputs": [],
   "source": [
    "def resetBalls():\n",
    "    for i, m in data.items():\n",
    "        newBalls = []\n",
    "        for b in i1(m)['balls']:\n",
    "            ball_data = {}\n",
    "            ball_data['number'] = b[0]\n",
    "            ball_data['outcome'] = b[1]\n",
    "            ball_data['desc'] = \",\".join(b[2::])\n",
    "            ball_data['pitch'] = {}\n",
    "            newBalls.append(ball_data)\n",
    "\n",
    "        m['commentary']['innings1']['balls'] = newBalls\n",
    "        newBalls = []\n",
    "        for b in i2(m)['balls']:\n",
    "            ball_data = {}\n",
    "            ball_data['number'] = b[0]\n",
    "            ball_data['outcome'] = b[1]\n",
    "            ball_data['desc'] = \",\".join(b[2::])\n",
    "            ball_data['pitch'] = {}\n",
    "            newBalls.append(ball_data)\n",
    "        m['commentary']['innings2']['balls'] = newBalls"
   ]
  },
  {
   "cell_type": "code",
   "execution_count": 22,
   "metadata": {},
   "outputs": [],
   "source": [
    "def downloadMatchDetails():\n",
    "    count = 0\n",
    "    for i, m in tqdm(data.items()):\n",
    "        count += 1\n",
    "        if not 'batting_first' in m:\n",
    "            espnMatch = Match(i)\n",
    "            m['batting_first'] = espnMatch.batting_first\n",
    "            m['ground_id'] = espnMatch.ground_id\n",
    "            m['home_team'] = espnMatch.home_team\n",
    "        if count % 20 == 0:\n",
    "            save_data(data, \"matches_with_details\")\n",
    "    save_data(data, \"matches_with_details\")"
   ]
  },
  {
   "cell_type": "code",
   "execution_count": 23,
   "metadata": {},
   "outputs": [
    {
     "name": "stdout",
     "output_type": "stream",
     "text": [
      "{'ZIM', 'NZ', 'PAK', 'NL', 'INDIA', 'NAM', 'SA', 'HKG', 'SL', 'IRE', 'AUS', 'USA', 'ENG', 'UAE', 'CAN', 'BDESH', 'SCOT', 'BMUDA', 'NEPAL', 'KENYA', 'AFG', 'PNG', 'WI'}\n",
      "{'P.N.G.', 'India', 'Canada', 'Kenya', 'New Zealand', 'Oman', 'Nepal', 'Ireland', 'Hong Kong', 'Scotland', 'Pakistan', 'Namibia', 'U.S.A.', 'Bangladesh', 'Zimbabwe', 'Sri Lanka', 'South Africa', 'U.A.E.', 'West Indies', 'Australia', 'Afghanistan', 'Bermuda', 'Netherlands', 'England'}\n"
     ]
    }
   ],
   "source": [
    "bf = set()\n",
    "ht = set()\n",
    "gi = set()\n",
    "teams = set()\n",
    "for i, m in data.items():\n",
    "    bf.add(m['batting_first'])\n",
    "    ht.add(m['home_team'])\n",
    "    gi.add(m['ground_id'])\n",
    "    teams.add(m['team1'])\n",
    "    teams.add(m['team2'])\n",
    "\n",
    "print(bf)\n",
    "print(teams)"
   ]
  },
  {
   "cell_type": "code",
   "execution_count": 24,
   "metadata": {},
   "outputs": [],
   "source": [
    "import difflib\n",
    "team = {}\n",
    "for t in teams:\n",
    "    closest = difflib.get_close_matches(t.upper(), list(bf))\n",
    "    team[t] = closest\n",
    "team['Australia'] = ['AUS']\n",
    "team['Zimbabwe'] = ['ZIM']\n",
    "team['New Zealand'] = ['NZ']\n",
    "team['West Indies'] = ['WI']\n",
    "team['Pakistan'] = ['PAK']\n",
    "team['Hong Kong'] = ['HKG']\n",
    "team['Afghanistan'] = ['AFG']\n",
    "team['South Africa'] = ['SA']\n",
    "del team['Oman']\n",
    "team['Sri Lanka'] = ['SL']\n",
    "team['Netherlands'] = ['NL']"
   ]
  },
  {
   "cell_type": "code",
   "execution_count": 26,
   "metadata": {},
   "outputs": [],
   "source": [
    "for k, v in team.items():\n",
    "    team[k] = v[0]\n",
    "team_to_id = team\n",
    "id_to_team = {v: k for k, v in team_to_id.items()} "
   ]
  },
  {
   "cell_type": "code",
   "execution_count": 83,
   "metadata": {},
   "outputs": [],
   "source": [
    "from difflib import SequenceMatcher\n",
    "def getPlayerProfile(name):\n",
    "    returnList = [] \n",
    "    for i, p in players.items():\n",
    "        match = SequenceMatcher(a=p['known_as'].lower(), b=name.lower()).ratio()\n",
    "        if match > 0.6:\n",
    "            returnList.append((p, match))\n",
    "            \n",
    "    return [i[0] for i in sorted(returnList, key = lambda x : x[1], reverse=True)]\n",
    "\n",
    "def getNameSet(player_profile):\n",
    "    name_set = set()\n",
    "    name_set.add(player_profile['mobile_name'].lower())\n",
    "    name_set.update(player_profile['card_long'].lower().split(' '))\n",
    "    name_set.update(player_profile['known_as'].lower().split(' '))\n",
    "    return name_set"
   ]
  },
  {
   "cell_type": "code",
   "execution_count": 126,
   "metadata": {},
   "outputs": [],
   "source": [
    "overNumberPattern = '^(?P<over>\\d+)\\.\\d+$'\n",
    "def getDescWordSet(desc):\n",
    "    return set(desc.lower().translate(str.maketrans('', '', string.punctuation)).split(' '))\n",
    "\n",
    "def checkIfPlayerBowledOver(profile, balls, over):\n",
    "    names = getNameSet(profile)\n",
    "    validOver = False\n",
    "    for b in balls:\n",
    "        overNum = int(re.match(overNumberPattern, b['number']).group('over'))\n",
    "        if overNum == over:\n",
    "            validOver = True\n",
    "            desc = getDescWordSet(b['desc'])\n",
    "            if not names.intersection(desc):\n",
    "                return False\n",
    "    return validOver\n",
    "\n",
    "def getOver(balls, over):\n",
    "    retBalls = []\n",
    "    for i, b in enumerate(balls):\n",
    "        overNum = int(re.match(overNumberPattern, b['number']).group('over'))\n",
    "        if overNum == over:\n",
    "            retBalls.append(i)\n",
    "    return retBalls\n",
    "\n",
    "def getPlayerBalls(profile, balls):\n",
    "    overs = []\n",
    "    for o in range(0,51):\n",
    "        if checkIfPlayerBowledOver(profile, balls, o):\n",
    "            overs += getOver(balls, o)\n",
    "    return sorted(overs)"
   ]
  },
  {
   "cell_type": "code",
   "execution_count": 136,
   "metadata": {},
   "outputs": [
    {
     "name": "stdout",
     "output_type": "stream",
     "text": [
      "48.6  | Chawla to Bresnan, OUT, Chawla strikes back! One way and another this match is going! Bresnan tried \n",
      "48.5  | Chawla to Bresnan, SIX runs, Bresnan has nailed this! Not another twist, surely! Down one knee, clea\n",
      "48.4  | Chawla to Bresnan, 2 runs, ooh, Bresnan trying to match Swann but can't quite time it as well. Press\n",
      "48.3  | Chawla to Swann, 1 run, Swann down the wicket now to try and swing a similar shot, this one skews of\n",
      "48.2  | Chawla to Swann, SIX runs, absolute silence as Swann is on the sweep again. This time getting all of\n",
      "48.1  | Chawla to Swann, no run, big slog sweep attempted, but Swann only finds fresh air,Righty, Chawla on.\n",
      "43.6  | Chawla to Prior, no run, suddenly the fielding has picked up too! Oh cricket. Prior laces a drive to\n",
      "43.5  | Chawla to Prior, no run, short ball sat up asking for trouble, Prior screamed it but straight to cov\n",
      "43.5  | Chawla to Prior, 1 wide, another wrong 'un, line was wrong as well though and it slipped down the le\n",
      "43.4  | Chawla to Prior, no run, ooh, Chawla's googlies to new batsmen are venom. Prior was hanging back and\n",
      "43.3  | Chawla to Collingwood, 1 run, ooh, the pitch suddenly seems a minefield, it's not but pressure does \n",
      "43.2  | Chawla to Collingwood, no run, there is that googly, Collingwood didn't pick it. Ended up jabbing hu\n",
      "43.1  | Chawla to Collingwood, no run, plenty of turn all of a sudden, zipping away sharply from Collingwood\n",
      "41.6  |        Chawla to Strauss, 1 run, slider from Chawla, Strauss rocks back and forces out to deep cover\n",
      "41.5  | Chawla to Bell, 1 run, again he drives, this time it beats a diving Chawla and rolls down to third m\n",
      "41.4  |  Chawla to Bell, no run, legspinner, cracked back to the bowler,Bell's up again, no sign of a runner\n",
      "41.3  | Chawla to Bell, no run, an ungainly sweep ends in Bell collapsed on a heap next to the wicket ... he\n",
      "41.2  | Chawla to Bell, no run, Bell stretches well forward and drives to cover now ... looks like there mig\n",
      "41.1  | Chawla to Bell, no run, dropped by Kohli at slip! Bell sliced hard at the ball and the ball flew fas\n",
      "39.6  | Chawla to Strauss, 1 run, Strauss hangs back once again, this time playing the ball very late off th\n",
      "39.5  | Chawla to Strauss, FOUR runs, short again, a real long-hop and Strauss puts it away in emphatic fash\n",
      "39.4  |                                                Chawla to Bell, 1 run, paddle sweep, down to fine leg\n",
      "39.3  | Chawla to Strauss, 1 run, the googly? It seemed to rush on more than anything, but it was just a lit\n",
      "39.2  | Chawla to Bell, 1 run, turn once again - it's the legspinner - but it starts too wide, and the width\n",
      "39.1  | Chawla to Strauss, 1 run, turn for Chawla! He lands the legspinner on a great length, the ball rips \n",
      "33.6  | Chawla to Strauss, FOUR runs, now he's picking the wrong 'un! Strauss rocks back and cuts, the ball \n",
      "33.5  |                                             Chawla to Bell, 1 run, nudged to leg, quick single taken\n",
      "33.4  | Chawla to Bell, SIX runs, six runs! Bell goes to fifty now, from 45 balls, with a powerful strike ov\n",
      "33.3  | Chawla to Bell, no run, fiercely struck by Bell, who's back and pulling, but Yuvraj dives to his lef\n",
      "33.2  | Chawla to Strauss, 1 run, again the ball isn't close enough to the batsman, the ball spins into the \n",
      "33.1  | Chawla to Bell, 1 run, a touch too short, Bell steps back and chops to cover point for one,Right, Dh\n",
      "18.6  | Chawla to Strauss, FOUR runs, poor ball, short and well down the leg side, Strauss didn't have much \n",
      "18.5  | Chawla to Bell, 1 run, short again, as he has been all over really. Bell gets into a good position t\n",
      "18.4  | Chawla to Bell, 2 runs, very early Bell decided to pop down on one knee and dink this over his head.\n",
      "18.3  | Chawla to Strauss, 1 run, this is very short indeed and Strauss needs to do more with it. Slugged ha\n",
      "18.2  | Chawla to Bell, 1 run, very full face of the bat sends this down to long-off. Bell is a good player \n",
      "18.1  | Chawla to Strauss, 1 run, another googly, too short though and Strauss was sitting back waiting for \n",
      "16.6  | Chawla to Bell, no run, and here's the leggie! What a ripper, spinning past the outside edge. Dhoni \n",
      "16.5  | Chawla to Bell, no run, ooh, googly again! Bell didn't read it and was struck on the pad. Spinning t\n",
      "16.4  | Chawla to Trott, OUT, Chawla strikes! It was so plump Trott pretty much walked. Went back to play ac\n",
      "16.3  | Chawla to Trott, no run, ooh, neither batsman picking Chawla here. This googly has Trott hurrying a \n",
      "16.2  | Chawla to Strauss, 1 run, more air again but this time Strauss comes down on a sweep, real execution\n",
      "16.1  | Chawla to Strauss, no run, Chawla throws this up and Strauss leans it to midwicket,Drinks break. Ove\n",
      "14.6  |                                                      Chawla to Trott, no run, leans across to defend\n",
      "14.5  |                                               Chawla to Strauss, 1 run, works this away for a single\n",
      "14.4  | Chawla to Strauss, no run, what a ripper of a googly. Andrew doesn't pick it up. It breaks away past\n",
      "14.3  | Chawla to Strauss, FOUR runs, Tendulkar makes a mess at fine-leg. It was swept to left of him, he ha\n",
      "14.2  |                                       Chawla to Strauss, no run, on the pads, rolls away to leg slip\n",
      "14.1  | Chawla to Trott, 1 run, flighted around off stump line and Trott off drives it to long-off,Nick: \"Me\n",
      "12.6  |                 Chawla to Strauss, 1 run, gets forward to push this to right of mid-off for a single\n",
      "12.5  | Chawla to Strauss, FOUR runs, The googly arrives: Strauss goes down the track and is beaten by the g\n",
      "12.4  | Chawla to Trott, 1 run, teases him with a delivery on a good length outside off, Trott eases it to l\n",
      "12.3  | Chawla to Trott, no run, fuller, on the middle and off, slider, Trott is late to pick it up but even\n",
      "12.2  |         Chawla to Trott, no run, around the off stump, holds its line, Trott leans forward to defend\n",
      "12.1  | Chawla to Strauss, 1 run, flighted full on a length on the middle, turned wide of short fine-leg for\n",
      "10.6  | Chawla to Strauss, 1 run, Another long hop and again, Strauss fails to make full use of it. He pulls\n",
      "10.5  | Chawla to Trott, 1 run, fuller and turning away from the off and middle line, pushed out to extra co\n",
      "10.4  | Chawla to Strauss, 1 run, almost a long hop but Strauss drags it to deep square-leg fielder. Strauss\n",
      "10.3  |      Chawla to Trott, 1 run, leg break from the middle stump line, whipped to deep midwicket fielder\n",
      "10.2  |                                      Chawla to Strauss, 1 run, presses back to clip it to square-leg\n",
      "10.1  |                                      Chawla to Trott, 1 run, gets back to flick this past square-leg\n"
     ]
    }
   ],
   "source": [
    "matches = list(data.keys())\n",
    "num = 814\n",
    "\n",
    "player = 'Piyush Chawla'\n",
    "profile = getPlayerProfile('Piyush Chawla')[0]\n",
    "balls = i2(data[matches[num]])['balls']\n",
    "for b in getPlayerBalls(profile, balls):\n",
    "    print(f\"{balls[b]['number']:<5} | {balls[b]['desc'][:100]:>100}\")"
   ]
  },
  {
   "cell_type": "code",
   "execution_count": 135,
   "metadata": {
    "collapsed": true,
    "jupyter": {
     "outputs_hidden": true
    }
   },
   "outputs": [
    {
     "name": "stdout",
     "output_type": "stream",
     "text": [
      "48.6  | Bumrah to MR Marsh, no run, low full-toss on off stump and Marsh cannot whip it past mid-on, who has\n",
      "48.5  |      Bumrah to MR Marsh, no run, in the blockhole close to off stump, jabbed back hard to the bowler\n",
      "48.4  | Bumrah to Hastings, 1 run, slower ball outside off, Hastings defends into the off side with soft han\n",
      "48.3  | Bumrah to MR Marsh, 1 run, yorker close to off stump, whipped to long-on. Thinks about the second to\n",
      "48.2  | Bumrah to Hastings, 1 run, another one in the blockhole, middle-and-off, not quite a yorker this tim\n",
      "48.1  | Bumrah to Faulkner, OUT, oh, Bumrah, what a delivery. Takes out Faulkner's off stump with a perfect \n",
      "44.6  | Bumrah to Wade, 1 leg bye, sees him coming down the pitch and follows with a full ball at his feet. \n",
      "44.5  | Bumrah to Wade, no run, yorker on leg stump and Wade has to pull his feet out of the way in a hurry \n",
      "44.4  |                         Bumrah to MR Marsh, 1 run, near-yorker on off stump, clipped towards long-on\n",
      "44.3  | Bumrah to MR Marsh, SIX runs, short, angling into off stump, and Marsh absolutely loves it there. Pl\n",
      "44.2  | Bumrah to Wade, 1 run, back of a length slower ball angling away from Wade, who whips it from outsid\n",
      "44.1  |                         Bumrah to MR Marsh, 1 run, full outside off, flat-batted to long-off,Bumrah.\n",
      "37.6  |                            Bumrah to MR Marsh, no run, low full-toss on off stump, jabbed to mid-off\n",
      "37.5  | Bumrah to MR Marsh, no run, back of a length, angling into middle and leg. Was the slower one again,\n",
      "37.4  | Bumrah to Warner, 1 run, slower ball on middle stump, clipped down the ground, looking for two, but \n",
      "37.3  | Bumrah to Warner, no run, whoa. That was a high full-toss, probably not over waist high, but it caug\n",
      "37.2  | Bumrah to Warner, 2 runs, Warner comes down the track, making a bit of room, and Bumrah goes full an\n",
      "37.1  | Bumrah to MR Marsh, 1 run, length ball on off stump, gets forward for the checked push down the grou\n",
      "35.6  | Bumrah to MR Marsh, 2 runs, bouncer, Marsh keeps the hook down well, took it from around head height\n",
      "35.5  | Bumrah to MR Marsh, no run, back of a length, angling into off stump. Marsh is cramped for room a li\n",
      "35.4  | Bumrah to Warner, 1 run, fuller and straighter now, driven back down the ground and it deflects off \n",
      "35.3  | Bumrah to Warner, 2 runs, back of a length close to off stump. Warner lets it come on and chops it c\n",
      "35.2  | Bumrah to Warner, no run, back of a length outside off. Another slower one and it doesn't come on fo\n",
      "35.1  | Bumrah to Warner, no run, slower ball outside off, can't time his drive and short cover moves in qui\n",
      "33.6  | Bumrah to Warner, no run, a touch shorter, hurries on as Warner looks to pull from outside off, can \n",
      "33.5  |            Bumrah to Warner, no run, back of a length close to off stump, punched back to the bowler\n",
      "33.4  |         Bumrah to Warner, no run, back of a length on off stump, goes back and tucks it to midwicket\n",
      "33.3  |                            Bumrah to Warner, no run, fullish on off and middle, punched to midwicket\n",
      "33.2  | Bumrah to MR Marsh, 1 run, length ball on off and middle and Marsh is a little late on his defensive\n",
      "33.1  | Bumrah to Warner, 1 run, length ball on off stump, punched down the ground and Ishant moves to his l\n",
      "15.6  |                        Bumrah to SE Marsh, no run, 134 kph. Nice end. Full outside off, Marsh leaves\n",
      "15.5  | Bumrah to SE Marsh, 2 runs, straying on his pads and Marsh picks the bowler off for a couple through\n",
      "15.4  |               Bumrah to SE Marsh, no run, back of a length outside off, moving away from Marsh. Left\n",
      "15.3  |                    Bumrah to Warner, 1 run, shortish delivery outside off, Warner cuts to deep cover\n",
      "15.2  |                                 Bumrah to Warner, no run, nice lines - full on off, Steered to point\n",
      "15.1  | Bumrah to Warner, 4 byes, that keeps very low and rolls away for four byes. Full outside off, Warner\n",
      "13.6  | Bumrah to Bailey, 2 runs, another two. Inside-edged into the deeper leg side. Ishant at square leg r\n",
      "13.5  | Bumrah to Bailey, no run, lovely delivery again. Change in length, goes for the shorter delivery. Ba\n",
      "13.4  | Bumrah to Warner, 1 leg bye, back of a length, down leg. Off the thigh pad to fine leg,Atul Mogha: \"\n",
      "13.3  |                     Bumrah to Bailey, 1 run, tucked to point for a quick run. Nice stuff from Bailey\n",
      "13.2  |                                          Bumrah to Bailey, no run, full on off, pushed to the bowler\n",
      "13.1  | Bumrah to Bailey, no run, ducks back in very late, his trademark delivery. Short of a length but nip\n",
      "11.6  | Bumrah to Bailey, no run, nice ball again. Attacking those stumps on a fuller length, Bailey pushes \n",
      "11.5  | Bumrah to Smith, OUT, very poor shot. Bumrah gets his first wicket. Smith picks out midwicket. Short\n",
      "11.4  |                            Bumrah to Smith, no run, nice lines these. Honing in on off, Smith blocks\n",
      "11.3  | Bumrah to Smith, no run, back of a length on off, tucked to midwicket,Ahsan Butt: \"I think Khawaja i\n",
      "11.2  |                                        Bumrah to Smith, no run, full on off, defended under his eyes\n",
      "11.1  | Bumrah to Warner, 1 run, 140 kph. Opportunity with a direct hit. Full and wide outside off, toe-ende\n",
      "9.6   |   Bumrah to Warner, no run, much much better. Full on off, hustling Warner for pace who defends late\n",
      "9.5   | Bumrah to Warner, FOUR runs, not there for the shot at all but Warner in imperious form. Slower ball\n",
      "9.4   | Bumrah to Smith, 3 runs, doesn't time his pull very well but he picked the stroke nicely. Too short \n",
      "9.3   | Bumrah to Smith, no run, fullish length outside off, Smith punches a square drive to point with mini\n",
      "9.2   |                           Bumrah to Smith, no run, slower delivery outside off, played down to point\n",
      "9.1   | Bumrah to Warner, 1 leg bye, back of a length on middle, Warner misses his tuck and is struck on the\n",
      "7.6   | Bumrah to Smith, no run, short and wide, a bit of extra bounce but a lot of width too. SMith is dece\n",
      "7.5   | Bumrah to Smith, 2 runs, back of a length on middle, worked off his hips towards midwicket. Smith ra\n",
      "7.4   |                         Bumrah to Smith, no run, length outside off, Smith strides forward to defend\n",
      "7.3   | Bumrah to Smith, no run, nice lines. 140 kph on off or just outside. Steered to point,Kynan: \"Stuart\n",
      "7.2   | Bumrah to Smith, no run, 138 kph. Decent pace. Short and wide outside off, Smith flashes a cut but m\n",
      "7.1   | Bumrah to Warner, 1 run, full on off to start, Warner pushes to mid-on for a run,Here is the debutan\n"
     ]
    }
   ],
   "source": [
    "bumrah = getPlayerProfile('Jasprit Bumrah')[0]\n",
    "m_id = '895815'\n",
    "balls = i1(data[m_id])['balls']\n",
    "\n",
    "for b in getPlayerBalls(bumrah, balls):\n",
    "    print(f\"{balls[b]['number']:<5} | {balls[b]['desc'][:100]:>100}\")"
   ]
  },
  {
   "cell_type": "code",
   "execution_count": 141,
   "metadata": {},
   "outputs": [],
   "source": [
    "def getAllPlayerOvers(playerName):\n",
    "    overs = []\n",
    "    profile = getPlayerProfile(playerName)[0]\n",
    "    p_id = profile['player_id']\n",
    "    for i, m in data.items():\n",
    "        # Check which team player is in, if any\n",
    "        if p_id in m['team_1_players']:\n",
    "            team = m['team1']\n",
    "        elif p_id in m['team_2_players']:\n",
    "            team = m['team2']\n",
    "        else:\n",
    "            continue\n",
    "        \n",
    "        # Check which innings player bowled in\n",
    "        team_id = team_to_id[team]\n",
    "        inn = 1\n",
    "        if team_id == m['batting_first']:\n",
    "            inn = 2\n",
    "            \n",
    "        # Get all balls from match\n",
    "        balls = getPlayerBalls(profile, m['commentary'][f'innings{inn}']['balls'])\n",
    "        overs.append((i, inn, balls))\n",
    "    return overs"
   ]
  },
  {
   "cell_type": "code",
   "execution_count": 167,
   "metadata": {},
   "outputs": [],
   "source": [
    "def printBowlerBalls(name, onlyCount = True, outcome='any'):\n",
    "    matches = getAllPlayerOvers(name)\n",
    "    num_balls = 0\n",
    "    for i, inn, playerBalls in matches:\n",
    "        balls = data[i]['commentary'][f'innings{inn}']['balls']\n",
    "        if not onlyCount:\n",
    "            for b in playerBalls:\n",
    "                if outcome != 'any':\n",
    "                    if balls[b]['outcome'] == outcome:\n",
    "                        num_balls += 1\n",
    "                        print(f\"{balls[b]['number']:<5} | {balls[b]['desc'][:180]:<180}\")\n",
    "                else:\n",
    "                    num_balls += 1\n",
    "                    print(f\"{balls[b]['number']:<5} | {balls[b]['desc'][:180]:<180}\")\n",
    "                    \n",
    "    if onlyCount: return num_balls"
   ]
  },
  {
   "cell_type": "code",
   "execution_count": 171,
   "metadata": {},
   "outputs": [
    {
     "name": "stdout",
     "output_type": "stream",
     "text": [
      "36.3  | Ashwin to Hussey, OUT, this time the lbw appeal is upheld, Hussey looked to be tiring over the past few overs, a short of length ball, Hussey looks to pull that one, he misses and \n",
      "36.4  | Ashwin to Guptill, OUT, given out caught-behind by Hazare, fires a carrom ball on the off stump and it goes the other way, Guptill tries to crash that through the line, and Saha cl\n",
      "47.2  | Ashwin to NL McCullum, OUT, the partnership is broken, makes room, turns in and he tries to smack that over extra cover but doesn't get the desired elevation, straight to Gambhir  \n",
      "22.6  | Ashwin to Styris, OUT, good catch by Yuvraj at leg slip, tossed up on middle and leg, Styris, who had struggled to pinch a single for the previous four deliveries, turned the face \n",
      "37.1  | Ashwin to Taylor, OUT, plumb lbw first ball! A nothing shot really! Moves too far across, and also seems to have told himself to not play the forceful shot first ball. And the bat \n",
      "13.2  | Ashwin to BB McCullum, OUT, big, big wicket! McCullum was looking very good here. He tried to go over short midwicket here, but got too close to this full delivery, thus not gettin\n",
      "26.6  | Ashwin to Southee, OUT, it's all over for New Zealand, this one was turning in on leg stump, bounced a bit, Southee failed to keep it down, and Rohit at forward short leg took a sh\n",
      "26.4  | Ashwin to Mills, OUT, another carrom ball, tossed up for the drive around off stump, Mills does but straight to Tiwary at extra cover, second one for Ashwin,KD Mills c Tiwary b Ash\n",
      "18.4  | Ashwin to Styris, OUT, Ashwin gets one this time! Styris looked to belatedly sweep this fuller one into the leg side, missed the line and was hit bang in front of the stumps, the u\n",
      "48.3  | Ashwin to Ponting, OUT, Ponting lines up for the reverse hit, a rarity, but ends up hitting it straight to Zaheer at short third man, end of a magnificent innings from the Australi\n",
      "9.6   | Ashwin to Watson, OUT, the man from Chennai has struck, Watson went for the slog sweep, this one was slower through the air, tossed up, and turned in to strike the off stump, even \n",
      "44.2  | Ashwin to Pollard, OUT, huge blow for West Indies! Pollard has been caught at long-off. He backed away towards leg to hit through the off, Ashwin bowled a full ball outside leg, de\n",
      "26.4  | Ashwin to Simmons, OUT, oh Simmons what have you done! He was batting so well but he chose to run after pushing the ball on the leg side, Tiwary (who just can't stay out of the gam\n",
      "24.5  | Ashwin to Bopara, OUT, gone! The partnership ends. Turns nicely from middle and leg to straighten on Bopara who hasn't got much of a stride in and Billy Bowden quickly raises the f\n",
      "39.3  | Ashwin to Patel, OUT, oh dear, another man perishes on the midwicket boundary ... a slog-sweep, picks out the man, and Ashwin's figures are looking set to be matchwinning ones now \n",
      "26.4  | Ashwin to Pietersen, OUT, what a catch! Pietersen bent down low to slog sweep, connecting well and then standing to admire the shot ... only for Manoj Tiwary to come charging acros\n",
      "5.6   | Ashwin to Cook, OUT, he's given him! The ball rushed straight on as Cook pressed forward, rapping him on the front pad. The appeal was exuberant, and Umpire Asnani's finger went up\n",
      "36.5  | Ashwin to Pollard, OUT, Pollard's woes against spin continue. Ashwin strikes. Short of a length and spinning in, Pollard stays back and tries to hoist it out of the ground, but pic\n",
      "23.6  | Ashwin to Pollard, OUT, Ashwin has his revenge but Pollard isn't happy with the decision! Gets forward to defend, the ball lobbed off the pads and Parthiv ran forward and took the \n",
      "33.4  | Ashwin to Samuels, OUT, Samuels is gone, making room early on to go for the expansive drive, Ashwin skids it through and the off stump is pegged back, once again the Batting Powerp\n",
      "22.6  | R Sharma to Wade, OUT, inside-edged on to the stumps, Wade was getting beaten on the cut by the quick deliveries, he looked to open up and pull this time, the ball was not short en\n",
      "45.5  | Ashwin to Thirimanne, OUT, run out by a mile and more to spare, it was guided straight to backward point, there was no single, Thirimanne wanted it, was stranded halfway down the p\n",
      "43.2  | Ashwin to Chandimal, OUT, Dhoni has done well to complete the stumping, Chandimal walked out, reached the tossed up carrom ball on the full, but missed, and it turned away sharply \n",
      "39.4  | Ashwin to Perera, OUT, Ashwin gets another one, Perera advanced out to have a heave, was beaten as the tossed up ball spun away, he got the foot back on the crease, but could not g\n",
      "35.5  | Ashwin to Jayawardene, OUT, gone! Mahela departs, sweeps from off straight to deep square leg, well judged low take from Rohit on the boundary, Mahela had moved across and fetched \n",
      "39.4  | Ashwin to Perera, OUT, the frustration gets to Perera! He tries to slam it over the infield by staying at the crease, he plays all over it and skies it down to Virat who takes it a\n",
      "37.3  | Ashwin to Mathews, OUT, Dhoni makes no error this time! What a pity for Chandimal, Mathews dropped it in front of short cover and they have to hurry, the under-arm flick by Rohit i\n",
      "19.4  | Ashwin to Sangakkara, OUT, leading edge! Sangakkara gives Ashwin the charge, tries to launch him over mid-on but spoons a big leading edge down to point, credit to Ashwin for tossi\n",
      "45.6  | Ashwin to Thirimanne, OUT, superb catch to end a fine innings from Thirimanne, a short of length ball, Thirimanne is down the track and carves the ball towards sweeper cover, Raina\n",
      "21.5  | Ashwin to Dilshan, OUT, and both well-set batsmen are gone, Ashwin has struck, this one was a length ball well outside off, not much turn for Ashwin but it bounced, more than Dilsh\n",
      "13.2  | Ashwin to MEK Hussey, 1 run, OUT, a youngster misfields, and it results in a run-out. Maybe, MS Dhoni has a point. Tossed up on off stump, Hussey leans out and drives it straight t\n",
      "35.5  | Ashwin to Nasir Jamshed, OUT, Irfan just manages to hang on! Jamshed gets on his knee and slogs and gets a top edge that swirls towards short third man, Irfan jogs forward and the \n",
      "29.2  | R Sharma to Jayawardene, OUT, just as these two batsmen looked to be demoralising India with another of their solid stands, Rahul has the breakthrough, Mahela was caught on the bac\n",
      "46.6  | Ashwin to Thirimanne, OUT, bowled 'im, Sri Lanka's implosion continues, Thirimanne charges down the track and looks to force the ball through the off side, the ball went straight o\n",
      "21.1  | Ashwin to Tharanga, OUT, Tharanga is stumped, Ashwin saw Tharanga skipping down the track, bowled it short, the ball didn't turn away after pitching, carried on in the same directi\n",
      "35.6  | Ashwin to Misbah-ul-Haq, OUT, that looked close, loud, long appeal, and umpire Bowden gives it, nothing wrong with the decision, Misbah looking to work it with the spin to the leg \n",
      "37.2  | Ashwin to Bresnan, OUT, classic from Ashwin, what a refreshing delivery coming from him, tossed up outside off, inviting the drive, Bresnan feeling for it away from the body, and i\n",
      "23.4  | Ashwin to Morgan, OUT, Morgan's fallen to the reverse sweep, he's spooned it in the air from around leg stump to backward point, what a waste of an important wicket, which it alway\n",
      "33.6  | Ashwin to Morgan, OUT, caught at long-on! A nothing shot from Morgan! It was a fuller ball and he tries to chip it over mid-on but gets a leading edge. Yuvraj has all the time to r\n",
      "31.5  | Ashwin to Cook, OUT, quicker delivery, wraps Cook on the pads and he is given out. Cook can consider himself unlucky as that pitched comfortably outside the leg stump line. It didn\n",
      "33.1  | Ashwin to DM Bravo, OUT, Darren's misery ends thanks to a brilliant delivery! Ashwin bowls from roind the wicket, he relies on flight and turn to outfox Darren Bravo, the batsman w\n",
      "33.3  | Ashwin to Wahab Riaz, OUT, great wicket for an offspinner this! tossed it up and that spun in a long way, far too good for Wahab, who can only glove it as he looks to defend, crash\n",
      "15.1  | Ashwin to Kamran Akmal, OUT, Akmal has walked! a flighted delivery that spins in, Akmal unwisely went for the big drive against the turn, gets an inside edge, and that deflects off\n",
      "38.4  | Ashwin to Jayawardene, OUT, this time Umesh holds on with a run and dive to his right at short third man, Mahela falls to the reverse sweep, hit to a flatter delivery from outside \n",
      "39.5  | Ashwin to Perera, OUT, Perera has been duped all too easily, he's walked down to a juicily tossed up ball, missed it with all the turn and bounce, and Dhoni's moved across to do th\n",
      "39.1  | Ashwin to Sangakkara, OUT, Sanga's gone, big strike, Ashwin stops and bowls a tossed up full delivery, Sanga could not get under it as he tried to loft it, and mid on took a high, \n",
      "46.3  | Ashwin to Bailey, OUT, and he holes out at deep midwicket! The shot was on though, it was a tossed up delivery on off and Bailey aimed for the stands at deep midwicket, he just doe\n",
      "42.2  | Ashwin to Haddin, OUT, this one is plumb, Haddin was deep in his crease and tried to flick this flatter delivery towards the leg side, but it was pushed a bit quicker too and Haddi\n",
      "37.2  | Ashwin to Hughes, OUT, and he finally strikes, although only just. Dhoni had to juggle it a few times to keep the ball in his gloves. A little turn outside the off stump forces the\n",
      "48.5  | Ashwin to Johnson, OUT, this time fires in the quicker one as Johnson advances down the track, but misses the ball entirely with his slog, with Dhoni quick on his feet to stump the\n",
      "14.3  | Ashwin to Voges, OUT, 90 kph, quicker delivery on middle and leg which Voges gets on one knee to paddle round the corner, but misses the ball. The ball thuds into the front pad, an\n",
      "45.4  | Ashwin to Narine, OUT, oh, what a gift. He was playing against the line of the ball, even if it was outside leg stump, and gets a leading edge. The ball lobbed in the air and Ashwi\n",
      "35.3  | Ashwin to Samuels, OUT, lovely delivery, Ashwin gets one through Samuels' defences, tosses it up, Samuels late in getting forward, the bat hits the front boot as he looks to defend\n",
      "29.2  | Ashwin to Powell, OUT, and Powell's given it away yet again, off a bigger start this time, nothing delivery really, angled in full some way down the leg side, but it grips, Powell \n",
      "35.1  | Ashwin to de Kock, OUT, oh it ends in an anti-climactic fashion! It was a full delivery and he connected well with his sweep, but de Kock is disappointed as he hits it straight to \n",
      "33.5  | Ashwin to Anderson, OUT, and Ashwin takes the big wicket of Anderson as he looks to cut away the bowler to the off side, but is cramped for space as this one hurries onto his stump\n",
      "12.1  | Ashwin to Mominul Haque, OUT, he has got wicket first ball! This is brilliantly stumped by DK! Mominul tried to work this flighted delivery to the leg side, got an inside edge to h\n",
      "37.6  | Ashwin to Shapoor Zadran, OUT, change of line works as he fires this carrom ball in quick and full, Shapoor plays for the turn away from him and is caught in front of leg stump, re\n",
      "25.4  | Ashwin to Mohammad Shahzad, OUT, given straight away by umpire Bowden, carrom ball hurries on, Shahzad is struck above the knee roll as he fails to work it to leg, he is not a tall\n",
      "17.1  | Ashwin to Najibullah Zadran, OUT, strikes first ball too, tosses it up generously from round the stumps, Najibullah has a crack at it, substitute Binny settles under the skier at m\n",
      "47.2  | Ashwin to Buttler, OUT, nice comeback! Ashwin adjusts his line, onto off stump, Buttler comes down the pitch aiming to heave it over the leg side but lost his shape on the shot, tu\n",
      "35.4  | Ashwin to Stokes, OUT, whoa what a catch! Raina you beauty! They couldn't catch a thing during the Test series but Raina is showing the team how to bat.. and now how to take a shar\n",
      "27.6  | Ashwin to Morgan, OUT, oh, what a lovely delivery! Turn and some bounce from around off stump. Takes a thin outside edge to Dhoni. Morgan was just trying to open the face to find a\n",
      "46.5  | Ashwin to Ali, OUT, he makes room and too much room! Misses this quicker one and loses his middle stump. He was trying to go inside out,MM Ali b Ashwin 67 (51m 50b 4x4 3x6) SR: 134\n",
      "44.6  | Ashwin to Ali, OUT, Woakes can keep running away to the pavilion! It is Raina again! Moeen cuts it fine to short third man and Raina charges in to hit the stumps direct. How can on\n",
      "28.6  | Ashwin to Morgan, OUT, tries to use the feet, there's spin again... stumped him! Like a fly caught in the web, Morgan has been struggling, fighting, now he's been put out of his mi\n",
      "43.2  | Ashwin to Randiv, OUT, bowled him. Randiv looked to make room and hit him over cover, and Ashwin had bowled it a lot slower and given it more air. He's too early into his shot and \n",
      "13.5  | Ashwin to Jayawardene, OUT, oh, my. That was full on middle stump, and Mahela could have flicked it anywhere he wanted, but he hit it uppishly, and down the throat of Rayudu at dee\n",
      "44.3  | Ashwin to Jayawardene, OUT, Ashwin's first wicket is the one India wanted the most, Mahela on the charge, Ashwin tosses it up a touch wider outside off, Mahela swings and misses, S\n",
      "44.6  | Ashwin to Thirimanne, OUT, big hit! Not quite. He looks to launch it over long-on but can only find Rayudu. Simple catch there. An excellent 128-run stand comes to an end          \n",
      "18.3  | Ashwin to Jayawardene, OUT, oh massive, vicious turn! Not much Mahela could have done there. It was a flatter one and Mahela opens up to play the cut shot, but this jags in sharply\n",
      "22.3  | Ashwin to Mohammad Naveed, OUT, gets him with a quicker one and that's four for Ashwin, first time in an ODI. Made room even before the bowler was into his final stride, and he fir\n",
      "16.4  | Ashwin to Khurram Khan, OUT, and that's number three for Ashwin. Picks the wrong length to sweep on a pitch with this much bounce, gloves it in the air over Dhoni, and Raina moved \n",
      "14.5  | Ashwin to Patil, OUT, arm-ball does the trick! Seam pointing towards slip, and it's to that fielder that Patil edges it as he presses forward to defend. Swings away late, and Dhawa\n",
      "10.2  | Ashwin to Krishna Chandran, OUT, given! Ashwin dangles this slow outside off, entices Krishnan forward to defend. It dips and bounces and that hits his glove, on to thigh pad, and \n",
      "21.5  | Ashwin to Carter, OUT, aaand he's gone. The sweep does him in. On this pitch, one ball is going to bounce a bit more, especially when Ashwin's flighting the ball this well. Top-edg\n",
      "38.6  | Ashwin to Balbirnie, OUT, got him. Looks for the sweep again, and that shot has been fraught with danger today. There's a bit of extra bounce and he top-edges it, loops to the left\n",
      "14.6  | Ashwin to Stirling, OUT, oh, man. That's a tame end to a promising innings. Ashwin, to his credit, held it back just a bit and beat him in the air as Stirling looked to hit over th\n",
      "28.3  | Ashwin to Williams, OUT, Ashwin able to reach low to take this attempted bludgeon past him from Williams. The batsman is not sure if this has carried though, with the umpires makin\n",
      "37.3  | Ashwin to Maxwell, OUT, Ashwin has bowled well, and he has got the big Maxwell wicket. Good field placings, good courage to bowl slow through the air. The ball turns into the pads,\n",
      "23.3  | Ashwin to Mushfiqur Rahim, OUT, Rahim down the wicket, looks for a straight six, but has holed out. Ashwin is on a roll. Bangladesh are imploding. The idea is right, in that he is \n",
      "19.4  | Ashwin to Liton Das, OUT, Ashwin strikes again. He has bowled this one superbly. Gets the offbreak to dip, Das thinks he is to pitch of the ball but isn't. He goes ahead with the d\n",
      "17.3  | Ashwin to Tamim Iqbal, OUT, what a concentration break. He was playing so well before the rain break. Then came an over with just one run, and he has thrown it away now. You expect\n",
      "8.4   | Ashwin to de Kock, OUT, that's a ripper and he's been caught at slip! From around the wicket, Ashwin drifted the ball into the left-hander with teasing flight, he pitched the ball \n",
      "29.1  | Ashwin to du Plessis, OUT, and someone's gone! Both batsmen at the same end, and the third umpire has to come in to adjudicate which one of them is out. Early signs are that Miller\n",
      "17.3  | Ashwin to Amla, OUT, and a wicket. Ashwin strikes. Flat and wide outside off, the ball skids on and Amla is slightly late in his cut. Gets a thick edge and a pretty significant def\n",
      "22.6  | Ashwin to Azhar Ali, OUT, he's gone! His partner was ball watching and he has to pay for it! Azhar's one! India have their breakthrough. The Oval erupts. Oh, this is poor from Paki\n"
     ]
    }
   ],
   "source": [
    "printBowlerBalls(\"Ravichandran Ashwin\", False, 'W')"
   ]
  },
  {
   "cell_type": "code",
   "execution_count": 55,
   "metadata": {},
   "outputs": [
    {
     "name": "stdout",
     "output_type": "stream",
     "text": [
      "Bravo to Lehmann, FOUR runs,\n"
     ]
    }
   ],
   "source": [
    "for i, m in data.items():\n",
    "    d = i1(m)['balls'][0]['desc']\n",
    "    print(d)\n",
    "    if getDescWordSet(d).intersection({'leehmann'}): print(True)\n",
    "    break"
   ]
  },
  {
   "cell_type": "code",
   "execution_count": 82,
   "metadata": {},
   "outputs": [
    {
     "data": {
      "text/plain": [
       "{'munaf', 'patel'}"
      ]
     },
     "execution_count": 82,
     "metadata": {},
     "output_type": "execute_result"
    }
   ],
   "source": [
    "x = set()\n",
    "x.update('munaf patel'.split(' '))\n",
    "x"
   ]
  },
  {
   "cell_type": "code",
   "execution_count": 103,
   "metadata": {},
   "outputs": [],
   "source": [
    "save_data(data, \"clean_matches\")"
   ]
  },
  {
   "cell_type": "code",
   "execution_count": 104,
   "metadata": {},
   "outputs": [],
   "source": [
    "export_to_json(data)"
   ]
  }
 ],
 "metadata": {
  "kernelspec": {
   "display_name": "Python 3",
   "language": "python",
   "name": "python3"
  },
  "language_info": {
   "codemirror_mode": {
    "name": "ipython",
    "version": 3
   },
   "file_extension": ".py",
   "mimetype": "text/x-python",
   "name": "python",
   "nbconvert_exporter": "python",
   "pygments_lexer": "ipython3",
   "version": "3.7.0"
  }
 },
 "nbformat": 4,
 "nbformat_minor": 4
}
