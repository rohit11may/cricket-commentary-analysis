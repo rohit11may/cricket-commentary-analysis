{
 "cells": [
  {
   "cell_type": "code",
   "execution_count": 38,
   "metadata": {},
   "outputs": [],
   "source": [
    "import pickle\n",
    "import json\n",
    "from random import randint, shuffle\n",
    "from tqdm import tqdm\n",
    "import numpy as np\n",
    "import string\n",
    "import re\n",
    "import matplotlib.pyplot as plt\n",
    "from matplotlib.ticker import FormatStrFormatter\n",
    "from collections import defaultdict\n",
    "from espncricinfo.match import Match"
   ]
  },
  {
   "cell_type": "code",
   "execution_count": 5,
   "metadata": {},
   "outputs": [],
   "source": [
    "def plotHist(data, bins=[], x_labels=True):\n",
    "    data_hist = np.random.randn(82)\n",
    "    fig, ax = plt.subplots(figsize=(24,5))\n",
    "    if bins: \n",
    "        counts, bins, patches = ax.hist(data, bins=bins, facecolor='yellow', edgecolor='gray')\n",
    "    else:\n",
    "        counts, bins, patches = ax.hist(data, facecolor='yellow', edgecolor='gray')\n",
    "\n",
    "    # Set the ticks to be at the edges of the bins.\n",
    "    if x_labels:\n",
    "        ax.set_xticks(bins)\n",
    "        # Set the xaxis's tick labels to be formatted with 1 decimal place...\n",
    "        ax.xaxis.set_major_formatter(FormatStrFormatter('%0.05f'))\n",
    "\n",
    "    # Change the colors of bars at the edges...\n",
    "    twentyfifth, seventyfifth = np.percentile(data_hist, [25, 75])\n",
    "    for patch, rightside, leftside in zip(patches, bins[1:], bins[:-1]):\n",
    "        if rightside < twentyfifth:\n",
    "            patch.set_facecolor('green')\n",
    "        elif leftside > seventyfifth:\n",
    "            patch.set_facecolor('red')\n",
    "\n",
    "    # Label the raw counts and the percentages below the x-axis...\n",
    "    if x_labels:\n",
    "        bin_centers = 0.5 * np.diff(bins) + bins[:-1]\n",
    "        for count, x in zip(counts, bin_centers):\n",
    "            # Label the raw counts\n",
    "            ax.annotate(str(count), xy=(x, 0), xycoords=('data', 'axes fraction'),\n",
    "                xytext=(0, -18), textcoords='offset points', va='top', ha='center')\n",
    "\n",
    "            # Label the percentages\n",
    "            percent = '%0.0f%%' % (100 * float(count) / counts.sum())\n",
    "            ax.annotate(percent, xy=(x, 0), xycoords=('data', 'axes fraction'),\n",
    "                xytext=(0, -32), textcoords='offset points', va='top', ha='center')\n",
    "\n",
    "\n",
    "    # Give ourselves some more room at the bottom of the plot\n",
    "    plt.subplots_adjust(bottom=0.1)\n",
    "    plt.show()"
   ]
  },
  {
   "cell_type": "code",
   "execution_count": 6,
   "metadata": {},
   "outputs": [],
   "source": [
    "def load_data(filename):\n",
    "    with open(f\"{filename}.pkl\", \"rb\") as f:\n",
    "        data = pickle.load(f)\n",
    "    print(\"Loaded data!\")\n",
    "    return data\n",
    "        \n",
    "def save_data(data, filename):\n",
    "    with open(f\"{filename}.pkl\", \"wb\") as f:\n",
    "        pickle.dump(data, f)\n",
    "        \n",
    "def export_to_json(data):\n",
    "    with open('matches.json', 'w') as json_file:\n",
    "        json.dump(data, json_file)\n",
    "    \n",
    "def getRandomMatch(data):\n",
    "    return data[match_ids[randint(0, 1919)]]\n",
    "\n",
    "def printInnings(data, matchId, inningsNum, summaries=False, highlightOnly=False):\n",
    "    if summaries:\n",
    "        for over in data[matchId]['commentary'][f'innings{inningsNum}']['over_summaries']:\n",
    "            if highlightOnly:\n",
    "                print(over[0])\n",
    "            else:\n",
    "                print(over)\n",
    "    else:\n",
    "        for ball in data[matchId]['commentary'][f'innings{inningsNum}']['balls']:\n",
    "            print(ball)\n",
    "            \n",
    "i1 = lambda m : m['commentary']['innings1']\n",
    "i2 = lambda m : m['commentary']['innings2']"
   ]
  },
  {
   "cell_type": "code",
   "execution_count": 652,
   "metadata": {},
   "outputs": [
    {
     "name": "stdout",
     "output_type": "stream",
     "text": [
      "Loaded data!\n",
      "Loaded data!\n"
     ]
    }
   ],
   "source": [
    "data, players = load_data(\"matches_with_details\"), load_data(\"player_table\")"
   ]
  },
  {
   "cell_type": "code",
   "execution_count": 18,
   "metadata": {},
   "outputs": [
    {
     "data": {
      "image/png": "[encoded data removed]",
      "text/plain": [
       "<Figure size 1728x360 with 1 Axes>"
      ]
     },
     "metadata": {
      "needs_background": "light"
     },
     "output_type": "display_data"
    }
   ],
   "source": [
    "lengths = []\n",
    "count = 0\n",
    "over_summary = set()\n",
    "ball_samples = defaultdict(list)\n",
    "for i, m in data.items():\n",
    "    for b in i1(m)['balls']:\n",
    "        over_summary.add(b['number'])\n",
    "        comms = b['desc']\n",
    "        lengths.append(len(comms))\n",
    "        ball_samples[len(comms)].append(comms)\n",
    "        \n",
    "    for b in i2(m)['balls']:\n",
    "        over_summary.add(b['number'])\n",
    "        lengths.append(len(b['desc']))\n",
    "\n",
    "plotHist(lengths, bins=list(range(17,600, 2)), x_labels=False)"
   ]
  },
  {
   "cell_type": "code",
   "execution_count": 19,
   "metadata": {},
   "outputs": [
    {
     "data": {
      "image/png": "[encoded data removed]",
      "text/plain": [
       "<Figure size 1728x360 with 1 Axes>"
      ]
     },
     "metadata": {
      "needs_background": "light"
     },
     "output_type": "display_data"
    }
   ],
   "source": [
    "lengths = []\n",
    "ball_samples = defaultdict(list)\n",
    "for i, m in data.items():\n",
    "    match_lengths = []\n",
    "    for b in i1(m)['balls']:\n",
    "        comms = b['desc']\n",
    "        match_lengths.append(len(comms))\n",
    "        \n",
    "    for b in i2(m)['balls']:\n",
    "        comms = b['desc']\n",
    "        match_lengths.append(len(comms))\n",
    "        \n",
    "    avg_length = (sum(match_lengths)/len(match_lengths))\n",
    "    ball_samples[avg_length // 5].append(i)\n",
    "    lengths.append(avg_length)\n",
    "\n",
    "plotHist(lengths, bins=list(range(0,300, 5)), x_labels=False)"
   ]
  },
  {
   "cell_type": "code",
   "execution_count": 20,
   "metadata": {},
   "outputs": [
    {
     "name": "stdout",
     "output_type": "stream",
     "text": [
      "1608\n"
     ]
    }
   ],
   "source": [
    "total_with_commentary = 0\n",
    "for k in sorted(ball_samples.keys()):\n",
    "    if k >= 15:\n",
    "        total_with_commentary += len(ball_samples[k])\n",
    "print(total_with_commentary)"
   ]
  },
  {
   "cell_type": "code",
   "execution_count": 21,
   "metadata": {},
   "outputs": [],
   "source": [
    "def resetBalls():\n",
    "    for i, m in data.items():\n",
    "        newBalls = []\n",
    "        for b in i1(m)['balls']:\n",
    "            ball_data = {}\n",
    "            ball_data['number'] = b[0]\n",
    "            ball_data['outcome'] = b[1]\n",
    "            ball_data['desc'] = \",\".join(b[2::])\n",
    "            ball_data['pitch'] = {}\n",
    "            newBalls.append(ball_data)\n",
    "\n",
    "        m['commentary']['innings1']['balls'] = newBalls\n",
    "        newBalls = []\n",
    "        for b in i2(m)['balls']:\n",
    "            ball_data = {}\n",
    "            ball_data['number'] = b[0]\n",
    "            ball_data['outcome'] = b[1]\n",
    "            ball_data['desc'] = \",\".join(b[2::])\n",
    "            ball_data['pitch'] = {}\n",
    "            newBalls.append(ball_data)\n",
    "        m['commentary']['innings2']['balls'] = newBalls"
   ]
  },
  {
   "cell_type": "code",
   "execution_count": 22,
   "metadata": {},
   "outputs": [],
   "source": [
    "def downloadMatchDetails():\n",
    "    count = 0\n",
    "    for i, m in tqdm(data.items()):\n",
    "        count += 1\n",
    "        if not 'batting_first' in m:\n",
    "            espnMatch = Match(i)\n",
    "            m['batting_first'] = espnMatch.batting_first\n",
    "            m['ground_id'] = espnMatch.ground_id\n",
    "            m['home_team'] = espnMatch.home_team\n",
    "        if count % 20 == 0:\n",
    "            save_data(data, \"matches_with_details\")\n",
    "    save_data(data, \"matches_with_details\")"
   ]
  },
  {
   "cell_type": "code",
   "execution_count": 206,
   "metadata": {},
   "outputs": [
    {
     "data": {
      "text/plain": [
       "{'P.N.G.': 'PNG',\n",
       " 'India': 'INDIA',\n",
       " 'Canada': 'CAN',\n",
       " 'Kenya': 'KENYA',\n",
       " 'New Zealand': 'NZ',\n",
       " 'Nepal': 'NEPAL',\n",
       " 'Ireland': 'IRE',\n",
       " 'Hong Kong': 'HKG',\n",
       " 'Scotland': 'SCOT',\n",
       " 'Pakistan': 'PAK',\n",
       " 'Namibia': 'NAM',\n",
       " 'U.S.A.': 'USA',\n",
       " 'Bangladesh': 'BDESH',\n",
       " 'Zimbabwe': 'ZIM',\n",
       " 'Sri Lanka': 'SL',\n",
       " 'South Africa': 'SA',\n",
       " 'U.A.E.': 'UAE',\n",
       " 'West Indies': 'WI',\n",
       " 'Australia': 'AUS',\n",
       " 'Afghanistan': 'AFG',\n",
       " 'Bermuda': 'BMUDA',\n",
       " 'Netherlands': 'NL',\n",
       " 'England': 'ENG'}"
      ]
     },
     "execution_count": 206,
     "metadata": {},
     "output_type": "execute_result"
    }
   ],
   "source": [
    "import difflib\n",
    "bf = set()\n",
    "teams = set()\n",
    "for i, m in data.items():\n",
    "    bf.add(m['batting_first'])\n",
    "    teams.add(m['team1'])\n",
    "    teams.add(m['team2'])\n",
    "\n",
    "team = {}\n",
    "for t in teams:\n",
    "    closest = difflib.get_close_matches(t.upper(), list(bf))\n",
    "    team[t] = closest\n",
    "team['Australia'] = ['AUS']\n",
    "team['Zimbabwe'] = ['ZIM']\n",
    "team['New Zealand'] = ['NZ']\n",
    "team['West Indies'] = ['WI']\n",
    "team['Pakistan'] = ['PAK']\n",
    "team['Hong Kong'] = ['HKG']\n",
    "team['Afghanistan'] = ['AFG']\n",
    "team['South Africa'] = ['SA']\n",
    "del team['Oman']\n",
    "team['Sri Lanka'] = ['SL']\n",
    "team['Netherlands'] = ['NL']\n",
    "\n",
    "for k, v in team.items():\n",
    "    team[k] = v[0]\n",
    "team_to_id = team\n",
    "id_to_team = {v: k for k, v in team_to_id.items()} \n",
    "team_to_id"
   ]
  },
  {
   "cell_type": "code",
   "execution_count": 83,
   "metadata": {},
   "outputs": [],
   "source": [
    "from difflib import SequenceMatcher\n",
    "def getPlayerProfile(name):\n",
    "    returnList = [] \n",
    "    for i, p in players.items():\n",
    "        match = SequenceMatcher(a=p['known_as'].lower(), b=name.lower()).ratio()\n",
    "        if match > 0.6:\n",
    "            returnList.append((p, match))\n",
    "            \n",
    "    return [i[0] for i in sorted(returnList, key = lambda x : x[1], reverse=True)]"
   ]
  },
  {
   "cell_type": "code",
   "execution_count": 606,
   "metadata": {},
   "outputs": [],
   "source": [
    "def getOver(balls, over):\n",
    "    retBalls = []\n",
    "    for i, b in enumerate(balls):\n",
    "        if overNum == int(b['over']):\n",
    "            retBalls.append(i)\n",
    "    return retBalls\n",
    "\n",
    "def getPlayerBalls(profile, innings, i):\n",
    "    bowler_map = defaultdict(list)\n",
    "    sums = innings['over_summaries']\n",
    "    balls = []\n",
    "    for idx in reversed(range(len(sums))):\n",
    "        summary = sums[idx]\n",
    "        if summary['next_bowler'] == profile['known_as']:\n",
    "            balls += getOver(innings['balls'], int(summary['number'])-1)\n",
    "     \n",
    "    return sorted(balls)"
   ]
  },
  {
   "cell_type": "code",
   "execution_count": 632,
   "metadata": {},
   "outputs": [],
   "source": [
    "def getAllPlayerOvers(playerName):\n",
    "    overs = []\n",
    "    profile = getPlayerProfile(playerName)[0]\n",
    "    p_id = profile['player_id']\n",
    "    for i, m in data.items():\n",
    "        # Check which team player is in, if any\n",
    "        if p_id in m['team_1_players']:\n",
    "            teamNum = 1\n",
    "        elif p_id in m['team_2_players']:\n",
    "            teamNum = 2\n",
    "        else:\n",
    "            continue\n",
    "            \n",
    "        team = m[f'team{teamNum}']\n",
    "        \n",
    "        # Check which innings player bowled in\n",
    "        team_id = team_to_id[team]\n",
    "        inn = 1\n",
    "        if team_id == m['batting_first']:\n",
    "            inn = 2\n",
    "            \n",
    "        # Get all balls from match\n",
    "        balls = getPlayerBalls(profile, m['commentary'][f'innings{inn}'], i)\n",
    "        if balls:\n",
    "            overs.append((i, inn, balls))\n",
    "            \n",
    "    return overs"
   ]
  },
  {
   "cell_type": "code",
   "execution_count": 634,
   "metadata": {},
   "outputs": [],
   "source": [
    "def printBowlerBalls(name, onlyCount = True, outcome = None):\n",
    "    matches = getAllPlayerOvers(name)\n",
    "    num_balls = sum(list(map(lambda x : len(x[2]), matches)))\n",
    "    print(f\"{len(matches)} innings | {num_balls} balls\")\n",
    "    num_balls = 0\n",
    "    for i, inn, playerBalls in matches:\n",
    "        balls = data[i]['commentary'][f'innings{inn}']['balls']\n",
    "        for b in playerBalls:\n",
    "            if not outcome or balls[b]['outcome'] == outcome:\n",
    "                num_balls += 1\n",
    "                if not onlyCount: print(f\"{balls[b]['number']:<5} | {balls[b]['desc'][:180]:<180}\")\n",
    "    if outcome:\n",
    "        print(f'\\n{num_balls} {outcome}s')"
   ]
  },
  {
   "cell_type": "code",
   "execution_count": 637,
   "metadata": {},
   "outputs": [
    {
     "name": "stdout",
     "output_type": "stream",
     "text": [
      "85 innings | 4446 balls\n",
      "\n",
      "164 Ws\n"
     ]
    }
   ],
   "source": [
    "printBowlerBalls(\"Mitchell Starc\", True, 'W')"
   ]
  },
  {
   "cell_type": "markdown",
   "metadata": {},
   "source": [
    "# All possible roles"
   ]
  },
  {
   "cell_type": "code",
   "execution_count": 640,
   "metadata": {},
   "outputs": [
    {
     "data": {
      "text/plain": [
       "{None,\n",
       " 'allrounder',\n",
       " 'batsman',\n",
       " 'batting allrounder',\n",
       " 'bowler',\n",
       " 'bowling allrounder',\n",
       " 'middle-order batsman',\n",
       " 'opening batsman',\n",
       " 'top-order batsman',\n",
       " 'wicketkeeper',\n",
       " 'wicketkeeper batsman'}"
      ]
     },
     "execution_count": 640,
     "metadata": {},
     "output_type": "execute_result"
    }
   ],
   "source": [
    "def getRoles():\n",
    "    roles = set()\n",
    "    for i, m in data.items():\n",
    "        for p in m['team_1_players']:\n",
    "            roles.add(players[p]['player_primary_role'])\n",
    "        for p in m['team_2_players']:\n",
    "            roles.add(players[p]['player_primary_role'])\n",
    "    return roles\n",
    "getRoles()"
   ]
  },
  {
   "cell_type": "markdown",
   "metadata": {},
   "source": [
    "# Further Data Extraction from Comms"
   ]
  },
  {
   "cell_type": "code",
   "execution_count": 329,
   "metadata": {},
   "outputs": [],
   "source": [
    "def extractBowlerPatterns():\n",
    "    bowlerPattern = \"^(?P<bowler>[\\w \\-'?]+) to (?P<batsman>[\\w \\-']+),\"\n",
    "    count = 0\n",
    "    overall = 0\n",
    "    for i, m in data.items():\n",
    "        i1balls = i1(m)['balls']\n",
    "        for idx in range(len(i1balls)):\n",
    "            b = i1balls[idx]\n",
    "            match = re.match(bowlerPattern, b['desc'])\n",
    "            bowler = match.group('bowler')\n",
    "            batsman = match.group('batsman')\n",
    "            m['commentary']['innings1']['balls'][idx]['bowler'] = bowler\n",
    "            m['commentary']['innings1']['balls'][idx]['batsman'] = batsman\n",
    "\n",
    "        i2balls = i2(m)['balls']\n",
    "        for idx in range(len(i2balls)):\n",
    "            b = i2balls[idx]\n",
    "            match = re.match(bowlerPattern, b['desc'])\n",
    "            bowler = match.group('bowler')\n",
    "            batsman = match.group('batsman')\n",
    "            m['commentary']['innings2']['balls'][idx]['bowler'] = bowler\n",
    "            m['commentary']['innings2']['balls'][idx]['batsman'] = batsman\n"
   ]
  },
  {
   "cell_type": "code",
   "execution_count": 653,
   "metadata": {},
   "outputs": [],
   "source": [
    "overNumberPattern = '^(?P<over>\\d+)\\.(?P<ball>\\d+)$'\n",
    "def extractOverNums():\n",
    "    for i, m in data.items():\n",
    "        i1balls = i1(m)['balls']\n",
    "        for idx in range(len(i1balls)):\n",
    "            b = i1balls[idx]\n",
    "            match = re.match(overNumberPattern, b['number'])\n",
    "            over = match.group('over')\n",
    "            ball = match.group('ball')\n",
    "            m['commentary']['innings1']['balls'][idx]['over'] = over\n",
    "            m['commentary']['innings1']['balls'][idx]['delivery'] = ball\n",
    "            \n",
    "        i2balls = i2(m)['balls']\n",
    "        for idx in range(len(i2balls)):\n",
    "            b = i2balls[idx]\n",
    "            match = re.match(overNumberPattern, b['number'])\n",
    "            over = match.group('over')\n",
    "            ball = match.group('ball')\n",
    "            m['commentary']['innings2']['balls'][idx]['over'] = over\n",
    "            m['commentary']['innings2']['balls'][idx]['delivery'] = ball\n",
    "\n",
    "extractOverNums()"
   ]
  },
  {
   "cell_type": "code",
   "execution_count": 331,
   "metadata": {},
   "outputs": [],
   "source": [
    "save_data(data, \"matches_with_details\")"
   ]
  },
  {
   "cell_type": "code",
   "execution_count": 332,
   "metadata": {},
   "outputs": [],
   "source": [
    "export_to_json(data)"
   ]
  }
 ],
 "metadata": {
  "kernelspec": {
   "display_name": "Python 3",
   "language": "python",
   "name": "python3"
  },
  "language_info": {
   "codemirror_mode": {
    "name": "ipython",
    "version": 3
   },
   "file_extension": ".py",
   "mimetype": "text/x-python",
   "name": "python",
   "nbconvert_exporter": "python",
   "pygments_lexer": "ipython3",
   "version": "3.7.0"
  }
 },
 "nbformat": 4,
 "nbformat_minor": 4
}
