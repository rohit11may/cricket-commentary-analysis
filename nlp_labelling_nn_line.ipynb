{
 "cells": [
  {
   "cell_type": "code",
   "execution_count": 46,
   "metadata": {},
   "outputs": [],
   "source": [
    "import matplotlib.pyplot as plt\n",
    "from matplotlib.ticker import FormatStrFormatter\n",
    "\n",
    "import pickle\n",
    "import json\n",
    "import string\n",
    "import re\n",
    "import warnings\n",
    "from collections import defaultdict\n",
    "\n",
    "from random import randint, shuffle\n",
    "from tqdm import tqdm\n",
    "from tqdm.keras import TqdmCallback\n",
    "\n",
    "import numpy as np\n",
    "import nltk\n",
    "import pandas as pd\n",
    "from nltk import ngrams\n",
    "\n",
    "from sklearn.feature_extraction.text import CountVectorizer, TfidfVectorizer\n",
    "from sklearn.model_selection import train_test_split, StratifiedKFold, GridSearchCV, RandomizedSearchCV\n",
    "from sklearn.preprocessing import LabelEncoder, StandardScaler\n",
    "from sklearn.utils import class_weight\n",
    "from sklearn.metrics import confusion_matrix, classification_report\n",
    "from sklearn.linear_model import LogisticRegression\n",
    "from sklearn.neural_network import MLPClassifier\n",
    "from sklearn.neighbors import KNeighborsClassifier\n",
    "from sklearn.svm import SVC\n",
    "from sklearn.gaussian_process import GaussianProcessClassifier\n",
    "from sklearn.gaussian_process.kernels import RBF\n",
    "from sklearn.tree import DecisionTreeClassifier\n",
    "from sklearn.ensemble import RandomForestClassifier, AdaBoostClassifier, VotingClassifier\n",
    "from sklearn.naive_bayes import GaussianNB\n",
    "from sklearn.discriminant_analysis import QuadraticDiscriminantAnalysis\n",
    "from sklearn.decomposition import PCA\n",
    "\n",
    "from keras.preprocessing.text import text_to_word_sequence, Tokenizer\n",
    "from keras.preprocessing import sequence\n",
    "from keras.models import Sequential, load_model, Model\n",
    "from keras.layers import Dense, LSTM, Dropout, Lambda\n",
    "from keras.layers.embeddings import Embedding\n",
    "from keras.callbacks import EarlyStopping, ModelCheckpoint\n",
    "from keras.wrappers.scikit_learn import KerasClassifier\n",
    "\n",
    "seed = 7\n",
    "np.random.seed(seed)\n",
    "pd.set_option('max_colwidth', -1)"
   ]
  },
  {
   "cell_type": "code",
   "execution_count": 3,
   "metadata": {},
   "outputs": [],
   "source": [
    "length_class_to_label = {\n",
    "    0: 'full toss',\n",
    "    1: 'yorker',\n",
    "    2: 'full',\n",
    "    3: 'good length',\n",
    "    4: 'back of a length',\n",
    "    5: 'short',\n",
    "}\n",
    "\n",
    "line_class_to_label = {\n",
    "    0: 'wide outside off',\n",
    "    1: 'outside off',\n",
    "    2: 'straight',\n",
    "    3: 'down leg',\n",
    "    4: 'wide down leg',\n",
    "}"
   ]
  },
  {
   "cell_type": "code",
   "execution_count": 4,
   "metadata": {},
   "outputs": [
    {
     "name": "stdout",
     "output_type": "stream",
     "text": [
      "Loaded data!\n"
     ]
    }
   ],
   "source": [
    "def load_data(filename):\n",
    "    with open(f\"{filename}.json\", \"rb\") as f:\n",
    "        data = json.load(f)\n",
    "    print(\"Loaded data!\")\n",
    "    return data\n",
    "        \n",
    "def load_df(filename):\n",
    "    with open(f\"{filename}.pkl\", \"rb\") as f:\n",
    "        d = pickle.load(f)\n",
    "    return d\n",
    "        \n",
    "def save_data(data, filename):\n",
    "    with open(f\"{filename}.pkl\", \"wb\") as f:\n",
    "        pickle.dump(data, f)\n",
    "        \n",
    "def export_to_json(data):\n",
    "    with open('matches.json', 'w') as json_file:\n",
    "        json.dump(data, json_file)\n",
    "    \n",
    "i1b = lambda m : m['commentary']['innings1']['balls']\n",
    "i2b = lambda m : m['commentary']['innings2']['balls']\n",
    "i1o = lambda m : m['commentary']['innings1']['over_summaries']\n",
    "i2o = lambda m : m['commentary']['innings2']['over_summaries']\n",
    "df, players = load_df(\"dale_df\"), load_data('player_table')\n",
    "\n",
    "all_names = set()\n",
    "ambigNames = set(['short', 'ball', 'head', 'little', 'chase', 'cutting', 'cross'])\n",
    "for profile in players.values():\n",
    "    name = profile['known_as'].split(' ')\n",
    "    ambig = any(n.lower() in ambigNames for n in name)\n",
    "    if not ambig:\n",
    "        all_names.update(name)\n",
    "        all_names.update([n.lower() for n in name])"
   ]
  },
  {
   "cell_type": "markdown",
   "metadata": {},
   "source": [
    "## Feature Engineering"
   ]
  },
  {
   "cell_type": "code",
   "execution_count": 5,
   "metadata": {},
   "outputs": [
    {
     "data": {
      "text/html": [
       "<div>\n",
       "<style scoped>\n",
       "    .dataframe tbody tr th:only-of-type {\n",
       "        vertical-align: middle;\n",
       "    }\n",
       "\n",
       "    .dataframe tbody tr th {\n",
       "        vertical-align: top;\n",
       "    }\n",
       "\n",
       "    .dataframe thead th {\n",
       "        text-align: right;\n",
       "    }\n",
       "</style>\n",
       "<table border=\"1\" class=\"dataframe\">\n",
       "  <thead>\n",
       "    <tr style=\"text-align: right;\">\n",
       "      <th></th>\n",
       "      <th>desc_</th>\n",
       "      <th>hand_</th>\n",
       "      <th>length_</th>\n",
       "      <th>line_</th>\n",
       "      <th>outcome_</th>\n",
       "    </tr>\n",
       "  </thead>\n",
       "  <tbody>\n",
       "    <tr>\n",
       "      <th>0</th>\n",
       "      <td>Steyn to Jaques, full and on the legs, swinging in, Jaques lets it go past, no runs, fielded by Boucher</td>\n",
       "      <td>1</td>\n",
       "      <td>2</td>\n",
       "      <td>2</td>\n",
       "      <td>0</td>\n",
       "    </tr>\n",
       "    <tr>\n",
       "      <th>1</th>\n",
       "      <td>Steyn to Jaques, good length but down leg, Jaques drives, no runs, fielded by Botha</td>\n",
       "      <td>1</td>\n",
       "      <td>3</td>\n",
       "      <td>3</td>\n",
       "      <td>0</td>\n",
       "    </tr>\n",
       "    <tr>\n",
       "      <th>2</th>\n",
       "      <td>Steyn to Jaques, short of a length outside the off stump, Jaques plays no shot, no runs, fielded by Boucher</td>\n",
       "      <td>1</td>\n",
       "      <td>4</td>\n",
       "      <td>1</td>\n",
       "      <td>0</td>\n",
       "    </tr>\n",
       "    <tr>\n",
       "      <th>3</th>\n",
       "      <td>(no ball) Steyn to Jaques, good length delivery just outside the off stump, Jaques lets it go past, no runs, fielded by Boucher</td>\n",
       "      <td>1</td>\n",
       "      <td>3</td>\n",
       "      <td>1</td>\n",
       "      <td>4</td>\n",
       "    </tr>\n",
       "    <tr>\n",
       "      <th>4</th>\n",
       "      <td>Steyn to Jaques, fuller length outside the off stump , Jaques drives in air over cover fielder, 4 runs</td>\n",
       "      <td>1</td>\n",
       "      <td>2</td>\n",
       "      <td>1</td>\n",
       "      <td>12</td>\n",
       "    </tr>\n",
       "  </tbody>\n",
       "</table>\n",
       "</div>"
      ],
      "text/plain": [
       "                                                                                                                              desc_  \\\n",
       "0   Steyn to Jaques, full and on the legs, swinging in, Jaques lets it go past, no runs, fielded by Boucher                           \n",
       "1   Steyn to Jaques, good length but down leg, Jaques drives, no runs, fielded by Botha                                               \n",
       "2   Steyn to Jaques, short of a length outside the off stump, Jaques plays no shot, no runs, fielded by Boucher                       \n",
       "3   (no ball) Steyn to Jaques, good length delivery just outside the off stump, Jaques lets it go past, no runs, fielded by Boucher   \n",
       "4   Steyn to Jaques, fuller length outside the off stump , Jaques drives in air over cover fielder, 4 runs                            \n",
       "\n",
       "   hand_  length_  line_  outcome_  \n",
       "0  1      2        2      0         \n",
       "1  1      3        3      0         \n",
       "2  1      4        1      0         \n",
       "3  1      3        1      4         \n",
       "4  1      2        1      12        "
      ]
     },
     "execution_count": 5,
     "metadata": {},
     "output_type": "execute_result"
    }
   ],
   "source": [
    "df.head()"
   ]
  },
  {
   "cell_type": "code",
   "execution_count": 9,
   "metadata": {},
   "outputs": [],
   "source": [
    "from nltk.corpus import stopwords as st\n",
    "exceptions = ['a', 'off', 'against', 'between', 'into', 'through', 'above', 'below', 'up', 'down', 'out', 'in', 'over', 'further', 'on', 'of']\n",
    "stopwords = set(st.words('english'))\n",
    "for w in exceptions:\n",
    "    stopwords.remove(w) "
   ]
  },
  {
   "cell_type": "code",
   "execution_count": 10,
   "metadata": {},
   "outputs": [
    {
     "data": {
      "text/plain": [
       "<matplotlib.axes._subplots.AxesSubplot at 0x133c66f98>"
      ]
     },
     "execution_count": 10,
     "metadata": {},
     "output_type": "execute_result"
    },
    {
     "data": {
      "image/png": "[encoded data removed]",
      "text/plain": [
       "<Figure size 432x288 with 1 Axes>"
      ]
     },
     "metadata": {
      "needs_background": "light"
     },
     "output_type": "display_data"
    }
   ],
   "source": [
    "df['tokens'] = df['desc_'].apply(text_to_word_sequence)\n",
    "lens = df['tokens'].apply(len)\n",
    "lens.hist(bins=[x for x in range(125)])"
   ]
  },
  {
   "cell_type": "code",
   "execution_count": 11,
   "metadata": {},
   "outputs": [
    {
     "data": {
      "text/html": [
       "<div>\n",
       "<style scoped>\n",
       "    .dataframe tbody tr th:only-of-type {\n",
       "        vertical-align: middle;\n",
       "    }\n",
       "\n",
       "    .dataframe tbody tr th {\n",
       "        vertical-align: top;\n",
       "    }\n",
       "\n",
       "    .dataframe thead th {\n",
       "        text-align: right;\n",
       "    }\n",
       "</style>\n",
       "<table border=\"1\" class=\"dataframe\">\n",
       "  <thead>\n",
       "    <tr style=\"text-align: right;\">\n",
       "      <th></th>\n",
       "      <th>desc_</th>\n",
       "      <th>hand_</th>\n",
       "      <th>length_</th>\n",
       "      <th>line_</th>\n",
       "      <th>outcome_</th>\n",
       "      <th>tokens</th>\n",
       "    </tr>\n",
       "  </thead>\n",
       "  <tbody>\n",
       "    <tr>\n",
       "      <th>0</th>\n",
       "      <td>Steyn to Jaques, full and on the legs, swinging in, Jaques lets it go past, no runs, fielded by Boucher</td>\n",
       "      <td>1</td>\n",
       "      <td>2</td>\n",
       "      <td>2</td>\n",
       "      <td>0</td>\n",
       "      <td>[steyn, to, jaques, full, and, on, the, legs, swinging, in, jaques, lets, it, go, past, no, runs, fielded, by, boucher]</td>\n",
       "    </tr>\n",
       "    <tr>\n",
       "      <th>1</th>\n",
       "      <td>Steyn to Jaques, good length but down leg, Jaques drives, no runs, fielded by Botha</td>\n",
       "      <td>1</td>\n",
       "      <td>3</td>\n",
       "      <td>3</td>\n",
       "      <td>0</td>\n",
       "      <td>[steyn, to, jaques, good, length, but, down, leg, jaques, drives, no, runs, fielded, by, botha]</td>\n",
       "    </tr>\n",
       "    <tr>\n",
       "      <th>2</th>\n",
       "      <td>Steyn to Jaques, short of a length outside the off stump, Jaques plays no shot, no runs, fielded by Boucher</td>\n",
       "      <td>1</td>\n",
       "      <td>4</td>\n",
       "      <td>1</td>\n",
       "      <td>0</td>\n",
       "      <td>[steyn, to, jaques, short, of, a, length, outside, the, off, stump, jaques, plays, no, shot, no, runs, fielded, by, boucher]</td>\n",
       "    </tr>\n",
       "    <tr>\n",
       "      <th>3</th>\n",
       "      <td>(no ball) Steyn to Jaques, good length delivery just outside the off stump, Jaques lets it go past, no runs, fielded by Boucher</td>\n",
       "      <td>1</td>\n",
       "      <td>3</td>\n",
       "      <td>1</td>\n",
       "      <td>4</td>\n",
       "      <td>[no, ball, steyn, to, jaques, good, length, delivery, just, outside, the, off, stump, jaques, lets, it, go, past, no, runs, fielded, by, boucher]</td>\n",
       "    </tr>\n",
       "    <tr>\n",
       "      <th>4</th>\n",
       "      <td>Steyn to Jaques, fuller length outside the off stump , Jaques drives in air over cover fielder, 4 runs</td>\n",
       "      <td>1</td>\n",
       "      <td>2</td>\n",
       "      <td>1</td>\n",
       "      <td>12</td>\n",
       "      <td>[steyn, to, jaques, fuller, length, outside, the, off, stump, jaques, drives, in, air, over, cover, fielder, 4, runs]</td>\n",
       "    </tr>\n",
       "  </tbody>\n",
       "</table>\n",
       "</div>"
      ],
      "text/plain": [
       "                                                                                                                              desc_  \\\n",
       "0   Steyn to Jaques, full and on the legs, swinging in, Jaques lets it go past, no runs, fielded by Boucher                           \n",
       "1   Steyn to Jaques, good length but down leg, Jaques drives, no runs, fielded by Botha                                               \n",
       "2   Steyn to Jaques, short of a length outside the off stump, Jaques plays no shot, no runs, fielded by Boucher                       \n",
       "3   (no ball) Steyn to Jaques, good length delivery just outside the off stump, Jaques lets it go past, no runs, fielded by Boucher   \n",
       "4   Steyn to Jaques, fuller length outside the off stump , Jaques drives in air over cover fielder, 4 runs                            \n",
       "\n",
       "   hand_  length_  line_  outcome_  \\\n",
       "0  1      2        2      0          \n",
       "1  1      3        3      0          \n",
       "2  1      4        1      0          \n",
       "3  1      3        1      4          \n",
       "4  1      2        1      12         \n",
       "\n",
       "                                                                                                                                              tokens  \n",
       "0  [steyn, to, jaques, full, and, on, the, legs, swinging, in, jaques, lets, it, go, past, no, runs, fielded, by, boucher]                            \n",
       "1  [steyn, to, jaques, good, length, but, down, leg, jaques, drives, no, runs, fielded, by, botha]                                                    \n",
       "2  [steyn, to, jaques, short, of, a, length, outside, the, off, stump, jaques, plays, no, shot, no, runs, fielded, by, boucher]                       \n",
       "3  [no, ball, steyn, to, jaques, good, length, delivery, just, outside, the, off, stump, jaques, lets, it, go, past, no, runs, fielded, by, boucher]  \n",
       "4  [steyn, to, jaques, fuller, length, outside, the, off, stump, jaques, drives, in, air, over, cover, fielder, 4, runs]                              "
      ]
     },
     "execution_count": 11,
     "metadata": {},
     "output_type": "execute_result"
    }
   ],
   "source": [
    "df.head()"
   ]
  },
  {
   "cell_type": "code",
   "execution_count": 12,
   "metadata": {},
   "outputs": [],
   "source": [
    "#Remove Stopwords\n",
    "df['tokens_sw'] = df['tokens'].apply(lambda d: [w for w in d if w not in stopwords])"
   ]
  },
  {
   "cell_type": "code",
   "execution_count": 13,
   "metadata": {},
   "outputs": [],
   "source": [
    "w_tokenizer = nltk.tokenize.WhitespaceTokenizer()\n",
    "lemmatizer = nltk.stem.WordNetLemmatizer()\n",
    "\n",
    "def lemmatize_text(text):\n",
    "    lemmas = []\n",
    "    for w, tag in nltk.pos_tag(text):\n",
    "        wntag = tag[0].lower()\n",
    "        wntag = wntag if wntag in ['a', 'r', 'n', 'v'] else None\n",
    "        lemmas.append(lemmatizer.lemmatize(w, wntag) if wntag else w)\n",
    "    return lemmas\n",
    "\n",
    "df['lemmatized'] = df['tokens_sw'].apply(lemmatize_text)"
   ]
  },
  {
   "cell_type": "code",
   "execution_count": 14,
   "metadata": {},
   "outputs": [],
   "source": [
    "sno = nltk.stem.PorterStemmer()\n",
    "df['stemmed'] = df['lemmatized'].apply(lambda text: [sno.stem(w) for w in text])"
   ]
  },
  {
   "cell_type": "code",
   "execution_count": 15,
   "metadata": {},
   "outputs": [],
   "source": [
    "vocab_exceptions = {'abd', \"australia\", \"aussie\", \"australia's\", \"australian\", \"africa\", 'african',\n",
    "                    \"africa's\", 'au', 'b', 'bhuvi', 'c','cricinfo', \"d'arcy\", \"dhoni's\", \"england\",\n",
    "                    \"espncricinfo's\", \"firdose\", \"gould\", \"h\", \"imam\", \"imam's\", \"india\", \"indian\",\n",
    "                    \"indie\", \"k\", \"lanka\", \"misbah\",\"mm\", \"nz\", \"pakistan\", \"pakistan's\", \"pm\", \"qdk\", \n",
    "                    \"r\", \"sa\", \"sa's\", \"samuel\", \"sanga\", \"sarfraz\", \"sl\", \"sr\", \"sri\", \"steyn's\",\n",
    "                    \"sujesh\", \"ul\", \"uae\", \"v\", \"wc\", \"wi\", \"wk\", \"xi\", \"zimbabwe\", \"zealand\", \"†de\", \n",
    "                    \"international\", \"kw\", \"kmh\", \"kph\", \"mr\", \"odi\", \"odis\"}\n",
    "\n",
    "def deleteLowCount(t, threshold):\n",
    "    lcw = [w for w,c in t.word_counts.items() \n",
    "           if c < threshold  or w in all_names  \n",
    "           or any(i.isdigit() for i in w) or w in vocab_exceptions]\n",
    "    print(f\"{len(lcw)} low counted, {len(t.word_counts) - len(lcw)} left\")\n",
    "    for w in lcw:\n",
    "        del t.word_index[w]\n",
    "        del t.word_docs[w]\n",
    "        del t.word_counts[w]\n",
    "    return t"
   ]
  },
  {
   "cell_type": "code",
   "execution_count": 39,
   "metadata": {},
   "outputs": [
    {
     "name": "stdout",
     "output_type": "stream",
     "text": [
      "3768 low counted, 767 left\n"
     ]
    }
   ],
   "source": [
    "col_to_tokenize = 'lemmatized'\n",
    "t = Tokenizer()\n",
    "t.fit_on_texts(df[col_to_tokenize])\n",
    "t = deleteLowCount(t, 5)\n",
    "rT = dict(map(reversed, t.word_index.items()))\n",
    "df['sequence'] = t.texts_to_sequences(df[col_to_tokenize])\n",
    "filtered = df['sequence'].apply(lambda x: [rT[num] for num in x])\n",
    "\n",
    "t = Tokenizer()\n",
    "t.fit_on_texts(filtered)\n",
    "df['sequence'] = t.texts_to_sequences(filtered)\n",
    "rT = dict(map(reversed, t.word_index.items()))\n",
    "numDistinctWords = len(t.word_index) + 1\n",
    "\n",
    "df[f'{col_to_tokenize}_common'] = df['sequence'].apply(lambda x: ' '.join([rT[num] for num in x]))\n",
    "save_data(set(rT.values()), \"vocab\")"
   ]
  },
  {
   "cell_type": "code",
   "execution_count": 17,
   "metadata": {},
   "outputs": [],
   "source": [
    "word_vectorizer = CountVectorizer(ngram_range=(1,6), analyzer='word')\n",
    "sparse_matrix = word_vectorizer.fit_transform(df[f'{col_to_tokenize}_common'])\n",
    "frequencies = sum(sparse_matrix).toarray()[0]\n",
    "freq = pd.DataFrame(frequencies, index=word_vectorizer.get_feature_names(), columns=['frequency'])"
   ]
  },
  {
   "cell_type": "code",
   "execution_count": 18,
   "metadata": {},
   "outputs": [
    {
     "name": "stderr",
     "output_type": "stream",
     "text": [
      "/usr/local/lib/python3.7/site-packages/sklearn/linear_model/logistic.py:433: FutureWarning: Default solver will be changed to 'lbfgs' in 0.22. Specify a solver to silence this warning.\n",
      "  FutureWarning)\n"
     ]
    }
   ],
   "source": [
    "def get_feature_importances(model, analyzer, ngram_range=(1,2), lowercase=True, min_df=10, max_df=1000, sampsize=2419, category='length_'):\n",
    "    tfv = TfidfVectorizer(min_df=min_df,\n",
    "                          max_df=max_df,\n",
    "                          strip_accents='unicode',\n",
    "                          analyzer=analyzer,\n",
    "                          ngram_range=ngram_range,\n",
    "                          lowercase=lowercase\n",
    "                         )\n",
    "    df_sample = df.sample(sampsize, random_state=seed)\n",
    "    X = tfv.fit_transform(df_sample[f'{col_to_tokenize}_common'])\n",
    "    scaler = StandardScaler(with_mean=False)\n",
    "    scaler.fit(X)\n",
    "    terms = tfv.get_feature_names()\n",
    "    var_imp = pd.DataFrame(index=terms)\n",
    "    #multiclassif\n",
    "    for cat in range(0,max(df_sample[category])+1):\n",
    "        y = df_sample[category].apply(lambda x: 1 if x == cat else 0).values\n",
    "        model.fit(X, y)\n",
    "        var_imp[cat] =  np.sqrt(scaler.var_) * model.coef_[0]\n",
    "        \n",
    "    var_imp['freq'] = pd.Series(var_imp.index.map(lambda x: freq.loc[x]['frequency']), index=var_imp.index) #Attach frequency of ngram to importance\n",
    "    return var_imp\n",
    "\n",
    "model = LogisticRegression()\n",
    "cat = 'line_'\n",
    "var_imp16 = get_feature_importances(model, analyzer='word', ngram_range=(1,6), lowercase=True, min_df=5, category=cat)\n",
    "var_imp26 = get_feature_importances(model, analyzer='word', ngram_range=(2,6), lowercase=True, min_df=5, category=cat)\n",
    "# var_imp36 = get_feature_importances(model, analyzer='word', ngram_range=(3,6), lowercase=True, min_df=5, category=cat)"
   ]
  },
  {
   "cell_type": "code",
   "execution_count": 19,
   "metadata": {},
   "outputs": [
    {
     "data": {
      "text/html": [
       "<div>\n",
       "<style scoped>\n",
       "    .dataframe tbody tr th:only-of-type {\n",
       "        vertical-align: middle;\n",
       "    }\n",
       "\n",
       "    .dataframe tbody tr th {\n",
       "        vertical-align: top;\n",
       "    }\n",
       "\n",
       "    .dataframe thead th {\n",
       "        text-align: right;\n",
       "    }\n",
       "</style>\n",
       "<table border=\"1\" class=\"dataframe\">\n",
       "  <thead>\n",
       "    <tr style=\"text-align: right;\">\n",
       "      <th></th>\n",
       "      <th>0</th>\n",
       "      <th>1</th>\n",
       "      <th>2</th>\n",
       "      <th>3</th>\n",
       "      <th>4</th>\n",
       "      <th>freq</th>\n",
       "    </tr>\n",
       "  </thead>\n",
       "  <tbody>\n",
       "    <tr>\n",
       "      <th>full wide</th>\n",
       "      <td>0.215540</td>\n",
       "      <td>-0.085828</td>\n",
       "      <td>-0.103897</td>\n",
       "      <td>-0.012981</td>\n",
       "      <td>-0.003166</td>\n",
       "      <td>31</td>\n",
       "    </tr>\n",
       "    <tr>\n",
       "      <th>short wide</th>\n",
       "      <td>0.175410</td>\n",
       "      <td>-0.055490</td>\n",
       "      <td>-0.090724</td>\n",
       "      <td>-0.004794</td>\n",
       "      <td>-0.003230</td>\n",
       "      <td>24</td>\n",
       "    </tr>\n",
       "    <tr>\n",
       "      <th>wide outside off</th>\n",
       "      <td>0.148874</td>\n",
       "      <td>-0.093688</td>\n",
       "      <td>-0.043172</td>\n",
       "      <td>-0.009723</td>\n",
       "      <td>-0.002551</td>\n",
       "      <td>40</td>\n",
       "    </tr>\n",
       "    <tr>\n",
       "      <th>wide outside</th>\n",
       "      <td>0.148874</td>\n",
       "      <td>-0.093688</td>\n",
       "      <td>-0.043172</td>\n",
       "      <td>-0.009723</td>\n",
       "      <td>-0.002551</td>\n",
       "      <td>40</td>\n",
       "    </tr>\n",
       "    <tr>\n",
       "      <th>wide of</th>\n",
       "      <td>0.082354</td>\n",
       "      <td>0.003138</td>\n",
       "      <td>-0.068757</td>\n",
       "      <td>0.013261</td>\n",
       "      <td>-0.004098</td>\n",
       "      <td>66</td>\n",
       "    </tr>\n",
       "    <tr>\n",
       "      <th>outside off</th>\n",
       "      <td>0.081779</td>\n",
       "      <td>0.612955</td>\n",
       "      <td>-0.718938</td>\n",
       "      <td>-0.077283</td>\n",
       "      <td>-0.031056</td>\n",
       "      <td>611</td>\n",
       "    </tr>\n",
       "    <tr>\n",
       "      <th>leave alone</th>\n",
       "      <td>0.071463</td>\n",
       "      <td>-0.005317</td>\n",
       "      <td>-0.047471</td>\n",
       "      <td>0.003351</td>\n",
       "      <td>-0.004096</td>\n",
       "      <td>49</td>\n",
       "    </tr>\n",
       "    <tr>\n",
       "      <th>wide of off</th>\n",
       "      <td>0.068847</td>\n",
       "      <td>-0.021694</td>\n",
       "      <td>-0.034536</td>\n",
       "      <td>-0.004097</td>\n",
       "      <td>-0.000906</td>\n",
       "      <td>21</td>\n",
       "    </tr>\n",
       "    <tr>\n",
       "      <th>of off</th>\n",
       "      <td>0.062765</td>\n",
       "      <td>0.005332</td>\n",
       "      <td>-0.047591</td>\n",
       "      <td>-0.009274</td>\n",
       "      <td>-0.002135</td>\n",
       "      <td>40</td>\n",
       "    </tr>\n",
       "    <tr>\n",
       "      <th>wide length</th>\n",
       "      <td>0.062671</td>\n",
       "      <td>-0.020844</td>\n",
       "      <td>-0.029202</td>\n",
       "      <td>-0.002995</td>\n",
       "      <td>-0.000598</td>\n",
       "      <td>9</td>\n",
       "    </tr>\n",
       "    <tr>\n",
       "      <th>wide length ball</th>\n",
       "      <td>0.062671</td>\n",
       "      <td>-0.020844</td>\n",
       "      <td>-0.029202</td>\n",
       "      <td>-0.002995</td>\n",
       "      <td>-0.000598</td>\n",
       "      <td>9</td>\n",
       "    </tr>\n",
       "    <tr>\n",
       "      <th>bit wide</th>\n",
       "      <td>0.061216</td>\n",
       "      <td>-0.027692</td>\n",
       "      <td>-0.018300</td>\n",
       "      <td>-0.003733</td>\n",
       "      <td>-0.000798</td>\n",
       "      <td>6</td>\n",
       "    </tr>\n",
       "    <tr>\n",
       "      <th>past point</th>\n",
       "      <td>0.056302</td>\n",
       "      <td>0.039346</td>\n",
       "      <td>-0.069765</td>\n",
       "      <td>-0.007667</td>\n",
       "      <td>-0.001718</td>\n",
       "      <td>18</td>\n",
       "    </tr>\n",
       "    <tr>\n",
       "      <th>length wide</th>\n",
       "      <td>0.056079</td>\n",
       "      <td>-0.019402</td>\n",
       "      <td>-0.024953</td>\n",
       "      <td>-0.002504</td>\n",
       "      <td>-0.000587</td>\n",
       "      <td>16</td>\n",
       "    </tr>\n",
       "    <tr>\n",
       "      <th>well outside</th>\n",
       "      <td>0.053937</td>\n",
       "      <td>-0.029838</td>\n",
       "      <td>-0.013466</td>\n",
       "      <td>-0.001862</td>\n",
       "      <td>-0.000421</td>\n",
       "      <td>8</td>\n",
       "    </tr>\n",
       "    <tr>\n",
       "      <th>well outside off</th>\n",
       "      <td>0.053937</td>\n",
       "      <td>-0.029838</td>\n",
       "      <td>-0.013466</td>\n",
       "      <td>-0.001862</td>\n",
       "      <td>-0.000421</td>\n",
       "      <td>8</td>\n",
       "    </tr>\n",
       "    <tr>\n",
       "      <th>shoulder arm</th>\n",
       "      <td>0.053357</td>\n",
       "      <td>0.018682</td>\n",
       "      <td>-0.042889</td>\n",
       "      <td>-0.011776</td>\n",
       "      <td>-0.003011</td>\n",
       "      <td>24</td>\n",
       "    </tr>\n",
       "    <tr>\n",
       "      <th>well wide</th>\n",
       "      <td>0.051617</td>\n",
       "      <td>-0.028764</td>\n",
       "      <td>-0.008842</td>\n",
       "      <td>-0.003611</td>\n",
       "      <td>-0.000780</td>\n",
       "      <td>10</td>\n",
       "    </tr>\n",
       "    <tr>\n",
       "      <th>wider outside off</th>\n",
       "      <td>0.047746</td>\n",
       "      <td>-0.030474</td>\n",
       "      <td>-0.012488</td>\n",
       "      <td>-0.002236</td>\n",
       "      <td>0.008485</td>\n",
       "      <td>10</td>\n",
       "    </tr>\n",
       "    <tr>\n",
       "      <th>wider outside</th>\n",
       "      <td>0.047746</td>\n",
       "      <td>-0.030474</td>\n",
       "      <td>-0.012488</td>\n",
       "      <td>-0.002236</td>\n",
       "      <td>0.008485</td>\n",
       "      <td>10</td>\n",
       "    </tr>\n",
       "    <tr>\n",
       "      <th>through cover</th>\n",
       "      <td>0.044784</td>\n",
       "      <td>0.085657</td>\n",
       "      <td>-0.104728</td>\n",
       "      <td>-0.021539</td>\n",
       "      <td>0.007875</td>\n",
       "      <td>49</td>\n",
       "    </tr>\n",
       "    <tr>\n",
       "      <th>length ball</th>\n",
       "      <td>0.038853</td>\n",
       "      <td>-0.041033</td>\n",
       "      <td>0.011020</td>\n",
       "      <td>0.012572</td>\n",
       "      <td>-0.011211</td>\n",
       "      <td>139</td>\n",
       "    </tr>\n",
       "    <tr>\n",
       "      <th>bit of</th>\n",
       "      <td>0.036380</td>\n",
       "      <td>-0.004570</td>\n",
       "      <td>-0.013754</td>\n",
       "      <td>-0.004082</td>\n",
       "      <td>-0.002151</td>\n",
       "      <td>37</td>\n",
       "    </tr>\n",
       "    <tr>\n",
       "      <th>pitch up</th>\n",
       "      <td>0.034270</td>\n",
       "      <td>-0.005003</td>\n",
       "      <td>-0.018148</td>\n",
       "      <td>0.004290</td>\n",
       "      <td>-0.001606</td>\n",
       "      <td>19</td>\n",
       "    </tr>\n",
       "    <tr>\n",
       "      <th>of length wide</th>\n",
       "      <td>0.033340</td>\n",
       "      <td>-0.009818</td>\n",
       "      <td>-0.015462</td>\n",
       "      <td>-0.001379</td>\n",
       "      <td>-0.000353</td>\n",
       "      <td>10</td>\n",
       "    </tr>\n",
       "    <tr>\n",
       "      <th>swing away</th>\n",
       "      <td>0.032417</td>\n",
       "      <td>0.014290</td>\n",
       "      <td>-0.027410</td>\n",
       "      <td>-0.007967</td>\n",
       "      <td>-0.001874</td>\n",
       "      <td>28</td>\n",
       "    </tr>\n",
       "    <tr>\n",
       "      <th>throw hand</th>\n",
       "      <td>0.031790</td>\n",
       "      <td>-0.017906</td>\n",
       "      <td>-0.015112</td>\n",
       "      <td>-0.002849</td>\n",
       "      <td>0.017053</td>\n",
       "      <td>11</td>\n",
       "    </tr>\n",
       "    <tr>\n",
       "      <th>wide enough</th>\n",
       "      <td>0.029223</td>\n",
       "      <td>-0.014319</td>\n",
       "      <td>-0.011249</td>\n",
       "      <td>-0.001661</td>\n",
       "      <td>-0.000416</td>\n",
       "      <td>5</td>\n",
       "    </tr>\n",
       "    <tr>\n",
       "      <th>of away</th>\n",
       "      <td>0.027421</td>\n",
       "      <td>-0.009826</td>\n",
       "      <td>-0.012169</td>\n",
       "      <td>-0.001556</td>\n",
       "      <td>-0.000364</td>\n",
       "      <td>6</td>\n",
       "    </tr>\n",
       "    <tr>\n",
       "      <th>square drive</th>\n",
       "      <td>0.027210</td>\n",
       "      <td>0.009796</td>\n",
       "      <td>-0.036137</td>\n",
       "      <td>0.005893</td>\n",
       "      <td>0.008588</td>\n",
       "      <td>16</td>\n",
       "    </tr>\n",
       "  </tbody>\n",
       "</table>\n",
       "</div>"
      ],
      "text/plain": [
       "                          0         1         2         3         4  freq\n",
       "full wide          0.215540 -0.085828 -0.103897 -0.012981 -0.003166  31  \n",
       "short wide         0.175410 -0.055490 -0.090724 -0.004794 -0.003230  24  \n",
       "wide outside off   0.148874 -0.093688 -0.043172 -0.009723 -0.002551  40  \n",
       "wide outside       0.148874 -0.093688 -0.043172 -0.009723 -0.002551  40  \n",
       "wide of            0.082354  0.003138 -0.068757  0.013261 -0.004098  66  \n",
       "outside off        0.081779  0.612955 -0.718938 -0.077283 -0.031056  611 \n",
       "leave alone        0.071463 -0.005317 -0.047471  0.003351 -0.004096  49  \n",
       "wide of off        0.068847 -0.021694 -0.034536 -0.004097 -0.000906  21  \n",
       "of off             0.062765  0.005332 -0.047591 -0.009274 -0.002135  40  \n",
       "wide length        0.062671 -0.020844 -0.029202 -0.002995 -0.000598  9   \n",
       "wide length ball   0.062671 -0.020844 -0.029202 -0.002995 -0.000598  9   \n",
       "bit wide           0.061216 -0.027692 -0.018300 -0.003733 -0.000798  6   \n",
       "past point         0.056302  0.039346 -0.069765 -0.007667 -0.001718  18  \n",
       "length wide        0.056079 -0.019402 -0.024953 -0.002504 -0.000587  16  \n",
       "well outside       0.053937 -0.029838 -0.013466 -0.001862 -0.000421  8   \n",
       "well outside off   0.053937 -0.029838 -0.013466 -0.001862 -0.000421  8   \n",
       "shoulder arm       0.053357  0.018682 -0.042889 -0.011776 -0.003011  24  \n",
       "well wide          0.051617 -0.028764 -0.008842 -0.003611 -0.000780  10  \n",
       "wider outside off  0.047746 -0.030474 -0.012488 -0.002236  0.008485  10  \n",
       "wider outside      0.047746 -0.030474 -0.012488 -0.002236  0.008485  10  \n",
       "through cover      0.044784  0.085657 -0.104728 -0.021539  0.007875  49  \n",
       "length ball        0.038853 -0.041033  0.011020  0.012572 -0.011211  139 \n",
       "bit of             0.036380 -0.004570 -0.013754 -0.004082 -0.002151  37  \n",
       "pitch up           0.034270 -0.005003 -0.018148  0.004290 -0.001606  19  \n",
       "of length wide     0.033340 -0.009818 -0.015462 -0.001379 -0.000353  10  \n",
       "swing away         0.032417  0.014290 -0.027410 -0.007967 -0.001874  28  \n",
       "throw hand         0.031790 -0.017906 -0.015112 -0.002849  0.017053  11  \n",
       "wide enough        0.029223 -0.014319 -0.011249 -0.001661 -0.000416  5   \n",
       "of away            0.027421 -0.009826 -0.012169 -0.001556 -0.000364  6   \n",
       "square drive       0.027210  0.009796 -0.036137  0.005893  0.008588  16  "
      ]
     },
     "execution_count": 19,
     "metadata": {},
     "output_type": "execute_result"
    }
   ],
   "source": [
    "var_imp26.sort_values(0, ascending=False).head(30)"
   ]
  },
  {
   "cell_type": "code",
   "execution_count": 20,
   "metadata": {},
   "outputs": [
    {
     "name": "stdout",
     "output_type": "stream",
     "text": [
      "176 important ngrams!\n"
     ]
    }
   ],
   "source": [
    "ngramsImportant = set()\n",
    "numTop16 = 25\n",
    "numTop26 = 25\n",
    "for l in range(0, len(var_imp16.columns)-1):\n",
    "    sortedByL16 = var_imp16.sort_values(l, ascending=False)\n",
    "    sortedByL26 = var_imp26.sort_values(l, ascending=False)\n",
    "    ngramsImportant.update(list(sortedByL16.iloc[:numTop16].index))\n",
    "    ngramsImportant.update(list(sortedByL26.iloc[:numTop26].index))\n",
    "print(f\"{len(ngramsImportant)} important ngrams!\")\n",
    "ngramsImportant = list(ngramsImportant)"
   ]
  },
  {
   "cell_type": "code",
   "execution_count": 21,
   "metadata": {},
   "outputs": [],
   "source": [
    "def ngramsInText(text):\n",
    "    ngramPresence = dict()\n",
    "    for ngram in ngramsImportant:\n",
    "        ngramSplit = ngram.split(' ')\n",
    "        ngramPresence[ngram] = int(tuple(ngramSplit) in set(nltk.ngrams(text.split(' '), len(ngramSplit))))\n",
    "    return pd.Series(ngramPresence)\n",
    "\n",
    "ngramPresenceDf = df[f'{col_to_tokenize}_common'].apply(lambda text: ngramsInText(text))"
   ]
  },
  {
   "cell_type": "code",
   "execution_count": 27,
   "metadata": {},
   "outputs": [
    {
     "data": {
      "text/html": [
       "<div>\n",
       "<style scoped>\n",
       "    .dataframe tbody tr th:only-of-type {\n",
       "        vertical-align: middle;\n",
       "    }\n",
       "\n",
       "    .dataframe tbody tr th {\n",
       "        vertical-align: top;\n",
       "    }\n",
       "\n",
       "    .dataframe thead th {\n",
       "        text-align: right;\n",
       "    }\n",
       "</style>\n",
       "<table border=\"1\" class=\"dataframe\">\n",
       "  <thead>\n",
       "    <tr style=\"text-align: right;\">\n",
       "      <th></th>\n",
       "      <th>desc_</th>\n",
       "      <th>hand_</th>\n",
       "      <th>length_</th>\n",
       "      <th>line_</th>\n",
       "      <th>outcome_</th>\n",
       "      <th>tokens</th>\n",
       "      <th>tokens_sw</th>\n",
       "      <th>lemmatized</th>\n",
       "      <th>stemmed</th>\n",
       "      <th>sequence</th>\n",
       "      <th>...</th>\n",
       "      <th>throw</th>\n",
       "      <th>middle</th>\n",
       "      <th>on stump</th>\n",
       "      <th>off side</th>\n",
       "      <th>leg side wide</th>\n",
       "      <th>fine leg</th>\n",
       "      <th>on leg</th>\n",
       "      <th>length delivery</th>\n",
       "      <th>midwicket</th>\n",
       "      <th>wide down</th>\n",
       "    </tr>\n",
       "  </thead>\n",
       "  <tbody>\n",
       "    <tr>\n",
       "      <th>0</th>\n",
       "      <td>Steyn to Jaques, full and on the legs, swinging in, Jaques lets it go past, no runs, fielded by Boucher</td>\n",
       "      <td>1</td>\n",
       "      <td>2</td>\n",
       "      <td>2</td>\n",
       "      <td>0</td>\n",
       "      <td>[steyn, to, jaques, full, and, on, the, legs, swinging, in, jaques, lets, it, go, past, no, runs, fielded, by, boucher]</td>\n",
       "      <td>[steyn, jaques, full, on, legs, swinging, in, jaques, lets, go, past, runs, fielded, boucher]</td>\n",
       "      <td>[steyn, jaques, full, on, leg, swing, in, jaques, let, go, past, run, field, boucher]</td>\n",
       "      <td>[steyn, jaqu, full, on, leg, swing, in, jaqu, let, go, past, run, field, boucher]</td>\n",
       "      <td>[15, 3, 10, 56, 5, 123, 21, 69, 30, 89]</td>\n",
       "      <td>...</td>\n",
       "      <td>0</td>\n",
       "      <td>0</td>\n",
       "      <td>0</td>\n",
       "      <td>0</td>\n",
       "      <td>0</td>\n",
       "      <td>0</td>\n",
       "      <td>1</td>\n",
       "      <td>0</td>\n",
       "      <td>0</td>\n",
       "      <td>0</td>\n",
       "    </tr>\n",
       "  </tbody>\n",
       "</table>\n",
       "<p>1 rows × 187 columns</p>\n",
       "</div>"
      ],
      "text/plain": [
       "                                                                                                      desc_  \\\n",
       "0   Steyn to Jaques, full and on the legs, swinging in, Jaques lets it go past, no runs, fielded by Boucher   \n",
       "\n",
       "   hand_  length_  line_  outcome_  \\\n",
       "0  1      2        2      0          \n",
       "\n",
       "                                                                                                                    tokens  \\\n",
       "0  [steyn, to, jaques, full, and, on, the, legs, swinging, in, jaques, lets, it, go, past, no, runs, fielded, by, boucher]   \n",
       "\n",
       "                                                                                       tokens_sw  \\\n",
       "0  [steyn, jaques, full, on, legs, swinging, in, jaques, lets, go, past, runs, fielded, boucher]   \n",
       "\n",
       "                                                                              lemmatized  \\\n",
       "0  [steyn, jaques, full, on, leg, swing, in, jaques, let, go, past, run, field, boucher]   \n",
       "\n",
       "                                                                             stemmed  \\\n",
       "0  [steyn, jaqu, full, on, leg, swing, in, jaqu, let, go, past, run, field, boucher]   \n",
       "\n",
       "                                  sequence    ...     throw  middle  on stump  \\\n",
       "0  [15, 3, 10, 56, 5, 123, 21, 69, 30, 89]    ...      0     0       0          \n",
       "\n",
       "   off side  leg side wide  fine leg  on leg  length delivery  midwicket  \\\n",
       "0  0         0              0         1       0                0           \n",
       "\n",
       "   wide down  \n",
       "0  0          \n",
       "\n",
       "[1 rows x 187 columns]"
      ]
     },
     "execution_count": 27,
     "metadata": {},
     "output_type": "execute_result"
    }
   ],
   "source": [
    "# df.reset_index(drop=True, inplace=True)\n",
    "# ngramPresenceDf.reset_index(drop=True, inplace=True)\n",
    "df_train = pd.concat([df, ngramPresenceDf], axis=1)\n",
    "# ngfeatures = list(ngramsImportant.keys())\n",
    "# df_train[ngfeatures] = df_train[ngfeatures].div(df_train[ngfeatures].sum(axis=1), axis=0).fillna(0)\n",
    "df_train.head(1)"
   ]
  },
  {
   "cell_type": "markdown",
   "metadata": {},
   "source": [
    "## Model"
   ]
  },
  {
   "cell_type": "code",
   "execution_count": 28,
   "metadata": {},
   "outputs": [],
   "source": [
    "X_features = list(ngramsImportant)\n",
    "y_features = cat"
   ]
  },
  {
   "cell_type": "code",
   "execution_count": 29,
   "metadata": {},
   "outputs": [
    {
     "name": "stdout",
     "output_type": "stream",
     "text": [
      "(2349, 176)\n",
      "(2349,)\n"
     ]
    }
   ],
   "source": [
    "n_folds = 10\n",
    "skf = StratifiedKFold(n_splits=n_folds, shuffle=True, random_state=seed)\n",
    "X, X_test, y, y_test = train_test_split(df_train[X_features].values, df_train[y_features].values, stratify = df_train[y_features].values, test_size=0.1, random_state=seed)\n",
    "# X, y = df_train[X_features].values, df_train[y_features].values\n",
    "# pca = PCA(n_components=50)\n",
    "# X = pca.fit_transform(X)\n",
    "# print(np.cumsum(pca.explained_variance_ratio_))\n",
    "print(X.shape)\n",
    "print(y.shape)\n",
    "# print(f\"X shape: {X.shape}, X_test shape: {X_test.shape}\\ny shape: {y.shape}, y_test.shape: {y_test.shape}\")"
   ]
  },
  {
   "cell_type": "markdown",
   "metadata": {},
   "source": [
    "# Deep Learning"
   ]
  },
  {
   "cell_type": "code",
   "execution_count": 30,
   "metadata": {},
   "outputs": [],
   "source": [
    "def gsearch():\n",
    "    # Definying grid parameters\n",
    "    activation = ['relu']\n",
    "    neurons = [25,30,15,20] #25, 35, 50, 100, 200]\n",
    "    optimizer = ['SGD']\n",
    "    param_grid = dict(activation = activation, neurons = neurons, optimizer = optimizer, class_weight=['balanced',class_weights])\n",
    "\n",
    "    clf = KerasClassifier(build_fn= DL_Model, epochs=200, batch_size=20, verbose= 5)\n",
    "    es = EarlyStopping(monitor='val_loss', mode='min', verbose=1, patience=100)\n",
    "\n",
    "    model = GridSearchCV(estimator= clf, param_grid=param_grid, n_jobs=-1, cv=4, verbose=10)\n",
    "    model.fit(X,y, callbacks=[es])\n",
    "\n",
    "    print(\"Max Accuracy Registred: {} using {}\".format(round(model.best_score_,3), \n",
    "                                                       model.best_params_))\n",
    "    save_data(model, \"gridresults\")"
   ]
  },
  {
   "cell_type": "code",
   "execution_count": 31,
   "metadata": {},
   "outputs": [],
   "source": [
    "def DL_Model(activation= 'linear', neurons= 5, optimizer='Adam'):\n",
    "    model = Sequential()\n",
    "    model.add(Dense(neurons, input_dim=X.shape[1], activation= activation))\n",
    "#     model.add(Dense(neurons, activation= activation))\n",
    "#     model.add(Dropout(0.1))\n",
    "    model.add(Dense(6 if cat=='length_' else 5, activation='softmax'))\n",
    "    model.compile(loss='sparse_categorical_crossentropy', optimizer= optimizer, metrics=['accuracy'])\n",
    "    return model"
   ]
  },
  {
   "cell_type": "code",
   "execution_count": 32,
   "metadata": {},
   "outputs": [
    {
     "data": {
      "application/vnd.jupyter.widget-view+json": {
       "model_id": "d0d831850f1740fbaa23be3a92049131",
       "version_major": 2,
       "version_minor": 0
      },
      "text/plain": [
       "HBox(children=(FloatProgress(value=1.0, bar_style='info', max=1.0), HTML(value='')))"
      ]
     },
     "metadata": {},
     "output_type": "display_data"
    },
    {
     "data": {
      "application/vnd.jupyter.widget-view+json": {
       "model_id": "",
       "version_major": 2,
       "version_minor": 0
      },
      "text/plain": [
       "HBox(children=(FloatProgress(value=1.0, bar_style='info', max=1.0), HTML(value='')))"
      ]
     },
     "metadata": {},
     "output_type": "display_data"
    },
    {
     "name": "stderr",
     "output_type": "stream",
     "text": [
      "WARNING: Logging before flag parsing goes to stderr.\n",
      "W0523 15:33:36.700469 4626542016 deprecation_wrapper.py:119] From /usr/local/lib/python3.7/site-packages/keras/backend/tensorflow_backend.py:422: The name tf.global_variables is deprecated. Please use tf.compat.v1.global_variables instead.\n",
      "\n"
     ]
    },
    {
     "name": "stdout",
     "output_type": "stream",
     "text": [
      "\n",
      "Fold 1 = 0.819!\n"
     ]
    },
    {
     "data": {
      "application/vnd.jupyter.widget-view+json": {
       "model_id": "0a4b632f11314eb78117021ecce09381",
       "version_major": 2,
       "version_minor": 0
      },
      "text/plain": [
       "HBox(children=(FloatProgress(value=1.0, bar_style='info', max=1.0), HTML(value='')))"
      ]
     },
     "metadata": {},
     "output_type": "display_data"
    },
    {
     "data": {
      "application/vnd.jupyter.widget-view+json": {
       "model_id": "",
       "version_major": 2,
       "version_minor": 0
      },
      "text/plain": [
       "HBox(children=(FloatProgress(value=1.0, bar_style='info', max=1.0), HTML(value='')))"
      ]
     },
     "metadata": {},
     "output_type": "display_data"
    },
    {
     "name": "stdout",
     "output_type": "stream",
     "text": [
      "\n",
      "Fold 2 = 0.819!\n"
     ]
    },
    {
     "data": {
      "application/vnd.jupyter.widget-view+json": {
       "model_id": "3c96d84c3b6d48d2b913feffcdd0b694",
       "version_major": 2,
       "version_minor": 0
      },
      "text/plain": [
       "HBox(children=(FloatProgress(value=1.0, bar_style='info', max=1.0), HTML(value='')))"
      ]
     },
     "metadata": {},
     "output_type": "display_data"
    },
    {
     "data": {
      "application/vnd.jupyter.widget-view+json": {
       "model_id": "",
       "version_major": 2,
       "version_minor": 0
      },
      "text/plain": [
       "HBox(children=(FloatProgress(value=1.0, bar_style='info', max=1.0), HTML(value='')))"
      ]
     },
     "metadata": {},
     "output_type": "display_data"
    },
    {
     "name": "stdout",
     "output_type": "stream",
     "text": [
      "\n",
      "Fold 3 = 0.831!\n"
     ]
    },
    {
     "data": {
      "application/vnd.jupyter.widget-view+json": {
       "model_id": "4aa1bf3281f247a1b2dde935f86924af",
       "version_major": 2,
       "version_minor": 0
      },
      "text/plain": [
       "HBox(children=(FloatProgress(value=1.0, bar_style='info', max=1.0), HTML(value='')))"
      ]
     },
     "metadata": {},
     "output_type": "display_data"
    },
    {
     "data": {
      "application/vnd.jupyter.widget-view+json": {
       "model_id": "",
       "version_major": 2,
       "version_minor": 0
      },
      "text/plain": [
       "HBox(children=(FloatProgress(value=1.0, bar_style='info', max=1.0), HTML(value='')))"
      ]
     },
     "metadata": {},
     "output_type": "display_data"
    },
    {
     "name": "stdout",
     "output_type": "stream",
     "text": [
      "\n",
      "Fold 4 = 0.860!\n"
     ]
    },
    {
     "data": {
      "application/vnd.jupyter.widget-view+json": {
       "model_id": "4250d4df44d74f58bfc6b41746667101",
       "version_major": 2,
       "version_minor": 0
      },
      "text/plain": [
       "HBox(children=(FloatProgress(value=1.0, bar_style='info', max=1.0), HTML(value='')))"
      ]
     },
     "metadata": {},
     "output_type": "display_data"
    },
    {
     "data": {
      "application/vnd.jupyter.widget-view+json": {
       "model_id": "",
       "version_major": 2,
       "version_minor": 0
      },
      "text/plain": [
       "HBox(children=(FloatProgress(value=1.0, bar_style='info', max=1.0), HTML(value='')))"
      ]
     },
     "metadata": {},
     "output_type": "display_data"
    },
    {
     "name": "stdout",
     "output_type": "stream",
     "text": [
      "\n",
      "Fold 5 = 0.872!\n"
     ]
    },
    {
     "data": {
      "application/vnd.jupyter.widget-view+json": {
       "model_id": "cc3ffa194fa141868ad450c0438ba57b",
       "version_major": 2,
       "version_minor": 0
      },
      "text/plain": [
       "HBox(children=(FloatProgress(value=1.0, bar_style='info', max=1.0), HTML(value='')))"
      ]
     },
     "metadata": {},
     "output_type": "display_data"
    },
    {
     "data": {
      "application/vnd.jupyter.widget-view+json": {
       "model_id": "",
       "version_major": 2,
       "version_minor": 0
      },
      "text/plain": [
       "HBox(children=(FloatProgress(value=1.0, bar_style='info', max=1.0), HTML(value='')))"
      ]
     },
     "metadata": {},
     "output_type": "display_data"
    },
    {
     "name": "stdout",
     "output_type": "stream",
     "text": [
      "\n",
      "Fold 6 = 0.880!\n"
     ]
    },
    {
     "data": {
      "application/vnd.jupyter.widget-view+json": {
       "model_id": "0a04907d80e7422bb3c25650d4145d08",
       "version_major": 2,
       "version_minor": 0
      },
      "text/plain": [
       "HBox(children=(FloatProgress(value=1.0, bar_style='info', max=1.0), HTML(value='')))"
      ]
     },
     "metadata": {},
     "output_type": "display_data"
    },
    {
     "data": {
      "application/vnd.jupyter.widget-view+json": {
       "model_id": "",
       "version_major": 2,
       "version_minor": 0
      },
      "text/plain": [
       "HBox(children=(FloatProgress(value=1.0, bar_style='info', max=1.0), HTML(value='')))"
      ]
     },
     "metadata": {},
     "output_type": "display_data"
    },
    {
     "name": "stdout",
     "output_type": "stream",
     "text": [
      "\n",
      "Fold 7 = 0.812!\n"
     ]
    },
    {
     "data": {
      "application/vnd.jupyter.widget-view+json": {
       "model_id": "a8c47c461b1041d9ae050333e4bf90ef",
       "version_major": 2,
       "version_minor": 0
      },
      "text/plain": [
       "HBox(children=(FloatProgress(value=1.0, bar_style='info', max=1.0), HTML(value='')))"
      ]
     },
     "metadata": {},
     "output_type": "display_data"
    },
    {
     "data": {
      "application/vnd.jupyter.widget-view+json": {
       "model_id": "",
       "version_major": 2,
       "version_minor": 0
      },
      "text/plain": [
       "HBox(children=(FloatProgress(value=1.0, bar_style='info', max=1.0), HTML(value='')))"
      ]
     },
     "metadata": {},
     "output_type": "display_data"
    },
    {
     "name": "stdout",
     "output_type": "stream",
     "text": [
      "\n",
      "Fold 8 = 0.799!\n"
     ]
    },
    {
     "data": {
      "application/vnd.jupyter.widget-view+json": {
       "model_id": "0ded52fc6345413c8f41b82a10307d13",
       "version_major": 2,
       "version_minor": 0
      },
      "text/plain": [
       "HBox(children=(FloatProgress(value=1.0, bar_style='info', max=1.0), HTML(value='')))"
      ]
     },
     "metadata": {},
     "output_type": "display_data"
    },
    {
     "data": {
      "application/vnd.jupyter.widget-view+json": {
       "model_id": "",
       "version_major": 2,
       "version_minor": 0
      },
      "text/plain": [
       "HBox(children=(FloatProgress(value=1.0, bar_style='info', max=1.0), HTML(value='')))"
      ]
     },
     "metadata": {},
     "output_type": "display_data"
    },
    {
     "name": "stdout",
     "output_type": "stream",
     "text": [
      "\n",
      "Fold 9 = 0.824!\n"
     ]
    },
    {
     "data": {
      "application/vnd.jupyter.widget-view+json": {
       "model_id": "861e1709176645b8adf4597d8cf2f5fd",
       "version_major": 2,
       "version_minor": 0
      },
      "text/plain": [
       "HBox(children=(FloatProgress(value=1.0, bar_style='info', max=1.0), HTML(value='')))"
      ]
     },
     "metadata": {},
     "output_type": "display_data"
    },
    {
     "data": {
      "application/vnd.jupyter.widget-view+json": {
       "model_id": "",
       "version_major": 2,
       "version_minor": 0
      },
      "text/plain": [
       "HBox(children=(FloatProgress(value=1.0, bar_style='info', max=1.0), HTML(value='')))"
      ]
     },
     "metadata": {},
     "output_type": "display_data"
    },
    {
     "name": "stdout",
     "output_type": "stream",
     "text": [
      "\n",
      "Fold 10 = 0.850!\n"
     ]
    }
   ],
   "source": [
    "import warnings\n",
    "warnings.filterwarnings('ignore')\n",
    "\n",
    "neurons = 100\n",
    "batch_size = 5\n",
    "scores_ensemble = []\n",
    "for i, (train_fold, test_fold) in enumerate(skf.split(X,y)):\n",
    "    train_x, test_x = X[train_fold], X[test_fold]\n",
    "    train_y, test_y = y[train_fold], y[test_fold]\n",
    "    \n",
    "    es = EarlyStopping(monitor='val_accuracy', mode='max', verbose=0, patience=8)\n",
    "    mc = ModelCheckpoint('best_model.h5', monitor='val_accuracy', mode='max', verbose=0, save_best_only=True)\n",
    "    \n",
    "    class_weights = class_weight.compute_class_weight('balanced', np.unique(train_y), np.ravel(train_y))\n",
    "    class_weights = dict(enumerate(class_weights))\n",
    "    clf = KerasClassifier(build_fn = DL_Model, \n",
    "                          neurons = neurons, \n",
    "                          activation='relu', \n",
    "                          class_weight=['balanced', class_weights], \n",
    "                          optimizer='Adam', epochs=20, batch_size=batch_size, verbose=1)\n",
    "    \n",
    "    clf.fit(train_x, train_y, validation_data=(test_x, test_y), callbacks=[es, mc, TqdmCallback(verbose=1)], verbose=0)\n",
    "    best_model = load_model('best_model.h5')\n",
    "    clf_preds = best_model.predict_proba(test_x)\n",
    "    clf_class_preds = clf_preds.argmax(axis=1)\n",
    "    report = classification_report(test_y, clf_class_preds, output_dict=True)\n",
    "    conf_mat = confusion_matrix(clf_class_preds, test_y)\n",
    "    acc = np.sum(conf_mat.diagonal()) / np.sum(conf_mat)\n",
    "    scores_ensemble.append([report, acc])\n",
    "    print(f\"Fold {i+1} = {acc:.3f}!\")"
   ]
  },
  {
   "cell_type": "code",
   "execution_count": 33,
   "metadata": {},
   "outputs": [
    {
     "name": "stdout",
     "output_type": "stream",
     "text": [
      "Avg acc: 0.837\n"
     ]
    }
   ],
   "source": [
    "print(f'Avg acc: {np.array([x[1] for x in scores_ensemble]).mean():>.3f}')"
   ]
  },
  {
   "cell_type": "code",
   "execution_count": 34,
   "metadata": {},
   "outputs": [],
   "source": [
    "def getClassPrecisions(scores):\n",
    "    classReport = {}\n",
    "    for lth in range(0, len(np.unique(train_y))):\n",
    "        classReport[lth] = {}\n",
    "        classReport[lth]['precision'] = 0\n",
    "        classReport[lth]['recall'] = 0\n",
    "        for report, acc in scores:\n",
    "            classReport[lth]['precision'] += report[str(lth)]['precision']\n",
    "            classReport[lth]['recall'] += report[str(lth)]['recall']\n",
    "        classReport[lth]['precision'] /= 10\n",
    "        classReport[lth]['recall'] /= 10\n",
    "    return classReport"
   ]
  },
  {
   "cell_type": "code",
   "execution_count": 35,
   "metadata": {},
   "outputs": [
    {
     "name": "stdout",
     "output_type": "stream",
     "text": [
      "straight          |  85% right, found  91% of the ones available\n",
      "outside off       |  82% right, found  80% of the ones available\n",
      "wide outside off  |  82% right, found  75% of the ones available\n",
      "down leg          |  80% right, found  53% of the ones available\n",
      "wide down leg     |   0% right, found   0% of the ones available\n"
     ]
    }
   ],
   "source": [
    "for cl, report in sorted(getClassPrecisions(scores_ensemble).items(), key=lambda x:x[1]['recall'], reverse=True):\n",
    "    print(f\"{line_class_to_label[int(cl)]:<17} | {report['precision']*100:>3.0f}% right, found {report['recall']*100:>3.0f}% of the ones available\")"
   ]
  },
  {
   "cell_type": "code",
   "execution_count": 47,
   "metadata": {},
   "outputs": [],
   "source": [
    "def getECE(preds, y_test, plot=True, numBins=10):\n",
    "    bins = [{'acc': 0, 'conf': []} for i in range(numBins)]\n",
    "    for i, p in enumerate(preds):\n",
    "        idx = int(max(p) * numBins)\n",
    "        idx = numBins-1 if idx == numBins else idx\n",
    "        if y_test[i] == p.argmax(axis=0):\n",
    "            bins[idx]['acc'] += 1\n",
    "\n",
    "        bins[idx]['conf'].append(max(p))\n",
    "\n",
    "    for b in bins:\n",
    "        if len(b['conf']):\n",
    "            b['acc'] /= len(b['conf'])\n",
    "            b['size'] = len(b['conf'])\n",
    "            b['conf'] = np.mean(b['conf'])\n",
    "\n",
    "    # for i, b in enumerate(bins):\n",
    "    #     print(f\"{i/numBins:.2f} | acc: {b['acc']:.2f} | {b['conf']:.2f}\")\n",
    "\n",
    "    x_plot, accs = [i/numBins for i in range(numBins)], [b['acc'] for b in bins]\n",
    "    confs = [(b['conf'], b['size']) if b['conf'] else (0,0) for b in bins]\n",
    "    ece = 0\n",
    "    for acc, (conf, size) in zip(accs, confs):\n",
    "        ece += (size/len(y_test)) * abs(acc - conf)\n",
    "\n",
    "    if plot:\n",
    "        plt.plot([x[0] for x in confs], accs)\n",
    "        plt.plot(x_plot, x_plot)\n",
    "        plt.xlabel(\"Predicted\")\n",
    "        plt.ylabel(\"Proportion correct\")\n",
    "        plt.show()\n",
    "    return ece"
   ]
  },
  {
   "cell_type": "code",
   "execution_count": 52,
   "metadata": {},
   "outputs": [
    {
     "data": {
      "application/vnd.jupyter.widget-view+json": {
       "model_id": "a51a5829311546dea46a76589faffec9",
       "version_major": 2,
       "version_minor": 0
      },
      "text/plain": [
       "HBox(children=(FloatProgress(value=1.0, bar_style='info', max=1.0), HTML(value='')))"
      ]
     },
     "metadata": {},
     "output_type": "display_data"
    },
    {
     "name": "stdout",
     "output_type": "stream",
     "text": [
      "\n",
      "0.7\n"
     ]
    },
    {
     "data": {
      "image/png": "[encoded data removed]",
      "text/plain": [
       "<Figure size 432x288 with 1 Axes>"
      ]
     },
     "metadata": {
      "needs_background": "light"
     },
     "output_type": "display_data"
    },
    {
     "name": "stdout",
     "output_type": "stream",
     "text": [
      "0.731578947368421\n"
     ]
    },
    {
     "data": {
      "image/png": "[encoded data removed]",
      "text/plain": [
       "<Figure size 432x288 with 1 Axes>"
      ]
     },
     "metadata": {
      "needs_background": "light"
     },
     "output_type": "display_data"
    },
    {
     "name": "stdout",
     "output_type": "stream",
     "text": [
      "0.763157894736842\n"
     ]
    },
    {
     "data": {
      "image/png": "[encoded data removed]",
      "text/plain": [
       "<Figure size 432x288 with 1 Axes>"
      ]
     },
     "metadata": {
      "needs_background": "light"
     },
     "output_type": "display_data"
    },
    {
     "name": "stdout",
     "output_type": "stream",
     "text": [
      "0.7947368421052632\n"
     ]
    },
    {
     "data": {
      "image/png": "[encoded data removed]",
      "text/plain": [
       "<Figure size 432x288 with 1 Axes>"
      ]
     },
     "metadata": {
      "needs_background": "light"
     },
     "output_type": "display_data"
    },
    {
     "name": "stdout",
     "output_type": "stream",
     "text": [
      "0.8263157894736842\n"
     ]
    },
    {
     "data": {
      "image/png": "[encoded data removed]",
      "text/plain": [
       "<Figure size 432x288 with 1 Axes>"
      ]
     },
     "metadata": {
      "needs_background": "light"
     },
     "output_type": "display_data"
    },
    {
     "name": "stdout",
     "output_type": "stream",
     "text": [
      "0.8578947368421053\n"
     ]
    },
    {
     "data": {
      "image/png": "[encoded data removed]",
      "text/plain": [
       "<Figure size 432x288 with 1 Axes>"
      ]
     },
     "metadata": {
      "needs_background": "light"
     },
     "output_type": "display_data"
    },
    {
     "name": "stdout",
     "output_type": "stream",
     "text": [
      "0.8894736842105263\n"
     ]
    },
    {
     "data": {
      "image/png": "[encoded data removed]",
      "text/plain": [
       "<Figure size 432x288 with 1 Axes>"
      ]
     },
     "metadata": {
      "needs_background": "light"
     },
     "output_type": "display_data"
    },
    {
     "name": "stdout",
     "output_type": "stream",
     "text": [
      "0.9210526315789473\n"
     ]
    },
    {
     "data": {
      "image/png": "[encoded data removed]",
      "text/plain": [
       "<Figure size 432x288 with 1 Axes>"
      ]
     },
     "metadata": {
      "needs_background": "light"
     },
     "output_type": "display_data"
    },
    {
     "name": "stdout",
     "output_type": "stream",
     "text": [
      "0.9526315789473685\n"
     ]
    },
    {
     "data": {
      "image/png": "[encoded data removed]",
      "text/plain": [
       "<Figure size 432x288 with 1 Axes>"
      ]
     },
     "metadata": {
      "needs_background": "light"
     },
     "output_type": "display_data"
    },
    {
     "name": "stdout",
     "output_type": "stream",
     "text": [
      "0.9842105263157894\n"
     ]
    },
    {
     "data": {
      "image/png": "[encoded data removed]",
      "text/plain": [
       "<Figure size 432x288 with 1 Axes>"
      ]
     },
     "metadata": {
      "needs_background": "light"
     },
     "output_type": "display_data"
    },
    {
     "name": "stdout",
     "output_type": "stream",
     "text": [
      "1.0157894736842106\n"
     ]
    },
    {
     "data": {
      "image/png": "[encoded data removed]",
      "text/plain": [
       "<Figure size 432x288 with 1 Axes>"
      ]
     },
     "metadata": {
      "needs_background": "light"
     },
     "output_type": "display_data"
    },
    {
     "name": "stdout",
     "output_type": "stream",
     "text": [
      "1.0473684210526315\n"
     ]
    },
    {
     "data": {
      "image/png": "[encoded data removed]",
      "text/plain": [
       "<Figure size 432x288 with 1 Axes>"
      ]
     },
     "metadata": {
      "needs_background": "light"
     },
     "output_type": "display_data"
    },
    {
     "name": "stdout",
     "output_type": "stream",
     "text": [
      "1.0789473684210527\n"
     ]
    },
    {
     "data": {
      "image/png": "[encoded data removed]",
      "text/plain": [
       "<Figure size 432x288 with 1 Axes>"
      ]
     },
     "metadata": {
      "needs_background": "light"
     },
     "output_type": "display_data"
    },
    {
     "name": "stdout",
     "output_type": "stream",
     "text": [
      "1.1105263157894738\n"
     ]
    },
    {
     "data": {
      "image/png": "[encoded data removed]",
      "text/plain": [
       "<Figure size 432x288 with 1 Axes>"
      ]
     },
     "metadata": {
      "needs_background": "light"
     },
     "output_type": "display_data"
    },
    {
     "name": "stdout",
     "output_type": "stream",
     "text": [
      "1.1421052631578947\n"
     ]
    },
    {
     "data": {
      "image/png": "[encoded data removed]",
      "text/plain": [
       "<Figure size 432x288 with 1 Axes>"
      ]
     },
     "metadata": {
      "needs_background": "light"
     },
     "output_type": "display_data"
    },
    {
     "name": "stdout",
     "output_type": "stream",
     "text": [
      "1.1736842105263159\n"
     ]
    },
    {
     "data": {
      "image/png": "[encoded data removed]",
      "text/plain": [
       "<Figure size 432x288 with 1 Axes>"
      ]
     },
     "metadata": {
      "needs_background": "light"
     },
     "output_type": "display_data"
    },
    {
     "name": "stdout",
     "output_type": "stream",
     "text": [
      "1.2052631578947368\n"
     ]
    },
    {
     "data": {
      "image/png": "[encoded data removed]",
      "text/plain": [
       "<Figure size 432x288 with 1 Axes>"
      ]
     },
     "metadata": {
      "needs_background": "light"
     },
     "output_type": "display_data"
    },
    {
     "name": "stdout",
     "output_type": "stream",
     "text": [
      "1.236842105263158\n"
     ]
    },
    {
     "data": {
      "image/png": "[encoded data removed]",
      "text/plain": [
       "<Figure size 432x288 with 1 Axes>"
      ]
     },
     "metadata": {
      "needs_background": "light"
     },
     "output_type": "display_data"
    },
    {
     "name": "stdout",
     "output_type": "stream",
     "text": [
      "1.2684210526315791\n"
     ]
    },
    {
     "data": {
      "image/png": "[encoded data removed]",
      "text/plain": [
       "<Figure size 432x288 with 1 Axes>"
      ]
     },
     "metadata": {
      "needs_background": "light"
     },
     "output_type": "display_data"
    },
    {
     "name": "stdout",
     "output_type": "stream",
     "text": [
      "1.3\n"
     ]
    },
    {
     "data": {
      "image/png": "[encoded data removed]",
      "text/plain": [
       "<Figure size 432x288 with 1 Axes>"
      ]
     },
     "metadata": {
      "needs_background": "light"
     },
     "output_type": "display_data"
    },
    {
     "data": {
      "image/png": "[encoded data removed]",
      "text/plain": [
       "<Figure size 432x288 with 1 Axes>"
      ]
     },
     "metadata": {
      "needs_background": "light"
     },
     "output_type": "display_data"
    },
    {
     "name": "stdout",
     "output_type": "stream",
     "text": [
      "Overall accuracy: 0.805\n",
      "full toss         |  62% right, found  94% of the ones available\n",
      "yorker            |  86% right, found  72% of the ones available\n",
      "full              |  86% right, found  87% of the ones available\n",
      "good length       |  50% right, found  73% of the ones available\n",
      "back of a length  |   0% right, found   0% of the ones available\n"
     ]
    }
   ],
   "source": [
    "def evaluate(neurons, epochs, batch_size, temps=[1], verbose=0, ece=False):\n",
    "    class_weights = class_weight.compute_class_weight('balanced', np.unique(y), np.ravel(y))\n",
    "    class_weights = dict(enumerate(class_weights))\n",
    "    \n",
    "    clf = DL_Model(neurons=neurons, activation='relu', optimizer='Adam')\n",
    "    clf.fit(X, y, epochs=epochs, batch_size=batch_size, \n",
    "            class_weight = class_weights, \n",
    "            callbacks=[TqdmCallback(verbose=verbose)], verbose=0)\n",
    "\n",
    "    eces = []\n",
    "    for temp in temps:\n",
    "        fc=clf.layers[0]\n",
    "        out=clf.layers[1]\n",
    "        tempLayer = Lambda(lambda x: x / temp)\n",
    "        predictors = tempLayer(fc.output)\n",
    "        predictors = out(predictors)\n",
    "    \n",
    "        newClf = Model(input=clf.input, output=predictors)\n",
    "        clf_preds = newClf.predict(X_test)\n",
    "        clf_class_preds = clf_preds.argmax(axis=1)\n",
    "        if ece:\n",
    "            print(temp)\n",
    "            eces.append(getECE(plot=True, preds = clf_preds, y_test=y_test, numBins=8))\n",
    "        report = classification_report(y_test, clf_class_preds, output_dict=True)\n",
    "        conf_mat = confusion_matrix(clf_class_preds, y_test)\n",
    "        if verbose:\n",
    "            print(conf_mat)\n",
    "            \n",
    "        acc = np.sum(conf_mat.diagonal()) / np.sum(conf_mat)\n",
    "        \n",
    "    if ece:\n",
    "        plt.plot(temps, eces)\n",
    "        plt.show()\n",
    "    \n",
    "    return report, acc, clf_class_preds, clf_preds\n",
    "\n",
    "temps = np.linspace(0.7,1.3,20)\n",
    "report, acc, class_preds, preds = evaluate(neurons=neurons, epochs=8, batch_size=batch_size, temps=temps, ece=True)\n",
    "print(f\"Overall accuracy: {acc:>.3f}\")\n",
    "\n",
    "for lth in range(len(np.unique(y))):\n",
    "    print(f\"{length_class_to_label[int(lth)]:<17} | {report[str(lth)]['precision']*100:>3.0f}% right, found {report[str(lth)]['recall']*100:>3.0f}% of the ones available\")"
   ]
  },
  {
   "cell_type": "code",
   "execution_count": 53,
   "metadata": {},
   "outputs": [
    {
     "ename": "TypeError",
     "evalue": "compileFinalModel() missing 1 required positional argument: 'temperature'",
     "output_type": "error",
     "traceback": [
      "\u001b[0;31m---------------------------------------------------------------------------\u001b[0m",
      "\u001b[0;31mTypeError\u001b[0m                                 Traceback (most recent call last)",
      "\u001b[0;32m<ipython-input-53-66940a535d93>\u001b[0m in \u001b[0;36m<module>\u001b[0;34m\u001b[0m\n\u001b[1;32m     16\u001b[0m     \u001b[0mnewClf\u001b[0m\u001b[0;34m.\u001b[0m\u001b[0msave\u001b[0m\u001b[0;34m(\u001b[0m\u001b[0;34mf'{cat}_final_{neurons}N_{batch_size}B_{epochs}.h5'\u001b[0m\u001b[0;34m)\u001b[0m\u001b[0;34m\u001b[0m\u001b[0m\n\u001b[1;32m     17\u001b[0m \u001b[0;34m\u001b[0m\u001b[0m\n\u001b[0;32m---> 18\u001b[0;31m \u001b[0mcompileFinalModel\u001b[0m\u001b[0;34m(\u001b[0m\u001b[0;36m8\u001b[0m\u001b[0;34m)\u001b[0m\u001b[0;34m\u001b[0m\u001b[0m\n\u001b[0m",
      "\u001b[0;31mTypeError\u001b[0m: compileFinalModel() missing 1 required positional argument: 'temperature'"
     ]
    }
   ],
   "source": [
    "def compileFinalModel(epochs, temperature):\n",
    "    class_weights = class_weight.compute_class_weight('balanced', np.unique(y), np.ravel(y))\n",
    "    class_weights = dict(enumerate(class_weights))\n",
    "    clf = DL_Model(neurons=neurons, activation='relu', optimizer='Adam')\n",
    "    clf.fit(df_train[X_features].values, df_train[y_features].values, \n",
    "            epochs=epochs, batch_size=batch_size, \n",
    "            class_weight = class_weights, \n",
    "            callbacks=[TqdmCallback(verbose=1)], verbose=0)\n",
    "    \n",
    "    fc=clf.layers[0]\n",
    "    out=clf.layers[1]\n",
    "    tempLayer = Lambda(lambda x: x / temperature)\n",
    "    predictors = tempLayer(fc.output)\n",
    "    predictors = out(predictors)\n",
    "    newClf = Model(input=clf.input, output=predictors)\n",
    "    newClf.save(f'{cat}_final_{neurons}N_{batch_size}B_{epochs}.h5')\n",
    "\n",
    "compileFinalModel(8,0.)"
   ]
  },
  {
   "cell_type": "code",
   "execution_count": 38,
   "metadata": {},
   "outputs": [],
   "source": [
    "save_data(ngramsImportant, \"line_ngrams\")"
   ]
  }
 ],
 "metadata": {
  "kernelspec": {
   "display_name": "Python 3",
   "language": "python",
   "name": "python3"
  },
  "language_info": {
   "codemirror_mode": {
    "name": "ipython",
    "version": 3
   },
   "file_extension": ".py",
   "mimetype": "text/x-python",
   "name": "python",
   "nbconvert_exporter": "python",
   "pygments_lexer": "ipython3",
   "version": "3.7.0"
  }
 },
 "nbformat": 4,
 "nbformat_minor": 4
}
