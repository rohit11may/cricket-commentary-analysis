{
 "cells": [
  {
   "cell_type": "code",
   "execution_count": 26,
   "metadata": {},
   "outputs": [],
   "source": [
    "import pickle \n",
    "import json\n",
    "from tqdm import tqdm "
   ]
  },
  {
   "cell_type": "code",
   "execution_count": 73,
   "metadata": {},
   "outputs": [],
   "source": [
    "def load_data(filename):\n",
    "    with open(f\"{filename}.pkl\", \"rb\") as f:\n",
    "        data = pickle.load(f)\n",
    "    print(\"Loaded data!\")\n",
    "    return data\n",
    "        \n",
    "def save_data(data, filename):\n",
    "    with open(f\"{filename}.pkl\", \"wb\") as f:\n",
    "        pickle.dump(data, f)\n",
    "        \n",
    "def export_to_json(data, filename):\n",
    "    with open(f'{filename}.json', 'w') as json_file:\n",
    "      json.dump(data, json_file)"
   ]
  },
  {
   "cell_type": "code",
   "execution_count": 50,
   "metadata": {},
   "outputs": [
    {
     "name": "stdout",
     "output_type": "stream",
     "text": [
      "Loaded data!\n"
     ]
    }
   ],
   "source": [
    "data = load_data(\"player_matches\")\n",
    "match_ids = list(data.keys())"
   ]
  },
  {
   "cell_type": "code",
   "execution_count": 30,
   "metadata": {},
   "outputs": [],
   "source": [
    "def download_team_players():\n",
    "    from espncricinfo.match import Match\n",
    "    count = 0\n",
    "    for m_id in match_ids:\n",
    "        count += 1\n",
    "        print(count)\n",
    "        if 'team_1_players' not in data[m_id].keys():\n",
    "            m = Match(m_id)\n",
    "            data[m_id]['team_1_players'] = m.team_1_players\n",
    "            data[m_id]['team_2_players'] = m.team_2_players\n",
    "            if count % 100 == 0:\n",
    "                print(count)\n",
    "                save_data(data, \"player_matches\")"
   ]
  },
  {
   "cell_type": "code",
   "execution_count": 51,
   "metadata": {},
   "outputs": [
    {
     "name": "stderr",
     "output_type": "stream",
     "text": [
      "\n",
      "\n",
      "\n",
      "\n",
      "100%|██████████| 1920/1920 [00:00<00:00, 20032.30it/s]\n"
     ]
    }
   ],
   "source": [
    "player_dict = {}\n",
    "for idx in tqdm(match_ids): \n",
    "    m = data[idx]\n",
    "    temp = []\n",
    "    for player in m['team_1_players']:\n",
    "        p_id = player['player_id']\n",
    "        if p_id not in player_dict:\n",
    "            player_dict[p_id] = player\n",
    "        temp.append(p_id)\n",
    "    data[idx]['team_1_players'] = temp\n",
    "    \n",
    "    temp=[]\n",
    "    for player in m['team_2_players']:\n",
    "        p_id = player['player_id']\n",
    "        if p_id not in player_dict:\n",
    "            player_dict[p_id] = player\n",
    "        temp.append(p_id)\n",
    "    data[idx]['team_2_players'] = temp\n"
   ]
  },
  {
   "cell_type": "code",
   "execution_count": 52,
   "metadata": {},
   "outputs": [
    {
     "data": {
      "text/plain": [
       "1391"
      ]
     },
     "execution_count": 52,
     "metadata": {},
     "output_type": "execute_result"
    }
   ],
   "source": [
    "len(player_dict.keys())"
   ]
  },
  {
   "cell_type": "code",
   "execution_count": 83,
   "metadata": {},
   "outputs": [],
   "source": [
    "player_ids = data[match_ids[340]]['team_1_players']\n",
    "\n",
    "unwanted_data = ['age_days', 'age_years', 'captain', 'keeper', 'object_id', 'popular_name', 'portrait_alt_id', 'portrait_object_id', 'status_id']\n",
    "for p_id, player in player_dict.items():\n",
    "    for col in unwanted_data:\n",
    "        try:\n",
    "            del player[col]\n",
    "        except KeyError:\n",
    "            continue"
   ]
  },
  {
   "cell_type": "code",
   "execution_count": 84,
   "metadata": {},
   "outputs": [
    {
     "name": "stdout",
     "output_type": "stream",
     "text": [
      "ALPHA_NAME          : TENDULKAR,SR\n",
      "BATTING_HAND        : right-hand batsman\n",
      "BATTING_STYLE       : rhb       \n",
      "BATTING_STYLE_LONG  : right-hand bat\n",
      "BOWLING_HAND        : right-arm bowler\n",
      "BOWLING_PACESPIN    : spin bowler\n",
      "BOWLING_STYLE       : ob/lbg    \n",
      "BOWLING_STYLE_LONG  : right-arm offbreak /legbreak googly \n",
      "CARD_LONG           : SR Tendulkar\n",
      "CARD_QUALIFIER      :           \n",
      "CARD_SHORT          : Tendulkar \n",
      "DOB                 : 1973-04-24\n",
      "KNOWN_AS            : Sachin Tendulkar\n",
      "MOBILE_NAME         : Tendulkar \n",
      "PLAYER_ID           : 1934      \n",
      "PLAYER_PRIMARY_ROLE : top-order batsman\n",
      "PLAYER_STYLE_ID     : 2         \n",
      "PLAYER_TYPE         : 1         \n",
      "PLAYER_TYPE_NAME    : player    \n"
     ]
    }
   ],
   "source": [
    "for k, v in player_dict['1934'].items():\n",
    "    print(f\"{k.upper():<20}: {v:<10}\")"
   ]
  },
  {
   "cell_type": "code",
   "execution_count": 109,
   "metadata": {},
   "outputs": [],
   "source": [
    "save_data(player_dict, \"player_table\")"
   ]
  },
  {
   "cell_type": "code",
   "execution_count": 110,
   "metadata": {},
   "outputs": [],
   "source": [
    "export_to_json(player_dict, 'player_table')"
   ]
  },
  {
   "cell_type": "code",
   "execution_count": 108,
   "metadata": {},
   "outputs": [
    {
     "name": "stdout",
     "output_type": "stream",
     "text": [
      "73 matches with 12 players.\n"
     ]
    }
   ],
   "source": [
    "def checkType(players):\n",
    "    for p in players:\n",
    "        if not isinstance(p, str): return False\n",
    "        \n",
    "    if len(players) == 11:\n",
    "        return True\n",
    "\n",
    "count = 0\n",
    "for i, m in data.items():\n",
    "    if not checkType(m['team_1_players']) or not checkType(m['team_2_players']):\n",
    "        count += 1\n",
    "        \n",
    "print(f\"{count} matches with 12 players.\")"
   ]
  },
  {
   "cell_type": "code",
   "execution_count": 112,
   "metadata": {},
   "outputs": [],
   "source": [
    "save_data(data, \"matches\")"
   ]
  },
  {
   "cell_type": "code",
   "execution_count": 113,
   "metadata": {},
   "outputs": [],
   "source": [
    "export_to_json(data, \"matches\")"
   ]
  },
  {
   "cell_type": "code",
   "execution_count": 128,
   "metadata": {},
   "outputs": [
    {
     "name": "stdout",
     "output_type": "stream",
     "text": [
      "[{'alpha_name': 'WOOD,MA', 'batting_hand': 'right-hand batsman', 'batting_style': 'rhb', 'batting_style_long': 'right-hand bat', 'bowling_hand': 'right-arm bowler', 'bowling_pacespin': 'pace bowler', 'bowling_style': 'rf', 'bowling_style_long': 'right-arm fast ', 'card_long': 'MA Wood', 'card_qualifier': '', 'card_short': 'Wood', 'dob': '1990-01-11', 'known_as': 'Mark Wood', 'mobile_name': 'Wood', 'player_id': '56993', 'player_primary_role': 'bowler', 'player_style_id': '4', 'player_type': '1', 'player_type_name': 'player'}]\n",
      "51\n"
     ]
    }
   ],
   "source": [
    "from collections import defaultdict\n",
    "def getPlayerByName(name, player_dict):\n",
    "    possibilities = []\n",
    "    for i, profile in player_dict.items():\n",
    "        if name in profile['known_as']:\n",
    "            possibilities.append(profile)\n",
    "    return possibilities\n",
    "    \n",
    "name = getPlayerByName('Mark Wood', player_dict)\n",
    "print(name)\n",
    "name = name[0]['player_id']\n",
    "\n",
    "count = 0\n",
    "for i, m in data.items():\n",
    "    if name in m['team_1_players'] or name in m['team_2_players']:\n",
    "        count += 1\n",
    "print(count)"
   ]
  },
  {
   "cell_type": "code",
   "execution_count": null,
   "metadata": {},
   "outputs": [],
   "source": []
  }
 ],
 "metadata": {
  "kernelspec": {
   "display_name": "Python 3",
   "language": "python",
   "name": "python3"
  },
  "language_info": {
   "codemirror_mode": {
    "name": "ipython",
    "version": 3
   },
   "file_extension": ".py",
   "mimetype": "text/x-python",
   "name": "python",
   "nbconvert_exporter": "python",
   "pygments_lexer": "ipython3",
   "version": "3.7.0"
  }
 },
 "nbformat": 4,
 "nbformat_minor": 4
}
